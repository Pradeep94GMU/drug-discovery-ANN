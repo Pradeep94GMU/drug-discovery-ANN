{
 "cells": [
  {
   "cell_type": "code",
   "execution_count": 93,
   "metadata": {
    "collapsed": true,
    "pycharm": {
     "name": "#%%\n"
    }
   },
   "outputs": [],
   "source": [
    "import tensorflow as tf\n",
    "import pandas as pd\n",
    "import numpy as np\n",
    "import matplotlib.pyplot as plt\n",
    "import imblearn"
   ]
  },
  {
   "cell_type": "code",
   "execution_count": 94,
   "outputs": [],
   "source": [
    "table = pd.read_table('../drug-discovery/1663769555_8559356_train.txt', names=['binding','sequence'])"
   ],
   "metadata": {
    "collapsed": false,
    "pycharm": {
     "name": "#%%\n"
    }
   }
  },
  {
   "cell_type": "code",
   "execution_count": 152,
   "outputs": [],
   "source": [
    "from sklearn.feature_extraction.text import CountVectorizer\n",
    "def return_binary_vectorized_form(data_frame):\n",
    "    count_vectorizer = CountVectorizer(binary=True)\n",
    "    fitted_and_transformed = count_vectorizer.fit_transform(data_frame).toarray()\n",
    "    return count_vectorizer,  fitted_and_transformed\n"
   ],
   "metadata": {
    "collapsed": false,
    "pycharm": {
     "name": "#%%\n"
    }
   }
  },
  {
   "cell_type": "code",
   "execution_count": 153,
   "outputs": [],
   "source": [
    "from sklearn.feature_extraction.text import CountVectorizer\n",
    "def return_binary_vectorized_form_with_vocab(data_frame, vocab):\n",
    "    count_vectorizer = CountVectorizer(binary=True, vocabulary=vocab)\n",
    "    fitted_and_transformed = count_vectorizer.fit_transform(data_frame).toarray()\n",
    "    return count_vectorizer,  fitted_and_transformed"
   ],
   "metadata": {
    "collapsed": false,
    "pycharm": {
     "name": "#%%\n"
    }
   }
  },
  {
   "cell_type": "code",
   "execution_count": 154,
   "outputs": [],
   "source": [
    "from sklearn.feature_selection import SelectKBest, chi2\n",
    "def select_k_best_features(feature_set, target_values, fraction, feature_list):\n",
    "    select_bestselect_best = SelectKBest(score_func=chi2, k = int(len(feature_list)*fraction))\n",
    "    select_bestselect_best.fit(feature_set,target_values)\n",
    "    mask = select_bestselect_best.get_support()\n",
    "    k_best_featurs = feature_list[mask]\n",
    "    return k_best_featurs"
   ],
   "metadata": {
    "collapsed": false,
    "pycharm": {
     "name": "#%%\n"
    }
   }
  },
  {
   "cell_type": "code",
   "execution_count": 155,
   "outputs": [],
   "source": [
    "def scale(data,mean,std_dev):\n",
    "    diff = data - mean\n",
    "    scaled = diff / std_dev\n",
    "    return scaled"
   ],
   "metadata": {
    "collapsed": false,
    "pycharm": {
     "name": "#%%\n"
    }
   }
  },
  {
   "cell_type": "code",
   "execution_count": 156,
   "outputs": [],
   "source": [
    "from sklearn.model_selection import train_test_split\n",
    "active_df = table.loc[table.binding == 1]\n",
    "not_active_df = table.loc[table.binding == 0]\n",
    "active_train, active_test, active_binding_train, active_binding_test = train_test_split(active_df.sequence, active_df.binding, shuffle=True, train_size=.75)\n",
    "not_active_train, not_active_test, not_active_binding_train, not_active_binding_test = train_test_split(not_active_df.sequence, not_active_df.binding, shuffle=True, train_size=.70)"
   ],
   "metadata": {
    "collapsed": false,
    "pycharm": {
     "name": "#%%\n"
    }
   }
  },
  {
   "cell_type": "markdown",
   "source": [],
   "metadata": {
    "collapsed": false,
    "pycharm": {
     "name": "#%% md\n"
    }
   }
  },
  {
   "cell_type": "code",
   "execution_count": 157,
   "outputs": [],
   "source": [
    "active_train_df = pd.DataFrame(active_train)\n",
    "active_test_df = pd.DataFrame(active_test)\n",
    "active_binding_train_df = pd.DataFrame(active_binding_train)\n",
    "active_binding_test_df = pd.DataFrame(active_binding_test)\n",
    "\n",
    "active_train_df['binding'] = active_binding_train_df['binding']\n",
    "active_test_df['binding'] = active_binding_test_df['binding']"
   ],
   "metadata": {
    "collapsed": false,
    "pycharm": {
     "name": "#%%\n"
    }
   }
  },
  {
   "cell_type": "code",
   "execution_count": 158,
   "outputs": [],
   "source": [
    "not_active_train_df = pd.DataFrame(not_active_train)\n",
    "not_active_test_df = pd.DataFrame(not_active_test)\n",
    "not_active_binding_train_df = pd.DataFrame(not_active_binding_train)\n",
    "not_active_binding_test_df = pd.DataFrame(not_active_binding_test)\n",
    "\n",
    "not_active_train_df['binding'] = not_active_binding_train_df['binding']\n",
    "not_active_test_df['binding'] = not_active_binding_test_df['binding']"
   ],
   "metadata": {
    "collapsed": false,
    "pycharm": {
     "name": "#%%\n"
    }
   }
  },
  {
   "cell_type": "code",
   "execution_count": 171,
   "outputs": [
    {
     "name": "stdout",
     "output_type": "stream",
     "text": [
      "0    505\n",
      "1     58\n",
      "Name: binding, dtype: int64\n",
      "0    217\n",
      "1     20\n",
      "Name: binding, dtype: int64\n"
     ]
    }
   ],
   "source": [
    "train_df = pd.concat([active_train_df,not_active_train_df]).reset_index()\n",
    "train_df = train_df.drop('index',axis=1)\n",
    "print(train_df.binding.value_counts())\n",
    "\n",
    "test_df = pd.concat([active_test_df,not_active_test_df]).reset_index()\n",
    "test_df = test_df.drop('index',axis=1)\n",
    "print(test_df.binding.value_counts())"
   ],
   "metadata": {
    "collapsed": false,
    "pycharm": {
     "name": "#%%\n"
    }
   }
  },
  {
   "cell_type": "code",
   "execution_count": 172,
   "outputs": [],
   "source": [
    "from imblearn.over_sampling import RandomOverSampler\n",
    "sampler = RandomOverSampler()\n",
    "x_sampled, y_sampled = sampler.fit_resample(np.array(train_df.sequence).reshape(-1,1),train_df.binding)\n",
    "x_test_sampled, y_test_sampled = sampler.fit_resample(np.array(test_df.sequence).reshape(-1,1),test_df.binding)"
   ],
   "metadata": {
    "collapsed": false,
    "pycharm": {
     "name": "#%%\n"
    }
   }
  },
  {
   "cell_type": "code",
   "execution_count": 173,
   "outputs": [
    {
     "name": "stdout",
     "output_type": "stream",
     "text": [
      "1    505\n",
      "0    505\n",
      "Name: binding, dtype: int64\n",
      "1    217\n",
      "0    217\n",
      "Name: binding, dtype: int64\n"
     ]
    }
   ],
   "source": [
    "final_train_set = pd.DataFrame(x_sampled, columns  =[\"sequence\"])\n",
    "final_train_set['binding'] = y_sampled\n",
    "print(final_train_set.binding.value_counts())\n",
    "\n",
    "final_test_set = pd.DataFrame(x_test_sampled, columns  =[\"sequence\"])\n",
    "final_test_set['binding'] = y_test_sampled\n",
    "print(final_test_set.binding.value_counts())"
   ],
   "metadata": {
    "collapsed": false,
    "pycharm": {
     "name": "#%%\n"
    }
   }
  },
  {
   "cell_type": "code",
   "execution_count": 183,
   "outputs": [],
   "source": [
    "vectorizer_global, training_features = return_binary_vectorized_form(final_train_set.sequence)\n",
    "k_best_feature = select_k_best_features(training_features, final_train_set.binding, 0.30, vectorizer_global.get_feature_names_out())\n",
    "vectorizer_k_best, training_split = return_binary_vectorized_form_with_vocab(final_train_set.sequence,k_best_feature)\n",
    "test_split = vectorizer_k_best.transform(final_test_set.sequence).toarray()"
   ],
   "metadata": {
    "collapsed": false,
    "pycharm": {
     "name": "#%%\n"
    }
   }
  },
  {
   "cell_type": "code",
   "execution_count": 175,
   "outputs": [
    {
     "name": "stdout",
     "output_type": "stream",
     "text": [
      "(1010, 24333)\n",
      "(434, 24333)\n"
     ]
    }
   ],
   "source": [
    "print(training_split.shape)\n",
    "print(test_split.shape)"
   ],
   "metadata": {
    "collapsed": false,
    "pycharm": {
     "name": "#%%\n"
    }
   }
  },
  {
   "cell_type": "code",
   "execution_count": 176,
   "outputs": [],
   "source": [
    "train_result = np.array(final_train_set.binding)\n",
    "test_result = np.array(final_test_set.binding)\n",
    "# print(train_result.shape)\n",
    "# print(test_result.shape)\n"
   ],
   "metadata": {
    "collapsed": false,
    "pycharm": {
     "name": "#%%\n"
    }
   }
  },
  {
   "cell_type": "code",
   "execution_count": 177,
   "outputs": [
    {
     "data": {
      "text/plain": "217"
     },
     "execution_count": 177,
     "metadata": {},
     "output_type": "execute_result"
    }
   ],
   "source": [
    "test_result.sum()"
   ],
   "metadata": {
    "collapsed": false,
    "pycharm": {
     "name": "#%%\n"
    }
   }
  },
  {
   "cell_type": "code",
   "execution_count": 178,
   "outputs": [
    {
     "data": {
      "text/plain": "array([[0, 0, 0, ..., 0, 0, 0],\n       [0, 0, 0, ..., 0, 0, 0],\n       [0, 0, 0, ..., 0, 0, 0],\n       ...,\n       [0, 0, 0, ..., 0, 0, 0],\n       [0, 0, 0, ..., 0, 0, 0],\n       [0, 0, 0, ..., 0, 0, 0]])"
     },
     "execution_count": 178,
     "metadata": {},
     "output_type": "execute_result"
    }
   ],
   "source": [
    "training_split"
   ],
   "metadata": {
    "collapsed": false,
    "pycharm": {
     "name": "#%%\n"
    }
   }
  },
  {
   "cell_type": "code",
   "execution_count": 179,
   "outputs": [],
   "source": [
    "# from sklearn.decomposition import PCA\n",
    "# pca = PCA(n_components=.95)\n",
    "# training_split = pca.fit_transform(training_split)\n",
    "# test_split = pca.transform(test_split)"
   ],
   "metadata": {
    "collapsed": false,
    "pycharm": {
     "name": "#%%\n"
    }
   }
  },
  {
   "cell_type": "code",
   "execution_count": 186,
   "outputs": [],
   "source": [
    "model = tf.keras.Sequential([\n",
    "    tf.keras.Input(shape=(training_split.shape[-1],)),\n",
    "    tf.keras.layers.Dense(2,activation='relu',kernel_regularizer=tf.keras.regularizers.L1(.02)),\n",
    "    # tf.keras.layers.Dropout(0.8),\n",
    "    # kernel_regularizer=tf.keras.regularizers.L1(.1)\n",
    "    tf.keras.layers.Dense(1, activation='sigmoid')\n",
    "])"
   ],
   "metadata": {
    "collapsed": false,
    "pycharm": {
     "name": "#%%\n"
    }
   }
  },
  {
   "cell_type": "code",
   "execution_count": 187,
   "outputs": [],
   "source": [
    "from sklearn.metrics import f1_score\n",
    "# def x(a,b):\n",
    "#     tf.make_ndarray(a.op.get_attr('value'))\n",
    "#     y = tf.make_ndarray(a.op.get_attr('value'))\n",
    "#     return y.shape[-1]\n",
    "METRICS = [\n",
    "      tf.keras.metrics.TruePositives(name='tp'),\n",
    "      tf.keras.metrics.FalsePositives(name='fp'),\n",
    "      tf.keras.metrics.TrueNegatives(name='tn'),\n",
    "      tf.keras.metrics.FalseNegatives(name='fn'),\n",
    "      tf.keras.metrics.BinaryAccuracy(name='accuracy'),\n",
    "      tf.keras.metrics.Precision(name='precision'),\n",
    "      tf.keras.metrics.Recall(name='recall'),\n",
    "      tf.keras.metrics.AUC(name='auc'),\n",
    "      tf.keras.metrics.AUC(name='prc', curve='PR'),\n",
    "      # x\n",
    "     # precision-recall curve\n",
    "\n",
    "]\n",
    "model.compile(loss=tf.keras.losses.BinaryFocalCrossentropy(), metrics=METRICS, optimizer='adam')"
   ],
   "metadata": {
    "collapsed": false,
    "pycharm": {
     "name": "#%%\n"
    }
   }
  },
  {
   "cell_type": "code",
   "execution_count": 197,
   "outputs": [
    {
     "name": "stdout",
     "output_type": "stream",
     "text": [
      "Epoch 1/5\n",
      "32/32 [==============================] - 1s 19ms/step - loss: 0.2793 - tp: 375.0000 - fp: 16.0000 - tn: 489.0000 - fn: 130.0000 - accuracy: 0.8554 - precision: 0.9591 - recall: 0.7426 - auc: 0.9656 - prc: 0.9631 - val_loss: 0.2821 - val_tp: 174.0000 - val_fp: 6.0000 - val_tn: 211.0000 - val_fn: 43.0000 - val_accuracy: 0.8871 - val_precision: 0.9667 - val_recall: 0.8018 - val_auc: 0.9033 - val_prc: 0.9235\n",
      "Epoch 2/5\n",
      "32/32 [==============================] - 1s 18ms/step - loss: 0.2785 - tp: 367.0000 - fp: 16.0000 - tn: 489.0000 - fn: 138.0000 - accuracy: 0.8475 - precision: 0.9582 - recall: 0.7267 - auc: 0.9635 - prc: 0.9625 - val_loss: 0.2742 - val_tp: 174.0000 - val_fp: 5.0000 - val_tn: 212.0000 - val_fn: 43.0000 - val_accuracy: 0.8894 - val_precision: 0.9721 - val_recall: 0.8018 - val_auc: 0.9079 - val_prc: 0.9284\n",
      "Epoch 3/5\n",
      "32/32 [==============================] - 1s 19ms/step - loss: 0.2815 - tp: 380.0000 - fp: 16.0000 - tn: 489.0000 - fn: 125.0000 - accuracy: 0.8604 - precision: 0.9596 - recall: 0.7525 - auc: 0.9638 - prc: 0.9629 - val_loss: 0.2852 - val_tp: 174.0000 - val_fp: 6.0000 - val_tn: 211.0000 - val_fn: 43.0000 - val_accuracy: 0.8871 - val_precision: 0.9667 - val_recall: 0.8018 - val_auc: 0.8594 - val_prc: 0.9039\n",
      "Epoch 4/5\n",
      "32/32 [==============================] - 1s 18ms/step - loss: 0.2835 - tp: 384.0000 - fp: 16.0000 - tn: 489.0000 - fn: 121.0000 - accuracy: 0.8644 - precision: 0.9600 - recall: 0.7604 - auc: 0.9706 - prc: 0.9662 - val_loss: 0.2782 - val_tp: 162.0000 - val_fp: 5.0000 - val_tn: 212.0000 - val_fn: 55.0000 - val_accuracy: 0.8618 - val_precision: 0.9701 - val_recall: 0.7465 - val_auc: 0.9058 - val_prc: 0.9242\n",
      "Epoch 5/5\n",
      "32/32 [==============================] - 1s 18ms/step - loss: 0.2809 - tp: 385.0000 - fp: 16.0000 - tn: 489.0000 - fn: 120.0000 - accuracy: 0.8653 - precision: 0.9601 - recall: 0.7624 - auc: 0.9673 - prc: 0.9637 - val_loss: 0.2817 - val_tp: 162.0000 - val_fp: 5.0000 - val_tn: 212.0000 - val_fn: 55.0000 - val_accuracy: 0.8618 - val_precision: 0.9701 - val_recall: 0.7465 - val_auc: 0.8853 - val_prc: 0.9172\n"
     ]
    }
   ],
   "source": [
    "num_epochs = 5\n",
    "history = model.fit(training_split, train_result, epochs=num_epochs, validation_data=(test_split, test_result))\n",
    "# ,callbacks=[tf.keras.callbacks.EarlyStopping()]"
   ],
   "metadata": {
    "collapsed": false,
    "pycharm": {
     "name": "#%%\n"
    }
   }
  },
  {
   "cell_type": "code",
   "execution_count": 198,
   "outputs": [
    {
     "data": {
      "text/plain": "[<matplotlib.lines.Line2D at 0x310388940>]"
     },
     "execution_count": 198,
     "metadata": {},
     "output_type": "execute_result"
    },
    {
     "data": {
      "text/plain": "<Figure size 640x480 with 2 Axes>",
      "image/png": "[encoded data removed]"
     },
     "metadata": {},
     "output_type": "display_data"
    }
   ],
   "source": [
    "fig, (ax1,ax2) = plt.subplots(2,1)\n",
    "testloss = np.array(history.history['val_loss']).reshape(len(history.history['val_loss']),1)\n",
    "trainloss = np.array(history.history['loss']).reshape(len(history.history['loss']),1)\n",
    "\n",
    "ax1.plot(history.epoch, testloss, '-')\n",
    "ax1.plot(history.epoch, trainloss, '--')\n",
    "# ax1.ylabel('loss')\n",
    "# ax1.xlabel('epoch')\n",
    "\n",
    "train_precision = np.array(history.history['precision']).reshape(len(history.history['loss']),1)\n",
    "train_recall= np.array(history.history['recall']).reshape(len(history.history['loss']),1)\n",
    "j =( 2 * train_precision * train_recall) / (train_precision+train_recall)\n",
    "\n",
    "test_precission = np.array(history.history['val_precision']).reshape(len(history.history['loss']),1)\n",
    "test_recall = np.array(history.history['val_recall']).reshape(len(history.history['loss']),1)\n",
    "k = (2 * test_precission * test_recall )/ (test_precission+test_recall)\n",
    "# plt.plot(history.epoch,j, '-')\n",
    "# plt.plot(k,'--')\n",
    "\n",
    "ax2.scatter(history.epoch, k)\n",
    "ax2.scatter(history.epoch, j)\n",
    "ax2.plot(history.epoch, k,'-')\n",
    "ax2.plot(history.epoch, j,'--')\n",
    "# ax3.plot(j+3)\n",
    "# ax3.plot(trainloss,'tab:blue')"
   ],
   "metadata": {
    "collapsed": false,
    "pycharm": {
     "name": "#%%\n"
    }
   }
  },
  {
   "cell_type": "code",
   "execution_count": 1411,
   "outputs": [],
   "source": [
    "table_test = pd.read_table('../drug-discovery/1663769555_8653905_test.txt', names=['sequence'])"
   ],
   "metadata": {
    "collapsed": false,
    "pycharm": {
     "name": "#%%\n"
    }
   }
  },
  {
   "cell_type": "code",
   "execution_count": 1411,
   "outputs": [],
   "source": [],
   "metadata": {
    "collapsed": false,
    "pycharm": {
     "name": "#%%\n"
    }
   }
  },
  {
   "cell_type": "code",
   "execution_count": 1417,
   "outputs": [],
   "source": [
    "unlabeled_test_sequence = vectorizer_k_best.transform(table_test.sequence).toarray()\n",
    "unlabeled_test_sequence = pca.transform(unlabeled_test_sequence)"
   ],
   "metadata": {
    "collapsed": false,
    "pycharm": {
     "name": "#%%\n"
    }
   }
  },
  {
   "cell_type": "code",
   "execution_count": 1418,
   "outputs": [
    {
     "data": {
      "text/plain": "(350, 276)"
     },
     "execution_count": 1418,
     "metadata": {},
     "output_type": "execute_result"
    }
   ],
   "source": [
    "unlabeled_test_sequence.shape"
   ],
   "metadata": {
    "collapsed": false,
    "pycharm": {
     "name": "#%%\n"
    }
   }
  },
  {
   "cell_type": "code",
   "execution_count": 1419,
   "outputs": [
    {
     "name": "stdout",
     "output_type": "stream",
     "text": [
      "11/11 [==============================] - 0s 9ms/step\n"
     ]
    },
    {
     "name": "stderr",
     "output_type": "stream",
     "text": [
      "2022-10-07 02:17:01.978794: I tensorflow/core/grappler/optimizers/custom_graph_optimizer_registry.cc:114] Plugin optimizer for device_type GPU is enabled.\n"
     ]
    }
   ],
   "source": [
    "y = model.predict(unlabeled_test_sequence)"
   ],
   "metadata": {
    "collapsed": false,
    "pycharm": {
     "name": "#%%\n"
    }
   }
  },
  {
   "cell_type": "code",
   "execution_count": 1420,
   "outputs": [
    {
     "data": {
      "text/plain": "array([[0.5289991 ],\n       [0.36453196],\n       [0.3792348 ],\n       [0.37128544],\n       [0.371615  ],\n       [0.37983915],\n       [0.38721794],\n       [0.40105462],\n       [0.39411953],\n       [0.45972976],\n       [0.3736221 ],\n       [0.37279025],\n       [0.38613498],\n       [0.3813309 ],\n       [0.36975747],\n       [0.37667176],\n       [0.35949478],\n       [0.40578744],\n       [0.381315  ],\n       [0.37109184],\n       [0.3695077 ],\n       [0.3844612 ],\n       [0.359096  ],\n       [0.36263132],\n       [0.41751176],\n       [0.70541364],\n       [0.37792617],\n       [0.36935413],\n       [0.37973034],\n       [0.36908007],\n       [0.36205193],\n       [0.3731683 ],\n       [0.3659916 ],\n       [0.3566588 ],\n       [0.38608053],\n       [0.368617  ],\n       [0.36570716],\n       [0.39196125],\n       [0.36366916],\n       [0.3771326 ],\n       [0.36641672],\n       [0.37624562],\n       [0.36497924],\n       [0.37270543],\n       [0.36170304],\n       [0.37407747],\n       [0.37388054],\n       [0.38946238],\n       [0.3658964 ],\n       [0.36057281],\n       [0.36505193],\n       [0.36954904],\n       [0.37221727],\n       [0.4354715 ],\n       [0.36316502],\n       [0.56220305],\n       [0.38489613],\n       [0.36350974],\n       [0.37537026],\n       [0.36648166],\n       [0.37607184],\n       [0.8206398 ],\n       [0.3689937 ],\n       [0.36930898],\n       [0.38831395],\n       [0.37065566],\n       [0.6221479 ],\n       [0.3683572 ],\n       [0.36606845],\n       [0.37115264],\n       [0.3717994 ],\n       [0.37540984],\n       [0.37891644],\n       [0.36452004],\n       [0.39930844],\n       [0.36275503],\n       [0.3760702 ],\n       [0.37157345],\n       [0.37279397],\n       [0.36590084],\n       [0.37150708],\n       [0.36597985],\n       [0.73414063],\n       [0.7257385 ],\n       [0.379461  ],\n       [0.6924052 ],\n       [0.36835647],\n       [0.37021506],\n       [0.3764107 ],\n       [0.38561705],\n       [0.3587146 ],\n       [0.36967674],\n       [0.38154617],\n       [0.39382693],\n       [0.3814027 ],\n       [0.38104707],\n       [0.37560758],\n       [0.3649929 ],\n       [0.7529654 ],\n       [0.69154894],\n       [0.366816  ],\n       [0.3768365 ],\n       [0.36468732],\n       [0.41470566],\n       [0.38237777],\n       [0.36752373],\n       [0.37345502],\n       [0.39398536],\n       [0.3649029 ],\n       [0.38038164],\n       [0.38792902],\n       [0.37074026],\n       [0.36960337],\n       [0.3658419 ],\n       [0.71589833],\n       [0.37254053],\n       [0.3760513 ],\n       [0.37450856],\n       [0.5507055 ],\n       [0.3702267 ],\n       [0.5384056 ],\n       [0.36799315],\n       [0.3713836 ],\n       [0.3721457 ],\n       [0.3807431 ],\n       [0.37989816],\n       [0.37596205],\n       [0.3696242 ],\n       [0.37653556],\n       [0.37675261],\n       [0.37809604],\n       [0.78922516],\n       [0.39798182],\n       [0.37281996],\n       [0.35361573],\n       [0.37275022],\n       [0.3650481 ],\n       [0.3688566 ],\n       [0.37557474],\n       [0.37273702],\n       [0.37205824],\n       [0.4388092 ],\n       [0.38754493],\n       [0.37683162],\n       [0.3741583 ],\n       [0.3675818 ],\n       [0.7567805 ],\n       [0.37824506],\n       [0.53318024],\n       [0.37150297],\n       [0.38181552],\n       [0.3570025 ],\n       [0.38395485],\n       [0.38385674],\n       [0.3767625 ],\n       [0.37173545],\n       [0.3784161 ],\n       [0.3781258 ],\n       [0.385244  ],\n       [0.3995329 ],\n       [0.43937215],\n       [0.3852714 ],\n       [0.70371807],\n       [0.39525053],\n       [0.40336767],\n       [0.37371653],\n       [0.37494743],\n       [0.36144695],\n       [0.45405814],\n       [0.36554548],\n       [0.3735884 ],\n       [0.3809063 ],\n       [0.37134376],\n       [0.36621663],\n       [0.37592337],\n       [0.35685995],\n       [0.38124242],\n       [0.36827454],\n       [0.3656242 ],\n       [0.38452882],\n       [0.37776634],\n       [0.3829027 ],\n       [0.37318376],\n       [0.36247683],\n       [0.3743846 ],\n       [0.41656676],\n       [0.37443626],\n       [0.37563443],\n       [0.3774061 ],\n       [0.3721043 ],\n       [0.3649398 ],\n       [0.3605146 ],\n       [0.37201345],\n       [0.380259  ],\n       [0.37192288],\n       [0.39181367],\n       [0.36931524],\n       [0.37047458],\n       [0.37875727],\n       [0.37496978],\n       [0.36575562],\n       [0.36251166],\n       [0.37502444],\n       [0.37224096],\n       [0.3717834 ],\n       [0.42928955],\n       [0.3652838 ],\n       [0.36720395],\n       [0.38234857],\n       [0.3814212 ],\n       [0.38594478],\n       [0.37060866],\n       [0.3718276 ],\n       [0.41183555],\n       [0.36966544],\n       [0.3629483 ],\n       [0.36787495],\n       [0.38346353],\n       [0.37607065],\n       [0.38393745],\n       [0.3850255 ],\n       [0.4688532 ],\n       [0.7048158 ],\n       [0.38743   ],\n       [0.36490282],\n       [0.7110015 ],\n       [0.37243596],\n       [0.37987515],\n       [0.385091  ],\n       [0.35820207],\n       [0.3738555 ],\n       [0.37578037],\n       [0.36255428],\n       [0.3774853 ],\n       [0.3806224 ],\n       [0.38569832],\n       [0.3749228 ],\n       [0.3755651 ],\n       [0.3653764 ],\n       [0.37567988],\n       [0.36109382],\n       [0.37909636],\n       [0.3777112 ],\n       [0.38268384],\n       [0.35877633],\n       [0.3720602 ],\n       [0.3628093 ],\n       [0.599308  ],\n       [0.36752576],\n       [0.3834863 ],\n       [0.3652733 ],\n       [0.37572017],\n       [0.36686602],\n       [0.3790724 ],\n       [0.62995225],\n       [0.36440262],\n       [0.37788984],\n       [0.37110773],\n       [0.4081162 ],\n       [0.39375055],\n       [0.42937165],\n       [0.38365084],\n       [0.36606032],\n       [0.36973852],\n       [0.37866828],\n       [0.37575468],\n       [0.3808575 ],\n       [0.3602814 ],\n       [0.36507264],\n       [0.3750212 ],\n       [0.38450536],\n       [0.3688726 ],\n       [0.36540133],\n       [0.37853295],\n       [0.36573252],\n       [0.3838873 ],\n       [0.38817653],\n       [0.37282053],\n       [0.3698626 ],\n       [0.35866225],\n       [0.3649902 ],\n       [0.6440917 ],\n       [0.38207397],\n       [0.36724412],\n       [0.3656479 ],\n       [0.36602128],\n       [0.36945328],\n       [0.38070494],\n       [0.3750932 ],\n       [0.38432592],\n       [0.363825  ],\n       [0.3966631 ],\n       [0.747099  ],\n       [0.37960175],\n       [0.36659318],\n       [0.38051036],\n       [0.377413  ],\n       [0.37436125],\n       [0.4071796 ],\n       [0.3940816 ],\n       [0.3785    ],\n       [0.37350792],\n       [0.3714988 ],\n       [0.36937732],\n       [0.37593693],\n       [0.36531958],\n       [0.36962682],\n       [0.38788417],\n       [0.36975768],\n       [0.3678244 ],\n       [0.37090203],\n       [0.3847796 ],\n       [0.36997935],\n       [0.36460853],\n       [0.37449178],\n       [0.7141733 ],\n       [0.37140125],\n       [0.36877218],\n       [0.36699462],\n       [0.35686654],\n       [0.36837083],\n       [0.3914336 ],\n       [0.7226684 ],\n       [0.36316863],\n       [0.3680481 ],\n       [0.37078267],\n       [0.4620851 ],\n       [0.4077277 ],\n       [0.3688738 ],\n       [0.37413535],\n       [0.6936219 ],\n       [0.38340414],\n       [0.4505559 ],\n       [0.36611697],\n       [0.38767204],\n       [0.37216836],\n       [0.43158156],\n       [0.37023342],\n       [0.37365553],\n       [0.4262537 ],\n       [0.36783978],\n       [0.35890853],\n       [0.3689078 ],\n       [0.3735433 ],\n       [0.3685592 ],\n       [0.36024082],\n       [0.39397287],\n       [0.37366137],\n       [0.47959876],\n       [0.38105556]], dtype=float32)"
     },
     "execution_count": 1420,
     "metadata": {},
     "output_type": "execute_result"
    }
   ],
   "source": [
    "y"
   ],
   "metadata": {
    "collapsed": false,
    "pycharm": {
     "name": "#%%\n"
    }
   }
  },
  {
   "cell_type": "code",
   "execution_count": 1421,
   "outputs": [],
   "source": [
    "# for i in range(3):\n",
    "z = [1 if i>=.5 else 0 for i in y ]"
   ],
   "metadata": {
    "collapsed": false,
    "pycharm": {
     "name": "#%%\n"
    }
   }
  },
  {
   "cell_type": "code",
   "execution_count": 1422,
   "outputs": [
    {
     "data": {
      "text/plain": "1"
     },
     "execution_count": 1422,
     "metadata": {},
     "output_type": "execute_result"
    }
   ],
   "source": [
    "z[61]"
   ],
   "metadata": {
    "collapsed": false,
    "pycharm": {
     "name": "#%%\n"
    }
   }
  },
  {
   "cell_type": "code",
   "execution_count": 945,
   "outputs": [],
   "source": [
    "import csv\n",
    "outfile = open('./results.csv','w')\n",
    "out = csv.writer(outfile)\n",
    "out.writerows(map(lambda x: [x], z))\n",
    "outfile.close()"
   ],
   "metadata": {
    "collapsed": false,
    "pycharm": {
     "name": "#%%\n"
    }
   }
  },
  {
   "cell_type": "code",
   "execution_count": null,
   "outputs": [],
   "source": [
    "ls"
   ],
   "metadata": {
    "collapsed": false,
    "pycharm": {
     "name": "#%%\n"
    }
   }
  }
 ],
 "metadata": {
  "kernelspec": {
   "display_name": "Python 3",
   "language": "python",
   "name": "python3"
  },
  "language_info": {
   "codemirror_mode": {
    "name": "ipython",
    "version": 2
   },
   "file_extension": ".py",
   "mimetype": "text/x-python",
   "name": "python",
   "nbconvert_exporter": "python",
   "pygments_lexer": "ipython2",
   "version": "2.7.6"
  }
 },
 "nbformat": 4,
 "nbformat_minor": 0
}