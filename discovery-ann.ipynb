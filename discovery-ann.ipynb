{
 "cells": [
  {
   "cell_type": "code",
   "execution_count": 1699,
   "metadata": {
    "collapsed": true,
    "pycharm": {
     "name": "#%%\n"
    }
   },
   "outputs": [],
   "source": [
    "import tensorflow as tf\n",
    "import pandas as pd\n",
    "import numpy as np\n",
    "import matplotlib.pyplot as plt"
   ]
  },
  {
   "cell_type": "code",
   "execution_count": 1700,
   "outputs": [],
   "source": [
    "table = pd.read_table('../drug-discovery/1663769555_8559356_train.txt', names=['binding','sequence'])"
   ],
   "metadata": {
    "collapsed": false,
    "pycharm": {
     "name": "#%%\n"
    }
   }
  },
  {
   "cell_type": "code",
   "execution_count": 1701,
   "outputs": [],
   "source": [
    "def collect_with_target_value(data_frame, column, target_value):\n",
    "    collected_values = data_frame.loc[data_frame[column] == target_value]\n",
    "    return collected_values"
   ],
   "metadata": {
    "collapsed": false,
    "pycharm": {
     "name": "#%%\n"
    }
   }
  },
  {
   "cell_type": "code",
   "execution_count": 1702,
   "outputs": [],
   "source": [
    "active_df = collect_with_target_value(table, 'binding', 1).reset_index()\n",
    "not_active_dfs = collect_with_target_value(table, 'binding',0).reset_index()"
   ],
   "metadata": {
    "collapsed": false,
    "pycharm": {
     "name": "#%%\n"
    }
   }
  },
  {
   "cell_type": "code",
   "execution_count": 1703,
   "outputs": [
    {
     "data": {
      "text/plain": "(722, 3)"
     },
     "execution_count": 1703,
     "metadata": {},
     "output_type": "execute_result"
    }
   ],
   "source": [
    "not_active_dfs.shape"
   ],
   "metadata": {
    "collapsed": false,
    "pycharm": {
     "name": "#%%\n"
    }
   }
  },
  {
   "cell_type": "code",
   "execution_count": 1704,
   "outputs": [
    {
     "data": {
      "text/plain": "(217,)"
     },
     "execution_count": 1704,
     "metadata": {},
     "output_type": "execute_result"
    }
   ],
   "source": [
    "not_active_dfs = pd.DataFrame.sample(not_active_dfs,frac=.30, random_state= np.random.RandomState())\n",
    "not_active_dfs.binding.shape"
   ],
   "metadata": {
    "collapsed": false,
    "pycharm": {
     "name": "#%%\n"
    }
   }
  },
  {
   "cell_type": "code",
   "execution_count": 1705,
   "outputs": [],
   "source": [
    "final_data_set = pd.concat([active_df,not_active_dfs])\n",
    "final_data_set = final_data_set.drop(['index'],axis=1).sample(frac=1).reset_index()\n",
    "final_data_set = final_data_set.drop(['index'],axis=1)"
   ],
   "metadata": {
    "collapsed": false,
    "pycharm": {
     "name": "#%%\n"
    }
   }
  },
  {
   "cell_type": "code",
   "execution_count": 1706,
   "outputs": [],
   "source": [
    "import imblearn\n",
    "from imblearn.over_sampling import RandomOverSampler\n",
    "sampler = RandomOverSampler()\n",
    "x_sampled, y_sampled = sampler.fit_resample(np.array(table.sequence).reshape(-1,1),table.binding)"
   ],
   "metadata": {
    "collapsed": false,
    "pycharm": {
     "name": "#%%\n"
    }
   }
  },
  {
   "cell_type": "code",
   "execution_count": 1707,
   "outputs": [
    {
     "data": {
      "text/plain": "0    722\n1    722\nName: binding, dtype: int64"
     },
     "execution_count": 1707,
     "metadata": {},
     "output_type": "execute_result"
    }
   ],
   "source": [
    "final_data_set = pd.DataFrame(x_sampled, columns  =[\"sequence\"])\n",
    "final_data_set['binding'] = y_sampled\n",
    "final_data_set.binding.value_counts()"
   ],
   "metadata": {
    "collapsed": false,
    "pycharm": {
     "name": "#%%\n"
    }
   }
  },
  {
   "cell_type": "code",
   "execution_count": 1708,
   "outputs": [],
   "source": [
    "from sklearn.model_selection import  train_test_split\n",
    "\n",
    "training_split, test_split, train_result, test_result = train_test_split(final_data_set.sequence, final_data_set.binding,stratify=final_data_set.binding, train_size=.70, random_state=0)"
   ],
   "metadata": {
    "collapsed": false,
    "pycharm": {
     "name": "#%%\n"
    }
   }
  },
  {
   "cell_type": "code",
   "execution_count": 1709,
   "outputs": [
    {
     "data": {
      "text/plain": "(434,)"
     },
     "execution_count": 1709,
     "metadata": {},
     "output_type": "execute_result"
    }
   ],
   "source": [
    "test_result.shape"
   ],
   "metadata": {
    "collapsed": false,
    "pycharm": {
     "name": "#%%\n"
    }
   }
  },
  {
   "cell_type": "code",
   "execution_count": 1710,
   "outputs": [],
   "source": [
    "from sklearn.feature_extraction.text import CountVectorizer\n",
    "def return_binary_vectorized_form(data_frame):\n",
    "    count_vectorizer = CountVectorizer(binary=True)\n",
    "    fitted_and_transformed = count_vectorizer.fit_transform(data_frame).toarray()\n",
    "    return count_vectorizer,  fitted_and_transformed\n",
    "vectorizer, training_split = return_binary_vectorized_form(training_split)\n",
    "test_split = vectorizer.transform(test_split).toarray()"
   ],
   "metadata": {
    "collapsed": false,
    "pycharm": {
     "name": "#%%\n"
    }
   }
  },
  {
   "cell_type": "code",
   "execution_count": 1711,
   "outputs": [
    {
     "data": {
      "text/plain": "array([[0, 0, 0, ..., 0, 0, 0],\n       [0, 0, 0, ..., 0, 0, 0],\n       [0, 0, 0, ..., 0, 0, 0],\n       ...,\n       [0, 0, 0, ..., 0, 0, 0],\n       [0, 0, 0, ..., 0, 0, 0],\n       [0, 0, 0, ..., 0, 0, 0]])"
     },
     "execution_count": 1711,
     "metadata": {},
     "output_type": "execute_result"
    }
   ],
   "source": [
    "test_split"
   ],
   "metadata": {
    "collapsed": false,
    "pycharm": {
     "name": "#%%\n"
    }
   }
  },
  {
   "cell_type": "code",
   "execution_count": 1712,
   "outputs": [],
   "source": [
    "train_result = np.array(train_result)\n",
    "test_result = np.array(test_result)"
   ],
   "metadata": {
    "collapsed": false,
    "pycharm": {
     "name": "#%%\n"
    }
   }
  },
  {
   "cell_type": "code",
   "execution_count": 1713,
   "outputs": [],
   "source": [
    "# training_sequence= []\n",
    "# test_sequence = []\n",
    "# for row in training_split:\n",
    "#     training_sequence.append(str(row))\n",
    "# for row in test_split:\n",
    "#     test_sequence.append(str(row))\n"
   ],
   "metadata": {
    "collapsed": false,
    "pycharm": {
     "name": "#%%\n"
    }
   }
  },
  {
   "cell_type": "code",
   "execution_count": 1714,
   "outputs": [
    {
     "data": {
      "text/plain": "array([[0, 0, 0, ..., 0, 0, 0],\n       [0, 0, 0, ..., 0, 0, 0],\n       [0, 0, 0, ..., 1, 0, 0],\n       ...,\n       [0, 0, 0, ..., 0, 0, 0],\n       [0, 0, 0, ..., 0, 0, 0],\n       [0, 0, 0, ..., 0, 0, 0]])"
     },
     "execution_count": 1714,
     "metadata": {},
     "output_type": "execute_result"
    }
   ],
   "source": [
    "training_split"
   ],
   "metadata": {
    "collapsed": false,
    "pycharm": {
     "name": "#%%\n"
    }
   }
  },
  {
   "cell_type": "code",
   "execution_count": 1715,
   "outputs": [
    {
     "data": {
      "text/plain": "array([[0, 0, 0, ..., 0, 0, 0],\n       [0, 0, 0, ..., 0, 0, 0],\n       [0, 0, 0, ..., 0, 0, 0],\n       ...,\n       [0, 0, 0, ..., 0, 0, 0],\n       [0, 0, 0, ..., 0, 0, 0],\n       [0, 0, 0, ..., 0, 0, 0]])"
     },
     "execution_count": 1715,
     "metadata": {},
     "output_type": "execute_result"
    }
   ],
   "source": [
    "test_split\n",
    "# training_sequence = np.array(training_sequence).reshape(1010)\n",
    "# # test_sequence = np.array(test_sequence)"
   ],
   "metadata": {
    "collapsed": false,
    "pycharm": {
     "name": "#%%\n"
    }
   }
  },
  {
   "cell_type": "code",
   "execution_count": 1716,
   "outputs": [],
   "source": [
    "# training_sequence.s"
   ],
   "metadata": {
    "collapsed": false,
    "pycharm": {
     "name": "#%%\n"
    }
   }
  },
  {
   "cell_type": "code",
   "execution_count": 1717,
   "outputs": [],
   "source": [
    "vocab_size = 40000\n",
    "embedding_dim = 16\n",
    "max_length = 1000\n",
    "trunc_type = 'post'\n",
    "oov_tok = '<OOV>'\n",
    "padding_type = 'post'"
   ],
   "metadata": {
    "collapsed": false,
    "pycharm": {
     "name": "#%%\n"
    }
   }
  },
  {
   "cell_type": "code",
   "execution_count": 1718,
   "outputs": [],
   "source": [
    "# from tensorflow.keras.preprocessing.text import Tokenizer\n",
    "# from tensorflow.keras.preprocessing.sequence import pad_sequences\n",
    "# tokenizer = Tokenizer(num_words=vocab_size, oov_token=oov_tok)\n",
    "# tokenizer.fit_on_texts(training_sequence)\n",
    "# word_index = tokenizer.word_index"
   ],
   "metadata": {
    "collapsed": false,
    "pycharm": {
     "name": "#%%\n"
    }
   }
  },
  {
   "cell_type": "code",
   "execution_count": 1719,
   "outputs": [],
   "source": [
    "# sequences = tokenizer.texts_to_sequences(training_sequence)\n",
    "# padded = pad_sequences(sequences, maxlen=max_length, truncating=trunc_type)\n",
    "# test_sequence = tokenizer.texts_to_sequences(test_sequence)\n",
    "# testing_padded = pad_sequences(test_sequence, maxlen=max_length)\n",
    "# padded"
   ],
   "metadata": {
    "collapsed": false,
    "pycharm": {
     "name": "#%%\n"
    }
   }
  },
  {
   "cell_type": "code",
   "execution_count": 1720,
   "outputs": [
    {
     "data": {
      "text/plain": "82145"
     },
     "execution_count": 1720,
     "metadata": {},
     "output_type": "execute_result"
    }
   ],
   "source": [
    "training_split.shape[-1]"
   ],
   "metadata": {
    "collapsed": false,
    "pycharm": {
     "name": "#%%\n"
    }
   }
  },
  {
   "cell_type": "code",
   "execution_count": 1901,
   "outputs": [],
   "source": [
    "model = tf.keras.Sequential([\n",
    "    tf.keras.Input(shape=(training_split.shape[-1],)),\n",
    "    tf.keras.layers.Dropout(0.8),\n",
    "    tf.keras.layers.Dense(26,activation='relu',kernel_regularizer= tf.keras.regularizers.L1(0.01)),\n",
    "    tf.keras.layers.Dense(1, activation='sigmoid')\n",
    "])"
   ],
   "metadata": {
    "collapsed": false,
    "pycharm": {
     "name": "#%%\n"
    }
   }
  },
  {
   "cell_type": "code",
   "execution_count": 1902,
   "outputs": [],
   "source": [
    "METRICS = [\n",
    "      tf.keras.metrics.TruePositives(name='tp'),\n",
    "      tf.keras.metrics.FalsePositives(name='fp'),\n",
    "      tf.keras.metrics.TrueNegatives(name='tn'),\n",
    "      tf.keras.metrics.FalseNegatives(name='fn'),\n",
    "      tf.keras.metrics.BinaryAccuracy(name='accuracy'),\n",
    "      tf.keras.metrics.Precision(name='precision'),\n",
    "      tf.keras.metrics.Recall(name='recall'),\n",
    "      tf.keras.metrics.AUC(name='auc'),\n",
    "      tf.keras.metrics.AUC(name='prc', curve='PR'), # precision-recall curve\n",
    "]\n",
    "\n",
    "model.compile(loss=tf.keras.losses.BinaryCrossentropy(from_logits=True), optimizer='adam', metrics=METRICS)"
   ],
   "metadata": {
    "collapsed": false,
    "pycharm": {
     "name": "#%%\n"
    }
   }
  },
  {
   "cell_type": "code",
   "execution_count": 1903,
   "outputs": [
    {
     "name": "stdout",
     "output_type": "stream",
     "text": [
      "Epoch 1/10\n"
     ]
    },
    {
     "name": "stderr",
     "output_type": "stream",
     "text": [
      "/Users/bhabaranjanpanigrahi/miniforge3/envs/mlp/lib/python3.8/site-packages/keras/backend.py:5673: UserWarning: \"`binary_crossentropy` received `from_logits=True`, but the `output` argument was produced by a Sigmoid activation and thus does not represent logits. Was this intended?\n",
      "  output, from_logits = _get_logits(\n",
      "2022-10-05 01:22:52.537576: I tensorflow/core/grappler/optimizers/custom_graph_optimizer_registry.cc:114] Plugin optimizer for device_type GPU is enabled.\n"
     ]
    },
    {
     "name": "stdout",
     "output_type": "stream",
     "text": [
      "32/32 [==============================] - ETA: 0s - loss: 21.0688 - tp: 442.0000 - fp: 83.0000 - tn: 422.0000 - fn: 63.0000 - accuracy: 0.8554 - precision: 0.8419 - recall: 0.8752 - auc: 0.9365 - prc: 0.9432"
     ]
    },
    {
     "name": "stderr",
     "output_type": "stream",
     "text": [
      "2022-10-05 01:22:59.805328: I tensorflow/core/grappler/optimizers/custom_graph_optimizer_registry.cc:114] Plugin optimizer for device_type GPU is enabled.\n"
     ]
    },
    {
     "name": "stdout",
     "output_type": "stream",
     "text": [
      "32/32 [==============================] - 11s 249ms/step - loss: 21.0688 - tp: 442.0000 - fp: 83.0000 - tn: 422.0000 - fn: 63.0000 - accuracy: 0.8554 - precision: 0.8419 - recall: 0.8752 - auc: 0.9365 - prc: 0.9432 - val_loss: 6.8819 - val_tp: 163.0000 - val_fp: 6.0000 - val_tn: 211.0000 - val_fn: 54.0000 - val_accuracy: 0.8618 - val_precision: 0.9645 - val_recall: 0.7512 - val_auc: 0.9533 - val_prc: 0.9608\n",
      "Epoch 2/10\n",
      "32/32 [==============================] - 2s 69ms/step - loss: 5.4300 - tp: 442.0000 - fp: 22.0000 - tn: 483.0000 - fn: 63.0000 - accuracy: 0.9158 - precision: 0.9526 - recall: 0.8752 - auc: 0.9552 - prc: 0.9592 - val_loss: 4.8615 - val_tp: 194.0000 - val_fp: 7.0000 - val_tn: 210.0000 - val_fn: 23.0000 - val_accuracy: 0.9309 - val_precision: 0.9652 - val_recall: 0.8940 - val_auc: 0.9534 - val_prc: 0.9609\n",
      "Epoch 3/10\n",
      "32/32 [==============================] - 2s 69ms/step - loss: 4.6749 - tp: 436.0000 - fp: 13.0000 - tn: 492.0000 - fn: 69.0000 - accuracy: 0.9188 - precision: 0.9710 - recall: 0.8634 - auc: 0.9638 - prc: 0.9655 - val_loss: 4.6780 - val_tp: 201.0000 - val_fp: 7.0000 - val_tn: 210.0000 - val_fn: 16.0000 - val_accuracy: 0.9470 - val_precision: 0.9663 - val_recall: 0.9263 - val_auc: 0.9720 - val_prc: 0.9711\n",
      "Epoch 4/10\n",
      "32/32 [==============================] - 2s 63ms/step - loss: 4.6566 - tp: 440.0000 - fp: 18.0000 - tn: 487.0000 - fn: 65.0000 - accuracy: 0.9178 - precision: 0.9607 - recall: 0.8713 - auc: 0.9576 - prc: 0.9622 - val_loss: 4.8703 - val_tp: 189.0000 - val_fp: 7.0000 - val_tn: 210.0000 - val_fn: 28.0000 - val_accuracy: 0.9194 - val_precision: 0.9643 - val_recall: 0.8710 - val_auc: 0.9679 - val_prc: 0.9679\n",
      "Epoch 5/10\n",
      "32/32 [==============================] - 2s 63ms/step - loss: 4.8251 - tp: 437.0000 - fp: 16.0000 - tn: 489.0000 - fn: 68.0000 - accuracy: 0.9168 - precision: 0.9647 - recall: 0.8653 - auc: 0.9631 - prc: 0.9617 - val_loss: 4.9621 - val_tp: 183.0000 - val_fp: 7.0000 - val_tn: 210.0000 - val_fn: 34.0000 - val_accuracy: 0.9055 - val_precision: 0.9632 - val_recall: 0.8433 - val_auc: 0.9668 - val_prc: 0.9671\n",
      "Epoch 6/10\n",
      "32/32 [==============================] - 2s 63ms/step - loss: 4.8831 - tp: 437.0000 - fp: 17.0000 - tn: 488.0000 - fn: 68.0000 - accuracy: 0.9158 - precision: 0.9626 - recall: 0.8653 - auc: 0.9705 - prc: 0.9723 - val_loss: 4.8007 - val_tp: 196.0000 - val_fp: 7.0000 - val_tn: 210.0000 - val_fn: 21.0000 - val_accuracy: 0.9355 - val_precision: 0.9655 - val_recall: 0.9032 - val_auc: 0.9770 - val_prc: 0.9765\n",
      "Epoch 7/10\n",
      "32/32 [==============================] - 2s 60ms/step - loss: 4.9489 - tp: 438.0000 - fp: 14.0000 - tn: 491.0000 - fn: 67.0000 - accuracy: 0.9198 - precision: 0.9690 - recall: 0.8673 - auc: 0.9594 - prc: 0.9606 - val_loss: 4.8911 - val_tp: 175.0000 - val_fp: 7.0000 - val_tn: 210.0000 - val_fn: 42.0000 - val_accuracy: 0.8871 - val_precision: 0.9615 - val_recall: 0.8065 - val_auc: 0.9792 - val_prc: 0.9761\n",
      "Epoch 8/10\n",
      "32/32 [==============================] - 2s 62ms/step - loss: 4.9192 - tp: 438.0000 - fp: 11.0000 - tn: 494.0000 - fn: 67.0000 - accuracy: 0.9228 - precision: 0.9755 - recall: 0.8673 - auc: 0.9666 - prc: 0.9717 - val_loss: 4.7804 - val_tp: 181.0000 - val_fp: 7.0000 - val_tn: 210.0000 - val_fn: 36.0000 - val_accuracy: 0.9009 - val_precision: 0.9628 - val_recall: 0.8341 - val_auc: 0.9703 - val_prc: 0.9701\n",
      "Epoch 9/10\n",
      "32/32 [==============================] - 2s 58ms/step - loss: 4.9652 - tp: 430.0000 - fp: 18.0000 - tn: 487.0000 - fn: 75.0000 - accuracy: 0.9079 - precision: 0.9598 - recall: 0.8515 - auc: 0.9675 - prc: 0.9622 - val_loss: 4.9932 - val_tp: 195.0000 - val_fp: 5.0000 - val_tn: 212.0000 - val_fn: 22.0000 - val_accuracy: 0.9378 - val_precision: 0.9750 - val_recall: 0.8986 - val_auc: 0.9832 - val_prc: 0.9819\n",
      "Epoch 10/10\n",
      "32/32 [==============================] - 2s 57ms/step - loss: 4.8935 - tp: 448.0000 - fp: 13.0000 - tn: 492.0000 - fn: 57.0000 - accuracy: 0.9307 - precision: 0.9718 - recall: 0.8871 - auc: 0.9742 - prc: 0.9701 - val_loss: 4.7467 - val_tp: 188.0000 - val_fp: 6.0000 - val_tn: 211.0000 - val_fn: 29.0000 - val_accuracy: 0.9194 - val_precision: 0.9691 - val_recall: 0.8664 - val_auc: 0.9531 - val_prc: 0.9639\n"
     ]
    }
   ],
   "source": [
    "num_epochs = 10\n",
    "history = model.fit(training_split, train_result, epochs=num_epochs, validation_data=(test_split, test_result))"
   ],
   "metadata": {
    "collapsed": false,
    "pycharm": {
     "name": "#%%\n"
    }
   }
  },
  {
   "cell_type": "code",
   "execution_count": 1878,
   "outputs": [],
   "source": [
    "table_test = pd.read_table('../drug-discovery/1663769555_8653905_test.txt', names=['sequence'])"
   ],
   "metadata": {
    "collapsed": false,
    "pycharm": {
     "name": "#%%\n"
    }
   }
  },
  {
   "cell_type": "code",
   "execution_count": 1879,
   "outputs": [],
   "source": [
    "# unlabeled_test_sequence = []\n",
    "# for row in table_test.sequence:\n",
    "#     unlabeled_test_sequence.append(str(row))"
   ],
   "metadata": {
    "collapsed": false,
    "pycharm": {
     "name": "#%%\n"
    }
   }
  },
  {
   "cell_type": "code",
   "execution_count": 1880,
   "outputs": [
    {
     "data": {
      "text/plain": "                                              sequence\n0    259 521 546 565 671 769 858 876 1056 1252 1392...\n1    96 158 195 436 518 541 588 642 804 843 978 115...\n2    13 169 354 587 803 1241 1472 1586 1605 1638 16...\n3    10 91 184 191 546 825 978 1077 1155 1220 1297 ...\n4    37 85 119 191 349 390 437 458 671 707 1454 157...\n..                                                 ...\n345  43 150 273 363 797 889 1014 1016 1077 1176 135...\n346  34 118 132 150 162 259 347 470 477 479 613 651...\n347  84 250 263 616 1220 1289 1314 1384 1440 1442 1...\n348  121 136 165 207 232 309 375 412 453 460 521 72...\n349  354 382 386 394 548 733 783 1167 1214 1222 122...\n\n[350 rows x 1 columns]",
      "text/html": "<div>\n<style scoped>\n    .dataframe tbody tr th:only-of-type {\n        vertical-align: middle;\n    }\n\n    .dataframe tbody tr th {\n        vertical-align: top;\n    }\n\n    .dataframe thead th {\n        text-align: right;\n    }\n</style>\n<table border=\"1\" class=\"dataframe\">\n  <thead>\n    <tr style=\"text-align: right;\">\n      <th></th>\n      <th>sequence</th>\n    </tr>\n  </thead>\n  <tbody>\n    <tr>\n      <th>0</th>\n      <td>259 521 546 565 671 769 858 876 1056 1252 1392...</td>\n    </tr>\n    <tr>\n      <th>1</th>\n      <td>96 158 195 436 518 541 588 642 804 843 978 115...</td>\n    </tr>\n    <tr>\n      <th>2</th>\n      <td>13 169 354 587 803 1241 1472 1586 1605 1638 16...</td>\n    </tr>\n    <tr>\n      <th>3</th>\n      <td>10 91 184 191 546 825 978 1077 1155 1220 1297 ...</td>\n    </tr>\n    <tr>\n      <th>4</th>\n      <td>37 85 119 191 349 390 437 458 671 707 1454 157...</td>\n    </tr>\n    <tr>\n      <th>...</th>\n      <td>...</td>\n    </tr>\n    <tr>\n      <th>345</th>\n      <td>43 150 273 363 797 889 1014 1016 1077 1176 135...</td>\n    </tr>\n    <tr>\n      <th>346</th>\n      <td>34 118 132 150 162 259 347 470 477 479 613 651...</td>\n    </tr>\n    <tr>\n      <th>347</th>\n      <td>84 250 263 616 1220 1289 1314 1384 1440 1442 1...</td>\n    </tr>\n    <tr>\n      <th>348</th>\n      <td>121 136 165 207 232 309 375 412 453 460 521 72...</td>\n    </tr>\n    <tr>\n      <th>349</th>\n      <td>354 382 386 394 548 733 783 1167 1214 1222 122...</td>\n    </tr>\n  </tbody>\n</table>\n<p>350 rows × 1 columns</p>\n</div>"
     },
     "execution_count": 1880,
     "metadata": {},
     "output_type": "execute_result"
    }
   ],
   "source": [
    "table_test"
   ],
   "metadata": {
    "collapsed": false,
    "pycharm": {
     "name": "#%%\n"
    }
   }
  },
  {
   "cell_type": "code",
   "execution_count": 1881,
   "outputs": [],
   "source": [
    "unlabeled_test_sequence = vectorizer.transform(table_test.sequence).toarray()"
   ],
   "metadata": {
    "collapsed": false,
    "pycharm": {
     "name": "#%%\n"
    }
   }
  },
  {
   "cell_type": "code",
   "execution_count": 1882,
   "outputs": [
    {
     "data": {
      "text/plain": "array([[0, 0, 0, ..., 0, 0, 0],\n       [0, 0, 0, ..., 0, 0, 0],\n       [0, 0, 0, ..., 0, 0, 0],\n       ...,\n       [0, 0, 0, ..., 0, 1, 0],\n       [0, 0, 0, ..., 0, 0, 0],\n       [0, 0, 0, ..., 0, 0, 0]])"
     },
     "execution_count": 1882,
     "metadata": {},
     "output_type": "execute_result"
    }
   ],
   "source": [
    "unlabeled_test_sequence"
   ],
   "metadata": {
    "collapsed": false,
    "pycharm": {
     "name": "#%%\n"
    }
   }
  },
  {
   "cell_type": "code",
   "execution_count": 1883,
   "outputs": [],
   "source": [
    "# unlabeled_test_sequence = tokenizer.texts_to_sequences(unlabeled_test_sequence)\n",
    "# padded_unlabeled_test_sequence = pad_sequences(unlabeled_test_sequence, maxlen=max_length)"
   ],
   "metadata": {
    "collapsed": false,
    "pycharm": {
     "name": "#%%\n"
    }
   }
  },
  {
   "cell_type": "code",
   "execution_count": 1884,
   "outputs": [
    {
     "name": "stdout",
     "output_type": "stream",
     "text": [
      "11/11 [==============================] - 0s 11ms/step\n"
     ]
    }
   ],
   "source": [
    "y = model.predict(unlabeled_test_sequence)"
   ],
   "metadata": {
    "collapsed": false,
    "pycharm": {
     "name": "#%%\n"
    }
   }
  },
  {
   "cell_type": "code",
   "execution_count": 1885,
   "outputs": [
    {
     "data": {
      "text/plain": "array([[0.78626114],\n       [0.48406723],\n       [0.48406723],\n       [0.48406723],\n       [0.48406723],\n       [0.48406723],\n       [0.48406723],\n       [0.48656183],\n       [0.5004774 ],\n       [0.54764986],\n       [0.48406723],\n       [0.48406723],\n       [0.48406723],\n       [0.48406723],\n       [0.48406723],\n       [0.5052497 ],\n       [0.48406723],\n       [0.48406723],\n       [0.48406723],\n       [0.48406723],\n       [0.48406723],\n       [0.48406723],\n       [0.48406723],\n       [0.48406723],\n       [0.48406723],\n       [0.75659084],\n       [0.5086178 ],\n       [0.48406723],\n       [0.48406723],\n       [0.48406723],\n       [0.48406723],\n       [0.48406723],\n       [0.48406723],\n       [0.48406723],\n       [0.48406723],\n       [0.5107806 ],\n       [0.48406723],\n       [0.5208573 ],\n       [0.5409728 ],\n       [0.48406723],\n       [0.48406723],\n       [0.48406723],\n       [0.48406723],\n       [0.48406723],\n       [0.48406723],\n       [0.48406723],\n       [0.48406723],\n       [0.48406723],\n       [0.48406723],\n       [0.48406723],\n       [0.6255108 ],\n       [0.48406723],\n       [0.48406723],\n       [0.5617034 ],\n       [0.48406723],\n       [0.8142678 ],\n       [0.48406723],\n       [0.48406723],\n       [0.48406723],\n       [0.48406723],\n       [0.48406723],\n       [0.906012  ],\n       [0.48406723],\n       [0.48406723],\n       [0.48406723],\n       [0.48406723],\n       [0.63921326],\n       [0.48406723],\n       [0.48406723],\n       [0.48406723],\n       [0.48406723],\n       [0.48406723],\n       [0.48406723],\n       [0.48406723],\n       [0.48406723],\n       [0.5037619 ],\n       [0.48406723],\n       [0.48406723],\n       [0.48406723],\n       [0.48406723],\n       [0.48406723],\n       [0.48406723],\n       [0.73729676],\n       [0.6416595 ],\n       [0.48406723],\n       [0.8025384 ],\n       [0.48406723],\n       [0.48406723],\n       [0.48406723],\n       [0.48954344],\n       [0.48406723],\n       [0.48406723],\n       [0.48406723],\n       [0.48406723],\n       [0.48406723],\n       [0.48406723],\n       [0.48406723],\n       [0.48406723],\n       [0.7697503 ],\n       [0.997998  ],\n       [0.48406723],\n       [0.48406723],\n       [0.48406723],\n       [0.48406723],\n       [0.48406723],\n       [0.48406723],\n       [0.48406723],\n       [0.48406723],\n       [0.48406723],\n       [0.48406723],\n       [0.48406723],\n       [0.48406723],\n       [0.48406723],\n       [0.48406723],\n       [0.93478113],\n       [0.48406723],\n       [0.48406723],\n       [0.48406723],\n       [0.50616294],\n       [0.48406723],\n       [0.5256448 ],\n       [0.48406723],\n       [0.48406723],\n       [0.48406723],\n       [0.48406723],\n       [0.4875775 ],\n       [0.48406723],\n       [0.48406723],\n       [0.48406723],\n       [0.48406723],\n       [0.48406723],\n       [0.81212735],\n       [0.48406723],\n       [0.48406723],\n       [0.48406723],\n       [0.48406723],\n       [0.48406723],\n       [0.48406723],\n       [0.48406723],\n       [0.64025766],\n       [0.48406723],\n       [0.48406723],\n       [0.48406723],\n       [0.48406723],\n       [0.48406723],\n       [0.49352404],\n       [0.78179955],\n       [0.48406723],\n       [0.5508669 ],\n       [0.48406723],\n       [0.48406723],\n       [0.48406723],\n       [0.48406723],\n       [0.81295776],\n       [0.48406723],\n       [0.5045172 ],\n       [0.48406723],\n       [0.48406723],\n       [0.48406723],\n       [0.48406723],\n       [0.5397096 ],\n       [0.48406723],\n       [0.7346868 ],\n       [0.48406723],\n       [0.48406723],\n       [0.48406723],\n       [0.48406723],\n       [0.48406723],\n       [0.48406723],\n       [0.48406723],\n       [0.48406723],\n       [0.48502874],\n       [0.48406723],\n       [0.48406723],\n       [0.48406723],\n       [0.48406723],\n       [0.48406723],\n       [0.48406723],\n       [0.48406723],\n       [0.48406723],\n       [0.48406723],\n       [0.48406723],\n       [0.48406723],\n       [0.48406723],\n       [0.48406723],\n       [0.48406723],\n       [0.48406723],\n       [0.48406723],\n       [0.48406723],\n       [0.48406723],\n       [0.48406723],\n       [0.48406723],\n       [0.48406723],\n       [0.48406723],\n       [0.48406723],\n       [0.48406723],\n       [0.48406723],\n       [0.48406723],\n       [0.5168597 ],\n       [0.48406723],\n       [0.6139707 ],\n       [0.48406723],\n       [0.48406723],\n       [0.48406723],\n       [0.48406723],\n       [0.48406723],\n       [0.48406723],\n       [0.48406723],\n       [0.48406723],\n       [0.48406723],\n       [0.48406723],\n       [0.48406723],\n       [0.48406723],\n       [0.48406723],\n       [0.48406723],\n       [0.48406723],\n       [0.48406723],\n       [0.48406723],\n       [0.48406723],\n       [0.48406723],\n       [0.4844962 ],\n       [0.48406723],\n       [0.67269754],\n       [0.48406723],\n       [0.48406723],\n       [0.9707234 ],\n       [0.48406723],\n       [0.48406723],\n       [0.5604461 ],\n       [0.48406723],\n       [0.74600685],\n       [0.48406723],\n       [0.48406723],\n       [0.48406723],\n       [0.48406723],\n       [0.48406723],\n       [0.48406723],\n       [0.48406723],\n       [0.48406723],\n       [0.50031126],\n       [0.48406723],\n       [0.48406723],\n       [0.48406723],\n       [0.48406723],\n       [0.48406723],\n       [0.48406723],\n       [0.48406723],\n       [0.56334525],\n       [0.48406723],\n       [0.48406723],\n       [0.48406723],\n       [0.52270573],\n       [0.48406723],\n       [0.48406723],\n       [0.75105995],\n       [0.48406723],\n       [0.48406723],\n       [0.48406723],\n       [0.6280135 ],\n       [0.48406723],\n       [0.5013462 ],\n       [0.48406723],\n       [0.49185762],\n       [0.48406723],\n       [0.51730037],\n       [0.48406723],\n       [0.48406723],\n       [0.48406723],\n       [0.4881716 ],\n       [0.48406723],\n       [0.48406723],\n       [0.48406723],\n       [0.49852955],\n       [0.48406723],\n       [0.48406723],\n       [0.48406723],\n       [0.48406723],\n       [0.48406723],\n       [0.48406723],\n       [0.48406723],\n       [0.48406723],\n       [0.535876  ],\n       [0.48406723],\n       [0.48406723],\n       [0.50830704],\n       [0.48406723],\n       [0.48406723],\n       [0.48406723],\n       [0.48406723],\n       [0.49664322],\n       [0.48406723],\n       [0.48406723],\n       [0.7290696 ],\n       [0.48406723],\n       [0.48406723],\n       [0.48406723],\n       [0.48406723],\n       [0.48406723],\n       [0.6900825 ],\n       [0.48406723],\n       [0.48406723],\n       [0.48406723],\n       [0.48406723],\n       [0.48406723],\n       [0.48406723],\n       [0.48406723],\n       [0.48406723],\n       [0.49685508],\n       [0.48406723],\n       [0.48406723],\n       [0.48406723],\n       [0.48406723],\n       [0.48406723],\n       [0.48406723],\n       [0.48406723],\n       [0.6644348 ],\n       [0.48406723],\n       [0.48406723],\n       [0.48406723],\n       [0.48406723],\n       [0.48406723],\n       [0.48406723],\n       [0.7018824 ],\n       [0.48406723],\n       [0.48406723],\n       [0.5342927 ],\n       [0.5204011 ],\n       [0.48406723],\n       [0.48406723],\n       [0.48406723],\n       [0.69954306],\n       [0.48406723],\n       [0.48406723],\n       [0.48406723],\n       [0.48406723],\n       [0.48406723],\n       [0.5312272 ],\n       [0.48406723],\n       [0.56167364],\n       [0.48406723],\n       [0.48406723],\n       [0.48406723],\n       [0.48406723],\n       [0.48406723],\n       [0.48406723],\n       [0.48406723],\n       [0.48406723],\n       [0.48406723],\n       [0.7309809 ],\n       [0.5083146 ]], dtype=float32)"
     },
     "execution_count": 1885,
     "metadata": {},
     "output_type": "execute_result"
    }
   ],
   "source": [
    "y"
   ],
   "metadata": {
    "collapsed": false,
    "pycharm": {
     "name": "#%%\n"
    }
   }
  },
  {
   "cell_type": "code",
   "execution_count": 1886,
   "outputs": [],
   "source": [
    "\n",
    "# for i in range(3):\n",
    "z = [1 if i>=.5 else 0 for i in y ]"
   ],
   "metadata": {
    "collapsed": false,
    "pycharm": {
     "name": "#%%\n"
    }
   }
  },
  {
   "cell_type": "code",
   "execution_count": 1887,
   "outputs": [],
   "source": [
    "# from sklearn.metrics import f1_score\n",
    "# print(f1_score(z,test_result))"
   ],
   "metadata": {
    "collapsed": false,
    "pycharm": {
     "name": "#%%\n"
    }
   }
  },
  {
   "cell_type": "code",
   "execution_count": 1888,
   "outputs": [
    {
     "data": {
      "text/plain": "1"
     },
     "execution_count": 1888,
     "metadata": {},
     "output_type": "execute_result"
    }
   ],
   "source": [
    "z[61]"
   ],
   "metadata": {
    "collapsed": false,
    "pycharm": {
     "name": "#%%\n"
    }
   }
  },
  {
   "cell_type": "code",
   "execution_count": 1888,
   "outputs": [],
   "source": [],
   "metadata": {
    "collapsed": false,
    "pycharm": {
     "name": "#%%\n"
    }
   }
  },
  {
   "cell_type": "code",
   "execution_count": 1889,
   "outputs": [
    {
     "data": {
      "text/plain": "350"
     },
     "execution_count": 1889,
     "metadata": {},
     "output_type": "execute_result"
    }
   ],
   "source": [
    "len(z)"
   ],
   "metadata": {
    "collapsed": false,
    "pycharm": {
     "name": "#%%\n"
    }
   }
  },
  {
   "cell_type": "code",
   "execution_count": 1890,
   "outputs": [],
   "source": [
    "import csv\n",
    "outfile = open('./results.csv','w')\n",
    "out = csv.writer(outfile)\n",
    "out.writerows(map(lambda x: [x], z))\n",
    "outfile.close()"
   ],
   "metadata": {
    "collapsed": false,
    "pycharm": {
     "name": "#%%\n"
    }
   }
  },
  {
   "cell_type": "code",
   "execution_count": 1891,
   "outputs": [
    {
     "data": {
      "text/plain": "350"
     },
     "execution_count": 1891,
     "metadata": {},
     "output_type": "execute_result"
    }
   ],
   "source": [
    "len(z)"
   ],
   "metadata": {
    "collapsed": false,
    "pycharm": {
     "name": "#%%\n"
    }
   }
  },
  {
   "cell_type": "code",
   "execution_count": 1738,
   "outputs": [
    {
     "data": {
      "text/plain": "True"
     },
     "execution_count": 1738,
     "metadata": {},
     "output_type": "execute_result"
    }
   ],
   "source": [
    "len(tf.config.list_physical_devices('GPU'))>0"
   ],
   "metadata": {
    "collapsed": false,
    "pycharm": {
     "name": "#%%\n"
    }
   }
  },
  {
   "cell_type": "code",
   "execution_count": 1739,
   "outputs": [
    {
     "data": {
      "text/plain": "'macOS-12.6-arm64-arm-64bit'"
     },
     "execution_count": 1739,
     "metadata": {},
     "output_type": "execute_result"
    }
   ],
   "source": [
    "import platform\n",
    "platform.platform()"
   ],
   "metadata": {
    "collapsed": false,
    "pycharm": {
     "name": "#%%\n"
    }
   }
  },
  {
   "cell_type": "code",
   "execution_count": 1822,
   "outputs": [
    {
     "data": {
      "text/plain": "{'loss': [0.301663875579834,\n  0.035479992628097534,\n  0.019550293684005737,\n  0.01685352809727192,\n  0.015494161285459995,\n  0.01466310489922762,\n  0.014086703769862652,\n  0.013661818578839302,\n  0.01332317665219307,\n  0.013051937334239483,\n  0.012814955785870552,\n  0.012613121420145035,\n  0.012424757704138756,\n  0.012253010645508766,\n  0.012093325145542622,\n  0.011941397562623024,\n  0.011796226724982262,\n  0.011653832159936428,\n  0.011519316583871841,\n  0.011395852081477642,\n  0.011255133897066116,\n  0.011130018159747124,\n  0.011007022112607956,\n  0.010883122682571411,\n  0.010764174163341522,\n  0.010643234476447105,\n  0.010525164194405079,\n  0.010410001501441002,\n  0.010290988720953465,\n  0.010177576914429665,\n  0.010064639151096344,\n  0.009957431815564632,\n  0.00984199345111847,\n  0.009733914397656918,\n  0.0096231484785676,\n  0.009515046142041683,\n  0.00940966047346592,\n  0.009302064776420593,\n  0.009195619262754917,\n  0.00909037422388792],\n 'tp': [435.0,\n  503.0,\n  505.0,\n  505.0,\n  505.0,\n  505.0,\n  505.0,\n  505.0,\n  505.0,\n  505.0,\n  505.0,\n  505.0,\n  505.0,\n  505.0,\n  505.0,\n  505.0,\n  505.0,\n  505.0,\n  505.0,\n  505.0,\n  505.0,\n  505.0,\n  505.0,\n  505.0,\n  505.0,\n  505.0,\n  505.0,\n  505.0,\n  505.0,\n  505.0,\n  505.0,\n  505.0,\n  505.0,\n  505.0,\n  505.0,\n  505.0,\n  505.0,\n  505.0,\n  505.0,\n  505.0],\n 'fp': [10.0,\n  0.0,\n  0.0,\n  0.0,\n  0.0,\n  0.0,\n  0.0,\n  0.0,\n  0.0,\n  0.0,\n  0.0,\n  0.0,\n  0.0,\n  0.0,\n  0.0,\n  0.0,\n  0.0,\n  0.0,\n  0.0,\n  0.0,\n  0.0,\n  0.0,\n  0.0,\n  0.0,\n  0.0,\n  0.0,\n  0.0,\n  0.0,\n  0.0,\n  0.0,\n  0.0,\n  0.0,\n  0.0,\n  0.0,\n  0.0,\n  0.0,\n  0.0,\n  0.0,\n  0.0,\n  0.0],\n 'tn': [495.0,\n  505.0,\n  505.0,\n  505.0,\n  505.0,\n  505.0,\n  505.0,\n  505.0,\n  505.0,\n  505.0,\n  505.0,\n  505.0,\n  505.0,\n  505.0,\n  505.0,\n  505.0,\n  505.0,\n  505.0,\n  505.0,\n  505.0,\n  505.0,\n  505.0,\n  505.0,\n  505.0,\n  505.0,\n  505.0,\n  505.0,\n  505.0,\n  505.0,\n  505.0,\n  505.0,\n  505.0,\n  505.0,\n  505.0,\n  505.0,\n  505.0,\n  505.0,\n  505.0,\n  505.0,\n  505.0],\n 'fn': [70.0,\n  2.0,\n  0.0,\n  0.0,\n  0.0,\n  0.0,\n  0.0,\n  0.0,\n  0.0,\n  0.0,\n  0.0,\n  0.0,\n  0.0,\n  0.0,\n  0.0,\n  0.0,\n  0.0,\n  0.0,\n  0.0,\n  0.0,\n  0.0,\n  0.0,\n  0.0,\n  0.0,\n  0.0,\n  0.0,\n  0.0,\n  0.0,\n  0.0,\n  0.0,\n  0.0,\n  0.0,\n  0.0,\n  0.0,\n  0.0,\n  0.0,\n  0.0,\n  0.0,\n  0.0,\n  0.0],\n 'accuracy': [0.9207921028137207,\n  0.998019814491272,\n  1.0,\n  1.0,\n  1.0,\n  1.0,\n  1.0,\n  1.0,\n  1.0,\n  1.0,\n  1.0,\n  1.0,\n  1.0,\n  1.0,\n  1.0,\n  1.0,\n  1.0,\n  1.0,\n  1.0,\n  1.0,\n  1.0,\n  1.0,\n  1.0,\n  1.0,\n  1.0,\n  1.0,\n  1.0,\n  1.0,\n  1.0,\n  1.0,\n  1.0,\n  1.0,\n  1.0,\n  1.0,\n  1.0,\n  1.0,\n  1.0,\n  1.0,\n  1.0,\n  1.0],\n 'precision': [0.9775280952453613,\n  1.0000001192092896,\n  1.0,\n  1.0,\n  1.0,\n  1.0,\n  1.0,\n  1.0,\n  1.0,\n  1.0,\n  1.0,\n  1.0,\n  1.0,\n  1.0,\n  1.0,\n  1.0,\n  1.0,\n  1.0,\n  1.0,\n  1.0,\n  1.0,\n  1.0,\n  1.0,\n  1.0,\n  1.0,\n  1.0,\n  1.0,\n  1.0,\n  1.0,\n  1.0,\n  1.0,\n  1.0,\n  1.0,\n  1.0,\n  1.0,\n  1.0,\n  1.0,\n  1.0,\n  1.0,\n  1.0],\n 'recall': [0.8613861799240112,\n  0.996039628982544,\n  1.0,\n  1.0,\n  1.0,\n  1.0,\n  1.0,\n  1.0,\n  1.0,\n  1.0,\n  1.0,\n  1.0,\n  1.0,\n  1.0,\n  1.0,\n  1.0,\n  1.0,\n  1.0,\n  1.0,\n  1.0,\n  1.0,\n  1.0,\n  1.0,\n  1.0,\n  1.0,\n  1.0,\n  1.0,\n  1.0,\n  1.0,\n  1.0,\n  1.0,\n  1.0,\n  1.0,\n  1.0,\n  1.0,\n  1.0,\n  1.0,\n  1.0,\n  1.0,\n  1.0],\n 'auc': [0.983542799949646,\n  0.9999998807907104,\n  1.0,\n  0.9999999403953552,\n  1.0,\n  1.0,\n  1.0,\n  1.0,\n  1.0,\n  1.0,\n  1.0,\n  1.0,\n  1.0,\n  1.0,\n  1.0,\n  1.0,\n  1.0,\n  1.0,\n  1.0,\n  1.0,\n  1.0,\n  1.0,\n  1.0,\n  1.0,\n  1.0,\n  1.0,\n  1.0,\n  1.0,\n  1.0,\n  1.0,\n  1.0,\n  1.0,\n  1.0,\n  1.0,\n  1.0,\n  1.0,\n  1.0,\n  1.0,\n  1.0,\n  1.0],\n 'prc': [0.9847155809402466,\n  1.0,\n  1.0,\n  1.0,\n  1.0,\n  1.0,\n  1.0000001192092896,\n  1.0,\n  1.0,\n  1.0,\n  1.0,\n  1.0,\n  1.0,\n  1.0,\n  1.0,\n  1.0,\n  1.0,\n  1.0,\n  1.0,\n  1.0,\n  1.0,\n  1.0,\n  1.0,\n  1.0,\n  1.0,\n  1.0,\n  1.0,\n  1.0,\n  1.0,\n  1.0,\n  1.0,\n  1.0,\n  1.0,\n  1.0,\n  1.0,\n  1.0,\n  1.0,\n  1.0,\n  1.0,\n  1.0],\n 'val_loss': [0.08180750161409378,\n  0.047503452748060226,\n  0.04277282953262329,\n  0.040915437042713165,\n  0.0401444137096405,\n  0.03971250727772713,\n  0.03951651602983475,\n  0.0394800640642643,\n  0.03946968540549278,\n  0.03955896571278572,\n  0.039643459022045135,\n  0.039732228964567184,\n  0.03985479101538658,\n  0.039983924478292465,\n  0.0401129312813282,\n  0.040231265127658844,\n  0.04034852236509323,\n  0.0404648631811142,\n  0.04059005156159401,\n  0.04068615287542343,\n  0.040806736797094345,\n  0.04090563952922821,\n  0.041023898869752884,\n  0.041124433279037476,\n  0.041207026690244675,\n  0.04129805415868759,\n  0.04138784855604172,\n  0.041474517434835434,\n  0.041555896401405334,\n  0.04164082556962967,\n  0.04172771796584129,\n  0.04179573059082031,\n  0.04187639802694321,\n  0.041930269449949265,\n  0.041998229920864105,\n  0.042068496346473694,\n  0.042124081403017044,\n  0.0421903170645237,\n  0.04225403070449829,\n  0.04230443760752678],\n 'val_tp': [212.0,\n  215.0,\n  215.0,\n  215.0,\n  215.0,\n  215.0,\n  215.0,\n  215.0,\n  215.0,\n  215.0,\n  215.0,\n  215.0,\n  215.0,\n  215.0,\n  215.0,\n  215.0,\n  215.0,\n  215.0,\n  215.0,\n  215.0,\n  215.0,\n  215.0,\n  215.0,\n  215.0,\n  215.0,\n  215.0,\n  215.0,\n  215.0,\n  215.0,\n  215.0,\n  215.0,\n  215.0,\n  215.0,\n  215.0,\n  215.0,\n  215.0,\n  215.0,\n  215.0,\n  215.0,\n  215.0],\n 'val_fp': [1.0,\n  1.0,\n  1.0,\n  1.0,\n  1.0,\n  1.0,\n  1.0,\n  1.0,\n  1.0,\n  0.0,\n  0.0,\n  0.0,\n  0.0,\n  0.0,\n  0.0,\n  0.0,\n  0.0,\n  0.0,\n  0.0,\n  0.0,\n  0.0,\n  0.0,\n  0.0,\n  0.0,\n  0.0,\n  0.0,\n  0.0,\n  0.0,\n  0.0,\n  0.0,\n  0.0,\n  0.0,\n  0.0,\n  0.0,\n  0.0,\n  0.0,\n  0.0,\n  0.0,\n  0.0,\n  0.0],\n 'val_tn': [216.0,\n  216.0,\n  216.0,\n  216.0,\n  216.0,\n  216.0,\n  216.0,\n  216.0,\n  216.0,\n  217.0,\n  217.0,\n  217.0,\n  217.0,\n  217.0,\n  217.0,\n  217.0,\n  217.0,\n  217.0,\n  217.0,\n  217.0,\n  217.0,\n  217.0,\n  217.0,\n  217.0,\n  217.0,\n  217.0,\n  217.0,\n  217.0,\n  217.0,\n  217.0,\n  217.0,\n  217.0,\n  217.0,\n  217.0,\n  217.0,\n  217.0,\n  217.0,\n  217.0,\n  217.0,\n  217.0],\n 'val_fn': [5.0,\n  2.0,\n  2.0,\n  2.0,\n  2.0,\n  2.0,\n  2.0,\n  2.0,\n  2.0,\n  2.0,\n  2.0,\n  2.0,\n  2.0,\n  2.0,\n  2.0,\n  2.0,\n  2.0,\n  2.0,\n  2.0,\n  2.0,\n  2.0,\n  2.0,\n  2.0,\n  2.0,\n  2.0,\n  2.0,\n  2.0,\n  2.0,\n  2.0,\n  2.0,\n  2.0,\n  2.0,\n  2.0,\n  2.0,\n  2.0,\n  2.0,\n  2.0,\n  2.0,\n  2.0,\n  2.0],\n 'val_accuracy': [0.9861751198768616,\n  0.9930875301361084,\n  0.9930875301361084,\n  0.9930875301361084,\n  0.9930875301361084,\n  0.9930875301361084,\n  0.9930875301361084,\n  0.9930875301361084,\n  0.9930875301361084,\n  0.9953917264938354,\n  0.9953917264938354,\n  0.9953917264938354,\n  0.9953917264938354,\n  0.9953917264938354,\n  0.9953917264938354,\n  0.9953917264938354,\n  0.9953917264938354,\n  0.9953917264938354,\n  0.9953917264938354,\n  0.9953917264938354,\n  0.9953917264938354,\n  0.9953917264938354,\n  0.9953917264938354,\n  0.9953917264938354,\n  0.9953917264938354,\n  0.9953917264938354,\n  0.9953917264938354,\n  0.9953917264938354,\n  0.9953917264938354,\n  0.9953917264938354,\n  0.9953917264938354,\n  0.9953917264938354,\n  0.9953917264938354,\n  0.9953917264938354,\n  0.9953917264938354,\n  0.9953917264938354,\n  0.9953917264938354,\n  0.9953917264938354,\n  0.9953917264938354,\n  0.9953917264938354],\n 'val_precision': [0.9953051805496216,\n  0.9953703880310059,\n  0.9953703880310059,\n  0.9953703880310059,\n  0.9953703880310059,\n  0.9953703880310059,\n  0.9953703880310059,\n  0.9953703880310059,\n  0.9953703880310059,\n  1.0,\n  1.0,\n  1.0,\n  1.0,\n  1.0,\n  1.0,\n  1.0,\n  1.0,\n  1.0,\n  1.0,\n  1.0,\n  1.0,\n  1.0,\n  1.0,\n  1.0,\n  1.0,\n  1.0,\n  1.0,\n  1.0,\n  1.0,\n  1.0,\n  1.0,\n  1.0,\n  1.0,\n  1.0,\n  1.0,\n  1.0,\n  1.0,\n  1.0,\n  1.0,\n  1.0],\n 'val_recall': [0.9769585132598877,\n  0.9907833933830261,\n  0.9907833933830261,\n  0.9907833933830261,\n  0.9907833933830261,\n  0.9907833933830261,\n  0.9907833933830261,\n  0.9907833933830261,\n  0.9907833933830261,\n  0.9907833933830261,\n  0.9907833933830261,\n  0.9907833933830261,\n  0.9907833933830261,\n  0.9907833933830261,\n  0.9907833933830261,\n  0.9907833933830261,\n  0.9907833933830261,\n  0.9907833933830261,\n  0.9907833933830261,\n  0.9907833933830261,\n  0.9907833933830261,\n  0.9907833933830261,\n  0.9907833933830261,\n  0.9907833933830261,\n  0.9907833933830261,\n  0.9907833933830261,\n  0.9907833933830261,\n  0.9907833933830261,\n  0.9907833933830261,\n  0.9907833933830261,\n  0.9907833933830261,\n  0.9907833933830261,\n  0.9907833933830261,\n  0.9907833933830261,\n  0.9907833933830261,\n  0.9907833933830261,\n  0.9907833933830261,\n  0.9907833933830261,\n  0.9907833933830261,\n  0.9907833933830261],\n 'val_auc': [0.9980887770652771,\n  0.997494101524353,\n  0.9980462789535522,\n  0.9966234564781189,\n  0.9973880052566528,\n  0.9978551268577576,\n  0.9981949329376221,\n  0.9943086504936218,\n  0.9944997429847717,\n  0.994606077671051,\n  0.9947333931922913,\n  0.9947971105575562,\n  0.9948183298110962,\n  0.9949033260345459,\n  0.9949244856834412,\n  0.9949244856834412,\n  0.994988203048706,\n  0.9950944781303406,\n  0.9951156973838806,\n  0.9951580762863159,\n  0.9951793551445007,\n  0.9952217936515808,\n  0.9952217936515808,\n  0.9952431321144104,\n  0.9952431321144104,\n  0.9952855706214905,\n  0.9952855706214905,\n  0.9952855706214905,\n  0.9953068494796753,\n  0.9953068494796753,\n  0.9953068494796753,\n  0.9953068494796753,\n  0.9953067898750305,\n  0.9953067898750305,\n  0.9953067898750305,\n  0.9953067898750305,\n  0.9953067898750305,\n  0.9953067898750305,\n  0.9953067898750305,\n  0.9953067898750305],\n 'val_prc': [0.9983404874801636,\n  0.9979815483093262,\n  0.9983479976654053,\n  0.9974850416183472,\n  0.9979275465011597,\n  0.9982261657714844,\n  0.9984567165374756,\n  0.9965823292732239,\n  0.9966742992401123,\n  0.9967272877693176,\n  0.9967925548553467,\n  0.9968259334564209,\n  0.9968371987342834,\n  0.9968827962875366,\n  0.996894359588623,\n  0.996894359588623,\n  0.9969293475151062,\n  0.9969890117645264,\n  0.9970011711120605,\n  0.9970256090164185,\n  0.997037947177887,\n  0.9970628023147583,\n  0.9970628023147583,\n  0.9970753788948059,\n  0.9970753788948059,\n  0.9971006512641907,\n  0.9971006512641907,\n  0.9971006512641907,\n  0.9971134066581726,\n  0.9971134066581726,\n  0.9971134066581726,\n  0.9971134066581726,\n  0.9971134066581726,\n  0.9971134066581726,\n  0.9971134066581726,\n  0.9971134066581726,\n  0.9971134066581726,\n  0.9971134066581726,\n  0.9971134066581726,\n  0.9971134066581726]}"
     },
     "execution_count": 1822,
     "metadata": {},
     "output_type": "execute_result"
    }
   ],
   "source": [
    "history.history"
   ],
   "metadata": {
    "collapsed": false,
    "pycharm": {
     "name": "#%%\n"
    }
   }
  },
  {
   "cell_type": "code",
   "execution_count": 1904,
   "outputs": [
    {
     "data": {
      "text/plain": "<Figure size 640x480 with 1 Axes>",
      "image/png": "[encoded data removed]"
     },
     "metadata": {},
     "output_type": "display_data"
    }
   ],
   "source": [
    "testloss = np.array(history.history['val_loss']).reshape(len(history.history['val_loss']),1)\n",
    "trainloss = np.array(history.history['loss']).reshape(len(history.history['loss']),1)\n",
    "plt.plot(trainloss,'--')\n",
    "plt.plot(testloss,'-')\n",
    "plt.ylabel('loss')\n",
    "plt.xlabel('epoch')\n",
    "# plt.legend(['train', 'val'], loc='upper left')\n",
    "plt.show()"
   ],
   "metadata": {
    "collapsed": false,
    "pycharm": {
     "name": "#%%\n"
    }
   }
  },
  {
   "cell_type": "code",
   "execution_count": 1905,
   "outputs": [
    {
     "data": {
      "text/plain": "<Figure size 640x480 with 1 Axes>",
      "image/png": "[encoded data removed]"
     },
     "metadata": {},
     "output_type": "display_data"
    }
   ],
   "source": [
    "ptest = np.array(history.history['precision']).reshape(len(history.history['loss']),1)\n",
    "ptrain= np.array(history.history['recall']).reshape(len(history.history['loss']),1)\n",
    "j = 2 * ptrain * ptest / (ptrain+ptest)\n",
    "\n",
    "ptest = np.array(history.history['val_precision']).reshape(len(history.history['loss']),1)\n",
    "ptrain= np.array(history.history['val_recall']).reshape(len(history.history['loss']),1)\n",
    "k = 2 * ptrain * ptest / (ptrain+ptest)\n",
    "plt.plot(j, '--')\n",
    "plt.plot(k,'-')\n",
    "plt.ylabel('f1')\n",
    "plt.xlabel('epoch')\n",
    "# plt.legend(['train', 'val'], loc='upper left')\n",
    "plt.show()"
   ],
   "metadata": {
    "collapsed": false,
    "pycharm": {
     "name": "#%%\n"
    }
   }
  },
  {
   "cell_type": "code",
   "execution_count": null,
   "outputs": [],
   "source": [],
   "metadata": {
    "collapsed": false,
    "pycharm": {
     "name": "#%%\n"
    }
   }
  }
 ],
 "metadata": {
  "kernelspec": {
   "display_name": "Python 3",
   "language": "python",
   "name": "python3"
  },
  "language_info": {
   "codemirror_mode": {
    "name": "ipython",
    "version": 2
   },
   "file_extension": ".py",
   "mimetype": "text/x-python",
   "name": "python",
   "nbconvert_exporter": "python",
   "pygments_lexer": "ipython2",
   "version": "2.7.6"
  }
 },
 "nbformat": 4,
 "nbformat_minor": 0
}