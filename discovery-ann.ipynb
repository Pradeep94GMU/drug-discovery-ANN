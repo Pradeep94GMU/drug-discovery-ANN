{
 "cells": [
  {
   "cell_type": "code",
   "execution_count": 107,
   "metadata": {
    "collapsed": true,
    "pycharm": {
     "name": "#%%\n"
    }
   },
   "outputs": [],
   "source": [
    "import tensorflow as tf\n",
    "import pandas as pd\n",
    "import numpy as np\n",
    "import matplotlib.pyplot as plt\n",
    "import imblearn"
   ]
  },
  {
   "cell_type": "code",
   "execution_count": 108,
   "outputs": [
    {
     "name": "stdout",
     "output_type": "stream",
     "text": [
      "2.10.0\n"
     ]
    }
   ],
   "source": [
    "print(tf.__version__)"
   ],
   "metadata": {
    "collapsed": false,
    "pycharm": {
     "name": "#%%\n"
    }
   }
  },
  {
   "cell_type": "code",
   "execution_count": 109,
   "outputs": [],
   "source": [
    "table = pd.read_table('../drug-discovery/1663769555_8559356_train.txt', names=['binding','sequence'])"
   ],
   "metadata": {
    "collapsed": false,
    "pycharm": {
     "name": "#%%\n"
    }
   }
  },
  {
   "cell_type": "code",
   "execution_count": 110,
   "outputs": [],
   "source": [
    "from sklearn.feature_extraction.text import CountVectorizer\n",
    "def return_binary_vectorized_form(data_frame):\n",
    "    count_vectorizer = CountVectorizer(binary=True)\n",
    "    fitted_and_transformed = count_vectorizer.fit_transform(data_frame).toarray()\n",
    "    return count_vectorizer,  fitted_and_transformed\n"
   ],
   "metadata": {
    "collapsed": false,
    "pycharm": {
     "name": "#%%\n"
    }
   }
  },
  {
   "cell_type": "code",
   "execution_count": 111,
   "outputs": [],
   "source": [
    "from sklearn.feature_extraction.text import CountVectorizer\n",
    "def return_binary_vectorized_form_with_vocab(data_frame, vocab):\n",
    "    count_vectorizer = CountVectorizer(binary=True, vocabulary=vocab)\n",
    "    fitted_and_transformed = count_vectorizer.fit_transform(data_frame).toarray()\n",
    "    return count_vectorizer,  fitted_and_transformed"
   ],
   "metadata": {
    "collapsed": false,
    "pycharm": {
     "name": "#%%\n"
    }
   }
  },
  {
   "cell_type": "code",
   "execution_count": 112,
   "outputs": [],
   "source": [
    "from sklearn.feature_selection import SelectKBest, chi2\n",
    "def select_k_best_features(feature_set, target_values, fraction, feature_list):\n",
    "    select_bestselect_best = SelectKBest(score_func=chi2, k = int(len(feature_list)*fraction))\n",
    "    select_bestselect_best.fit(feature_set,target_values)\n",
    "    mask = select_bestselect_best.get_support()\n",
    "    k_best_featurs = feature_list[mask]\n",
    "    return k_best_featurs"
   ],
   "metadata": {
    "collapsed": false,
    "pycharm": {
     "name": "#%%\n"
    }
   }
  },
  {
   "cell_type": "code",
   "execution_count": 113,
   "outputs": [],
   "source": [
    "from sklearn.model_selection import train_test_split\n",
    "active_df = table.loc[table.binding == 1]\n",
    "not_active_df = table.loc[table.binding == 0]\n",
    "active_train, active_test, active_binding_train, active_binding_test = train_test_split(active_df.sequence, active_df.binding, shuffle=True, train_size= .20)\n",
    "not_active_train, not_active_test, not_active_binding_train, not_active_binding_test = train_test_split(not_active_df.sequence, not_active_df.binding, shuffle=True, train_size=.70)"
   ],
   "metadata": {
    "collapsed": false,
    "pycharm": {
     "name": "#%%\n"
    }
   }
  },
  {
   "cell_type": "markdown",
   "source": [],
   "metadata": {
    "collapsed": false,
    "pycharm": {
     "name": "#%% md\n"
    }
   }
  },
  {
   "cell_type": "code",
   "execution_count": 114,
   "outputs": [],
   "source": [
    "active_train_df = pd.DataFrame(active_train)\n",
    "active_test_df = pd.DataFrame(active_test)\n",
    "active_binding_train_df = pd.DataFrame(active_binding_train)\n",
    "active_binding_test_df = pd.DataFrame(active_binding_test)\n",
    "\n",
    "active_train_df['binding'] = active_binding_train_df['binding']\n",
    "active_test_df['binding'] = active_binding_test_df['binding']"
   ],
   "metadata": {
    "collapsed": false,
    "pycharm": {
     "name": "#%%\n"
    }
   }
  },
  {
   "cell_type": "code",
   "execution_count": 115,
   "outputs": [],
   "source": [
    "not_active_train_df = pd.DataFrame(not_active_train)\n",
    "not_active_test_df = pd.DataFrame(not_active_test)\n",
    "not_active_binding_train_df = pd.DataFrame(not_active_binding_train)\n",
    "not_active_binding_test_df = pd.DataFrame(not_active_binding_test)\n",
    "\n",
    "not_active_train_df['binding'] = not_active_binding_train_df['binding']\n",
    "not_active_test_df['binding'] = not_active_binding_test_df['binding']"
   ],
   "metadata": {
    "collapsed": false,
    "pycharm": {
     "name": "#%%\n"
    }
   }
  },
  {
   "cell_type": "code",
   "execution_count": 116,
   "outputs": [
    {
     "name": "stdout",
     "output_type": "stream",
     "text": [
      "0    505\n",
      "1     15\n",
      "Name: binding, dtype: int64\n",
      "0    217\n",
      "1     63\n",
      "Name: binding, dtype: int64\n"
     ]
    }
   ],
   "source": [
    "train_df = pd.concat([active_train_df,not_active_train_df]).reset_index()\n",
    "train_df = train_df.drop('index',axis=1)\n",
    "print(train_df.binding.value_counts())\n",
    "\n",
    "test_df = pd.concat([active_test_df,not_active_test_df]).reset_index()\n",
    "test_df = test_df.drop('index',axis=1)\n",
    "print(test_df.binding.value_counts())"
   ],
   "metadata": {
    "collapsed": false,
    "pycharm": {
     "name": "#%%\n"
    }
   }
  },
  {
   "cell_type": "code",
   "execution_count": 117,
   "outputs": [],
   "source": [
    "from imblearn.over_sampling import RandomOverSampler\n",
    "sampler = RandomOverSampler()\n",
    "x_sampled, y_sampled = sampler.fit_resample(np.array(table.sequence).reshape(-1,1),table.binding)\n",
    "# sampler = RandomOverSampler(sampling_strategy=.65)\n",
    "# x_test_sampled, y_test_sampled = sampler.fit_resample(np.array(test_df.sequence).reshape(-1,1),test_df.binding)"
   ],
   "metadata": {
    "collapsed": false,
    "pycharm": {
     "name": "#%%\n"
    }
   }
  },
  {
   "cell_type": "code",
   "execution_count": 118,
   "outputs": [
    {
     "name": "stdout",
     "output_type": "stream",
     "text": [
      "0    722\n",
      "1    722\n",
      "Name: binding, dtype: int64\n",
      "0    217\n",
      "1     63\n",
      "Name: binding, dtype: int64\n"
     ]
    }
   ],
   "source": [
    "final_train_set = pd.DataFrame(x_sampled, columns  =[\"sequence\"])\n",
    "final_train_set['binding'] = y_sampled\n",
    "print(final_train_set.binding.value_counts())\n",
    "\n",
    "final_test_set = pd.DataFrame(test_df.sequence, columns  =[\"sequence\"])\n",
    "final_test_set['binding'] = test_df.binding\n",
    "print(final_test_set.binding.value_counts())"
   ],
   "metadata": {
    "collapsed": false,
    "pycharm": {
     "name": "#%%\n"
    }
   }
  },
  {
   "cell_type": "code",
   "execution_count": 119,
   "outputs": [],
   "source": [
    "vectorizer_global, training_features = return_binary_vectorized_form(final_train_set.sequence)\n",
    "k_best_feature = select_k_best_features(training_features, final_train_set.binding,1, vectorizer_global.get_feature_names_out())\n",
    "vectorizer_k_best, training_split = return_binary_vectorized_form_with_vocab(final_train_set.sequence,k_best_feature)\n",
    "test_split = vectorizer_k_best.transform(final_test_set.sequence).toarray()"
   ],
   "metadata": {
    "collapsed": false,
    "pycharm": {
     "name": "#%%\n"
    }
   }
  },
  {
   "cell_type": "code",
   "execution_count": 120,
   "outputs": [
    {
     "name": "stdout",
     "output_type": "stream",
     "text": [
      "(1444, 84482)\n",
      "(280, 84482)\n"
     ]
    }
   ],
   "source": [
    "print(training_split.shape)\n",
    "print(test_split.shape)"
   ],
   "metadata": {
    "collapsed": false,
    "pycharm": {
     "name": "#%%\n"
    }
   }
  },
  {
   "cell_type": "code",
   "execution_count": 121,
   "outputs": [],
   "source": [
    "train_result = np.array(final_train_set.binding)\n",
    "test_result = np.array(final_test_set.binding)\n",
    "# print(train_result.shape)\n",
    "# print(test_result.shape)\n"
   ],
   "metadata": {
    "collapsed": false,
    "pycharm": {
     "name": "#%%\n"
    }
   }
  },
  {
   "cell_type": "code",
   "execution_count": 122,
   "outputs": [],
   "source": [
    "# from sklearn.decomposition import KernelPCA\n",
    "# pca = KernelPCA()\n",
    "# training_split = pca.fit_transform(training_split)\n",
    "# test_split = pca.transform(test_split)"
   ],
   "metadata": {
    "collapsed": false,
    "pycharm": {
     "name": "#%%\n"
    }
   }
  },
  {
   "cell_type": "code",
   "execution_count": 123,
   "outputs": [
    {
     "data": {
      "text/plain": "array([[0, 0, 0, ..., 0, 0, 0],\n       [0, 0, 0, ..., 0, 0, 0],\n       [0, 0, 0, ..., 0, 0, 0],\n       ...,\n       [0, 0, 0, ..., 0, 0, 0],\n       [0, 0, 0, ..., 0, 0, 0],\n       [0, 0, 0, ..., 0, 0, 0]])"
     },
     "execution_count": 123,
     "metadata": {},
     "output_type": "execute_result"
    }
   ],
   "source": [
    "training_split"
   ],
   "metadata": {
    "collapsed": false,
    "pycharm": {
     "name": "#%%\n"
    }
   }
  },
  {
   "cell_type": "code",
   "execution_count": 128,
   "outputs": [],
   "source": [
    "class EarlyStoppingMonitor(tf.keras.callbacks.Callback):\n",
    "    def __init__(self):\n",
    "        super(EarlyStoppingMonitor, self).__init__()\n",
    "        self.f1_train = None\n",
    "        self.f1_test = None\n",
    "        self.count =0\n",
    "\n",
    "    def on_epoch_end(self, epoch, logs=None):\n",
    "        current_train_precision = logs.get('precision')\n",
    "        current_train_recall= logs.get('recall')\n",
    "        current_test_precision = logs.get('val_precision')\n",
    "        current_test_recall= logs.get('val_recall')\n",
    "        if current_train_precision==0 or current_train_recall==0 or current_test_precision==0 or current_test_recall==0:\n",
    "            print(\"** Waring: precision reacall zero avoid exception **\")\n",
    "            return\n",
    "        self.f1_train = (2*current_train_precision*current_train_recall) / (current_train_precision+current_train_recall)\n",
    "        self.f1_test = (2*current_test_precision*current_test_recall) / (current_test_precision+current_test_recall)\n",
    "        if abs(self.f1_train-self.f1_test) < .01 and 1>self.f1_test>.98:\n",
    "            # self.count += 1\n",
    "            # if self.count >4:\n",
    "            self.model.stop_training = True\n",
    "            print('Stoping on set citeria')\n",
    "            print('f1 training: ', self.f1_train)\n",
    "            print('f1 testing: ' , self.f1_test)\n",
    "\n",
    "    def on_train_end(self, logs=None):\n",
    "        if self.model.stop_training:\n",
    "            print(\"Early stopping\")\n"
   ],
   "metadata": {
    "collapsed": false,
    "pycharm": {
     "name": "#%%\n"
    }
   }
  },
  {
   "cell_type": "code",
   "execution_count": 129,
   "outputs": [],
   "source": [
    "model = tf.keras.Sequential([\n",
    "    tf.keras.Input(shape=(training_split.shape[-1],)),\n",
    "    tf.keras.layers.Dense(26,activation='relu',kernel_regularizer=tf.keras.regularizers.L1(.015)),\n",
    "    tf.keras.layers.Dense(26,activation='relu',kernel_regularizer=tf.keras.regularizers.L1(.015)),\n",
    "    tf.keras.layers.Dense(1, activation='sigmoid')\n",
    "])"
   ],
   "metadata": {
    "collapsed": false,
    "pycharm": {
     "name": "#%%\n"
    }
   }
  },
  {
   "cell_type": "code",
   "execution_count": 130,
   "outputs": [],
   "source": [
    "METRICS = [\n",
    "      tf.keras.metrics.TruePositives(name='tp'),\n",
    "      tf.keras.metrics.FalsePositives(name='fp'),\n",
    "      tf.keras.metrics.TrueNegatives(name='tn'),\n",
    "      tf.keras.metrics.FalseNegatives(name='fn'),\n",
    "      tf.keras.metrics.Precision(name='precision'),\n",
    "      tf.keras.metrics.Recall(name='recall')\n",
    "]\n",
    "model.compile(loss=tf.keras.losses.BinaryFocalCrossentropy(), metrics=METRICS, optimizer='adam')"
   ],
   "metadata": {
    "collapsed": false,
    "pycharm": {
     "name": "#%%\n"
    }
   }
  },
  {
   "cell_type": "code",
   "execution_count": 131,
   "outputs": [
    {
     "name": "stdout",
     "output_type": "stream",
     "text": [
      "Epoch 1/120\n"
     ]
    },
    {
     "name": "stderr",
     "output_type": "stream",
     "text": [
      "2022-10-08 14:51:10.144620: I tensorflow/core/grappler/optimizers/custom_graph_optimizer_registry.cc:114] Plugin optimizer for device_type GPU is enabled.\n"
     ]
    },
    {
     "name": "stdout",
     "output_type": "stream",
     "text": [
      "21/21 [==============================] - ETA: 0s - loss: 40.8867 - tp: 478.0000 - fp: 63.0000 - tn: 659.0000 - fn: 244.0000 - precision: 0.8835 - recall: 0.6620"
     ]
    },
    {
     "name": "stderr",
     "output_type": "stream",
     "text": [
      "2022-10-08 14:51:11.710191: I tensorflow/core/grappler/optimizers/custom_graph_optimizer_registry.cc:114] Plugin optimizer for device_type GPU is enabled.\n"
     ]
    },
    {
     "name": "stdout",
     "output_type": "stream",
     "text": [
      "21/21 [==============================] - 2s 76ms/step - loss: 40.8867 - tp: 478.0000 - fp: 63.0000 - tn: 659.0000 - fn: 244.0000 - precision: 0.8835 - recall: 0.6620 - val_loss: 15.5024 - val_tp: 46.0000 - val_fp: 1.0000 - val_tn: 216.0000 - val_fn: 17.0000 - val_precision: 0.9787 - val_recall: 0.7302\n",
      "Epoch 2/120\n",
      "21/21 [==============================] - 1s 52ms/step - loss: 10.0221 - tp: 539.0000 - fp: 12.0000 - tn: 710.0000 - fn: 183.0000 - precision: 0.9782 - recall: 0.7465 - val_loss: 6.9910 - val_tp: 42.0000 - val_fp: 4.0000 - val_tn: 213.0000 - val_fn: 21.0000 - val_precision: 0.9130 - val_recall: 0.6667\n",
      "Epoch 3/120\n",
      "21/21 [==============================] - 1s 49ms/step - loss: 6.1991 - tp: 468.0000 - fp: 15.0000 - tn: 707.0000 - fn: 254.0000 - precision: 0.9689 - recall: 0.6482 - val_loss: 5.6573 - val_tp: 48.0000 - val_fp: 6.0000 - val_tn: 211.0000 - val_fn: 15.0000 - val_precision: 0.8889 - val_recall: 0.7619\n",
      "Epoch 4/120\n",
      "21/21 [==============================] - 1s 48ms/step - loss: 5.4553 - tp: 491.0000 - fp: 15.0000 - tn: 707.0000 - fn: 231.0000 - precision: 0.9704 - recall: 0.6801 - val_loss: 5.2841 - val_tp: 46.0000 - val_fp: 5.0000 - val_tn: 212.0000 - val_fn: 17.0000 - val_precision: 0.9020 - val_recall: 0.7302\n",
      "Epoch 5/120\n",
      "21/21 [==============================] - 1s 48ms/step - loss: 5.1642 - tp: 472.0000 - fp: 15.0000 - tn: 707.0000 - fn: 250.0000 - precision: 0.9692 - recall: 0.6537 - val_loss: 5.0419 - val_tp: 45.0000 - val_fp: 5.0000 - val_tn: 212.0000 - val_fn: 18.0000 - val_precision: 0.9000 - val_recall: 0.7143\n",
      "Epoch 6/120\n",
      "21/21 [==============================] - 1s 47ms/step - loss: 4.9619 - tp: 493.0000 - fp: 18.0000 - tn: 704.0000 - fn: 229.0000 - precision: 0.9648 - recall: 0.6828 - val_loss: 4.8708 - val_tp: 50.0000 - val_fp: 6.0000 - val_tn: 211.0000 - val_fn: 13.0000 - val_precision: 0.8929 - val_recall: 0.7937\n",
      "Epoch 7/120\n",
      "21/21 [==============================] - 1s 47ms/step - loss: 4.7928 - tp: 480.0000 - fp: 18.0000 - tn: 704.0000 - fn: 242.0000 - precision: 0.9639 - recall: 0.6648 - val_loss: 4.7048 - val_tp: 43.0000 - val_fp: 5.0000 - val_tn: 212.0000 - val_fn: 20.0000 - val_precision: 0.8958 - val_recall: 0.6825\n",
      "Epoch 8/120\n",
      "21/21 [==============================] - 1s 47ms/step - loss: 4.6443 - tp: 456.0000 - fp: 18.0000 - tn: 704.0000 - fn: 266.0000 - precision: 0.9620 - recall: 0.6316 - val_loss: 4.5709 - val_tp: 45.0000 - val_fp: 6.0000 - val_tn: 211.0000 - val_fn: 18.0000 - val_precision: 0.8824 - val_recall: 0.7143\n",
      "Epoch 9/120\n",
      "21/21 [==============================] - 1s 47ms/step - loss: 4.5067 - tp: 483.0000 - fp: 21.0000 - tn: 701.0000 - fn: 239.0000 - precision: 0.9583 - recall: 0.6690 - val_loss: 4.4275 - val_tp: 42.0000 - val_fp: 6.0000 - val_tn: 211.0000 - val_fn: 21.0000 - val_precision: 0.8750 - val_recall: 0.6667\n",
      "Epoch 10/120\n",
      "21/21 [==============================] - 1s 48ms/step - loss: 4.3740 - tp: 448.0000 - fp: 18.0000 - tn: 704.0000 - fn: 274.0000 - precision: 0.9614 - recall: 0.6205 - val_loss: 4.3110 - val_tp: 41.0000 - val_fp: 6.0000 - val_tn: 211.0000 - val_fn: 22.0000 - val_precision: 0.8723 - val_recall: 0.6508\n",
      "Epoch 11/120\n",
      "21/21 [==============================] - 1s 49ms/step - loss: 4.2386 - tp: 453.0000 - fp: 20.0000 - tn: 702.0000 - fn: 269.0000 - precision: 0.9577 - recall: 0.6274 - val_loss: 4.1705 - val_tp: 46.0000 - val_fp: 6.0000 - val_tn: 211.0000 - val_fn: 17.0000 - val_precision: 0.8846 - val_recall: 0.7302\n",
      "Epoch 12/120\n",
      "21/21 [==============================] - 1s 50ms/step - loss: 4.1094 - tp: 453.0000 - fp: 21.0000 - tn: 701.0000 - fn: 269.0000 - precision: 0.9557 - recall: 0.6274 - val_loss: 4.0462 - val_tp: 43.0000 - val_fp: 6.0000 - val_tn: 211.0000 - val_fn: 20.0000 - val_precision: 0.8776 - val_recall: 0.6825\n",
      "Epoch 13/120\n",
      "21/21 [==============================] - 1s 50ms/step - loss: 3.9946 - tp: 461.0000 - fp: 21.0000 - tn: 701.0000 - fn: 261.0000 - precision: 0.9564 - recall: 0.6385 - val_loss: 3.9246 - val_tp: 45.0000 - val_fp: 6.0000 - val_tn: 211.0000 - val_fn: 18.0000 - val_precision: 0.8824 - val_recall: 0.7143\n",
      "Epoch 14/120\n",
      "21/21 [==============================] - 1s 50ms/step - loss: 3.8836 - tp: 443.0000 - fp: 20.0000 - tn: 702.0000 - fn: 279.0000 - precision: 0.9568 - recall: 0.6136 - val_loss: 3.8413 - val_tp: 43.0000 - val_fp: 6.0000 - val_tn: 211.0000 - val_fn: 20.0000 - val_precision: 0.8776 - val_recall: 0.6825\n",
      "Epoch 15/120\n",
      "21/21 [==============================] - 1s 50ms/step - loss: 3.7885 - tp: 441.0000 - fp: 20.0000 - tn: 702.0000 - fn: 281.0000 - precision: 0.9566 - recall: 0.6108 - val_loss: 3.7432 - val_tp: 43.0000 - val_fp: 6.0000 - val_tn: 211.0000 - val_fn: 20.0000 - val_precision: 0.8776 - val_recall: 0.6825\n",
      "Epoch 16/120\n",
      "21/21 [==============================] - 1s 51ms/step - loss: 3.7186 - tp: 444.0000 - fp: 20.0000 - tn: 702.0000 - fn: 278.0000 - precision: 0.9569 - recall: 0.6150 - val_loss: 3.6980 - val_tp: 42.0000 - val_fp: 6.0000 - val_tn: 211.0000 - val_fn: 21.0000 - val_precision: 0.8750 - val_recall: 0.6667\n",
      "Epoch 17/120\n",
      "21/21 [==============================] - 1s 48ms/step - loss: 3.6895 - tp: 441.0000 - fp: 20.0000 - tn: 702.0000 - fn: 281.0000 - precision: 0.9566 - recall: 0.6108 - val_loss: 3.6636 - val_tp: 44.0000 - val_fp: 6.0000 - val_tn: 211.0000 - val_fn: 19.0000 - val_precision: 0.8800 - val_recall: 0.6984\n",
      "Epoch 18/120\n",
      "21/21 [==============================] - 1s 47ms/step - loss: 3.6809 - tp: 441.0000 - fp: 20.0000 - tn: 702.0000 - fn: 281.0000 - precision: 0.9566 - recall: 0.6108 - val_loss: 3.6799 - val_tp: 42.0000 - val_fp: 6.0000 - val_tn: 211.0000 - val_fn: 21.0000 - val_precision: 0.8750 - val_recall: 0.6667\n",
      "Epoch 19/120\n",
      "21/21 [==============================] - 1s 48ms/step - loss: 3.6793 - tp: 446.0000 - fp: 20.0000 - tn: 702.0000 - fn: 276.0000 - precision: 0.9571 - recall: 0.6177 - val_loss: 3.6742 - val_tp: 43.0000 - val_fp: 6.0000 - val_tn: 211.0000 - val_fn: 20.0000 - val_precision: 0.8776 - val_recall: 0.6825\n",
      "Epoch 20/120\n",
      "21/21 [==============================] - 1s 49ms/step - loss: 3.6749 - tp: 444.0000 - fp: 20.0000 - tn: 702.0000 - fn: 278.0000 - precision: 0.9569 - recall: 0.6150 - val_loss: 3.6849 - val_tp: 43.0000 - val_fp: 6.0000 - val_tn: 211.0000 - val_fn: 20.0000 - val_precision: 0.8776 - val_recall: 0.6825\n",
      "Epoch 21/120\n",
      "21/21 [==============================] - 1s 49ms/step - loss: 3.6764 - tp: 451.0000 - fp: 21.0000 - tn: 701.0000 - fn: 271.0000 - precision: 0.9555 - recall: 0.6247 - val_loss: 3.6717 - val_tp: 43.0000 - val_fp: 6.0000 - val_tn: 211.0000 - val_fn: 20.0000 - val_precision: 0.8776 - val_recall: 0.6825\n",
      "Epoch 22/120\n",
      "21/21 [==============================] - 1s 48ms/step - loss: 3.6777 - tp: 464.0000 - fp: 21.0000 - tn: 701.0000 - fn: 258.0000 - precision: 0.9567 - recall: 0.6427 - val_loss: 3.6733 - val_tp: 43.0000 - val_fp: 6.0000 - val_tn: 211.0000 - val_fn: 20.0000 - val_precision: 0.8776 - val_recall: 0.6825\n",
      "Epoch 23/120\n",
      "21/21 [==============================] - 1s 48ms/step - loss: 3.6760 - tp: 460.0000 - fp: 21.0000 - tn: 701.0000 - fn: 262.0000 - precision: 0.9563 - recall: 0.6371 - val_loss: 3.6804 - val_tp: 47.0000 - val_fp: 6.0000 - val_tn: 211.0000 - val_fn: 16.0000 - val_precision: 0.8868 - val_recall: 0.7460\n",
      "Epoch 24/120\n",
      "21/21 [==============================] - 1s 47ms/step - loss: 3.6779 - tp: 464.0000 - fp: 20.0000 - tn: 702.0000 - fn: 258.0000 - precision: 0.9587 - recall: 0.6427 - val_loss: 3.6840 - val_tp: 46.0000 - val_fp: 6.0000 - val_tn: 211.0000 - val_fn: 17.0000 - val_precision: 0.8846 - val_recall: 0.7302\n",
      "Epoch 25/120\n",
      "21/21 [==============================] - 1s 46ms/step - loss: 3.6811 - tp: 479.0000 - fp: 20.0000 - tn: 702.0000 - fn: 243.0000 - precision: 0.9599 - recall: 0.6634 - val_loss: 3.6700 - val_tp: 43.0000 - val_fp: 5.0000 - val_tn: 212.0000 - val_fn: 20.0000 - val_precision: 0.8958 - val_recall: 0.6825\n",
      "Epoch 26/120\n",
      "21/21 [==============================] - 1s 47ms/step - loss: 3.6836 - tp: 472.0000 - fp: 20.0000 - tn: 702.0000 - fn: 250.0000 - precision: 0.9593 - recall: 0.6537 - val_loss: 3.6848 - val_tp: 44.0000 - val_fp: 6.0000 - val_tn: 211.0000 - val_fn: 19.0000 - val_precision: 0.8800 - val_recall: 0.6984\n",
      "Epoch 27/120\n",
      "21/21 [==============================] - 1s 47ms/step - loss: 3.6809 - tp: 478.0000 - fp: 20.0000 - tn: 702.0000 - fn: 244.0000 - precision: 0.9598 - recall: 0.6620 - val_loss: 3.6672 - val_tp: 43.0000 - val_fp: 6.0000 - val_tn: 211.0000 - val_fn: 20.0000 - val_precision: 0.8776 - val_recall: 0.6825\n",
      "Epoch 28/120\n",
      "21/21 [==============================] - 1s 46ms/step - loss: 3.6791 - tp: 499.0000 - fp: 20.0000 - tn: 702.0000 - fn: 223.0000 - precision: 0.9615 - recall: 0.6911 - val_loss: 3.6859 - val_tp: 47.0000 - val_fp: 6.0000 - val_tn: 211.0000 - val_fn: 16.0000 - val_precision: 0.8868 - val_recall: 0.7460\n",
      "Epoch 29/120\n",
      "21/21 [==============================] - 1s 46ms/step - loss: 3.6840 - tp: 511.0000 - fp: 20.0000 - tn: 702.0000 - fn: 211.0000 - precision: 0.9623 - recall: 0.7078 - val_loss: 3.6774 - val_tp: 48.0000 - val_fp: 6.0000 - val_tn: 211.0000 - val_fn: 15.0000 - val_precision: 0.8889 - val_recall: 0.7619\n",
      "Epoch 30/120\n",
      "21/21 [==============================] - 1s 47ms/step - loss: 3.6849 - tp: 544.0000 - fp: 20.0000 - tn: 702.0000 - fn: 178.0000 - precision: 0.9645 - recall: 0.7535 - val_loss: 3.6844 - val_tp: 46.0000 - val_fp: 5.0000 - val_tn: 212.0000 - val_fn: 17.0000 - val_precision: 0.9020 - val_recall: 0.7302\n",
      "Epoch 31/120\n",
      "21/21 [==============================] - 1s 48ms/step - loss: 3.6812 - tp: 558.0000 - fp: 20.0000 - tn: 702.0000 - fn: 164.0000 - precision: 0.9654 - recall: 0.7729 - val_loss: 3.6844 - val_tp: 51.0000 - val_fp: 6.0000 - val_tn: 211.0000 - val_fn: 12.0000 - val_precision: 0.8947 - val_recall: 0.8095\n",
      "Epoch 32/120\n",
      "21/21 [==============================] - 1s 47ms/step - loss: 3.6888 - tp: 566.0000 - fp: 20.0000 - tn: 702.0000 - fn: 156.0000 - precision: 0.9659 - recall: 0.7839 - val_loss: 3.6798 - val_tp: 52.0000 - val_fp: 6.0000 - val_tn: 211.0000 - val_fn: 11.0000 - val_precision: 0.8966 - val_recall: 0.8254\n",
      "Epoch 33/120\n",
      "21/21 [==============================] - 1s 47ms/step - loss: 3.6936 - tp: 577.0000 - fp: 19.0000 - tn: 703.0000 - fn: 145.0000 - precision: 0.9681 - recall: 0.7992 - val_loss: 3.6958 - val_tp: 54.0000 - val_fp: 9.0000 - val_tn: 208.0000 - val_fn: 9.0000 - val_precision: 0.8571 - val_recall: 0.8571\n",
      "Epoch 34/120\n",
      "21/21 [==============================] - 1s 47ms/step - loss: 3.6950 - tp: 611.0000 - fp: 21.0000 - tn: 701.0000 - fn: 111.0000 - precision: 0.9668 - recall: 0.8463 - val_loss: 3.6918 - val_tp: 52.0000 - val_fp: 6.0000 - val_tn: 211.0000 - val_fn: 11.0000 - val_precision: 0.8966 - val_recall: 0.8254\n",
      "Epoch 35/120\n",
      "21/21 [==============================] - 1s 47ms/step - loss: 3.7014 - tp: 600.0000 - fp: 20.0000 - tn: 702.0000 - fn: 122.0000 - precision: 0.9677 - recall: 0.8310 - val_loss: 3.6925 - val_tp: 52.0000 - val_fp: 5.0000 - val_tn: 212.0000 - val_fn: 11.0000 - val_precision: 0.9123 - val_recall: 0.8254\n",
      "Epoch 36/120\n",
      "21/21 [==============================] - 1s 46ms/step - loss: 3.6909 - tp: 638.0000 - fp: 18.0000 - tn: 704.0000 - fn: 84.0000 - precision: 0.9726 - recall: 0.8837 - val_loss: 3.6887 - val_tp: 55.0000 - val_fp: 5.0000 - val_tn: 212.0000 - val_fn: 8.0000 - val_precision: 0.9167 - val_recall: 0.8730\n",
      "Epoch 37/120\n",
      "21/21 [==============================] - 1s 46ms/step - loss: 3.6863 - tp: 631.0000 - fp: 20.0000 - tn: 702.0000 - fn: 91.0000 - precision: 0.9693 - recall: 0.8740 - val_loss: 3.6689 - val_tp: 59.0000 - val_fp: 6.0000 - val_tn: 211.0000 - val_fn: 4.0000 - val_precision: 0.9077 - val_recall: 0.9365\n",
      "Epoch 38/120\n",
      "21/21 [==============================] - 1s 47ms/step - loss: 3.6861 - tp: 657.0000 - fp: 19.0000 - tn: 703.0000 - fn: 65.0000 - precision: 0.9719 - recall: 0.9100 - val_loss: 3.6810 - val_tp: 52.0000 - val_fp: 5.0000 - val_tn: 212.0000 - val_fn: 11.0000 - val_precision: 0.9123 - val_recall: 0.8254\n",
      "Epoch 39/120\n",
      "21/21 [==============================] - 1s 47ms/step - loss: 3.6881 - tp: 647.0000 - fp: 18.0000 - tn: 704.0000 - fn: 75.0000 - precision: 0.9729 - recall: 0.8961 - val_loss: 3.6869 - val_tp: 56.0000 - val_fp: 5.0000 - val_tn: 212.0000 - val_fn: 7.0000 - val_precision: 0.9180 - val_recall: 0.8889\n",
      "Epoch 40/120\n",
      "21/21 [==============================] - 1s 47ms/step - loss: 3.6892 - tp: 659.0000 - fp: 19.0000 - tn: 703.0000 - fn: 63.0000 - precision: 0.9720 - recall: 0.9127 - val_loss: 3.6862 - val_tp: 58.0000 - val_fp: 5.0000 - val_tn: 212.0000 - val_fn: 5.0000 - val_precision: 0.9206 - val_recall: 0.9206\n",
      "Epoch 41/120\n",
      "21/21 [==============================] - 1s 46ms/step - loss: 3.6842 - tp: 657.0000 - fp: 18.0000 - tn: 704.0000 - fn: 65.0000 - precision: 0.9733 - recall: 0.9100 - val_loss: 3.6906 - val_tp: 61.0000 - val_fp: 8.0000 - val_tn: 209.0000 - val_fn: 2.0000 - val_precision: 0.8841 - val_recall: 0.9683\n",
      "Epoch 42/120\n",
      "21/21 [==============================] - 1s 47ms/step - loss: 3.6941 - tp: 667.0000 - fp: 22.0000 - tn: 700.0000 - fn: 55.0000 - precision: 0.9681 - recall: 0.9238 - val_loss: 3.6990 - val_tp: 59.0000 - val_fp: 6.0000 - val_tn: 211.0000 - val_fn: 4.0000 - val_precision: 0.9077 - val_recall: 0.9365\n",
      "Epoch 43/120\n",
      "21/21 [==============================] - 1s 46ms/step - loss: 3.6894 - tp: 680.0000 - fp: 19.0000 - tn: 703.0000 - fn: 42.0000 - precision: 0.9728 - recall: 0.9418 - val_loss: 3.6978 - val_tp: 60.0000 - val_fp: 6.0000 - val_tn: 211.0000 - val_fn: 3.0000 - val_precision: 0.9091 - val_recall: 0.9524\n",
      "Epoch 44/120\n",
      "21/21 [==============================] - 1s 46ms/step - loss: 3.6960 - tp: 678.0000 - fp: 20.0000 - tn: 702.0000 - fn: 44.0000 - precision: 0.9713 - recall: 0.9391 - val_loss: 3.7053 - val_tp: 60.0000 - val_fp: 4.0000 - val_tn: 213.0000 - val_fn: 3.0000 - val_precision: 0.9375 - val_recall: 0.9524\n",
      "Epoch 45/120\n",
      "21/21 [==============================] - 1s 46ms/step - loss: 3.6910 - tp: 687.0000 - fp: 19.0000 - tn: 703.0000 - fn: 35.0000 - precision: 0.9731 - recall: 0.9515 - val_loss: 3.6848 - val_tp: 57.0000 - val_fp: 5.0000 - val_tn: 212.0000 - val_fn: 6.0000 - val_precision: 0.9194 - val_recall: 0.9048\n",
      "Epoch 46/120\n",
      "21/21 [==============================] - 1s 47ms/step - loss: 3.6882 - tp: 676.0000 - fp: 18.0000 - tn: 704.0000 - fn: 46.0000 - precision: 0.9741 - recall: 0.9363 - val_loss: 3.7003 - val_tp: 57.0000 - val_fp: 5.0000 - val_tn: 212.0000 - val_fn: 6.0000 - val_precision: 0.9194 - val_recall: 0.9048\n",
      "Epoch 47/120\n",
      "21/21 [==============================] - 1s 46ms/step - loss: 3.7238 - tp: 680.0000 - fp: 25.0000 - tn: 697.0000 - fn: 42.0000 - precision: 0.9645 - recall: 0.9418 - val_loss: 3.8009 - val_tp: 60.0000 - val_fp: 7.0000 - val_tn: 210.0000 - val_fn: 3.0000 - val_precision: 0.8955 - val_recall: 0.9524\n",
      "Epoch 48/120\n",
      "21/21 [==============================] - 1s 47ms/step - loss: 3.7281 - tp: 683.0000 - fp: 18.0000 - tn: 704.0000 - fn: 39.0000 - precision: 0.9743 - recall: 0.9460 - val_loss: 3.6868 - val_tp: 61.0000 - val_fp: 5.0000 - val_tn: 212.0000 - val_fn: 2.0000 - val_precision: 0.9242 - val_recall: 0.9683\n",
      "Epoch 49/120\n",
      "21/21 [==============================] - 1s 47ms/step - loss: 3.6906 - tp: 687.0000 - fp: 19.0000 - tn: 703.0000 - fn: 35.0000 - precision: 0.9731 - recall: 0.9515 - val_loss: 3.6897 - val_tp: 59.0000 - val_fp: 6.0000 - val_tn: 211.0000 - val_fn: 4.0000 - val_precision: 0.9077 - val_recall: 0.9365\n",
      "Epoch 50/120\n",
      "21/21 [==============================] - 1s 47ms/step - loss: 3.6872 - tp: 684.0000 - fp: 20.0000 - tn: 702.0000 - fn: 38.0000 - precision: 0.9716 - recall: 0.9474 - val_loss: 3.7157 - val_tp: 62.0000 - val_fp: 6.0000 - val_tn: 211.0000 - val_fn: 1.0000 - val_precision: 0.9118 - val_recall: 0.9841\n",
      "Epoch 51/120\n",
      "21/21 [==============================] - 1s 46ms/step - loss: 3.6855 - tp: 695.0000 - fp: 20.0000 - tn: 702.0000 - fn: 27.0000 - precision: 0.9720 - recall: 0.9626 - val_loss: 3.6878 - val_tp: 60.0000 - val_fp: 3.0000 - val_tn: 214.0000 - val_fn: 3.0000 - val_precision: 0.9524 - val_recall: 0.9524\n",
      "Epoch 52/120\n",
      "21/21 [==============================] - 1s 46ms/step - loss: 3.6951 - tp: 692.0000 - fp: 20.0000 - tn: 702.0000 - fn: 30.0000 - precision: 0.9719 - recall: 0.9584 - val_loss: 3.6886 - val_tp: 59.0000 - val_fp: 5.0000 - val_tn: 212.0000 - val_fn: 4.0000 - val_precision: 0.9219 - val_recall: 0.9365\n",
      "Epoch 53/120\n",
      "21/21 [==============================] - 1s 46ms/step - loss: 3.6896 - tp: 691.0000 - fp: 22.0000 - tn: 700.0000 - fn: 31.0000 - precision: 0.9691 - recall: 0.9571 - val_loss: 3.6846 - val_tp: 61.0000 - val_fp: 4.0000 - val_tn: 213.0000 - val_fn: 2.0000 - val_precision: 0.9385 - val_recall: 0.9683\n",
      "Epoch 54/120\n",
      "21/21 [==============================] - 1s 47ms/step - loss: 3.7247 - tp: 687.0000 - fp: 21.0000 - tn: 701.0000 - fn: 35.0000 - precision: 0.9703 - recall: 0.9515 - val_loss: 3.7015 - val_tp: 58.0000 - val_fp: 5.0000 - val_tn: 212.0000 - val_fn: 5.0000 - val_precision: 0.9206 - val_recall: 0.9206\n",
      "Epoch 55/120\n",
      "21/21 [==============================] - 1s 47ms/step - loss: 3.7103 - tp: 687.0000 - fp: 18.0000 - tn: 704.0000 - fn: 35.0000 - precision: 0.9745 - recall: 0.9515 - val_loss: 3.7031 - val_tp: 59.0000 - val_fp: 4.0000 - val_tn: 213.0000 - val_fn: 4.0000 - val_precision: 0.9365 - val_recall: 0.9365\n",
      "Epoch 56/120\n",
      "21/21 [==============================] - 1s 46ms/step - loss: 3.6929 - tp: 687.0000 - fp: 19.0000 - tn: 703.0000 - fn: 35.0000 - precision: 0.9731 - recall: 0.9515 - val_loss: 3.6799 - val_tp: 61.0000 - val_fp: 3.0000 - val_tn: 214.0000 - val_fn: 2.0000 - val_precision: 0.9531 - val_recall: 0.9683\n",
      "Epoch 57/120\n",
      "21/21 [==============================] - 1s 47ms/step - loss: 3.7017 - tp: 688.0000 - fp: 21.0000 - tn: 701.0000 - fn: 34.0000 - precision: 0.9704 - recall: 0.9529 - val_loss: 3.7015 - val_tp: 58.0000 - val_fp: 3.0000 - val_tn: 214.0000 - val_fn: 5.0000 - val_precision: 0.9508 - val_recall: 0.9206\n",
      "Epoch 58/120\n",
      "21/21 [==============================] - 1s 49ms/step - loss: 3.7511 - tp: 682.0000 - fp: 25.0000 - tn: 697.0000 - fn: 40.0000 - precision: 0.9646 - recall: 0.9446 - val_loss: 3.7984 - val_tp: 61.0000 - val_fp: 6.0000 - val_tn: 211.0000 - val_fn: 2.0000 - val_precision: 0.9104 - val_recall: 0.9683\n",
      "Epoch 59/120\n",
      "21/21 [==============================] - 1s 47ms/step - loss: 3.7260 - tp: 688.0000 - fp: 18.0000 - tn: 704.0000 - fn: 34.0000 - precision: 0.9745 - recall: 0.9529 - val_loss: 3.6987 - val_tp: 61.0000 - val_fp: 4.0000 - val_tn: 213.0000 - val_fn: 2.0000 - val_precision: 0.9385 - val_recall: 0.9683\n",
      "Epoch 60/120\n",
      "21/21 [==============================] - 1s 46ms/step - loss: 3.7011 - tp: 688.0000 - fp: 21.0000 - tn: 701.0000 - fn: 34.0000 - precision: 0.9704 - recall: 0.9529 - val_loss: 3.7137 - val_tp: 62.0000 - val_fp: 3.0000 - val_tn: 214.0000 - val_fn: 1.0000 - val_precision: 0.9538 - val_recall: 0.9841\n",
      "Epoch 61/120\n",
      "21/21 [==============================] - 1s 46ms/step - loss: 3.6884 - tp: 702.0000 - fp: 18.0000 - tn: 704.0000 - fn: 20.0000 - precision: 0.9750 - recall: 0.9723 - val_loss: 3.6658 - val_tp: 59.0000 - val_fp: 3.0000 - val_tn: 214.0000 - val_fn: 4.0000 - val_precision: 0.9516 - val_recall: 0.9365\n",
      "Epoch 62/120\n",
      "21/21 [==============================] - 1s 47ms/step - loss: 3.6920 - tp: 686.0000 - fp: 16.0000 - tn: 706.0000 - fn: 36.0000 - precision: 0.9772 - recall: 0.9501 - val_loss: 3.6904 - val_tp: 62.0000 - val_fp: 5.0000 - val_tn: 212.0000 - val_fn: 1.0000 - val_precision: 0.9254 - val_recall: 0.9841\n",
      "Epoch 63/120\n",
      "21/21 [==============================] - 1s 46ms/step - loss: 3.6756 - tp: 704.0000 - fp: 19.0000 - tn: 703.0000 - fn: 18.0000 - precision: 0.9737 - recall: 0.9751 - val_loss: 3.6767 - val_tp: 59.0000 - val_fp: 5.0000 - val_tn: 212.0000 - val_fn: 4.0000 - val_precision: 0.9219 - val_recall: 0.9365\n",
      "Epoch 64/120\n",
      "21/21 [==============================] - 1s 49ms/step - loss: 3.6793 - tp: 699.0000 - fp: 18.0000 - tn: 704.0000 - fn: 23.0000 - precision: 0.9749 - recall: 0.9681 - val_loss: 3.6733 - val_tp: 61.0000 - val_fp: 4.0000 - val_tn: 213.0000 - val_fn: 2.0000 - val_precision: 0.9385 - val_recall: 0.9683\n",
      "Epoch 65/120\n",
      "21/21 [==============================] - 1s 48ms/step - loss: 3.6904 - tp: 689.0000 - fp: 19.0000 - tn: 703.0000 - fn: 33.0000 - precision: 0.9732 - recall: 0.9543 - val_loss: 3.7188 - val_tp: 59.0000 - val_fp: 3.0000 - val_tn: 214.0000 - val_fn: 4.0000 - val_precision: 0.9516 - val_recall: 0.9365\n",
      "Epoch 66/120\n",
      "21/21 [==============================] - 1s 51ms/step - loss: 3.7031 - tp: 689.0000 - fp: 16.0000 - tn: 706.0000 - fn: 33.0000 - precision: 0.9773 - recall: 0.9543 - val_loss: 3.6970 - val_tp: 61.0000 - val_fp: 6.0000 - val_tn: 211.0000 - val_fn: 2.0000 - val_precision: 0.9104 - val_recall: 0.9683\n",
      "Epoch 67/120\n",
      "21/21 [==============================] - 1s 48ms/step - loss: 3.6898 - tp: 695.0000 - fp: 17.0000 - tn: 705.0000 - fn: 27.0000 - precision: 0.9761 - recall: 0.9626 - val_loss: 3.6697 - val_tp: 62.0000 - val_fp: 5.0000 - val_tn: 212.0000 - val_fn: 1.0000 - val_precision: 0.9254 - val_recall: 0.9841\n",
      "Epoch 68/120\n",
      "21/21 [==============================] - 1s 46ms/step - loss: 3.6784 - tp: 696.0000 - fp: 18.0000 - tn: 704.0000 - fn: 26.0000 - precision: 0.9748 - recall: 0.9640 - val_loss: 3.6820 - val_tp: 57.0000 - val_fp: 3.0000 - val_tn: 214.0000 - val_fn: 6.0000 - val_precision: 0.9500 - val_recall: 0.9048\n",
      "Epoch 69/120\n",
      "21/21 [==============================] - 1s 46ms/step - loss: 3.7140 - tp: 690.0000 - fp: 18.0000 - tn: 704.0000 - fn: 32.0000 - precision: 0.9746 - recall: 0.9557 - val_loss: 3.6919 - val_tp: 61.0000 - val_fp: 4.0000 - val_tn: 213.0000 - val_fn: 2.0000 - val_precision: 0.9385 - val_recall: 0.9683\n",
      "Epoch 70/120\n",
      "21/21 [==============================] - 1s 48ms/step - loss: 3.7066 - tp: 696.0000 - fp: 20.0000 - tn: 702.0000 - fn: 26.0000 - precision: 0.9721 - recall: 0.9640 - val_loss: 3.6935 - val_tp: 57.0000 - val_fp: 3.0000 - val_tn: 214.0000 - val_fn: 6.0000 - val_precision: 0.9500 - val_recall: 0.9048\n",
      "Epoch 71/120\n",
      "21/21 [==============================] - 1s 48ms/step - loss: 3.6880 - tp: 701.0000 - fp: 18.0000 - tn: 704.0000 - fn: 21.0000 - precision: 0.9750 - recall: 0.9709 - val_loss: 3.6938 - val_tp: 58.0000 - val_fp: 7.0000 - val_tn: 210.0000 - val_fn: 5.0000 - val_precision: 0.8923 - val_recall: 0.9206\n",
      "Epoch 72/120\n",
      "21/21 [==============================] - 1s 48ms/step - loss: 3.6915 - tp: 691.0000 - fp: 17.0000 - tn: 705.0000 - fn: 31.0000 - precision: 0.9760 - recall: 0.9571 - val_loss: 3.6804 - val_tp: 62.0000 - val_fp: 5.0000 - val_tn: 212.0000 - val_fn: 1.0000 - val_precision: 0.9254 - val_recall: 0.9841\n",
      "Epoch 73/120\n",
      "21/21 [==============================] - 1s 48ms/step - loss: 3.6990 - tp: 698.0000 - fp: 17.0000 - tn: 705.0000 - fn: 24.0000 - precision: 0.9762 - recall: 0.9668 - val_loss: 3.7091 - val_tp: 62.0000 - val_fp: 6.0000 - val_tn: 211.0000 - val_fn: 1.0000 - val_precision: 0.9118 - val_recall: 0.9841\n",
      "Epoch 74/120\n",
      "21/21 [==============================] - 1s 47ms/step - loss: 3.7161 - tp: 692.0000 - fp: 20.0000 - tn: 702.0000 - fn: 30.0000 - precision: 0.9719 - recall: 0.9584 - val_loss: 3.7369 - val_tp: 61.0000 - val_fp: 3.0000 - val_tn: 214.0000 - val_fn: 2.0000 - val_precision: 0.9531 - val_recall: 0.9683\n",
      "Epoch 75/120\n",
      "21/21 [==============================] - 1s 46ms/step - loss: 3.7178 - tp: 685.0000 - fp: 18.0000 - tn: 704.0000 - fn: 37.0000 - precision: 0.9744 - recall: 0.9488 - val_loss: 3.7317 - val_tp: 63.0000 - val_fp: 9.0000 - val_tn: 208.0000 - val_fn: 0.0000e+00 - val_precision: 0.8750 - val_recall: 1.0000\n",
      "Epoch 76/120\n",
      "21/21 [==============================] - 1s 47ms/step - loss: 3.7891 - tp: 691.0000 - fp: 29.0000 - tn: 693.0000 - fn: 31.0000 - precision: 0.9597 - recall: 0.9571 - val_loss: 3.8204 - val_tp: 63.0000 - val_fp: 4.0000 - val_tn: 213.0000 - val_fn: 0.0000e+00 - val_precision: 0.9403 - val_recall: 1.0000\n",
      "Epoch 77/120\n",
      "21/21 [==============================] - 1s 47ms/step - loss: 3.7751 - tp: 689.0000 - fp: 20.0000 - tn: 702.0000 - fn: 33.0000 - precision: 0.9718 - recall: 0.9543 - val_loss: 3.7660 - val_tp: 63.0000 - val_fp: 7.0000 - val_tn: 210.0000 - val_fn: 0.0000e+00 - val_precision: 0.9000 - val_recall: 1.0000\n",
      "Epoch 78/120\n",
      "21/21 [==============================] - 1s 47ms/step - loss: 3.7050 - tp: 699.0000 - fp: 16.0000 - tn: 706.0000 - fn: 23.0000 - precision: 0.9776 - recall: 0.9681 - val_loss: 3.6758 - val_tp: 61.0000 - val_fp: 2.0000 - val_tn: 215.0000 - val_fn: 2.0000 - val_precision: 0.9683 - val_recall: 0.9683\n",
      "Epoch 79/120\n",
      "21/21 [==============================] - 1s 46ms/step - loss: 3.7028 - tp: 705.0000 - fp: 16.0000 - tn: 706.0000 - fn: 17.0000 - precision: 0.9778 - recall: 0.9765 - val_loss: 3.7293 - val_tp: 60.0000 - val_fp: 4.0000 - val_tn: 213.0000 - val_fn: 3.0000 - val_precision: 0.9375 - val_recall: 0.9524\n",
      "Epoch 80/120\n",
      "21/21 [==============================] - 1s 47ms/step - loss: 3.7449 - tp: 691.0000 - fp: 20.0000 - tn: 702.0000 - fn: 31.0000 - precision: 0.9719 - recall: 0.9571 - val_loss: 3.7264 - val_tp: 62.0000 - val_fp: 6.0000 - val_tn: 211.0000 - val_fn: 1.0000 - val_precision: 0.9118 - val_recall: 0.9841\n",
      "Epoch 81/120\n",
      "21/21 [==============================] - 1s 47ms/step - loss: 3.6884 - tp: 708.0000 - fp: 18.0000 - tn: 704.0000 - fn: 14.0000 - precision: 0.9752 - recall: 0.9806 - val_loss: 3.6530 - val_tp: 61.0000 - val_fp: 3.0000 - val_tn: 214.0000 - val_fn: 2.0000 - val_precision: 0.9531 - val_recall: 0.9683\n",
      "Epoch 82/120\n",
      "21/21 [==============================] - 1s 47ms/step - loss: 3.6721 - tp: 697.0000 - fp: 16.0000 - tn: 706.0000 - fn: 25.0000 - precision: 0.9776 - recall: 0.9654 - val_loss: 3.7828 - val_tp: 62.0000 - val_fp: 13.0000 - val_tn: 204.0000 - val_fn: 1.0000 - val_precision: 0.8267 - val_recall: 0.9841\n",
      "Epoch 83/120\n",
      "21/21 [==============================] - 1s 47ms/step - loss: 3.7715 - tp: 698.0000 - fp: 25.0000 - tn: 697.0000 - fn: 24.0000 - precision: 0.9654 - recall: 0.9668 - val_loss: 3.7230 - val_tp: 58.0000 - val_fp: 5.0000 - val_tn: 212.0000 - val_fn: 5.0000 - val_precision: 0.9206 - val_recall: 0.9206\n",
      "Epoch 84/120\n",
      "21/21 [==============================] - 1s 47ms/step - loss: 3.7016 - tp: 698.0000 - fp: 15.0000 - tn: 707.0000 - fn: 24.0000 - precision: 0.9790 - recall: 0.9668 - val_loss: 3.6972 - val_tp: 60.0000 - val_fp: 4.0000 - val_tn: 213.0000 - val_fn: 3.0000 - val_precision: 0.9375 - val_recall: 0.9524\n",
      "Epoch 85/120\n",
      "21/21 [==============================] - 1s 46ms/step - loss: 3.6888 - tp: 696.0000 - fp: 16.0000 - tn: 706.0000 - fn: 26.0000 - precision: 0.9775 - recall: 0.9640 - val_loss: 3.7124 - val_tp: 62.0000 - val_fp: 10.0000 - val_tn: 207.0000 - val_fn: 1.0000 - val_precision: 0.8611 - val_recall: 0.9841\n",
      "Epoch 86/120\n",
      "21/21 [==============================] - 1s 46ms/step - loss: 3.6868 - tp: 698.0000 - fp: 17.0000 - tn: 705.0000 - fn: 24.0000 - precision: 0.9762 - recall: 0.9668 - val_loss: 3.6744 - val_tp: 60.0000 - val_fp: 2.0000 - val_tn: 215.0000 - val_fn: 3.0000 - val_precision: 0.9677 - val_recall: 0.9524\n",
      "Epoch 87/120\n",
      "21/21 [==============================] - 1s 46ms/step - loss: 3.7372 - tp: 697.0000 - fp: 24.0000 - tn: 698.0000 - fn: 25.0000 - precision: 0.9667 - recall: 0.9654 - val_loss: 3.7334 - val_tp: 62.0000 - val_fp: 3.0000 - val_tn: 214.0000 - val_fn: 1.0000 - val_precision: 0.9538 - val_recall: 0.9841\n",
      "Epoch 88/120\n",
      "21/21 [==============================] - 1s 46ms/step - loss: 3.7030 - tp: 689.0000 - fp: 12.0000 - tn: 710.0000 - fn: 33.0000 - precision: 0.9829 - recall: 0.9543 - val_loss: 3.7374 - val_tp: 61.0000 - val_fp: 10.0000 - val_tn: 207.0000 - val_fn: 2.0000 - val_precision: 0.8592 - val_recall: 0.9683\n",
      "Epoch 89/120\n",
      "21/21 [==============================] - 1s 46ms/step - loss: 3.7533 - tp: 688.0000 - fp: 23.0000 - tn: 699.0000 - fn: 34.0000 - precision: 0.9677 - recall: 0.9529 - val_loss: 3.6862 - val_tp: 60.0000 - val_fp: 5.0000 - val_tn: 212.0000 - val_fn: 3.0000 - val_precision: 0.9231 - val_recall: 0.9524\n",
      "Epoch 90/120\n",
      "21/21 [==============================] - 1s 46ms/step - loss: 3.6898 - tp: 702.0000 - fp: 16.0000 - tn: 706.0000 - fn: 20.0000 - precision: 0.9777 - recall: 0.9723 - val_loss: 3.6839 - val_tp: 60.0000 - val_fp: 5.0000 - val_tn: 212.0000 - val_fn: 3.0000 - val_precision: 0.9231 - val_recall: 0.9524\n",
      "Epoch 91/120\n",
      "21/21 [==============================] - 1s 46ms/step - loss: 3.6731 - tp: 699.0000 - fp: 15.0000 - tn: 707.0000 - fn: 23.0000 - precision: 0.9790 - recall: 0.9681 - val_loss: 3.6691 - val_tp: 59.0000 - val_fp: 3.0000 - val_tn: 214.0000 - val_fn: 4.0000 - val_precision: 0.9516 - val_recall: 0.9365\n",
      "Epoch 92/120\n",
      "21/21 [==============================] - 1s 48ms/step - loss: 3.6963 - tp: 696.0000 - fp: 21.0000 - tn: 701.0000 - fn: 26.0000 - precision: 0.9707 - recall: 0.9640 - val_loss: 3.7031 - val_tp: 59.0000 - val_fp: 3.0000 - val_tn: 214.0000 - val_fn: 4.0000 - val_precision: 0.9516 - val_recall: 0.9365\n",
      "Epoch 93/120\n",
      "21/21 [==============================] - 1s 50ms/step - loss: 3.6918 - tp: 691.0000 - fp: 15.0000 - tn: 707.0000 - fn: 31.0000 - precision: 0.9788 - recall: 0.9571 - val_loss: 3.6863 - val_tp: 59.0000 - val_fp: 3.0000 - val_tn: 214.0000 - val_fn: 4.0000 - val_precision: 0.9516 - val_recall: 0.9365\n",
      "Epoch 94/120\n",
      "21/21 [==============================] - 1s 51ms/step - loss: 3.7022 - tp: 695.0000 - fp: 18.0000 - tn: 704.0000 - fn: 27.0000 - precision: 0.9748 - recall: 0.9626 - val_loss: 3.7712 - val_tp: 63.0000 - val_fp: 11.0000 - val_tn: 206.0000 - val_fn: 0.0000e+00 - val_precision: 0.8514 - val_recall: 1.0000\n",
      "Epoch 95/120\n",
      "21/21 [==============================] - 1s 53ms/step - loss: 3.7235 - tp: 692.0000 - fp: 17.0000 - tn: 705.0000 - fn: 30.0000 - precision: 0.9760 - recall: 0.9584 - val_loss: 3.7006 - val_tp: 63.0000 - val_fp: 4.0000 - val_tn: 213.0000 - val_fn: 0.0000e+00 - val_precision: 0.9403 - val_recall: 1.0000\n",
      "Epoch 96/120\n",
      "21/21 [==============================] - 1s 50ms/step - loss: 3.6837 - tp: 695.0000 - fp: 13.0000 - tn: 709.0000 - fn: 27.0000 - precision: 0.9816 - recall: 0.9626 - val_loss: 3.7164 - val_tp: 63.0000 - val_fp: 5.0000 - val_tn: 212.0000 - val_fn: 0.0000e+00 - val_precision: 0.9265 - val_recall: 1.0000\n",
      "Epoch 97/120\n",
      "21/21 [==============================] - 1s 49ms/step - loss: 3.6999 - tp: 696.0000 - fp: 16.0000 - tn: 706.0000 - fn: 26.0000 - precision: 0.9775 - recall: 0.9640 - val_loss: 3.6853 - val_tp: 60.0000 - val_fp: 3.0000 - val_tn: 214.0000 - val_fn: 3.0000 - val_precision: 0.9524 - val_recall: 0.9524\n",
      "Epoch 98/120\n",
      "21/21 [==============================] - 1s 48ms/step - loss: 3.7051 - tp: 687.0000 - fp: 17.0000 - tn: 705.0000 - fn: 35.0000 - precision: 0.9759 - recall: 0.9515 - val_loss: 3.7945 - val_tp: 60.0000 - val_fp: 12.0000 - val_tn: 205.0000 - val_fn: 3.0000 - val_precision: 0.8333 - val_recall: 0.9524\n",
      "Epoch 99/120\n",
      "21/21 [==============================] - 1s 47ms/step - loss: 3.7407 - tp: 687.0000 - fp: 18.0000 - tn: 704.0000 - fn: 35.0000 - precision: 0.9745 - recall: 0.9515 - val_loss: 3.7160 - val_tp: 60.0000 - val_fp: 2.0000 - val_tn: 215.0000 - val_fn: 3.0000 - val_precision: 0.9677 - val_recall: 0.9524\n",
      "Epoch 100/120\n",
      "21/21 [==============================] - 1s 47ms/step - loss: 3.7117 - tp: 686.0000 - fp: 17.0000 - tn: 705.0000 - fn: 36.0000 - precision: 0.9758 - recall: 0.9501 - val_loss: 3.7239 - val_tp: 60.0000 - val_fp: 3.0000 - val_tn: 214.0000 - val_fn: 3.0000 - val_precision: 0.9524 - val_recall: 0.9524\n",
      "Epoch 101/120\n",
      "21/21 [==============================] - 1s 46ms/step - loss: 3.7008 - tp: 696.0000 - fp: 14.0000 - tn: 708.0000 - fn: 26.0000 - precision: 0.9803 - recall: 0.9640 - val_loss: 3.6751 - val_tp: 62.0000 - val_fp: 3.0000 - val_tn: 214.0000 - val_fn: 1.0000 - val_precision: 0.9538 - val_recall: 0.9841\n",
      "Epoch 102/120\n",
      "21/21 [==============================] - 1s 46ms/step - loss: 3.6843 - tp: 695.0000 - fp: 14.0000 - tn: 708.0000 - fn: 27.0000 - precision: 0.9803 - recall: 0.9626 - val_loss: 3.6622 - val_tp: 61.0000 - val_fp: 4.0000 - val_tn: 213.0000 - val_fn: 2.0000 - val_precision: 0.9385 - val_recall: 0.9683\n",
      "Epoch 103/120\n",
      "21/21 [==============================] - 1s 46ms/step - loss: 3.6609 - tp: 705.0000 - fp: 17.0000 - tn: 705.0000 - fn: 17.0000 - precision: 0.9765 - recall: 0.9765 - val_loss: 3.6683 - val_tp: 62.0000 - val_fp: 4.0000 - val_tn: 213.0000 - val_fn: 1.0000 - val_precision: 0.9394 - val_recall: 0.9841\n",
      "Epoch 104/120\n",
      "21/21 [==============================] - 1s 46ms/step - loss: 3.6863 - tp: 703.0000 - fp: 19.0000 - tn: 703.0000 - fn: 19.0000 - precision: 0.9737 - recall: 0.9737 - val_loss: 3.6840 - val_tp: 62.0000 - val_fp: 2.0000 - val_tn: 215.0000 - val_fn: 1.0000 - val_precision: 0.9688 - val_recall: 0.9841\n",
      "Epoch 105/120\n",
      "21/21 [==============================] - 1s 46ms/step - loss: 3.6870 - tp: 694.0000 - fp: 15.0000 - tn: 707.0000 - fn: 28.0000 - precision: 0.9788 - recall: 0.9612 - val_loss: 3.6914 - val_tp: 58.0000 - val_fp: 2.0000 - val_tn: 215.0000 - val_fn: 5.0000 - val_precision: 0.9667 - val_recall: 0.9206\n",
      "Epoch 106/120\n",
      "21/21 [==============================] - ETA: 0s - loss: 3.7004 - tp: 700.0000 - fp: 13.0000 - tn: 709.0000 - fn: 22.0000 - precision: 0.9818 - recall: 0.9695Stoping on set citeria\n",
      "f1 training:  0.9756097878840021\n",
      "f1 testing:  0.9841270446777344\n",
      "21/21 [==============================] - 1s 47ms/step - loss: 3.7004 - tp: 700.0000 - fp: 13.0000 - tn: 709.0000 - fn: 22.0000 - precision: 0.9818 - recall: 0.9695 - val_loss: 3.6732 - val_tp: 62.0000 - val_fp: 1.0000 - val_tn: 216.0000 - val_fn: 1.0000 - val_precision: 0.9841 - val_recall: 0.9841\n",
      "Early stopping\n"
     ]
    }
   ],
   "source": [
    "num_epochs = 120\n",
    "history = model.fit(training_split, train_result,\n",
    "                    epochs=num_epochs,\n",
    "                    batch_size=70,\n",
    "                    validation_data=(test_split, test_result),\n",
    "                    callbacks=[EarlyStoppingMonitor()])\n",
    "# ,callbacks=[tf.keras.callbacks.EarlyStopping()]"
   ],
   "metadata": {
    "collapsed": false,
    "pycharm": {
     "name": "#%%\n"
    }
   }
  },
  {
   "cell_type": "code",
   "execution_count": 132,
   "outputs": [
    {
     "data": {
      "text/plain": "[<matplotlib.lines.Line2D at 0x380985bb0>]"
     },
     "execution_count": 132,
     "metadata": {},
     "output_type": "execute_result"
    },
    {
     "data": {
      "text/plain": "<Figure size 640x480 with 2 Axes>",
      "image/png": "[encoded data removed]"
     },
     "metadata": {},
     "output_type": "display_data"
    }
   ],
   "source": [
    "fig, (ax1,ax2) = plt.subplots(2,1)\n",
    "testloss = np.array(history.history['val_loss']).reshape(len(history.history['val_loss']),1)\n",
    "trainloss = np.array(history.history['loss']).reshape(len(history.history['loss']),1)\n",
    "\n",
    "ax1.plot(history.epoch, testloss, '-')\n",
    "ax1.plot(history.epoch, trainloss, '--')\n",
    "# ax1.ylabel('loss')\n",
    "# ax1.xlabel('epoch')\n",
    "\n",
    "train_precision = np.array(history.history['precision']).reshape(len(history.history['loss']),1)\n",
    "train_recall= np.array(history.history['recall']).reshape(len(history.history['loss']),1)\n",
    "j =( 2 * train_precision * train_recall) / (train_precision+train_recall)\n",
    "\n",
    "test_precission = np.array(history.history['val_precision']).reshape(len(history.history['loss']),1)\n",
    "test_recall = np.array(history.history['val_recall']).reshape(len(history.history['loss']),1)\n",
    "k = (2 * test_precission * test_recall )/ (test_precission+test_recall)\n",
    "# plt.plot(history.epoch,j, '-')\n",
    "# plt.plot(k,'--')\n",
    "\n",
    "ax2.scatter(history.epoch, k)\n",
    "ax2.scatter(history.epoch, j)\n",
    "ax2.plot(history.epoch, k,'-')\n",
    "ax2.plot(history.epoch, j,'--')\n",
    "# ax3.plot(j+3)\n",
    "# ax3.plot(trainloss,'tab:blue')"
   ],
   "metadata": {
    "collapsed": false,
    "pycharm": {
     "name": "#%%\n"
    }
   }
  },
  {
   "cell_type": "code",
   "execution_count": 133,
   "outputs": [],
   "source": [
    "table_test = pd.read_table('../drug-discovery/1663769555_8653905_test.txt', names=['sequence'])"
   ],
   "metadata": {
    "collapsed": false,
    "pycharm": {
     "name": "#%%\n"
    }
   }
  },
  {
   "cell_type": "code",
   "execution_count": 133,
   "outputs": [],
   "source": [],
   "metadata": {
    "collapsed": false,
    "pycharm": {
     "name": "#%%\n"
    }
   }
  },
  {
   "cell_type": "code",
   "execution_count": 134,
   "outputs": [],
   "source": [
    "unlabeled_test_sequence = vectorizer_k_best.transform(table_test.sequence).toarray()\n",
    "# unlabeled_test_sequence = pca.transform(unlabeled_test_sequence)"
   ],
   "metadata": {
    "collapsed": false,
    "pycharm": {
     "name": "#%%\n"
    }
   }
  },
  {
   "cell_type": "code",
   "execution_count": 135,
   "outputs": [
    {
     "data": {
      "text/plain": "(350, 84482)"
     },
     "execution_count": 135,
     "metadata": {},
     "output_type": "execute_result"
    }
   ],
   "source": [
    "unlabeled_test_sequence.shape"
   ],
   "metadata": {
    "collapsed": false,
    "pycharm": {
     "name": "#%%\n"
    }
   }
  },
  {
   "cell_type": "code",
   "execution_count": 136,
   "outputs": [
    {
     "name": "stdout",
     "output_type": "stream",
     "text": [
      " 5/11 [============>.................] - ETA: 0s"
     ]
    },
    {
     "name": "stderr",
     "output_type": "stream",
     "text": [
      "2022-10-08 14:54:09.952530: I tensorflow/core/grappler/optimizers/custom_graph_optimizer_registry.cc:114] Plugin optimizer for device_type GPU is enabled.\n"
     ]
    },
    {
     "name": "stdout",
     "output_type": "stream",
     "text": [
      "11/11 [==============================] - 0s 29ms/step\n"
     ]
    }
   ],
   "source": [
    "y = model.predict(unlabeled_test_sequence)"
   ],
   "metadata": {
    "collapsed": false,
    "pycharm": {
     "name": "#%%\n"
    }
   }
  },
  {
   "cell_type": "code",
   "execution_count": 137,
   "outputs": [
    {
     "data": {
      "text/plain": "array([[0.39539772],\n       [0.21788993],\n       [0.28535858],\n       [0.3072105 ],\n       [0.23216017],\n       [0.21788982],\n       [0.22543976],\n       [0.25251827],\n       [0.32215527],\n       [0.5751451 ],\n       [0.27413505],\n       [0.26076624],\n       [0.25401515],\n       [0.30343357],\n       [0.25170746],\n       [0.29817453],\n       [0.21789056],\n       [0.28926146],\n       [0.26155996],\n       [0.22795089],\n       [0.2597257 ],\n       [0.27783826],\n       [0.23627959],\n       [0.28999904],\n       [0.307102  ],\n       [0.70568424],\n       [0.30187583],\n       [0.23927084],\n       [0.32860142],\n       [0.21789029],\n       [0.25407046],\n       [0.26422948],\n       [0.2580394 ],\n       [0.2310973 ],\n       [0.27743194],\n       [0.2655604 ],\n       [0.23816879],\n       [0.2570535 ],\n       [0.3549741 ],\n       [0.29844984],\n       [0.25111985],\n       [0.23244557],\n       [0.2213889 ],\n       [0.26417592],\n       [0.27401814],\n       [0.22289294],\n       [0.28877226],\n       [0.34278783],\n       [0.2178871 ],\n       [0.27876627],\n       [0.42681134],\n       [0.32760975],\n       [0.25315535],\n       [0.40763333],\n       [0.2714137 ],\n       [0.66877216],\n       [0.23171465],\n       [0.25293604],\n       [0.27413487],\n       [0.25947106],\n       [0.26762518],\n       [0.88591665],\n       [0.21789011],\n       [0.28924873],\n       [0.23882501],\n       [0.31981128],\n       [0.81475854],\n       [0.22814707],\n       [0.30861145],\n       [0.29946405],\n       [0.23065268],\n       [0.22062437],\n       [0.23422958],\n       [0.3021569 ],\n       [0.24139073],\n       [0.32399076],\n       [0.24677533],\n       [0.23498502],\n       [0.27832878],\n       [0.23479976],\n       [0.3114313 ],\n       [0.24563235],\n       [0.78457975],\n       [0.7097211 ],\n       [0.23538843],\n       [0.56449014],\n       [0.2660434 ],\n       [0.3110745 ],\n       [0.23642525],\n       [0.28045666],\n       [0.21946366],\n       [0.30418292],\n       [0.42544132],\n       [0.2845226 ],\n       [0.24461915],\n       [0.21789111],\n       [0.300783  ],\n       [0.2473123 ],\n       [0.77146757],\n       [0.97950315],\n       [0.24120627],\n       [0.37622103],\n       [0.2178933 ],\n       [0.26595822],\n       [0.21788721],\n       [0.21934204],\n       [0.2799681 ],\n       [0.2632675 ],\n       [0.30330965],\n       [0.25080466],\n       [0.32475406],\n       [0.3331109 ],\n       [0.2632638 ],\n       [0.41758043],\n       [0.7877158 ],\n       [0.2418591 ],\n       [0.336033  ],\n       [0.25561285],\n       [0.53492206],\n       [0.25649098],\n       [0.5875019 ],\n       [0.24671006],\n       [0.25400224],\n       [0.34418708],\n       [0.24153364],\n       [0.29873645],\n       [0.2763005 ],\n       [0.21789399],\n       [0.24052876],\n       [0.27069417],\n       [0.25946704],\n       [0.7693613 ],\n       [0.30569655],\n       [0.2252938 ],\n       [0.21789199],\n       [0.25151047],\n       [0.35389492],\n       [0.22784714],\n       [0.2573796 ],\n       [0.41133937],\n       [0.32011583],\n       [0.32697457],\n       [0.24847808],\n       [0.3287264 ],\n       [0.24901536],\n       [0.39027792],\n       [0.78521174],\n       [0.28449377],\n       [0.5757024 ],\n       [0.22840148],\n       [0.24744499],\n       [0.23235016],\n       [0.25192124],\n       [0.53104424],\n       [0.31034377],\n       [0.30309373],\n       [0.2587389 ],\n       [0.2525368 ],\n       [0.25483882],\n       [0.29440194],\n       [0.39027628],\n       [0.24786735],\n       [0.64236546],\n       [0.30876946],\n       [0.24849492],\n       [0.2731504 ],\n       [0.35254672],\n       [0.26742136],\n       [0.37607458],\n       [0.23989801],\n       [0.28165615],\n       [0.2632771 ],\n       [0.27331212],\n       [0.28561014],\n       [0.25013164],\n       [0.24463034],\n       [0.24221313],\n       [0.26249328],\n       [0.27555087],\n       [0.25460306],\n       [0.28430447],\n       [0.21885644],\n       [0.26049277],\n       [0.2759999 ],\n       [0.30388534],\n       [0.25209075],\n       [0.2970841 ],\n       [0.2806984 ],\n       [0.24631824],\n       [0.2465434 ],\n       [0.2782414 ],\n       [0.23283373],\n       [0.23733743],\n       [0.2510018 ],\n       [0.23795018],\n       [0.21789248],\n       [0.26101124],\n       [0.26130414],\n       [0.22972101],\n       [0.2939883 ],\n       [0.46052578],\n       [0.24810877],\n       [0.23404378],\n       [0.29380694],\n       [0.33077216],\n       [0.30764836],\n       [0.29920337],\n       [0.25603333],\n       [0.2638405 ],\n       [0.29263252],\n       [0.3774264 ],\n       [0.24195403],\n       [0.23591301],\n       [0.34749746],\n       [0.2614399 ],\n       [0.31420058],\n       [0.2938725 ],\n       [0.3052993 ],\n       [0.24809083],\n       [0.23187791],\n       [0.34740654],\n       [0.24931583],\n       [0.60504794],\n       [0.24270377],\n       [0.22963178],\n       [0.89225554],\n       [0.26267314],\n       [0.2426891 ],\n       [0.43673772],\n       [0.21788797],\n       [0.4250067 ],\n       [0.26663712],\n       [0.27261156],\n       [0.25246695],\n       [0.27060625],\n       [0.25845703],\n       [0.2241399 ],\n       [0.26306677],\n       [0.2496877 ],\n       [0.3150244 ],\n       [0.24670862],\n       [0.2531396 ],\n       [0.27497396],\n       [0.2867886 ],\n       [0.21818031],\n       [0.26656923],\n       [0.24033873],\n       [0.61779267],\n       [0.21788289],\n       [0.27103385],\n       [0.24011883],\n       [0.30420914],\n       [0.24261652],\n       [0.23519933],\n       [0.5836017 ],\n       [0.3034239 ],\n       [0.31357583],\n       [0.23605588],\n       [0.2912097 ],\n       [0.26084375],\n       [0.29840964],\n       [0.31061703],\n       [0.2749996 ],\n       [0.24395269],\n       [0.2641872 ],\n       [0.3141341 ],\n       [0.24093321],\n       [0.22212788],\n       [0.28396437],\n       [0.2443221 ],\n       [0.2916624 ],\n       [0.24122913],\n       [0.25627148],\n       [0.2586266 ],\n       [0.2596964 ],\n       [0.2971411 ],\n       [0.27977276],\n       [0.29715252],\n       [0.2802096 ],\n       [0.21789394],\n       [0.25712425],\n       [0.57674587],\n       [0.28117764],\n       [0.27113113],\n       [0.32830727],\n       [0.275341  ],\n       [0.2284236 ],\n       [0.31546888],\n       [0.26816398],\n       [0.296486  ],\n       [0.21788593],\n       [0.27164873],\n       [0.72409576],\n       [0.28189617],\n       [0.24109292],\n       [0.3090134 ],\n       [0.22947858],\n       [0.27999106],\n       [0.5779718 ],\n       [0.22244304],\n       [0.32489008],\n       [0.2841809 ],\n       [0.2978864 ],\n       [0.23972966],\n       [0.2590588 ],\n       [0.22257812],\n       [0.24705307],\n       [0.2472611 ],\n       [0.25892308],\n       [0.35906634],\n       [0.25738516],\n       [0.23683937],\n       [0.301877  ],\n       [0.28313214],\n       [0.25692096],\n       [0.6719967 ],\n       [0.21788968],\n       [0.32108808],\n       [0.24185061],\n       [0.21788745],\n       [0.2599018 ],\n       [0.38383633],\n       [0.800608  ],\n       [0.22201318],\n       [0.24043721],\n       [0.47793302],\n       [0.5050288 ],\n       [0.31223235],\n       [0.2830798 ],\n       [0.2706794 ],\n       [0.6501384 ],\n       [0.24691886],\n       [0.217889  ],\n       [0.23912922],\n       [0.21788758],\n       [0.23702729],\n       [0.45425692],\n       [0.24945644],\n       [0.37300363],\n       [0.32250604],\n       [0.2731822 ],\n       [0.24623777],\n       [0.25235525],\n       [0.33109334],\n       [0.24544433],\n       [0.21788941],\n       [0.3270009 ],\n       [0.24535647],\n       [0.5578278 ],\n       [0.27209795]], dtype=float32)"
     },
     "execution_count": 137,
     "metadata": {},
     "output_type": "execute_result"
    }
   ],
   "source": [
    "y"
   ],
   "metadata": {
    "collapsed": false,
    "pycharm": {
     "name": "#%%\n"
    }
   }
  },
  {
   "cell_type": "code",
   "execution_count": 138,
   "outputs": [],
   "source": [
    "# for i in range(3):\n",
    "z = [1 if i>=.5 else 0 for i in y ]"
   ],
   "metadata": {
    "collapsed": false,
    "pycharm": {
     "name": "#%%\n"
    }
   }
  },
  {
   "cell_type": "code",
   "execution_count": 139,
   "outputs": [
    {
     "data": {
      "text/plain": "350"
     },
     "execution_count": 139,
     "metadata": {},
     "output_type": "execute_result"
    }
   ],
   "source": [
    "len(z)"
   ],
   "metadata": {
    "collapsed": false,
    "pycharm": {
     "name": "#%%\n"
    }
   }
  },
  {
   "cell_type": "code",
   "execution_count": 140,
   "outputs": [],
   "source": [
    "import csv\n",
    "outfile = open('./results.csv','w')\n",
    "out = csv.writer(outfile)\n",
    "out.writerows(map(lambda x: [x], z))\n",
    "outfile.close()"
   ],
   "metadata": {
    "collapsed": false,
    "pycharm": {
     "name": "#%%\n"
    }
   }
  },
  {
   "cell_type": "code",
   "execution_count": 675,
   "outputs": [],
   "source": [],
   "metadata": {
    "collapsed": false,
    "pycharm": {
     "name": "#%%\n"
    }
   }
  },
  {
   "cell_type": "code",
   "execution_count": null,
   "outputs": [],
   "source": [],
   "metadata": {
    "collapsed": false,
    "pycharm": {
     "name": "#%%\n"
    }
   }
  }
 ],
 "metadata": {
  "kernelspec": {
   "display_name": "Python 3",
   "language": "python",
   "name": "python3"
  },
  "language_info": {
   "codemirror_mode": {
    "name": "ipython",
    "version": 2
   },
   "file_extension": ".py",
   "mimetype": "text/x-python",
   "name": "python",
   "nbconvert_exporter": "python",
   "pygments_lexer": "ipython2",
   "version": "2.7.6"
  }
 },
 "nbformat": 4,
 "nbformat_minor": 0
}