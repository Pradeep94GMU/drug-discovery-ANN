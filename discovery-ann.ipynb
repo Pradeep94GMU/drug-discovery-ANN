{
 "cells": [
  {
   "cell_type": "code",
   "execution_count": 1699,
   "metadata": {
    "collapsed": true,
    "pycharm": {
     "name": "#%%\n"
    }
   },
   "outputs": [],
   "source": [
    "import tensorflow as tf\n",
    "import pandas as pd\n",
    "import numpy as np\n",
    "import matplotlib.pyplot as plt"
   ]
  },
  {
   "cell_type": "code",
   "execution_count": 1700,
   "outputs": [],
   "source": [
    "table = pd.read_table('../drug-discovery/1663769555_8559356_train.txt', names=['binding','sequence'])"
   ],
   "metadata": {
    "collapsed": false,
    "pycharm": {
     "name": "#%%\n"
    }
   }
  },
  {
   "cell_type": "code",
   "execution_count": 1706,
   "outputs": [],
   "source": [
    "import imblearn\n",
    "from imblearn.over_sampling import RandomOverSampler\n",
    "sampler = RandomOverSampler()\n",
    "x_sampled, y_sampled = sampler.fit_resample(np.array(table.sequence).reshape(-1,1),table.binding)"
   ],
   "metadata": {
    "collapsed": false,
    "pycharm": {
     "name": "#%%\n"
    }
   }
  },
  {
   "cell_type": "code",
   "execution_count": 1707,
   "outputs": [
    {
     "data": {
      "text/plain": "0    722\n1    722\nName: binding, dtype: int64"
     },
     "execution_count": 1707,
     "metadata": {},
     "output_type": "execute_result"
    }
   ],
   "source": [
    "final_data_set = pd.DataFrame(x_sampled, columns  =[\"sequence\"])\n",
    "final_data_set['binding'] = y_sampled\n",
    "final_data_set.binding.value_counts()"
   ],
   "metadata": {
    "collapsed": false,
    "pycharm": {
     "name": "#%%\n"
    }
   }
  },
  {
   "cell_type": "code",
   "execution_count": 1708,
   "outputs": [],
   "source": [
    "from sklearn.model_selection import  train_test_split\n",
    "training_split, test_split, train_result, test_result = train_test_split(final_data_set.sequence, final_data_set.binding,stratify=final_data_set.binding, train_size=.70, random_state=0)"
   ],
   "metadata": {
    "collapsed": false,
    "pycharm": {
     "name": "#%%\n"
    }
   }
  },
  {
   "cell_type": "code",
   "execution_count": 1709,
   "outputs": [
    {
     "data": {
      "text/plain": "(434,)"
     },
     "execution_count": 1709,
     "metadata": {},
     "output_type": "execute_result"
    }
   ],
   "source": [
    "test_result.shape"
   ],
   "metadata": {
    "collapsed": false,
    "pycharm": {
     "name": "#%%\n"
    }
   }
  },
  {
   "cell_type": "code",
   "execution_count": 1710,
   "outputs": [],
   "source": [
    "from sklearn.feature_extraction.text import CountVectorizer\n",
    "def return_binary_vectorized_form(data_frame):\n",
    "    count_vectorizer = CountVectorizer(binary=True)\n",
    "    fitted_and_transformed = count_vectorizer.fit_transform(data_frame).toarray()\n",
    "    return count_vectorizer,  fitted_and_transformed\n",
    "vectorizer, training_split = return_binary_vectorized_form(training_split)\n",
    "test_split = vectorizer.transform(test_split).toarray()"
   ],
   "metadata": {
    "collapsed": false,
    "pycharm": {
     "name": "#%%\n"
    }
   }
  },
  {
   "cell_type": "code",
   "execution_count": 1711,
   "outputs": [
    {
     "data": {
      "text/plain": "array([[0, 0, 0, ..., 0, 0, 0],\n       [0, 0, 0, ..., 0, 0, 0],\n       [0, 0, 0, ..., 0, 0, 0],\n       ...,\n       [0, 0, 0, ..., 0, 0, 0],\n       [0, 0, 0, ..., 0, 0, 0],\n       [0, 0, 0, ..., 0, 0, 0]])"
     },
     "execution_count": 1711,
     "metadata": {},
     "output_type": "execute_result"
    }
   ],
   "source": [
    "test_split"
   ],
   "metadata": {
    "collapsed": false,
    "pycharm": {
     "name": "#%%\n"
    }
   }
  },
  {
   "cell_type": "code",
   "execution_count": 1712,
   "outputs": [],
   "source": [
    "train_result = np.array(train_result)\n",
    "test_result = np.array(test_result)"
   ],
   "metadata": {
    "collapsed": false,
    "pycharm": {
     "name": "#%%\n"
    }
   }
  },
  {
   "cell_type": "code",
   "execution_count": 1713,
   "outputs": [],
   "source": [
    "# training_sequence= []\n",
    "# test_sequence = []\n",
    "# for row in training_split:\n",
    "#     training_sequence.append(str(row))\n",
    "# for row in test_split:\n",
    "#     test_sequence.append(str(row))\n"
   ],
   "metadata": {
    "collapsed": false,
    "pycharm": {
     "name": "#%%\n"
    }
   }
  },
  {
   "cell_type": "code",
   "execution_count": 1714,
   "outputs": [
    {
     "data": {
      "text/plain": "array([[0, 0, 0, ..., 0, 0, 0],\n       [0, 0, 0, ..., 0, 0, 0],\n       [0, 0, 0, ..., 1, 0, 0],\n       ...,\n       [0, 0, 0, ..., 0, 0, 0],\n       [0, 0, 0, ..., 0, 0, 0],\n       [0, 0, 0, ..., 0, 0, 0]])"
     },
     "execution_count": 1714,
     "metadata": {},
     "output_type": "execute_result"
    }
   ],
   "source": [
    "training_split"
   ],
   "metadata": {
    "collapsed": false,
    "pycharm": {
     "name": "#%%\n"
    }
   }
  },
  {
   "cell_type": "code",
   "execution_count": null,
   "outputs": [],
   "source": [],
   "metadata": {
    "collapsed": false,
    "pycharm": {
     "name": "#%%\n"
    }
   }
  },
  {
   "cell_type": "code",
   "execution_count": 1715,
   "outputs": [
    {
     "data": {
      "text/plain": "array([[0, 0, 0, ..., 0, 0, 0],\n       [0, 0, 0, ..., 0, 0, 0],\n       [0, 0, 0, ..., 0, 0, 0],\n       ...,\n       [0, 0, 0, ..., 0, 0, 0],\n       [0, 0, 0, ..., 0, 0, 0],\n       [0, 0, 0, ..., 0, 0, 0]])"
     },
     "execution_count": 1715,
     "metadata": {},
     "output_type": "execute_result"
    }
   ],
   "source": [
    "test_split\n",
    "# training_sequence = np.array(training_sequence).reshape(1010)\n",
    "# # test_sequence = np.array(test_sequence)"
   ],
   "metadata": {
    "collapsed": false,
    "pycharm": {
     "name": "#%%\n"
    }
   }
  },
  {
   "cell_type": "code",
   "execution_count": 1716,
   "outputs": [],
   "source": [
    "# training_sequence.s"
   ],
   "metadata": {
    "collapsed": false,
    "pycharm": {
     "name": "#%%\n"
    }
   }
  },
  {
   "cell_type": "code",
   "execution_count": 1717,
   "outputs": [],
   "source": [
    "vocab_size = 40000\n",
    "embedding_dim = 16\n",
    "max_length = 1000\n",
    "trunc_type = 'post'\n",
    "oov_tok = '<OOV>'\n",
    "padding_type = 'post'"
   ],
   "metadata": {
    "collapsed": false,
    "pycharm": {
     "name": "#%%\n"
    }
   }
  },
  {
   "cell_type": "code",
   "execution_count": 1718,
   "outputs": [],
   "source": [
    "# from tensorflow.keras.preprocessing.text import Tokenizer\n",
    "# from tensorflow.keras.preprocessing.sequence import pad_sequences\n",
    "# tokenizer = Tokenizer(num_words=vocab_size, oov_token=oov_tok)\n",
    "# tokenizer.fit_on_texts(training_sequence)\n",
    "# word_index = tokenizer.word_index"
   ],
   "metadata": {
    "collapsed": false,
    "pycharm": {
     "name": "#%%\n"
    }
   }
  },
  {
   "cell_type": "code",
   "execution_count": 1719,
   "outputs": [],
   "source": [
    "# sequences = tokenizer.texts_to_sequences(training_sequence)\n",
    "# padded = pad_sequences(sequences, maxlen=max_length, truncating=trunc_type)\n",
    "# test_sequence = tokenizer.texts_to_sequences(test_sequence)\n",
    "# testing_padded = pad_sequences(test_sequence, maxlen=max_length)\n",
    "# padded"
   ],
   "metadata": {
    "collapsed": false,
    "pycharm": {
     "name": "#%%\n"
    }
   }
  },
  {
   "cell_type": "code",
   "execution_count": 1720,
   "outputs": [
    {
     "data": {
      "text/plain": "82145"
     },
     "execution_count": 1720,
     "metadata": {},
     "output_type": "execute_result"
    }
   ],
   "source": [
    "training_split.shape[-1]"
   ],
   "metadata": {
    "collapsed": false,
    "pycharm": {
     "name": "#%%\n"
    }
   }
  },
  {
   "cell_type": "code",
   "execution_count": 1987,
   "outputs": [],
   "source": [
    "model = tf.keras.Sequential([\n",
    "    tf.keras.Input(shape=(training_split.shape[-1],)),\n",
    "    tf.keras.layers.Dropout(0.85),\n",
    "    tf.keras.layers.Dense(10,activation='relu', kernel_regularizer= tf.keras.regularizers.L1(.01)),\n",
    "    tf.keras.layers.Dropout(0.2),\n",
    "    tf.keras.layers.Dense(1, activation='sigmoid')\n",
    "])"
   ],
   "metadata": {
    "collapsed": false,
    "pycharm": {
     "name": "#%%\n"
    }
   }
  },
  {
   "cell_type": "code",
   "execution_count": 1988,
   "outputs": [],
   "source": [
    "METRICS = [\n",
    "      tf.keras.metrics.TruePositives(name='tp'),\n",
    "      tf.keras.metrics.FalsePositives(name='fp'),\n",
    "      tf.keras.metrics.TrueNegatives(name='tn'),\n",
    "      tf.keras.metrics.FalseNegatives(name='fn'),\n",
    "      tf.keras.metrics.BinaryAccuracy(name='accuracy'),\n",
    "      tf.keras.metrics.Precision(name='precision'),\n",
    "      tf.keras.metrics.Recall(name='recall'),\n",
    "      tf.keras.metrics.AUC(name='auc'),\n",
    "      tf.keras.metrics.AUC(name='prc', curve='PR'), # precision-recall curve\n",
    "]\n",
    "\n",
    "model.compile(loss=tf.keras.losses.BinaryCrossentropy(from_logits=True), optimizer='adam', metrics=METRICS)"
   ],
   "metadata": {
    "collapsed": false,
    "pycharm": {
     "name": "#%%\n"
    }
   }
  },
  {
   "cell_type": "code",
   "execution_count": 1991,
   "outputs": [
    {
     "name": "stdout",
     "output_type": "stream",
     "text": [
      "Epoch 1/70\n",
      "32/32 [==============================] - 1s 45ms/step - loss: 3.8742 - tp: 470.0000 - fp: 20.0000 - tn: 485.0000 - fn: 35.0000 - accuracy: 0.9455 - precision: 0.9592 - recall: 0.9307 - auc: 0.9857 - prc: 0.9874 - val_loss: 3.4925 - val_tp: 202.0000 - val_fp: 3.0000 - val_tn: 214.0000 - val_fn: 15.0000 - val_accuracy: 0.9585 - val_precision: 0.9854 - val_recall: 0.9309 - val_auc: 0.9925 - val_prc: 0.9926\n",
      "Epoch 2/70\n",
      "32/32 [==============================] - 1s 35ms/step - loss: 3.7946 - tp: 471.0000 - fp: 16.0000 - tn: 489.0000 - fn: 34.0000 - accuracy: 0.9505 - precision: 0.9671 - recall: 0.9327 - auc: 0.9886 - prc: 0.9901 - val_loss: 3.8688 - val_tp: 202.0000 - val_fp: 4.0000 - val_tn: 213.0000 - val_fn: 15.0000 - val_accuracy: 0.9562 - val_precision: 0.9806 - val_recall: 0.9309 - val_auc: 0.9883 - val_prc: 0.9873\n",
      "Epoch 3/70\n",
      "32/32 [==============================] - 1s 33ms/step - loss: 3.8074 - tp: 470.0000 - fp: 27.0000 - tn: 478.0000 - fn: 35.0000 - accuracy: 0.9386 - precision: 0.9457 - recall: 0.9307 - auc: 0.9834 - prc: 0.9840 - val_loss: 3.9298 - val_tp: 205.0000 - val_fp: 4.0000 - val_tn: 213.0000 - val_fn: 12.0000 - val_accuracy: 0.9631 - val_precision: 0.9809 - val_recall: 0.9447 - val_auc: 0.9929 - val_prc: 0.9910\n",
      "Epoch 4/70\n",
      "32/32 [==============================] - 1s 34ms/step - loss: 3.6795 - tp: 468.0000 - fp: 11.0000 - tn: 494.0000 - fn: 37.0000 - accuracy: 0.9525 - precision: 0.9770 - recall: 0.9267 - auc: 0.9896 - prc: 0.9912 - val_loss: 3.4105 - val_tp: 207.0000 - val_fp: 5.0000 - val_tn: 212.0000 - val_fn: 10.0000 - val_accuracy: 0.9654 - val_precision: 0.9764 - val_recall: 0.9539 - val_auc: 0.9918 - val_prc: 0.9921\n",
      "Epoch 5/70\n",
      "32/32 [==============================] - 1s 34ms/step - loss: 3.6081 - tp: 468.0000 - fp: 18.0000 - tn: 487.0000 - fn: 37.0000 - accuracy: 0.9455 - precision: 0.9630 - recall: 0.9267 - auc: 0.9809 - prc: 0.9837 - val_loss: 3.6987 - val_tp: 207.0000 - val_fp: 5.0000 - val_tn: 212.0000 - val_fn: 10.0000 - val_accuracy: 0.9654 - val_precision: 0.9764 - val_recall: 0.9539 - val_auc: 0.9945 - val_prc: 0.9944\n",
      "Epoch 6/70\n",
      "32/32 [==============================] - 1s 33ms/step - loss: 3.4253 - tp: 472.0000 - fp: 17.0000 - tn: 488.0000 - fn: 33.0000 - accuracy: 0.9505 - precision: 0.9652 - recall: 0.9347 - auc: 0.9892 - prc: 0.9866 - val_loss: 3.4184 - val_tp: 208.0000 - val_fp: 4.0000 - val_tn: 213.0000 - val_fn: 9.0000 - val_accuracy: 0.9700 - val_precision: 0.9811 - val_recall: 0.9585 - val_auc: 0.9931 - val_prc: 0.9933\n",
      "Epoch 7/70\n",
      "32/32 [==============================] - 1s 32ms/step - loss: 3.5857 - tp: 470.0000 - fp: 22.0000 - tn: 483.0000 - fn: 35.0000 - accuracy: 0.9436 - precision: 0.9553 - recall: 0.9307 - auc: 0.9836 - prc: 0.9826 - val_loss: 3.7517 - val_tp: 210.0000 - val_fp: 5.0000 - val_tn: 212.0000 - val_fn: 7.0000 - val_accuracy: 0.9724 - val_precision: 0.9767 - val_recall: 0.9677 - val_auc: 0.9922 - val_prc: 0.9920\n",
      "Epoch 8/70\n",
      "32/32 [==============================] - 1s 31ms/step - loss: 3.6024 - tp: 472.0000 - fp: 17.0000 - tn: 488.0000 - fn: 33.0000 - accuracy: 0.9505 - precision: 0.9652 - recall: 0.9347 - auc: 0.9872 - prc: 0.9848 - val_loss: 3.4868 - val_tp: 194.0000 - val_fp: 3.0000 - val_tn: 214.0000 - val_fn: 23.0000 - val_accuracy: 0.9401 - val_precision: 0.9848 - val_recall: 0.8940 - val_auc: 0.9944 - val_prc: 0.9936\n",
      "Epoch 9/70\n",
      "32/32 [==============================] - 1s 32ms/step - loss: 3.5799 - tp: 464.0000 - fp: 22.0000 - tn: 483.0000 - fn: 41.0000 - accuracy: 0.9376 - precision: 0.9547 - recall: 0.9188 - auc: 0.9836 - prc: 0.9829 - val_loss: 3.5852 - val_tp: 209.0000 - val_fp: 4.0000 - val_tn: 213.0000 - val_fn: 8.0000 - val_accuracy: 0.9724 - val_precision: 0.9812 - val_recall: 0.9631 - val_auc: 0.9947 - val_prc: 0.9938\n",
      "Epoch 10/70\n",
      "32/32 [==============================] - 1s 31ms/step - loss: 3.6405 - tp: 476.0000 - fp: 12.0000 - tn: 493.0000 - fn: 29.0000 - accuracy: 0.9594 - precision: 0.9754 - recall: 0.9426 - auc: 0.9867 - prc: 0.9880 - val_loss: 3.4262 - val_tp: 207.0000 - val_fp: 5.0000 - val_tn: 212.0000 - val_fn: 10.0000 - val_accuracy: 0.9654 - val_precision: 0.9764 - val_recall: 0.9539 - val_auc: 0.9926 - val_prc: 0.9920\n",
      "Epoch 11/70\n",
      "32/32 [==============================] - 1s 32ms/step - loss: 3.6404 - tp: 463.0000 - fp: 15.0000 - tn: 490.0000 - fn: 42.0000 - accuracy: 0.9436 - precision: 0.9686 - recall: 0.9168 - auc: 0.9867 - prc: 0.9889 - val_loss: 3.5294 - val_tp: 201.0000 - val_fp: 5.0000 - val_tn: 212.0000 - val_fn: 16.0000 - val_accuracy: 0.9516 - val_precision: 0.9757 - val_recall: 0.9263 - val_auc: 0.9796 - val_prc: 0.9835\n",
      "Epoch 12/70\n",
      "32/32 [==============================] - 1s 32ms/step - loss: 3.5731 - tp: 476.0000 - fp: 19.0000 - tn: 486.0000 - fn: 29.0000 - accuracy: 0.9525 - precision: 0.9616 - recall: 0.9426 - auc: 0.9900 - prc: 0.9874 - val_loss: 3.6792 - val_tp: 192.0000 - val_fp: 4.0000 - val_tn: 213.0000 - val_fn: 25.0000 - val_accuracy: 0.9332 - val_precision: 0.9796 - val_recall: 0.8848 - val_auc: 0.9874 - val_prc: 0.9868\n",
      "Epoch 13/70\n",
      "32/32 [==============================] - 1s 31ms/step - loss: 3.5677 - tp: 472.0000 - fp: 21.0000 - tn: 484.0000 - fn: 33.0000 - accuracy: 0.9465 - precision: 0.9574 - recall: 0.9347 - auc: 0.9858 - prc: 0.9864 - val_loss: 3.9016 - val_tp: 202.0000 - val_fp: 3.0000 - val_tn: 214.0000 - val_fn: 15.0000 - val_accuracy: 0.9585 - val_precision: 0.9854 - val_recall: 0.9309 - val_auc: 0.9908 - val_prc: 0.9925\n",
      "Epoch 14/70\n",
      "32/32 [==============================] - 1s 32ms/step - loss: 3.8894 - tp: 468.0000 - fp: 23.0000 - tn: 482.0000 - fn: 37.0000 - accuracy: 0.9406 - precision: 0.9532 - recall: 0.9267 - auc: 0.9834 - prc: 0.9864 - val_loss: 4.0279 - val_tp: 187.0000 - val_fp: 3.0000 - val_tn: 214.0000 - val_fn: 30.0000 - val_accuracy: 0.9240 - val_precision: 0.9842 - val_recall: 0.8618 - val_auc: 0.9919 - val_prc: 0.9898\n",
      "Epoch 15/70\n",
      "32/32 [==============================] - 1s 31ms/step - loss: 3.7081 - tp: 470.0000 - fp: 15.0000 - tn: 490.0000 - fn: 35.0000 - accuracy: 0.9505 - precision: 0.9691 - recall: 0.9307 - auc: 0.9881 - prc: 0.9889 - val_loss: 3.2339 - val_tp: 202.0000 - val_fp: 4.0000 - val_tn: 213.0000 - val_fn: 15.0000 - val_accuracy: 0.9562 - val_precision: 0.9806 - val_recall: 0.9309 - val_auc: 0.9958 - val_prc: 0.9951\n",
      "Epoch 16/70\n",
      "32/32 [==============================] - 1s 31ms/step - loss: 3.2790 - tp: 476.0000 - fp: 13.0000 - tn: 492.0000 - fn: 29.0000 - accuracy: 0.9584 - precision: 0.9734 - recall: 0.9426 - auc: 0.9889 - prc: 0.9898 - val_loss: 3.5952 - val_tp: 195.0000 - val_fp: 4.0000 - val_tn: 213.0000 - val_fn: 22.0000 - val_accuracy: 0.9401 - val_precision: 0.9799 - val_recall: 0.8986 - val_auc: 0.9910 - val_prc: 0.9853\n",
      "Epoch 17/70\n",
      "32/32 [==============================] - 1s 32ms/step - loss: 3.6882 - tp: 478.0000 - fp: 17.0000 - tn: 488.0000 - fn: 27.0000 - accuracy: 0.9564 - precision: 0.9657 - recall: 0.9465 - auc: 0.9895 - prc: 0.9896 - val_loss: 3.6257 - val_tp: 212.0000 - val_fp: 4.0000 - val_tn: 213.0000 - val_fn: 5.0000 - val_accuracy: 0.9793 - val_precision: 0.9815 - val_recall: 0.9770 - val_auc: 0.9945 - val_prc: 0.9929\n",
      "Epoch 18/70\n",
      "32/32 [==============================] - 1s 31ms/step - loss: 3.6207 - tp: 475.0000 - fp: 15.0000 - tn: 490.0000 - fn: 30.0000 - accuracy: 0.9554 - precision: 0.9694 - recall: 0.9406 - auc: 0.9900 - prc: 0.9911 - val_loss: 3.6906 - val_tp: 187.0000 - val_fp: 4.0000 - val_tn: 213.0000 - val_fn: 30.0000 - val_accuracy: 0.9217 - val_precision: 0.9791 - val_recall: 0.8618 - val_auc: 0.9898 - val_prc: 0.9819\n",
      "Epoch 19/70\n",
      "32/32 [==============================] - 1s 31ms/step - loss: 3.4936 - tp: 466.0000 - fp: 15.0000 - tn: 490.0000 - fn: 39.0000 - accuracy: 0.9465 - precision: 0.9688 - recall: 0.9228 - auc: 0.9858 - prc: 0.9876 - val_loss: 3.7022 - val_tp: 200.0000 - val_fp: 4.0000 - val_tn: 213.0000 - val_fn: 17.0000 - val_accuracy: 0.9516 - val_precision: 0.9804 - val_recall: 0.9217 - val_auc: 0.9932 - val_prc: 0.9919\n",
      "Epoch 20/70\n",
      "32/32 [==============================] - 1s 31ms/step - loss: 3.5132 - tp: 468.0000 - fp: 19.0000 - tn: 486.0000 - fn: 37.0000 - accuracy: 0.9446 - precision: 0.9610 - recall: 0.9267 - auc: 0.9886 - prc: 0.9894 - val_loss: 3.3227 - val_tp: 204.0000 - val_fp: 4.0000 - val_tn: 213.0000 - val_fn: 13.0000 - val_accuracy: 0.9608 - val_precision: 0.9808 - val_recall: 0.9401 - val_auc: 0.9951 - val_prc: 0.9943\n",
      "Epoch 21/70\n",
      "32/32 [==============================] - 1s 31ms/step - loss: 3.5566 - tp: 473.0000 - fp: 19.0000 - tn: 486.0000 - fn: 32.0000 - accuracy: 0.9495 - precision: 0.9614 - recall: 0.9366 - auc: 0.9847 - prc: 0.9836 - val_loss: 3.9122 - val_tp: 179.0000 - val_fp: 5.0000 - val_tn: 212.0000 - val_fn: 38.0000 - val_accuracy: 0.9009 - val_precision: 0.9728 - val_recall: 0.8249 - val_auc: 0.9905 - val_prc: 0.9894\n",
      "Epoch 22/70\n",
      "32/32 [==============================] - 1s 31ms/step - loss: 3.8899 - tp: 468.0000 - fp: 16.0000 - tn: 489.0000 - fn: 37.0000 - accuracy: 0.9475 - precision: 0.9669 - recall: 0.9267 - auc: 0.9856 - prc: 0.9877 - val_loss: 3.7937 - val_tp: 203.0000 - val_fp: 5.0000 - val_tn: 212.0000 - val_fn: 14.0000 - val_accuracy: 0.9562 - val_precision: 0.9760 - val_recall: 0.9355 - val_auc: 0.9892 - val_prc: 0.9830\n",
      "Epoch 23/70\n",
      "32/32 [==============================] - 1s 31ms/step - loss: 3.6532 - tp: 471.0000 - fp: 20.0000 - tn: 485.0000 - fn: 34.0000 - accuracy: 0.9465 - precision: 0.9593 - recall: 0.9327 - auc: 0.9853 - prc: 0.9822 - val_loss: 3.6227 - val_tp: 205.0000 - val_fp: 4.0000 - val_tn: 213.0000 - val_fn: 12.0000 - val_accuracy: 0.9631 - val_precision: 0.9809 - val_recall: 0.9447 - val_auc: 0.9926 - val_prc: 0.9912\n",
      "Epoch 24/70\n",
      "32/32 [==============================] - 1s 31ms/step - loss: 3.9195 - tp: 466.0000 - fp: 19.0000 - tn: 486.0000 - fn: 39.0000 - accuracy: 0.9426 - precision: 0.9608 - recall: 0.9228 - auc: 0.9815 - prc: 0.9852 - val_loss: 4.2870 - val_tp: 211.0000 - val_fp: 7.0000 - val_tn: 210.0000 - val_fn: 6.0000 - val_accuracy: 0.9700 - val_precision: 0.9679 - val_recall: 0.9724 - val_auc: 0.9925 - val_prc: 0.9907\n",
      "Epoch 25/70\n",
      "32/32 [==============================] - 1s 32ms/step - loss: 4.0276 - tp: 466.0000 - fp: 25.0000 - tn: 480.0000 - fn: 39.0000 - accuracy: 0.9366 - precision: 0.9491 - recall: 0.9228 - auc: 0.9867 - prc: 0.9876 - val_loss: 3.7597 - val_tp: 196.0000 - val_fp: 5.0000 - val_tn: 212.0000 - val_fn: 21.0000 - val_accuracy: 0.9401 - val_precision: 0.9751 - val_recall: 0.9032 - val_auc: 0.9915 - val_prc: 0.9901\n",
      "Epoch 26/70\n",
      "32/32 [==============================] - 1s 32ms/step - loss: 3.5884 - tp: 475.0000 - fp: 17.0000 - tn: 488.0000 - fn: 30.0000 - accuracy: 0.9535 - precision: 0.9654 - recall: 0.9406 - auc: 0.9882 - prc: 0.9896 - val_loss: 3.5502 - val_tp: 204.0000 - val_fp: 3.0000 - val_tn: 214.0000 - val_fn: 13.0000 - val_accuracy: 0.9631 - val_precision: 0.9855 - val_recall: 0.9401 - val_auc: 0.9947 - val_prc: 0.9943\n",
      "Epoch 27/70\n",
      "32/32 [==============================] - 1s 32ms/step - loss: 3.5735 - tp: 468.0000 - fp: 17.0000 - tn: 488.0000 - fn: 37.0000 - accuracy: 0.9465 - precision: 0.9649 - recall: 0.9267 - auc: 0.9857 - prc: 0.9888 - val_loss: 3.7557 - val_tp: 207.0000 - val_fp: 4.0000 - val_tn: 213.0000 - val_fn: 10.0000 - val_accuracy: 0.9677 - val_precision: 0.9810 - val_recall: 0.9539 - val_auc: 0.9933 - val_prc: 0.9918\n",
      "Epoch 28/70\n",
      "32/32 [==============================] - 1s 31ms/step - loss: 4.0404 - tp: 470.0000 - fp: 22.0000 - tn: 483.0000 - fn: 35.0000 - accuracy: 0.9436 - precision: 0.9553 - recall: 0.9307 - auc: 0.9838 - prc: 0.9836 - val_loss: 4.1340 - val_tp: 204.0000 - val_fp: 4.0000 - val_tn: 213.0000 - val_fn: 13.0000 - val_accuracy: 0.9608 - val_precision: 0.9808 - val_recall: 0.9401 - val_auc: 0.9968 - val_prc: 0.9972\n",
      "Epoch 29/70\n",
      "32/32 [==============================] - 1s 31ms/step - loss: 3.7777 - tp: 469.0000 - fp: 19.0000 - tn: 486.0000 - fn: 36.0000 - accuracy: 0.9455 - precision: 0.9611 - recall: 0.9287 - auc: 0.9887 - prc: 0.9899 - val_loss: 3.5448 - val_tp: 209.0000 - val_fp: 4.0000 - val_tn: 213.0000 - val_fn: 8.0000 - val_accuracy: 0.9724 - val_precision: 0.9812 - val_recall: 0.9631 - val_auc: 0.9921 - val_prc: 0.9932\n",
      "Epoch 30/70\n",
      "32/32 [==============================] - 1s 31ms/step - loss: 3.8574 - tp: 472.0000 - fp: 22.0000 - tn: 483.0000 - fn: 33.0000 - accuracy: 0.9455 - precision: 0.9555 - recall: 0.9347 - auc: 0.9867 - prc: 0.9851 - val_loss: 3.9360 - val_tp: 185.0000 - val_fp: 3.0000 - val_tn: 214.0000 - val_fn: 32.0000 - val_accuracy: 0.9194 - val_precision: 0.9840 - val_recall: 0.8525 - val_auc: 0.9943 - val_prc: 0.9944\n",
      "Epoch 31/70\n",
      "32/32 [==============================] - 1s 31ms/step - loss: 3.5859 - tp: 472.0000 - fp: 10.0000 - tn: 495.0000 - fn: 33.0000 - accuracy: 0.9574 - precision: 0.9793 - recall: 0.9347 - auc: 0.9869 - prc: 0.9888 - val_loss: 3.2997 - val_tp: 211.0000 - val_fp: 5.0000 - val_tn: 212.0000 - val_fn: 6.0000 - val_accuracy: 0.9747 - val_precision: 0.9769 - val_recall: 0.9724 - val_auc: 0.9899 - val_prc: 0.9934\n",
      "Epoch 32/70\n",
      "32/32 [==============================] - 1s 32ms/step - loss: 3.6173 - tp: 469.0000 - fp: 21.0000 - tn: 484.0000 - fn: 36.0000 - accuracy: 0.9436 - precision: 0.9571 - recall: 0.9287 - auc: 0.9865 - prc: 0.9853 - val_loss: 3.5424 - val_tp: 198.0000 - val_fp: 3.0000 - val_tn: 214.0000 - val_fn: 19.0000 - val_accuracy: 0.9493 - val_precision: 0.9851 - val_recall: 0.9124 - val_auc: 0.9960 - val_prc: 0.9958\n",
      "Epoch 33/70\n",
      "32/32 [==============================] - 1s 32ms/step - loss: 3.4899 - tp: 469.0000 - fp: 12.0000 - tn: 493.0000 - fn: 36.0000 - accuracy: 0.9525 - precision: 0.9751 - recall: 0.9287 - auc: 0.9900 - prc: 0.9907 - val_loss: 3.5315 - val_tp: 204.0000 - val_fp: 3.0000 - val_tn: 214.0000 - val_fn: 13.0000 - val_accuracy: 0.9631 - val_precision: 0.9855 - val_recall: 0.9401 - val_auc: 0.9942 - val_prc: 0.9943\n",
      "Epoch 34/70\n",
      "32/32 [==============================] - 1s 31ms/step - loss: 3.6999 - tp: 472.0000 - fp: 17.0000 - tn: 488.0000 - fn: 33.0000 - accuracy: 0.9505 - precision: 0.9652 - recall: 0.9347 - auc: 0.9889 - prc: 0.9894 - val_loss: 4.0114 - val_tp: 193.0000 - val_fp: 4.0000 - val_tn: 213.0000 - val_fn: 24.0000 - val_accuracy: 0.9355 - val_precision: 0.9797 - val_recall: 0.8894 - val_auc: 0.9893 - val_prc: 0.9863\n",
      "Epoch 35/70\n",
      "32/32 [==============================] - 1s 31ms/step - loss: 3.8700 - tp: 479.0000 - fp: 18.0000 - tn: 487.0000 - fn: 26.0000 - accuracy: 0.9564 - precision: 0.9638 - recall: 0.9485 - auc: 0.9891 - prc: 0.9895 - val_loss: 3.6474 - val_tp: 211.0000 - val_fp: 2.0000 - val_tn: 215.0000 - val_fn: 6.0000 - val_accuracy: 0.9816 - val_precision: 0.9906 - val_recall: 0.9724 - val_auc: 0.9952 - val_prc: 0.9936\n",
      "Epoch 36/70\n",
      "32/32 [==============================] - 1s 31ms/step - loss: 3.6854 - tp: 474.0000 - fp: 14.0000 - tn: 491.0000 - fn: 31.0000 - accuracy: 0.9554 - precision: 0.9713 - recall: 0.9386 - auc: 0.9860 - prc: 0.9885 - val_loss: 3.8265 - val_tp: 201.0000 - val_fp: 3.0000 - val_tn: 214.0000 - val_fn: 16.0000 - val_accuracy: 0.9562 - val_precision: 0.9853 - val_recall: 0.9263 - val_auc: 0.9926 - val_prc: 0.9927\n",
      "Epoch 37/70\n",
      "32/32 [==============================] - 1s 31ms/step - loss: 3.5398 - tp: 477.0000 - fp: 16.0000 - tn: 489.0000 - fn: 28.0000 - accuracy: 0.9564 - precision: 0.9675 - recall: 0.9446 - auc: 0.9886 - prc: 0.9851 - val_loss: 3.4718 - val_tp: 209.0000 - val_fp: 4.0000 - val_tn: 213.0000 - val_fn: 8.0000 - val_accuracy: 0.9724 - val_precision: 0.9812 - val_recall: 0.9631 - val_auc: 0.9966 - val_prc: 0.9963\n",
      "Epoch 38/70\n",
      "32/32 [==============================] - 1s 31ms/step - loss: 3.3070 - tp: 478.0000 - fp: 14.0000 - tn: 491.0000 - fn: 27.0000 - accuracy: 0.9594 - precision: 0.9715 - recall: 0.9465 - auc: 0.9880 - prc: 0.9906 - val_loss: 3.3250 - val_tp: 211.0000 - val_fp: 5.0000 - val_tn: 212.0000 - val_fn: 6.0000 - val_accuracy: 0.9747 - val_precision: 0.9769 - val_recall: 0.9724 - val_auc: 0.9909 - val_prc: 0.9908\n",
      "Epoch 39/70\n",
      "32/32 [==============================] - 1s 31ms/step - loss: 3.4639 - tp: 468.0000 - fp: 21.0000 - tn: 484.0000 - fn: 37.0000 - accuracy: 0.9426 - precision: 0.9571 - recall: 0.9267 - auc: 0.9834 - prc: 0.9840 - val_loss: 3.7856 - val_tp: 207.0000 - val_fp: 5.0000 - val_tn: 212.0000 - val_fn: 10.0000 - val_accuracy: 0.9654 - val_precision: 0.9764 - val_recall: 0.9539 - val_auc: 0.9915 - val_prc: 0.9926\n",
      "Epoch 40/70\n",
      "32/32 [==============================] - 1s 31ms/step - loss: 3.6938 - tp: 477.0000 - fp: 19.0000 - tn: 486.0000 - fn: 28.0000 - accuracy: 0.9535 - precision: 0.9617 - recall: 0.9446 - auc: 0.9872 - prc: 0.9863 - val_loss: 3.4095 - val_tp: 209.0000 - val_fp: 5.0000 - val_tn: 212.0000 - val_fn: 8.0000 - val_accuracy: 0.9700 - val_precision: 0.9766 - val_recall: 0.9631 - val_auc: 0.9924 - val_prc: 0.9905\n",
      "Epoch 41/70\n",
      "32/32 [==============================] - 1s 32ms/step - loss: 3.5033 - tp: 469.0000 - fp: 18.0000 - tn: 487.0000 - fn: 36.0000 - accuracy: 0.9465 - precision: 0.9630 - recall: 0.9287 - auc: 0.9848 - prc: 0.9866 - val_loss: 4.0007 - val_tp: 206.0000 - val_fp: 5.0000 - val_tn: 212.0000 - val_fn: 11.0000 - val_accuracy: 0.9631 - val_precision: 0.9763 - val_recall: 0.9493 - val_auc: 0.9877 - val_prc: 0.9891\n",
      "Epoch 42/70\n",
      "32/32 [==============================] - 1s 31ms/step - loss: 4.1258 - tp: 471.0000 - fp: 26.0000 - tn: 479.0000 - fn: 34.0000 - accuracy: 0.9406 - precision: 0.9477 - recall: 0.9327 - auc: 0.9828 - prc: 0.9813 - val_loss: 3.7979 - val_tp: 206.0000 - val_fp: 5.0000 - val_tn: 212.0000 - val_fn: 11.0000 - val_accuracy: 0.9631 - val_precision: 0.9763 - val_recall: 0.9493 - val_auc: 0.9949 - val_prc: 0.9946\n",
      "Epoch 43/70\n",
      "32/32 [==============================] - 1s 31ms/step - loss: 3.3728 - tp: 483.0000 - fp: 10.0000 - tn: 495.0000 - fn: 22.0000 - accuracy: 0.9683 - precision: 0.9797 - recall: 0.9564 - auc: 0.9939 - prc: 0.9941 - val_loss: 3.2488 - val_tp: 213.0000 - val_fp: 5.0000 - val_tn: 212.0000 - val_fn: 4.0000 - val_accuracy: 0.9793 - val_precision: 0.9771 - val_recall: 0.9816 - val_auc: 0.9926 - val_prc: 0.9937\n",
      "Epoch 44/70\n",
      "32/32 [==============================] - 1s 31ms/step - loss: 3.3780 - tp: 472.0000 - fp: 21.0000 - tn: 484.0000 - fn: 33.0000 - accuracy: 0.9465 - precision: 0.9574 - recall: 0.9347 - auc: 0.9883 - prc: 0.9896 - val_loss: 3.8125 - val_tp: 207.0000 - val_fp: 3.0000 - val_tn: 214.0000 - val_fn: 10.0000 - val_accuracy: 0.9700 - val_precision: 0.9857 - val_recall: 0.9539 - val_auc: 0.9946 - val_prc: 0.9935\n",
      "Epoch 45/70\n",
      "32/32 [==============================] - 1s 33ms/step - loss: 3.5016 - tp: 481.0000 - fp: 14.0000 - tn: 491.0000 - fn: 24.0000 - accuracy: 0.9624 - precision: 0.9717 - recall: 0.9525 - auc: 0.9942 - prc: 0.9946 - val_loss: 3.5423 - val_tp: 205.0000 - val_fp: 4.0000 - val_tn: 213.0000 - val_fn: 12.0000 - val_accuracy: 0.9631 - val_precision: 0.9809 - val_recall: 0.9447 - val_auc: 0.9894 - val_prc: 0.9902\n",
      "Epoch 46/70\n",
      "32/32 [==============================] - 1s 32ms/step - loss: 3.3856 - tp: 472.0000 - fp: 10.0000 - tn: 495.0000 - fn: 33.0000 - accuracy: 0.9574 - precision: 0.9793 - recall: 0.9347 - auc: 0.9892 - prc: 0.9875 - val_loss: 3.4275 - val_tp: 212.0000 - val_fp: 4.0000 - val_tn: 213.0000 - val_fn: 5.0000 - val_accuracy: 0.9793 - val_precision: 0.9815 - val_recall: 0.9770 - val_auc: 0.9965 - val_prc: 0.9962\n",
      "Epoch 47/70\n",
      "32/32 [==============================] - 1s 32ms/step - loss: 3.5704 - tp: 477.0000 - fp: 22.0000 - tn: 483.0000 - fn: 28.0000 - accuracy: 0.9505 - precision: 0.9559 - recall: 0.9446 - auc: 0.9845 - prc: 0.9844 - val_loss: 3.6881 - val_tp: 211.0000 - val_fp: 4.0000 - val_tn: 213.0000 - val_fn: 6.0000 - val_accuracy: 0.9770 - val_precision: 0.9814 - val_recall: 0.9724 - val_auc: 0.9924 - val_prc: 0.9929\n",
      "Epoch 48/70\n",
      "32/32 [==============================] - 1s 31ms/step - loss: 3.5296 - tp: 475.0000 - fp: 21.0000 - tn: 484.0000 - fn: 30.0000 - accuracy: 0.9495 - precision: 0.9577 - recall: 0.9406 - auc: 0.9915 - prc: 0.9911 - val_loss: 3.6226 - val_tp: 215.0000 - val_fp: 3.0000 - val_tn: 214.0000 - val_fn: 2.0000 - val_accuracy: 0.9885 - val_precision: 0.9862 - val_recall: 0.9908 - val_auc: 0.9946 - val_prc: 0.9936\n",
      "Epoch 49/70\n",
      "32/32 [==============================] - 1s 34ms/step - loss: 3.8914 - tp: 470.0000 - fp: 14.0000 - tn: 491.0000 - fn: 35.0000 - accuracy: 0.9515 - precision: 0.9711 - recall: 0.9307 - auc: 0.9880 - prc: 0.9892 - val_loss: 3.6786 - val_tp: 210.0000 - val_fp: 6.0000 - val_tn: 211.0000 - val_fn: 7.0000 - val_accuracy: 0.9700 - val_precision: 0.9722 - val_recall: 0.9677 - val_auc: 0.9913 - val_prc: 0.9896\n",
      "Epoch 50/70\n",
      "32/32 [==============================] - 1s 33ms/step - loss: 3.4201 - tp: 474.0000 - fp: 18.0000 - tn: 487.0000 - fn: 31.0000 - accuracy: 0.9515 - precision: 0.9634 - recall: 0.9386 - auc: 0.9887 - prc: 0.9873 - val_loss: 3.6976 - val_tp: 204.0000 - val_fp: 3.0000 - val_tn: 214.0000 - val_fn: 13.0000 - val_accuracy: 0.9631 - val_precision: 0.9855 - val_recall: 0.9401 - val_auc: 0.9902 - val_prc: 0.9916\n",
      "Epoch 51/70\n",
      "32/32 [==============================] - 1s 34ms/step - loss: 3.7466 - tp: 474.0000 - fp: 15.0000 - tn: 490.0000 - fn: 31.0000 - accuracy: 0.9545 - precision: 0.9693 - recall: 0.9386 - auc: 0.9833 - prc: 0.9851 - val_loss: 3.8386 - val_tp: 207.0000 - val_fp: 4.0000 - val_tn: 213.0000 - val_fn: 10.0000 - val_accuracy: 0.9677 - val_precision: 0.9810 - val_recall: 0.9539 - val_auc: 0.9901 - val_prc: 0.9907\n",
      "Epoch 52/70\n",
      "32/32 [==============================] - 1s 32ms/step - loss: 3.8978 - tp: 479.0000 - fp: 18.0000 - tn: 487.0000 - fn: 26.0000 - accuracy: 0.9564 - precision: 0.9638 - recall: 0.9485 - auc: 0.9905 - prc: 0.9915 - val_loss: 3.6324 - val_tp: 211.0000 - val_fp: 4.0000 - val_tn: 213.0000 - val_fn: 6.0000 - val_accuracy: 0.9770 - val_precision: 0.9814 - val_recall: 0.9724 - val_auc: 0.9892 - val_prc: 0.9889\n",
      "Epoch 53/70\n",
      "32/32 [==============================] - 1s 32ms/step - loss: 3.5700 - tp: 471.0000 - fp: 20.0000 - tn: 485.0000 - fn: 34.0000 - accuracy: 0.9465 - precision: 0.9593 - recall: 0.9327 - auc: 0.9833 - prc: 0.9831 - val_loss: 3.8039 - val_tp: 208.0000 - val_fp: 3.0000 - val_tn: 214.0000 - val_fn: 9.0000 - val_accuracy: 0.9724 - val_precision: 0.9858 - val_recall: 0.9585 - val_auc: 0.9917 - val_prc: 0.9935\n",
      "Epoch 54/70\n",
      "32/32 [==============================] - 1s 31ms/step - loss: 3.7313 - tp: 477.0000 - fp: 20.0000 - tn: 485.0000 - fn: 28.0000 - accuracy: 0.9525 - precision: 0.9598 - recall: 0.9446 - auc: 0.9915 - prc: 0.9918 - val_loss: 3.5537 - val_tp: 194.0000 - val_fp: 3.0000 - val_tn: 214.0000 - val_fn: 23.0000 - val_accuracy: 0.9401 - val_precision: 0.9848 - val_recall: 0.8940 - val_auc: 0.9916 - val_prc: 0.9930\n",
      "Epoch 55/70\n",
      "32/32 [==============================] - 1s 32ms/step - loss: 3.4084 - tp: 478.0000 - fp: 19.0000 - tn: 486.0000 - fn: 27.0000 - accuracy: 0.9545 - precision: 0.9618 - recall: 0.9465 - auc: 0.9892 - prc: 0.9903 - val_loss: 3.4940 - val_tp: 205.0000 - val_fp: 5.0000 - val_tn: 212.0000 - val_fn: 12.0000 - val_accuracy: 0.9608 - val_precision: 0.9762 - val_recall: 0.9447 - val_auc: 0.9925 - val_prc: 0.9929\n",
      "Epoch 56/70\n",
      "32/32 [==============================] - 1s 32ms/step - loss: 3.6121 - tp: 475.0000 - fp: 19.0000 - tn: 486.0000 - fn: 30.0000 - accuracy: 0.9515 - precision: 0.9615 - recall: 0.9406 - auc: 0.9882 - prc: 0.9903 - val_loss: 3.6121 - val_tp: 215.0000 - val_fp: 3.0000 - val_tn: 214.0000 - val_fn: 2.0000 - val_accuracy: 0.9885 - val_precision: 0.9862 - val_recall: 0.9908 - val_auc: 0.9964 - val_prc: 0.9965\n",
      "Epoch 57/70\n",
      "32/32 [==============================] - 1s 31ms/step - loss: 3.5652 - tp: 474.0000 - fp: 22.0000 - tn: 483.0000 - fn: 31.0000 - accuracy: 0.9475 - precision: 0.9556 - recall: 0.9386 - auc: 0.9866 - prc: 0.9839 - val_loss: 3.7204 - val_tp: 206.0000 - val_fp: 3.0000 - val_tn: 214.0000 - val_fn: 11.0000 - val_accuracy: 0.9677 - val_precision: 0.9856 - val_recall: 0.9493 - val_auc: 0.9918 - val_prc: 0.9927\n",
      "Epoch 58/70\n",
      "32/32 [==============================] - 1s 32ms/step - loss: 3.9159 - tp: 478.0000 - fp: 18.0000 - tn: 487.0000 - fn: 27.0000 - accuracy: 0.9554 - precision: 0.9637 - recall: 0.9465 - auc: 0.9869 - prc: 0.9894 - val_loss: 4.0944 - val_tp: 209.0000 - val_fp: 3.0000 - val_tn: 214.0000 - val_fn: 8.0000 - val_accuracy: 0.9747 - val_precision: 0.9858 - val_recall: 0.9631 - val_auc: 0.9943 - val_prc: 0.9941\n",
      "Epoch 59/70\n",
      "32/32 [==============================] - 1s 32ms/step - loss: 3.4989 - tp: 479.0000 - fp: 12.0000 - tn: 493.0000 - fn: 26.0000 - accuracy: 0.9624 - precision: 0.9756 - recall: 0.9485 - auc: 0.9921 - prc: 0.9934 - val_loss: 3.4910 - val_tp: 209.0000 - val_fp: 3.0000 - val_tn: 214.0000 - val_fn: 8.0000 - val_accuracy: 0.9747 - val_precision: 0.9858 - val_recall: 0.9631 - val_auc: 0.9946 - val_prc: 0.9945\n",
      "Epoch 60/70\n",
      "32/32 [==============================] - 1s 32ms/step - loss: 3.6288 - tp: 475.0000 - fp: 23.0000 - tn: 482.0000 - fn: 30.0000 - accuracy: 0.9475 - precision: 0.9538 - recall: 0.9406 - auc: 0.9867 - prc: 0.9850 - val_loss: 3.9830 - val_tp: 212.0000 - val_fp: 1.0000 - val_tn: 216.0000 - val_fn: 5.0000 - val_accuracy: 0.9862 - val_precision: 0.9953 - val_recall: 0.9770 - val_auc: 0.9989 - val_prc: 0.9989\n",
      "Epoch 61/70\n",
      "32/32 [==============================] - 1s 32ms/step - loss: 4.1992 - tp: 474.0000 - fp: 19.0000 - tn: 486.0000 - fn: 31.0000 - accuracy: 0.9505 - precision: 0.9615 - recall: 0.9386 - auc: 0.9885 - prc: 0.9848 - val_loss: 3.9419 - val_tp: 215.0000 - val_fp: 3.0000 - val_tn: 214.0000 - val_fn: 2.0000 - val_accuracy: 0.9885 - val_precision: 0.9862 - val_recall: 0.9908 - val_auc: 0.9960 - val_prc: 0.9956\n",
      "Epoch 62/70\n",
      "32/32 [==============================] - 1s 32ms/step - loss: 3.6673 - tp: 474.0000 - fp: 21.0000 - tn: 484.0000 - fn: 31.0000 - accuracy: 0.9485 - precision: 0.9576 - recall: 0.9386 - auc: 0.9844 - prc: 0.9858 - val_loss: 3.7461 - val_tp: 214.0000 - val_fp: 3.0000 - val_tn: 214.0000 - val_fn: 3.0000 - val_accuracy: 0.9862 - val_precision: 0.9862 - val_recall: 0.9862 - val_auc: 0.9922 - val_prc: 0.9937\n",
      "Epoch 63/70\n",
      "32/32 [==============================] - 1s 32ms/step - loss: 3.6148 - tp: 481.0000 - fp: 20.0000 - tn: 485.0000 - fn: 24.0000 - accuracy: 0.9564 - precision: 0.9601 - recall: 0.9525 - auc: 0.9912 - prc: 0.9922 - val_loss: 3.4571 - val_tp: 211.0000 - val_fp: 4.0000 - val_tn: 213.0000 - val_fn: 6.0000 - val_accuracy: 0.9770 - val_precision: 0.9814 - val_recall: 0.9724 - val_auc: 0.9947 - val_prc: 0.9938\n",
      "Epoch 64/70\n",
      "32/32 [==============================] - 1s 33ms/step - loss: 3.1475 - tp: 484.0000 - fp: 13.0000 - tn: 492.0000 - fn: 21.0000 - accuracy: 0.9663 - precision: 0.9738 - recall: 0.9584 - auc: 0.9911 - prc: 0.9895 - val_loss: 3.2383 - val_tp: 209.0000 - val_fp: 5.0000 - val_tn: 212.0000 - val_fn: 8.0000 - val_accuracy: 0.9700 - val_precision: 0.9766 - val_recall: 0.9631 - val_auc: 0.9918 - val_prc: 0.9900\n",
      "Epoch 65/70\n",
      "32/32 [==============================] - 1s 33ms/step - loss: 3.2360 - tp: 481.0000 - fp: 17.0000 - tn: 488.0000 - fn: 24.0000 - accuracy: 0.9594 - precision: 0.9659 - recall: 0.9525 - auc: 0.9906 - prc: 0.9906 - val_loss: 3.2109 - val_tp: 196.0000 - val_fp: 3.0000 - val_tn: 214.0000 - val_fn: 21.0000 - val_accuracy: 0.9447 - val_precision: 0.9849 - val_recall: 0.9032 - val_auc: 0.9878 - val_prc: 0.9882\n",
      "Epoch 66/70\n",
      "32/32 [==============================] - 1s 32ms/step - loss: 3.3178 - tp: 465.0000 - fp: 20.0000 - tn: 485.0000 - fn: 40.0000 - accuracy: 0.9406 - precision: 0.9588 - recall: 0.9208 - auc: 0.9876 - prc: 0.9865 - val_loss: 3.7265 - val_tp: 212.0000 - val_fp: 3.0000 - val_tn: 214.0000 - val_fn: 5.0000 - val_accuracy: 0.9816 - val_precision: 0.9860 - val_recall: 0.9770 - val_auc: 0.9973 - val_prc: 0.9970\n",
      "Epoch 67/70\n",
      "32/32 [==============================] - 1s 32ms/step - loss: 3.6496 - tp: 474.0000 - fp: 16.0000 - tn: 489.0000 - fn: 31.0000 - accuracy: 0.9535 - precision: 0.9673 - recall: 0.9386 - auc: 0.9877 - prc: 0.9901 - val_loss: 3.4489 - val_tp: 210.0000 - val_fp: 4.0000 - val_tn: 213.0000 - val_fn: 7.0000 - val_accuracy: 0.9747 - val_precision: 0.9813 - val_recall: 0.9677 - val_auc: 0.9939 - val_prc: 0.9933\n",
      "Epoch 68/70\n",
      "32/32 [==============================] - 1s 32ms/step - loss: 3.7929 - tp: 471.0000 - fp: 24.0000 - tn: 481.0000 - fn: 34.0000 - accuracy: 0.9426 - precision: 0.9515 - recall: 0.9327 - auc: 0.9859 - prc: 0.9824 - val_loss: 4.0720 - val_tp: 208.0000 - val_fp: 5.0000 - val_tn: 212.0000 - val_fn: 9.0000 - val_accuracy: 0.9677 - val_precision: 0.9765 - val_recall: 0.9585 - val_auc: 0.9883 - val_prc: 0.9858\n",
      "Epoch 69/70\n",
      "32/32 [==============================] - 1s 31ms/step - loss: 3.7864 - tp: 479.0000 - fp: 17.0000 - tn: 488.0000 - fn: 26.0000 - accuracy: 0.9574 - precision: 0.9657 - recall: 0.9485 - auc: 0.9882 - prc: 0.9872 - val_loss: 3.7317 - val_tp: 205.0000 - val_fp: 4.0000 - val_tn: 213.0000 - val_fn: 12.0000 - val_accuracy: 0.9631 - val_precision: 0.9809 - val_recall: 0.9447 - val_auc: 0.9941 - val_prc: 0.9939\n",
      "Epoch 70/70\n",
      "32/32 [==============================] - 1s 35ms/step - loss: 3.6786 - tp: 477.0000 - fp: 14.0000 - tn: 491.0000 - fn: 28.0000 - accuracy: 0.9584 - precision: 0.9715 - recall: 0.9446 - auc: 0.9868 - prc: 0.9849 - val_loss: 3.6159 - val_tp: 207.0000 - val_fp: 3.0000 - val_tn: 214.0000 - val_fn: 10.0000 - val_accuracy: 0.9700 - val_precision: 0.9857 - val_recall: 0.9539 - val_auc: 0.9921 - val_prc: 0.9944\n"
     ]
    }
   ],
   "source": [
    "num_epochs = 70\n",
    "history = model.fit(training_split, train_result, epochs=num_epochs, validation_data=(test_split, test_result))"
   ],
   "metadata": {
    "collapsed": false,
    "pycharm": {
     "name": "#%%\n"
    }
   }
  },
  {
   "cell_type": "code",
   "execution_count": 1985,
   "outputs": [],
   "source": [
    "table_test = pd.read_table('../drug-discovery/1663769555_8653905_test.txt', names=['sequence'])"
   ],
   "metadata": {
    "collapsed": false,
    "pycharm": {
     "name": "#%%\n"
    }
   }
  },
  {
   "cell_type": "code",
   "execution_count": 1880,
   "outputs": [
    {
     "data": {
      "text/plain": "                                              sequence\n0    259 521 546 565 671 769 858 876 1056 1252 1392...\n1    96 158 195 436 518 541 588 642 804 843 978 115...\n2    13 169 354 587 803 1241 1472 1586 1605 1638 16...\n3    10 91 184 191 546 825 978 1077 1155 1220 1297 ...\n4    37 85 119 191 349 390 437 458 671 707 1454 157...\n..                                                 ...\n345  43 150 273 363 797 889 1014 1016 1077 1176 135...\n346  34 118 132 150 162 259 347 470 477 479 613 651...\n347  84 250 263 616 1220 1289 1314 1384 1440 1442 1...\n348  121 136 165 207 232 309 375 412 453 460 521 72...\n349  354 382 386 394 548 733 783 1167 1214 1222 122...\n\n[350 rows x 1 columns]",
      "text/html": "<div>\n<style scoped>\n    .dataframe tbody tr th:only-of-type {\n        vertical-align: middle;\n    }\n\n    .dataframe tbody tr th {\n        vertical-align: top;\n    }\n\n    .dataframe thead th {\n        text-align: right;\n    }\n</style>\n<table border=\"1\" class=\"dataframe\">\n  <thead>\n    <tr style=\"text-align: right;\">\n      <th></th>\n      <th>sequence</th>\n    </tr>\n  </thead>\n  <tbody>\n    <tr>\n      <th>0</th>\n      <td>259 521 546 565 671 769 858 876 1056 1252 1392...</td>\n    </tr>\n    <tr>\n      <th>1</th>\n      <td>96 158 195 436 518 541 588 642 804 843 978 115...</td>\n    </tr>\n    <tr>\n      <th>2</th>\n      <td>13 169 354 587 803 1241 1472 1586 1605 1638 16...</td>\n    </tr>\n    <tr>\n      <th>3</th>\n      <td>10 91 184 191 546 825 978 1077 1155 1220 1297 ...</td>\n    </tr>\n    <tr>\n      <th>4</th>\n      <td>37 85 119 191 349 390 437 458 671 707 1454 157...</td>\n    </tr>\n    <tr>\n      <th>...</th>\n      <td>...</td>\n    </tr>\n    <tr>\n      <th>345</th>\n      <td>43 150 273 363 797 889 1014 1016 1077 1176 135...</td>\n    </tr>\n    <tr>\n      <th>346</th>\n      <td>34 118 132 150 162 259 347 470 477 479 613 651...</td>\n    </tr>\n    <tr>\n      <th>347</th>\n      <td>84 250 263 616 1220 1289 1314 1384 1440 1442 1...</td>\n    </tr>\n    <tr>\n      <th>348</th>\n      <td>121 136 165 207 232 309 375 412 453 460 521 72...</td>\n    </tr>\n    <tr>\n      <th>349</th>\n      <td>354 382 386 394 548 733 783 1167 1214 1222 122...</td>\n    </tr>\n  </tbody>\n</table>\n<p>350 rows × 1 columns</p>\n</div>"
     },
     "execution_count": 1880,
     "metadata": {},
     "output_type": "execute_result"
    }
   ],
   "source": [
    "table_test.head()"
   ],
   "metadata": {
    "collapsed": false,
    "pycharm": {
     "name": "#%%\n"
    }
   }
  },
  {
   "cell_type": "code",
   "execution_count": 1881,
   "outputs": [],
   "source": [
    "unlabeled_test_sequence = vectorizer.transform(table_test.sequence).toarray()"
   ],
   "metadata": {
    "collapsed": false,
    "pycharm": {
     "name": "#%%\n"
    }
   }
  },
  {
   "cell_type": "code",
   "execution_count": 1960,
   "outputs": [
    {
     "data": {
      "text/plain": "(350, 82145)"
     },
     "execution_count": 1960,
     "metadata": {},
     "output_type": "execute_result"
    }
   ],
   "source": [
    "unlabeled_test_sequence.shape"
   ],
   "metadata": {
    "collapsed": false,
    "pycharm": {
     "name": "#%%\n"
    }
   }
  },
  {
   "cell_type": "code",
   "execution_count": 1884,
   "outputs": [
    {
     "name": "stdout",
     "output_type": "stream",
     "text": [
      "11/11 [==============================] - 0s 11ms/step\n"
     ]
    }
   ],
   "source": [
    "y = model.predict(unlabeled_test_sequence)"
   ],
   "metadata": {
    "collapsed": false,
    "pycharm": {
     "name": "#%%\n"
    }
   }
  },
  {
   "cell_type": "code",
   "execution_count": 1885,
   "outputs": [
    {
     "data": {
      "text/plain": "array([[0.78626114],\n       [0.48406723],\n       [0.48406723],\n       [0.48406723],\n       [0.48406723],\n       [0.48406723],\n       [0.48406723],\n       [0.48656183],\n       [0.5004774 ],\n       [0.54764986],\n       [0.48406723],\n       [0.48406723],\n       [0.48406723],\n       [0.48406723],\n       [0.48406723],\n       [0.5052497 ],\n       [0.48406723],\n       [0.48406723],\n       [0.48406723],\n       [0.48406723],\n       [0.48406723],\n       [0.48406723],\n       [0.48406723],\n       [0.48406723],\n       [0.48406723],\n       [0.75659084],\n       [0.5086178 ],\n       [0.48406723],\n       [0.48406723],\n       [0.48406723],\n       [0.48406723],\n       [0.48406723],\n       [0.48406723],\n       [0.48406723],\n       [0.48406723],\n       [0.5107806 ],\n       [0.48406723],\n       [0.5208573 ],\n       [0.5409728 ],\n       [0.48406723],\n       [0.48406723],\n       [0.48406723],\n       [0.48406723],\n       [0.48406723],\n       [0.48406723],\n       [0.48406723],\n       [0.48406723],\n       [0.48406723],\n       [0.48406723],\n       [0.48406723],\n       [0.6255108 ],\n       [0.48406723],\n       [0.48406723],\n       [0.5617034 ],\n       [0.48406723],\n       [0.8142678 ],\n       [0.48406723],\n       [0.48406723],\n       [0.48406723],\n       [0.48406723],\n       [0.48406723],\n       [0.906012  ],\n       [0.48406723],\n       [0.48406723],\n       [0.48406723],\n       [0.48406723],\n       [0.63921326],\n       [0.48406723],\n       [0.48406723],\n       [0.48406723],\n       [0.48406723],\n       [0.48406723],\n       [0.48406723],\n       [0.48406723],\n       [0.48406723],\n       [0.5037619 ],\n       [0.48406723],\n       [0.48406723],\n       [0.48406723],\n       [0.48406723],\n       [0.48406723],\n       [0.48406723],\n       [0.73729676],\n       [0.6416595 ],\n       [0.48406723],\n       [0.8025384 ],\n       [0.48406723],\n       [0.48406723],\n       [0.48406723],\n       [0.48954344],\n       [0.48406723],\n       [0.48406723],\n       [0.48406723],\n       [0.48406723],\n       [0.48406723],\n       [0.48406723],\n       [0.48406723],\n       [0.48406723],\n       [0.7697503 ],\n       [0.997998  ],\n       [0.48406723],\n       [0.48406723],\n       [0.48406723],\n       [0.48406723],\n       [0.48406723],\n       [0.48406723],\n       [0.48406723],\n       [0.48406723],\n       [0.48406723],\n       [0.48406723],\n       [0.48406723],\n       [0.48406723],\n       [0.48406723],\n       [0.48406723],\n       [0.93478113],\n       [0.48406723],\n       [0.48406723],\n       [0.48406723],\n       [0.50616294],\n       [0.48406723],\n       [0.5256448 ],\n       [0.48406723],\n       [0.48406723],\n       [0.48406723],\n       [0.48406723],\n       [0.4875775 ],\n       [0.48406723],\n       [0.48406723],\n       [0.48406723],\n       [0.48406723],\n       [0.48406723],\n       [0.81212735],\n       [0.48406723],\n       [0.48406723],\n       [0.48406723],\n       [0.48406723],\n       [0.48406723],\n       [0.48406723],\n       [0.48406723],\n       [0.64025766],\n       [0.48406723],\n       [0.48406723],\n       [0.48406723],\n       [0.48406723],\n       [0.48406723],\n       [0.49352404],\n       [0.78179955],\n       [0.48406723],\n       [0.5508669 ],\n       [0.48406723],\n       [0.48406723],\n       [0.48406723],\n       [0.48406723],\n       [0.81295776],\n       [0.48406723],\n       [0.5045172 ],\n       [0.48406723],\n       [0.48406723],\n       [0.48406723],\n       [0.48406723],\n       [0.5397096 ],\n       [0.48406723],\n       [0.7346868 ],\n       [0.48406723],\n       [0.48406723],\n       [0.48406723],\n       [0.48406723],\n       [0.48406723],\n       [0.48406723],\n       [0.48406723],\n       [0.48406723],\n       [0.48502874],\n       [0.48406723],\n       [0.48406723],\n       [0.48406723],\n       [0.48406723],\n       [0.48406723],\n       [0.48406723],\n       [0.48406723],\n       [0.48406723],\n       [0.48406723],\n       [0.48406723],\n       [0.48406723],\n       [0.48406723],\n       [0.48406723],\n       [0.48406723],\n       [0.48406723],\n       [0.48406723],\n       [0.48406723],\n       [0.48406723],\n       [0.48406723],\n       [0.48406723],\n       [0.48406723],\n       [0.48406723],\n       [0.48406723],\n       [0.48406723],\n       [0.48406723],\n       [0.48406723],\n       [0.5168597 ],\n       [0.48406723],\n       [0.6139707 ],\n       [0.48406723],\n       [0.48406723],\n       [0.48406723],\n       [0.48406723],\n       [0.48406723],\n       [0.48406723],\n       [0.48406723],\n       [0.48406723],\n       [0.48406723],\n       [0.48406723],\n       [0.48406723],\n       [0.48406723],\n       [0.48406723],\n       [0.48406723],\n       [0.48406723],\n       [0.48406723],\n       [0.48406723],\n       [0.48406723],\n       [0.48406723],\n       [0.4844962 ],\n       [0.48406723],\n       [0.67269754],\n       [0.48406723],\n       [0.48406723],\n       [0.9707234 ],\n       [0.48406723],\n       [0.48406723],\n       [0.5604461 ],\n       [0.48406723],\n       [0.74600685],\n       [0.48406723],\n       [0.48406723],\n       [0.48406723],\n       [0.48406723],\n       [0.48406723],\n       [0.48406723],\n       [0.48406723],\n       [0.48406723],\n       [0.50031126],\n       [0.48406723],\n       [0.48406723],\n       [0.48406723],\n       [0.48406723],\n       [0.48406723],\n       [0.48406723],\n       [0.48406723],\n       [0.56334525],\n       [0.48406723],\n       [0.48406723],\n       [0.48406723],\n       [0.52270573],\n       [0.48406723],\n       [0.48406723],\n       [0.75105995],\n       [0.48406723],\n       [0.48406723],\n       [0.48406723],\n       [0.6280135 ],\n       [0.48406723],\n       [0.5013462 ],\n       [0.48406723],\n       [0.49185762],\n       [0.48406723],\n       [0.51730037],\n       [0.48406723],\n       [0.48406723],\n       [0.48406723],\n       [0.4881716 ],\n       [0.48406723],\n       [0.48406723],\n       [0.48406723],\n       [0.49852955],\n       [0.48406723],\n       [0.48406723],\n       [0.48406723],\n       [0.48406723],\n       [0.48406723],\n       [0.48406723],\n       [0.48406723],\n       [0.48406723],\n       [0.535876  ],\n       [0.48406723],\n       [0.48406723],\n       [0.50830704],\n       [0.48406723],\n       [0.48406723],\n       [0.48406723],\n       [0.48406723],\n       [0.49664322],\n       [0.48406723],\n       [0.48406723],\n       [0.7290696 ],\n       [0.48406723],\n       [0.48406723],\n       [0.48406723],\n       [0.48406723],\n       [0.48406723],\n       [0.6900825 ],\n       [0.48406723],\n       [0.48406723],\n       [0.48406723],\n       [0.48406723],\n       [0.48406723],\n       [0.48406723],\n       [0.48406723],\n       [0.48406723],\n       [0.49685508],\n       [0.48406723],\n       [0.48406723],\n       [0.48406723],\n       [0.48406723],\n       [0.48406723],\n       [0.48406723],\n       [0.48406723],\n       [0.6644348 ],\n       [0.48406723],\n       [0.48406723],\n       [0.48406723],\n       [0.48406723],\n       [0.48406723],\n       [0.48406723],\n       [0.7018824 ],\n       [0.48406723],\n       [0.48406723],\n       [0.5342927 ],\n       [0.5204011 ],\n       [0.48406723],\n       [0.48406723],\n       [0.48406723],\n       [0.69954306],\n       [0.48406723],\n       [0.48406723],\n       [0.48406723],\n       [0.48406723],\n       [0.48406723],\n       [0.5312272 ],\n       [0.48406723],\n       [0.56167364],\n       [0.48406723],\n       [0.48406723],\n       [0.48406723],\n       [0.48406723],\n       [0.48406723],\n       [0.48406723],\n       [0.48406723],\n       [0.48406723],\n       [0.48406723],\n       [0.7309809 ],\n       [0.5083146 ]], dtype=float32)"
     },
     "execution_count": 1885,
     "metadata": {},
     "output_type": "execute_result"
    }
   ],
   "source": [
    "y"
   ],
   "metadata": {
    "collapsed": false,
    "pycharm": {
     "name": "#%%\n"
    }
   }
  },
  {
   "cell_type": "code",
   "execution_count": 1886,
   "outputs": [],
   "source": [
    "# for i in range(3):\n",
    "z = [1 if i>=.5 else 0 for i in y ]"
   ],
   "metadata": {
    "collapsed": false,
    "pycharm": {
     "name": "#%%\n"
    }
   }
  },
  {
   "cell_type": "code",
   "execution_count": 1889,
   "outputs": [
    {
     "data": {
      "text/plain": "350"
     },
     "execution_count": 1889,
     "metadata": {},
     "output_type": "execute_result"
    }
   ],
   "source": [
    "len(z)"
   ],
   "metadata": {
    "collapsed": false,
    "pycharm": {
     "name": "#%%\n"
    }
   }
  },
  {
   "cell_type": "code",
   "execution_count": 1890,
   "outputs": [],
   "source": [
    "import csv\n",
    "outfile = open('./results.csv','w')\n",
    "out = csv.writer(outfile)\n",
    "out.writerows(map(lambda x: [x], z))\n",
    "outfile.close()"
   ],
   "metadata": {
    "collapsed": false,
    "pycharm": {
     "name": "#%%\n"
    }
   }
  },
  {
   "cell_type": "code",
   "execution_count": 1996,
   "outputs": [
    {
     "data": {
      "text/plain": "[<matplotlib.lines.Line2D at 0x3ad99f160>]"
     },
     "execution_count": 1996,
     "metadata": {},
     "output_type": "execute_result"
    },
    {
     "data": {
      "text/plain": "<Figure size 640x480 with 3 Axes>",
      "image/png": "[encoded data removed]"
     },
     "metadata": {},
     "output_type": "display_data"
    }
   ],
   "source": [
    "fig, (ax1,ax2, ax3) = plt.subplots(3,1)\n",
    "testloss = np.array(history.history['val_loss']).reshape(len(history.history['val_loss']),1)\n",
    "trainloss = np.array(history.history['loss']).reshape(len(history.history['loss']),1)\n",
    "\n",
    "ax1.plot(history.epoch, testloss, '-')\n",
    "ax1.plot(history.epoch, trainloss, '--')\n",
    "# ax1.ylabel('loss')\n",
    "# ax1.xlabel('epoch')\n",
    "\n",
    "train_precision = np.array(history.history['precision']).reshape(len(history.history['loss']),1)\n",
    "train_recall= np.array(history.history['recall']).reshape(len(history.history['loss']),1)\n",
    "j =( 2 * train_precision * train_recall) / (train_precision+train_recall)\n",
    "\n",
    "test_precission = np.array(history.history['val_precision']).reshape(len(history.history['loss']),1)\n",
    "test_recall = np.array(history.history['val_recall']).reshape(len(history.history['loss']),1)\n",
    "k = (2 * test_precission * test_recall )/ (test_precission+test_recall)\n",
    "plt.plot(history.epoch,j, '-')\n",
    "plt.plot(k,'--')\n",
    "\n",
    "ax2.plot(history.epoch, k, 'tab:red')\n",
    "ax2.plot(history.epoch, j, 'tab:green')\n",
    "\n",
    "ax3.plot(history.epoch, j)\n",
    "ax3.plot(trainloss,'tab:blue')"
   ],
   "metadata": {
    "collapsed": false,
    "pycharm": {
     "name": "#%%\n"
    }
   }
  },
  {
   "cell_type": "code",
   "execution_count": null,
   "outputs": [],
   "source": [],
   "metadata": {
    "collapsed": false,
    "pycharm": {
     "name": "#%%\n"
    }
   }
  }
 ],
 "metadata": {
  "kernelspec": {
   "display_name": "Python 3",
   "language": "python",
   "name": "python3"
  },
  "language_info": {
   "codemirror_mode": {
    "name": "ipython",
    "version": 2
   },
   "file_extension": ".py",
   "mimetype": "text/x-python",
   "name": "python",
   "nbconvert_exporter": "python",
   "pygments_lexer": "ipython2",
   "version": "2.7.6"
  }
 },
 "nbformat": 4,
 "nbformat_minor": 0
}