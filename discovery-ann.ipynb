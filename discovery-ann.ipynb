{
 "cells": [
  {
   "cell_type": "code",
   "execution_count": 1411,
   "metadata": {
    "collapsed": true,
    "pycharm": {
     "name": "#%%\n"
    }
   },
   "outputs": [],
   "source": [
    "import tensorflow as tf\n",
    "import pandas as pd\n",
    "import numpy as np"
   ]
  },
  {
   "cell_type": "code",
   "execution_count": 1441,
   "outputs": [],
   "source": [
    "table = pd.read_table('../drug-discovery/1663769555_8559356_train.txt', names=['binding','sequence'])"
   ],
   "metadata": {
    "collapsed": false,
    "pycharm": {
     "name": "#%%\n"
    }
   }
  },
  {
   "cell_type": "code",
   "execution_count": 1413,
   "outputs": [],
   "source": [
    "def collect_with_target_value(data_frame, column, target_value):\n",
    "    collected_values = data_frame.loc[data_frame[column] == target_value]\n",
    "    return collected_values"
   ],
   "metadata": {
    "collapsed": false,
    "pycharm": {
     "name": "#%%\n"
    }
   }
  },
  {
   "cell_type": "code",
   "execution_count": 1414,
   "outputs": [],
   "source": [
    "active_df = collect_with_target_value(table, 'binding', 1).reset_index()\n",
    "not_active_dfs = collect_with_target_value(table, 'binding',0).reset_index()"
   ],
   "metadata": {
    "collapsed": false,
    "pycharm": {
     "name": "#%%\n"
    }
   }
  },
  {
   "cell_type": "code",
   "execution_count": 1415,
   "outputs": [
    {
     "data": {
      "text/plain": "(722, 3)"
     },
     "execution_count": 1415,
     "metadata": {},
     "output_type": "execute_result"
    }
   ],
   "source": [
    "not_active_dfs.shape"
   ],
   "metadata": {
    "collapsed": false,
    "pycharm": {
     "name": "#%%\n"
    }
   }
  },
  {
   "cell_type": "code",
   "execution_count": 1416,
   "outputs": [
    {
     "data": {
      "text/plain": "(217,)"
     },
     "execution_count": 1416,
     "metadata": {},
     "output_type": "execute_result"
    }
   ],
   "source": [
    "not_active_dfs = pd.DataFrame.sample(not_active_dfs,frac=.30, random_state= np.random.RandomState())\n",
    "not_active_dfs.binding.shape"
   ],
   "metadata": {
    "collapsed": false,
    "pycharm": {
     "name": "#%%\n"
    }
   }
  },
  {
   "cell_type": "code",
   "execution_count": 1417,
   "outputs": [],
   "source": [
    "final_data_set = pd.concat([active_df,not_active_dfs])\n",
    "final_data_set = final_data_set.drop(['index'],axis=1).sample(frac=1).reset_index()\n",
    "final_data_set = final_data_set.drop(['index'],axis=1)"
   ],
   "metadata": {
    "collapsed": false,
    "pycharm": {
     "name": "#%%\n"
    }
   }
  },
  {
   "cell_type": "code",
   "execution_count": 1418,
   "outputs": [],
   "source": [
    "import imblearn\n",
    "from imblearn.over_sampling import RandomOverSampler\n",
    "sampler = RandomOverSampler()\n",
    "x_sampled, y_sampled = sampler.fit_resample(np.array(table.sequence).reshape(-1,1),table.binding)"
   ],
   "metadata": {
    "collapsed": false,
    "pycharm": {
     "name": "#%%\n"
    }
   }
  },
  {
   "cell_type": "code",
   "execution_count": 1419,
   "outputs": [
    {
     "data": {
      "text/plain": "0    722\n1    722\nName: binding, dtype: int64"
     },
     "execution_count": 1419,
     "metadata": {},
     "output_type": "execute_result"
    }
   ],
   "source": [
    "final_data_set = pd.DataFrame(x_sampled, columns  =[\"sequence\"])\n",
    "final_data_set['binding'] = y_sampled\n",
    "final_data_set.binding.value_counts()"
   ],
   "metadata": {
    "collapsed": false,
    "pycharm": {
     "name": "#%%\n"
    }
   }
  },
  {
   "cell_type": "code",
   "execution_count": 1420,
   "outputs": [],
   "source": [
    "from sklearn.model_selection import  train_test_split\n",
    "\n",
    "training_split, test_split, train_result, test_result = train_test_split(final_data_set.sequence, final_data_set.binding,stratify=final_data_set.binding, train_size=.70, random_state=0)"
   ],
   "metadata": {
    "collapsed": false,
    "pycharm": {
     "name": "#%%\n"
    }
   }
  },
  {
   "cell_type": "code",
   "execution_count": 1421,
   "outputs": [
    {
     "data": {
      "text/plain": "(434,)"
     },
     "execution_count": 1421,
     "metadata": {},
     "output_type": "execute_result"
    }
   ],
   "source": [
    "test_result.shape"
   ],
   "metadata": {
    "collapsed": false,
    "pycharm": {
     "name": "#%%\n"
    }
   }
  },
  {
   "cell_type": "code",
   "execution_count": 1422,
   "outputs": [],
   "source": [
    "from sklearn.feature_extraction.text import CountVectorizer\n",
    "def return_binary_vectorized_form(data_frame):\n",
    "    count_vectorizer = CountVectorizer(binary=True)\n",
    "    fitted_and_transformed = count_vectorizer.fit_transform(data_frame).toarray()\n",
    "    return count_vectorizer,  fitted_and_transformed\n",
    "vectorizer, training_split = return_binary_vectorized_form(training_split)\n",
    "test_split = vectorizer.transform(test_split).toarray()"
   ],
   "metadata": {
    "collapsed": false,
    "pycharm": {
     "name": "#%%\n"
    }
   }
  },
  {
   "cell_type": "code",
   "execution_count": 1423,
   "outputs": [
    {
     "data": {
      "text/plain": "array([[0, 0, 0, ..., 0, 0, 0],\n       [0, 0, 0, ..., 0, 0, 0],\n       [0, 0, 0, ..., 0, 0, 0],\n       ...,\n       [0, 0, 0, ..., 0, 0, 0],\n       [0, 0, 0, ..., 0, 0, 0],\n       [0, 0, 0, ..., 0, 0, 0]])"
     },
     "execution_count": 1423,
     "metadata": {},
     "output_type": "execute_result"
    }
   ],
   "source": [
    "test_split"
   ],
   "metadata": {
    "collapsed": false,
    "pycharm": {
     "name": "#%%\n"
    }
   }
  },
  {
   "cell_type": "code",
   "execution_count": 1424,
   "outputs": [],
   "source": [
    "train_result = np.array(train_result)\n",
    "test_result = np.array(test_result)"
   ],
   "metadata": {
    "collapsed": false,
    "pycharm": {
     "name": "#%%\n"
    }
   }
  },
  {
   "cell_type": "code",
   "execution_count": 1425,
   "outputs": [],
   "source": [
    "# training_sequence= []\n",
    "# test_sequence = []\n",
    "# for row in training_split:\n",
    "#     training_sequence.append(str(row))\n",
    "# for row in test_split:\n",
    "#     test_sequence.append(str(row))\n"
   ],
   "metadata": {
    "collapsed": false,
    "pycharm": {
     "name": "#%%\n"
    }
   }
  },
  {
   "cell_type": "code",
   "execution_count": 1426,
   "outputs": [
    {
     "data": {
      "text/plain": "array([[0, 0, 0, ..., 0, 0, 0],\n       [0, 0, 0, ..., 0, 0, 0],\n       [0, 0, 0, ..., 0, 0, 0],\n       ...,\n       [0, 0, 0, ..., 0, 0, 0],\n       [0, 0, 0, ..., 0, 0, 0],\n       [0, 0, 0, ..., 0, 0, 0]])"
     },
     "execution_count": 1426,
     "metadata": {},
     "output_type": "execute_result"
    }
   ],
   "source": [
    "training_split"
   ],
   "metadata": {
    "collapsed": false,
    "pycharm": {
     "name": "#%%\n"
    }
   }
  },
  {
   "cell_type": "code",
   "execution_count": 1427,
   "outputs": [
    {
     "data": {
      "text/plain": "array([[0, 0, 0, ..., 0, 0, 0],\n       [0, 0, 0, ..., 0, 0, 0],\n       [0, 0, 0, ..., 0, 0, 0],\n       ...,\n       [0, 0, 0, ..., 0, 0, 0],\n       [0, 0, 0, ..., 0, 0, 0],\n       [0, 0, 0, ..., 0, 0, 0]])"
     },
     "execution_count": 1427,
     "metadata": {},
     "output_type": "execute_result"
    }
   ],
   "source": [
    "test_split\n",
    "# training_sequence = np.array(training_sequence).reshape(1010)\n",
    "# # test_sequence = np.array(test_sequence)"
   ],
   "metadata": {
    "collapsed": false,
    "pycharm": {
     "name": "#%%\n"
    }
   }
  },
  {
   "cell_type": "code",
   "execution_count": 1428,
   "outputs": [],
   "source": [
    "# training_sequence.s"
   ],
   "metadata": {
    "collapsed": false,
    "pycharm": {
     "name": "#%%\n"
    }
   }
  },
  {
   "cell_type": "code",
   "execution_count": 1429,
   "outputs": [],
   "source": [
    "vocab_size = 40000\n",
    "embedding_dim = 16\n",
    "max_length = 1000\n",
    "trunc_type = 'post'\n",
    "oov_tok = '<OOV>'\n",
    "padding_type = 'post'"
   ],
   "metadata": {
    "collapsed": false,
    "pycharm": {
     "name": "#%%\n"
    }
   }
  },
  {
   "cell_type": "code",
   "execution_count": 1430,
   "outputs": [],
   "source": [
    "# from tensorflow.keras.preprocessing.text import Tokenizer\n",
    "# from tensorflow.keras.preprocessing.sequence import pad_sequences\n",
    "# tokenizer = Tokenizer(num_words=vocab_size, oov_token=oov_tok)\n",
    "# tokenizer.fit_on_texts(training_sequence)\n",
    "# word_index = tokenizer.word_index"
   ],
   "metadata": {
    "collapsed": false,
    "pycharm": {
     "name": "#%%\n"
    }
   }
  },
  {
   "cell_type": "code",
   "execution_count": 1431,
   "outputs": [],
   "source": [
    "# sequences = tokenizer.texts_to_sequences(training_sequence)\n",
    "# padded = pad_sequences(sequences, maxlen=max_length, truncating=trunc_type)\n",
    "# test_sequence = tokenizer.texts_to_sequences(test_sequence)\n",
    "# testing_padded = pad_sequences(test_sequence, maxlen=max_length)\n",
    "# padded"
   ],
   "metadata": {
    "collapsed": false,
    "pycharm": {
     "name": "#%%\n"
    }
   }
  },
  {
   "cell_type": "code",
   "execution_count": 1432,
   "outputs": [
    {
     "data": {
      "text/plain": "82172"
     },
     "execution_count": 1432,
     "metadata": {},
     "output_type": "execute_result"
    }
   ],
   "source": [
    "training_split.shape[-1]"
   ],
   "metadata": {
    "collapsed": false,
    "pycharm": {
     "name": "#%%\n"
    }
   }
  },
  {
   "cell_type": "code",
   "execution_count": 1532,
   "outputs": [],
   "source": [
    "model = tf.keras.Sequential([\n",
    "    tf.keras.Input(shape=(training_split.shape[-1],)),\n",
    "    tf.keras.layers.Dropout(.8),\n",
    "    tf.keras.layers.Dense(26,kernel_regularizer=tf.keras.regularizers.L2(0.1), activation='relu'),\n",
    "    tf.keras.layers.Dropout(.8),\n",
    "    tf.keras.layers.Dense(1, activation='sigmoid')\n",
    "])"
   ],
   "metadata": {
    "collapsed": false,
    "pycharm": {
     "name": "#%%\n"
    }
   }
  },
  {
   "cell_type": "code",
   "execution_count": 1533,
   "outputs": [],
   "source": [
    "METRICS = [\n",
    "      tf.keras.metrics.TruePositives(name='tp'),\n",
    "      tf.keras.metrics.FalsePositives(name='fp'),\n",
    "      tf.keras.metrics.TrueNegatives(name='tn'),\n",
    "      tf.keras.metrics.FalseNegatives(name='fn'),\n",
    "      tf.keras.metrics.BinaryAccuracy(name='accuracy'),\n",
    "      tf.keras.metrics.Precision(name='precision'),\n",
    "      tf.keras.metrics.Recall(name='recall'),\n",
    "      tf.keras.metrics.AUC(name='auc'),\n",
    "      tf.keras.metrics.AUC(name='prc', curve='PR'), # precision-recall curve\n",
    "]\n",
    "\n",
    "model.compile(loss=tf.keras.losses.BinaryCrossentropy(from_logits=True), optimizer='adam', metrics=METRICS)"
   ],
   "metadata": {
    "collapsed": false,
    "pycharm": {
     "name": "#%%\n"
    }
   }
  },
  {
   "cell_type": "code",
   "execution_count": 1534,
   "outputs": [
    {
     "name": "stdout",
     "output_type": "stream",
     "text": [
      "Epoch 1/2\n"
     ]
    },
    {
     "name": "stderr",
     "output_type": "stream",
     "text": [
      "/Users/bhabaranjanpanigrahi/miniforge3/envs/mlp/lib/python3.8/site-packages/keras/backend.py:5673: UserWarning: \"`binary_crossentropy` received `from_logits=True`, but the `output` argument was produced by a Sigmoid activation and thus does not represent logits. Was this intended?\n",
      "  output, from_logits = _get_logits(\n",
      "2022-10-04 22:39:41.958461: I tensorflow/core/grappler/optimizers/custom_graph_optimizer_registry.cc:114] Plugin optimizer for device_type GPU is enabled.\n"
     ]
    },
    {
     "name": "stdout",
     "output_type": "stream",
     "text": [
      "32/32 [==============================] - ETA: 0s - loss: 1.4680 - tp: 339.0000 - fp: 137.0000 - tn: 368.0000 - fn: 166.0000 - accuracy: 0.7000 - precision: 0.7122 - recall: 0.6713 - auc: 0.7813 - prc: 0.8019"
     ]
    },
    {
     "name": "stderr",
     "output_type": "stream",
     "text": [
      "2022-10-04 22:39:48.970618: I tensorflow/core/grappler/optimizers/custom_graph_optimizer_registry.cc:114] Plugin optimizer for device_type GPU is enabled.\n"
     ]
    },
    {
     "name": "stdout",
     "output_type": "stream",
     "text": [
      "32/32 [==============================] - 10s 205ms/step - loss: 1.4680 - tp: 339.0000 - fp: 137.0000 - tn: 368.0000 - fn: 166.0000 - accuracy: 0.7000 - precision: 0.7122 - recall: 0.6713 - auc: 0.7813 - prc: 0.8019 - val_loss: 1.0030 - val_tp: 205.0000 - val_fp: 4.0000 - val_tn: 213.0000 - val_fn: 12.0000 - val_accuracy: 0.9631 - val_precision: 0.9809 - val_recall: 0.9447 - val_auc: 0.9915 - val_prc: 0.9899\n",
      "Epoch 2/2\n",
      "32/32 [==============================] - 2s 74ms/step - loss: 1.0115 - tp: 446.0000 - fp: 58.0000 - tn: 447.0000 - fn: 59.0000 - accuracy: 0.8842 - precision: 0.8849 - recall: 0.8832 - auc: 0.9571 - prc: 0.9613 - val_loss: 1.0416 - val_tp: 217.0000 - val_fp: 4.0000 - val_tn: 213.0000 - val_fn: 0.0000e+00 - val_accuracy: 0.9908 - val_precision: 0.9819 - val_recall: 1.0000 - val_auc: 0.9969 - val_prc: 0.9965\n"
     ]
    }
   ],
   "source": [
    "num_epochs = 2\n",
    "history = model.fit(training_split, train_result, epochs=num_epochs, validation_data=(test_split, test_result))"
   ],
   "metadata": {
    "collapsed": false,
    "pycharm": {
     "name": "#%%\n"
    }
   }
  },
  {
   "cell_type": "code",
   "execution_count": 1535,
   "outputs": [],
   "source": [
    "table_test = pd.read_table('../drug-discovery/1663769555_8653905_test.txt', names=['sequence'])"
   ],
   "metadata": {
    "collapsed": false,
    "pycharm": {
     "name": "#%%\n"
    }
   }
  },
  {
   "cell_type": "code",
   "execution_count": 1536,
   "outputs": [],
   "source": [
    "# unlabeled_test_sequence = []\n",
    "# for row in table_test.sequence:\n",
    "#     unlabeled_test_sequence.append(str(row))"
   ],
   "metadata": {
    "collapsed": false,
    "pycharm": {
     "name": "#%%\n"
    }
   }
  },
  {
   "cell_type": "code",
   "execution_count": 1537,
   "outputs": [
    {
     "data": {
      "text/plain": "                                              sequence\n0    259 521 546 565 671 769 858 876 1056 1252 1392...\n1    96 158 195 436 518 541 588 642 804 843 978 115...\n2    13 169 354 587 803 1241 1472 1586 1605 1638 16...\n3    10 91 184 191 546 825 978 1077 1155 1220 1297 ...\n4    37 85 119 191 349 390 437 458 671 707 1454 157...\n..                                                 ...\n345  43 150 273 363 797 889 1014 1016 1077 1176 135...\n346  34 118 132 150 162 259 347 470 477 479 613 651...\n347  84 250 263 616 1220 1289 1314 1384 1440 1442 1...\n348  121 136 165 207 232 309 375 412 453 460 521 72...\n349  354 382 386 394 548 733 783 1167 1214 1222 122...\n\n[350 rows x 1 columns]",
      "text/html": "<div>\n<style scoped>\n    .dataframe tbody tr th:only-of-type {\n        vertical-align: middle;\n    }\n\n    .dataframe tbody tr th {\n        vertical-align: top;\n    }\n\n    .dataframe thead th {\n        text-align: right;\n    }\n</style>\n<table border=\"1\" class=\"dataframe\">\n  <thead>\n    <tr style=\"text-align: right;\">\n      <th></th>\n      <th>sequence</th>\n    </tr>\n  </thead>\n  <tbody>\n    <tr>\n      <th>0</th>\n      <td>259 521 546 565 671 769 858 876 1056 1252 1392...</td>\n    </tr>\n    <tr>\n      <th>1</th>\n      <td>96 158 195 436 518 541 588 642 804 843 978 115...</td>\n    </tr>\n    <tr>\n      <th>2</th>\n      <td>13 169 354 587 803 1241 1472 1586 1605 1638 16...</td>\n    </tr>\n    <tr>\n      <th>3</th>\n      <td>10 91 184 191 546 825 978 1077 1155 1220 1297 ...</td>\n    </tr>\n    <tr>\n      <th>4</th>\n      <td>37 85 119 191 349 390 437 458 671 707 1454 157...</td>\n    </tr>\n    <tr>\n      <th>...</th>\n      <td>...</td>\n    </tr>\n    <tr>\n      <th>345</th>\n      <td>43 150 273 363 797 889 1014 1016 1077 1176 135...</td>\n    </tr>\n    <tr>\n      <th>346</th>\n      <td>34 118 132 150 162 259 347 470 477 479 613 651...</td>\n    </tr>\n    <tr>\n      <th>347</th>\n      <td>84 250 263 616 1220 1289 1314 1384 1440 1442 1...</td>\n    </tr>\n    <tr>\n      <th>348</th>\n      <td>121 136 165 207 232 309 375 412 453 460 521 72...</td>\n    </tr>\n    <tr>\n      <th>349</th>\n      <td>354 382 386 394 548 733 783 1167 1214 1222 122...</td>\n    </tr>\n  </tbody>\n</table>\n<p>350 rows × 1 columns</p>\n</div>"
     },
     "execution_count": 1537,
     "metadata": {},
     "output_type": "execute_result"
    }
   ],
   "source": [
    "table_test"
   ],
   "metadata": {
    "collapsed": false,
    "pycharm": {
     "name": "#%%\n"
    }
   }
  },
  {
   "cell_type": "code",
   "execution_count": 1538,
   "outputs": [],
   "source": [
    "unlabeled_test_sequence = vectorizer.transform(table_test.sequence).toarray()"
   ],
   "metadata": {
    "collapsed": false,
    "pycharm": {
     "name": "#%%\n"
    }
   }
  },
  {
   "cell_type": "code",
   "execution_count": 1539,
   "outputs": [
    {
     "data": {
      "text/plain": "array([[0, 0, 0, ..., 0, 0, 0],\n       [0, 0, 0, ..., 0, 0, 0],\n       [0, 0, 0, ..., 0, 0, 0],\n       ...,\n       [0, 0, 0, ..., 0, 1, 0],\n       [0, 0, 0, ..., 0, 0, 0],\n       [0, 0, 0, ..., 0, 0, 0]])"
     },
     "execution_count": 1539,
     "metadata": {},
     "output_type": "execute_result"
    }
   ],
   "source": [
    "unlabeled_test_sequence"
   ],
   "metadata": {
    "collapsed": false,
    "pycharm": {
     "name": "#%%\n"
    }
   }
  },
  {
   "cell_type": "code",
   "execution_count": 1540,
   "outputs": [],
   "source": [
    "# unlabeled_test_sequence = tokenizer.texts_to_sequences(unlabeled_test_sequence)\n",
    "# padded_unlabeled_test_sequence = pad_sequences(unlabeled_test_sequence, maxlen=max_length)"
   ],
   "metadata": {
    "collapsed": false,
    "pycharm": {
     "name": "#%%\n"
    }
   }
  },
  {
   "cell_type": "code",
   "execution_count": 1541,
   "outputs": [
    {
     "name": "stdout",
     "output_type": "stream",
     "text": [
      " 2/11 [====>.........................] - ETA: 0s"
     ]
    },
    {
     "name": "stderr",
     "output_type": "stream",
     "text": [
      "2022-10-04 22:40:10.776889: I tensorflow/core/grappler/optimizers/custom_graph_optimizer_registry.cc:114] Plugin optimizer for device_type GPU is enabled.\n"
     ]
    },
    {
     "name": "stdout",
     "output_type": "stream",
     "text": [
      "11/11 [==============================] - 1s 34ms/step\n"
     ]
    }
   ],
   "source": [
    "y = model.predict(unlabeled_test_sequence)"
   ],
   "metadata": {
    "collapsed": false,
    "pycharm": {
     "name": "#%%\n"
    }
   }
  },
  {
   "cell_type": "code",
   "execution_count": 1542,
   "outputs": [
    {
     "data": {
      "text/plain": "array([[0.64994174],\n       [0.20488484],\n       [0.29602903],\n       [0.28682467],\n       [0.37527844],\n       [0.2976266 ],\n       [0.28580004],\n       [0.36950392],\n       [0.3227047 ],\n       [0.483375  ],\n       [0.27841666],\n       [0.33279234],\n       [0.16148861],\n       [0.3969377 ],\n       [0.26585257],\n       [0.36078355],\n       [0.14083426],\n       [0.24140169],\n       [0.24891168],\n       [0.2861667 ],\n       [0.1586035 ],\n       [0.34005073],\n       [0.1131246 ],\n       [0.3177263 ],\n       [0.4752832 ],\n       [0.6789998 ],\n       [0.3330198 ],\n       [0.2480396 ],\n       [0.32258627],\n       [0.27950126],\n       [0.27997562],\n       [0.2819417 ],\n       [0.2581854 ],\n       [0.12148857],\n       [0.3038008 ],\n       [0.27870005],\n       [0.32511216],\n       [0.35933593],\n       [0.45274305],\n       [0.25146   ],\n       [0.27368754],\n       [0.2990703 ],\n       [0.29429534],\n       [0.17278609],\n       [0.16926172],\n       [0.24480575],\n       [0.26086706],\n       [0.2872586 ],\n       [0.32924888],\n       [0.21429043],\n       [0.4778176 ],\n       [0.30012643],\n       [0.26694214],\n       [0.47960362],\n       [0.31563792],\n       [0.70209694],\n       [0.30534416],\n       [0.26712227],\n       [0.29021227],\n       [0.32332668],\n       [0.27519092],\n       [0.7944702 ],\n       [0.2854726 ],\n       [0.23968777],\n       [0.3364124 ],\n       [0.29220533],\n       [0.6058968 ],\n       [0.10234572],\n       [0.29509997],\n       [0.27773163],\n       [0.19634505],\n       [0.21729636],\n       [0.2098571 ],\n       [0.31169626],\n       [0.26179865],\n       [0.31600282],\n       [0.1773702 ],\n       [0.27613473],\n       [0.2747908 ],\n       [0.23360234],\n       [0.5704797 ],\n       [0.29030645],\n       [0.69151723],\n       [0.58864427],\n       [0.27931568],\n       [0.74323446],\n       [0.2533626 ],\n       [0.28460124],\n       [0.24717182],\n       [0.35510233],\n       [0.08344769],\n       [0.2773853 ],\n       [0.35347506],\n       [0.22073682],\n       [0.29715058],\n       [0.28109697],\n       [0.32110614],\n       [0.21071734],\n       [0.7165205 ],\n       [0.95323247],\n       [0.25974557],\n       [0.30555302],\n       [0.30433536],\n       [0.28506538],\n       [0.25726447],\n       [0.2652192 ],\n       [0.25631008],\n       [0.32757437],\n       [0.3353635 ],\n       [0.34738907],\n       [0.32752138],\n       [0.2997483 ],\n       [0.2607271 ],\n       [0.18482853],\n       [0.8381749 ],\n       [0.23871374],\n       [0.23001514],\n       [0.30529633],\n       [0.42012882],\n       [0.21169776],\n       [0.4613325 ],\n       [0.23311402],\n       [0.25913203],\n       [0.25010455],\n       [0.23914932],\n       [0.28447688],\n       [0.27460825],\n       [0.23164427],\n       [0.32111573],\n       [0.36787102],\n       [0.19298458],\n       [0.7298005 ],\n       [0.16649866],\n       [0.20510307],\n       [0.08851617],\n       [0.26286167],\n       [0.22477244],\n       [0.31661564],\n       [0.344454  ],\n       [0.56537414],\n       [0.2903227 ],\n       [0.3186033 ],\n       [0.17352097],\n       [0.25497758],\n       [0.19542369],\n       [0.34395394],\n       [0.6874371 ],\n       [0.27865067],\n       [0.44617394],\n       [0.26584172],\n       [0.23387428],\n       [0.17456049],\n       [0.283007  ],\n       [0.62879   ],\n       [0.26915008],\n       [0.3533521 ],\n       [0.26486906],\n       [0.2540778 ],\n       [0.32705417],\n       [0.30527344],\n       [0.4103741 ],\n       [0.31747898],\n       [0.59943557],\n       [0.27586398],\n       [0.3578175 ],\n       [0.26838535],\n       [0.37396088],\n       [0.11520423],\n       [0.22298959],\n       [0.1637782 ],\n       [0.207895  ],\n       [0.32497168],\n       [0.23105796],\n       [0.21839514],\n       [0.29244035],\n       [0.03908355],\n       [0.21642874],\n       [0.2976298 ],\n       [0.25235224],\n       [0.30062997],\n       [0.18759666],\n       [0.22952266],\n       [0.20945355],\n       [0.1155682 ],\n       [0.29677507],\n       [0.29063427],\n       [0.24206881],\n       [0.3284613 ],\n       [0.31663036],\n       [0.33182356],\n       [0.1823551 ],\n       [0.18825549],\n       [0.27468616],\n       [0.23217513],\n       [0.2910257 ],\n       [0.2986443 ],\n       [0.30570194],\n       [0.34114096],\n       [0.33392656],\n       [0.35427663],\n       [0.44729048],\n       [0.25305638],\n       [0.31257674],\n       [0.32871938],\n       [0.22219439],\n       [0.28608933],\n       [0.26798216],\n       [0.20916946],\n       [0.2614935 ],\n       [0.3101024 ],\n       [0.27040872],\n       [0.27880254],\n       [0.2536467 ],\n       [0.25537378],\n       [0.20545393],\n       [0.1529135 ],\n       [0.2835021 ],\n       [0.37553972],\n       [0.31512988],\n       [0.24104905],\n       [0.4241645 ],\n       [0.17192143],\n       [0.56189793],\n       [0.24465442],\n       [0.27309984],\n       [0.8844975 ],\n       [0.3239426 ],\n       [0.24922588],\n       [0.36325568],\n       [0.06142655],\n       [0.61490494],\n       [0.29509106],\n       [0.23682836],\n       [0.2474697 ],\n       [0.2419966 ],\n       [0.31955647],\n       [0.22879532],\n       [0.25313398],\n       [0.25365874],\n       [0.36018   ],\n       [0.22100209],\n       [0.35004637],\n       [0.30320647],\n       [0.27913627],\n       [0.21075214],\n       [0.33334437],\n       [0.11169841],\n       [0.51979554],\n       [0.23260185],\n       [0.2523952 ],\n       [0.30136156],\n       [0.34631607],\n       [0.3431787 ],\n       [0.27547985],\n       [0.6434151 ],\n       [0.23818898],\n       [0.24808796],\n       [0.22433874],\n       [0.51847965],\n       [0.27522656],\n       [0.42341295],\n       [0.3327052 ],\n       [0.23829734],\n       [0.26863778],\n       [0.32926944],\n       [0.29785162],\n       [0.3274851 ],\n       [0.17997624],\n       [0.29465985],\n       [0.3058735 ],\n       [0.24359094],\n       [0.29298776],\n       [0.35430396],\n       [0.2723636 ],\n       [0.15719613],\n       [0.28961053],\n       [0.27047884],\n       [0.32260576],\n       [0.3781482 ],\n       [0.04462589],\n       [0.26118144],\n       [0.48767564],\n       [0.23390622],\n       [0.32547075],\n       [0.2785984 ],\n       [0.25672087],\n       [0.23034127],\n       [0.26978445],\n       [0.3102797 ],\n       [0.31056365],\n       [0.13448103],\n       [0.24341792],\n       [0.6088065 ],\n       [0.2826804 ],\n       [0.25685456],\n       [0.28984526],\n       [0.28981495],\n       [0.2854395 ],\n       [0.7857149 ],\n       [0.26227948],\n       [0.34502983],\n       [0.27497658],\n       [0.30221167],\n       [0.23458879],\n       [0.26284772],\n       [0.25533527],\n       [0.22620597],\n       [0.33114466],\n       [0.16573253],\n       [0.31973675],\n       [0.1715336 ],\n       [0.22256815],\n       [0.3203333 ],\n       [0.18781652],\n       [0.2960819 ],\n       [0.6521405 ],\n       [0.21456164],\n       [0.18622206],\n       [0.13952474],\n       [0.09359259],\n       [0.27885875],\n       [0.31840223],\n       [0.65505105],\n       [0.3251301 ],\n       [0.27593923],\n       [0.43110907],\n       [0.3416786 ],\n       [0.28673628],\n       [0.21045257],\n       [0.2971826 ],\n       [0.69187903],\n       [0.2842984 ],\n       [0.29989323],\n       [0.24994574],\n       [0.24644001],\n       [0.19634616],\n       [0.33814165],\n       [0.23242751],\n       [0.41431558],\n       [0.0547538 ],\n       [0.17862774],\n       [0.08781489],\n       [0.2119432 ],\n       [0.28540853],\n       [0.2933335 ],\n       [0.09272752],\n       [0.28305143],\n       [0.3029722 ],\n       [0.6805631 ],\n       [0.2448357 ]], dtype=float32)"
     },
     "execution_count": 1542,
     "metadata": {},
     "output_type": "execute_result"
    }
   ],
   "source": [
    "y"
   ],
   "metadata": {
    "collapsed": false,
    "pycharm": {
     "name": "#%%\n"
    }
   }
  },
  {
   "cell_type": "code",
   "execution_count": 1543,
   "outputs": [],
   "source": [
    "\n",
    "# for i in range(3):\n",
    "z = [1 if i>=.5 else 0 for i in y ]"
   ],
   "metadata": {
    "collapsed": false,
    "pycharm": {
     "name": "#%%\n"
    }
   }
  },
  {
   "cell_type": "code",
   "execution_count": 1544,
   "outputs": [],
   "source": [
    "# from sklearn.metrics import f1_score\n",
    "# print(f1_score(z,test_result))"
   ],
   "metadata": {
    "collapsed": false,
    "pycharm": {
     "name": "#%%\n"
    }
   }
  },
  {
   "cell_type": "code",
   "execution_count": 1545,
   "outputs": [
    {
     "data": {
      "text/plain": "1"
     },
     "execution_count": 1545,
     "metadata": {},
     "output_type": "execute_result"
    }
   ],
   "source": [
    "z[61]"
   ],
   "metadata": {
    "collapsed": false,
    "pycharm": {
     "name": "#%%\n"
    }
   }
  },
  {
   "cell_type": "code",
   "execution_count": 1545,
   "outputs": [],
   "source": [],
   "metadata": {
    "collapsed": false,
    "pycharm": {
     "name": "#%%\n"
    }
   }
  },
  {
   "cell_type": "code",
   "execution_count": 1546,
   "outputs": [
    {
     "data": {
      "text/plain": "350"
     },
     "execution_count": 1546,
     "metadata": {},
     "output_type": "execute_result"
    }
   ],
   "source": [
    "len(z)"
   ],
   "metadata": {
    "collapsed": false,
    "pycharm": {
     "name": "#%%\n"
    }
   }
  },
  {
   "cell_type": "code",
   "execution_count": 1547,
   "outputs": [],
   "source": [
    "import csv\n",
    "outfile = open('./results.csv','w')\n",
    "out = csv.writer(outfile)\n",
    "out.writerows(map(lambda x: [x], z))\n",
    "outfile.close()"
   ],
   "metadata": {
    "collapsed": false,
    "pycharm": {
     "name": "#%%\n"
    }
   }
  },
  {
   "cell_type": "code",
   "execution_count": 1548,
   "outputs": [
    {
     "data": {
      "text/plain": "350"
     },
     "execution_count": 1548,
     "metadata": {},
     "output_type": "execute_result"
    }
   ],
   "source": [
    "len(z)"
   ],
   "metadata": {
    "collapsed": false,
    "pycharm": {
     "name": "#%%\n"
    }
   }
  },
  {
   "cell_type": "code",
   "execution_count": 1500,
   "outputs": [
    {
     "data": {
      "text/plain": "True"
     },
     "execution_count": 1500,
     "metadata": {},
     "output_type": "execute_result"
    }
   ],
   "source": [
    "len(tf.config.list_physical_devices('GPU'))>0"
   ],
   "metadata": {
    "collapsed": false,
    "pycharm": {
     "name": "#%%\n"
    }
   }
  },
  {
   "cell_type": "code",
   "execution_count": 1501,
   "outputs": [
    {
     "data": {
      "text/plain": "'macOS-12.6-arm64-arm-64bit'"
     },
     "execution_count": 1501,
     "metadata": {},
     "output_type": "execute_result"
    }
   ],
   "source": [
    "import platform\n",
    "platform.platform()"
   ],
   "metadata": {
    "collapsed": false,
    "pycharm": {
     "name": "#%%\n"
    }
   }
  },
  {
   "cell_type": "code",
   "execution_count": null,
   "outputs": [],
   "source": [],
   "metadata": {
    "collapsed": false,
    "pycharm": {
     "name": "#%%\n"
    }
   }
  }
 ],
 "metadata": {
  "kernelspec": {
   "display_name": "Python 3",
   "language": "python",
   "name": "python3"
  },
  "language_info": {
   "codemirror_mode": {
    "name": "ipython",
    "version": 2
   },
   "file_extension": ".py",
   "mimetype": "text/x-python",
   "name": "python",
   "nbconvert_exporter": "python",
   "pygments_lexer": "ipython2",
   "version": "2.7.6"
  }
 },
 "nbformat": 4,
 "nbformat_minor": 0
}