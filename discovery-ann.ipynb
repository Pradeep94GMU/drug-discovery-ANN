{
 "cells": [
  {
   "cell_type": "code",
   "execution_count": 2121,
   "metadata": {
    "collapsed": true,
    "pycharm": {
     "name": "#%%\n"
    }
   },
   "outputs": [],
   "source": [
    "import tensorflow as tf\n",
    "import pandas as pd\n",
    "import numpy as np\n",
    "import matplotlib.pyplot as plt"
   ]
  },
  {
   "cell_type": "code",
   "execution_count": 2122,
   "outputs": [],
   "source": [
    "table = pd.read_table('../drug-discovery/1663769555_8559356_train.txt', names=['binding','sequence'])"
   ],
   "metadata": {
    "collapsed": false,
    "pycharm": {
     "name": "#%%\n"
    }
   }
  },
  {
   "cell_type": "code",
   "execution_count": 2123,
   "outputs": [],
   "source": [
    "import imblearn\n",
    "from imblearn.over_sampling import RandomOverSampler\n",
    "sampler = RandomOverSampler()\n",
    "x_sampled, y_sampled = sampler.fit_resample(np.array(table.sequence).reshape(-1,1),table.binding)"
   ],
   "metadata": {
    "collapsed": false,
    "pycharm": {
     "name": "#%%\n"
    }
   }
  },
  {
   "cell_type": "code",
   "execution_count": 2124,
   "outputs": [
    {
     "data": {
      "text/plain": "0    722\n1    722\nName: binding, dtype: int64"
     },
     "execution_count": 2124,
     "metadata": {},
     "output_type": "execute_result"
    }
   ],
   "source": [
    "final_data_set = pd.DataFrame(x_sampled, columns  =[\"sequence\"])\n",
    "final_data_set['binding'] = y_sampled\n",
    "final_data_set.binding.value_counts()"
   ],
   "metadata": {
    "collapsed": false,
    "pycharm": {
     "name": "#%%\n"
    }
   }
  },
  {
   "cell_type": "code",
   "execution_count": 2125,
   "outputs": [],
   "source": [
    "from sklearn.model_selection import  train_test_split\n",
    "training_split, test_split, train_result, test_result = train_test_split(final_data_set.sequence, final_data_set.binding,stratify=final_data_set.binding, train_size=.70, random_state=0)"
   ],
   "metadata": {
    "collapsed": false,
    "pycharm": {
     "name": "#%%\n"
    }
   }
  },
  {
   "cell_type": "code",
   "execution_count": 2126,
   "outputs": [
    {
     "data": {
      "text/plain": "(434,)"
     },
     "execution_count": 2126,
     "metadata": {},
     "output_type": "execute_result"
    }
   ],
   "source": [
    "test_result.shape"
   ],
   "metadata": {
    "collapsed": false,
    "pycharm": {
     "name": "#%%\n"
    }
   }
  },
  {
   "cell_type": "code",
   "execution_count": 2127,
   "outputs": [],
   "source": [
    "from sklearn.feature_extraction.text import CountVectorizer\n",
    "def return_binary_vectorized_form(data_frame):\n",
    "    count_vectorizer = CountVectorizer(binary=True)\n",
    "    fitted_and_transformed = count_vectorizer.fit_transform(data_frame).toarray()\n",
    "    return count_vectorizer,  fitted_and_transformed\n",
    "vectorizer, training_split = return_binary_vectorized_form(training_split)\n",
    "test_split = vectorizer.transform(test_split).toarray()"
   ],
   "metadata": {
    "collapsed": false,
    "pycharm": {
     "name": "#%%\n"
    }
   }
  },
  {
   "cell_type": "code",
   "execution_count": 2128,
   "outputs": [
    {
     "data": {
      "text/plain": "1    217\n0    217\nName: binding, dtype: int64"
     },
     "execution_count": 2128,
     "metadata": {},
     "output_type": "execute_result"
    }
   ],
   "source": [
    "test_result.value_counts()"
   ],
   "metadata": {
    "collapsed": false,
    "pycharm": {
     "name": "#%%\n"
    }
   }
  },
  {
   "cell_type": "code",
   "execution_count": 2129,
   "outputs": [],
   "source": [
    "train_result = np.array(train_result)\n",
    "test_result = np.array(test_result)"
   ],
   "metadata": {
    "collapsed": false,
    "pycharm": {
     "name": "#%%\n"
    }
   }
  },
  {
   "cell_type": "code",
   "execution_count": 2130,
   "outputs": [],
   "source": [
    "# training_sequence= []\n",
    "# test_sequence = []\n",
    "# for row in training_split:\n",
    "#     training_sequence.append(str(row))\n",
    "# for row in test_split:\n",
    "#     test_sequence.append(str(row))\n"
   ],
   "metadata": {
    "collapsed": false,
    "pycharm": {
     "name": "#%%\n"
    }
   }
  },
  {
   "cell_type": "code",
   "execution_count": 2148,
   "outputs": [
    {
     "data": {
      "text/plain": "217"
     },
     "execution_count": 2148,
     "metadata": {},
     "output_type": "execute_result"
    }
   ],
   "source": [
    "test_result.sum()"
   ],
   "metadata": {
    "collapsed": false,
    "pycharm": {
     "name": "#%%\n"
    }
   }
  },
  {
   "cell_type": "code",
   "execution_count": 2131,
   "outputs": [],
   "source": [],
   "metadata": {
    "collapsed": false,
    "pycharm": {
     "name": "#%%\n"
    }
   }
  },
  {
   "cell_type": "code",
   "execution_count": 2145,
   "outputs": [
    {
     "data": {
      "text/plain": "array([[0, 0, 0, ..., 0, 0, 0],\n       [0, 0, 0, ..., 0, 0, 0],\n       [0, 0, 0, ..., 0, 0, 0],\n       ...,\n       [0, 0, 0, ..., 0, 0, 0],\n       [0, 0, 0, ..., 0, 0, 0],\n       [0, 0, 1, ..., 0, 0, 0]])"
     },
     "execution_count": 2145,
     "metadata": {},
     "output_type": "execute_result"
    }
   ],
   "source": [
    "test_split\n",
    "# training_sequence = np.array(training_sequence).reshape(1010)\n",
    "# # test_sequence = np.array(test_sequence)"
   ],
   "metadata": {
    "collapsed": false,
    "pycharm": {
     "name": "#%%\n"
    }
   }
  },
  {
   "cell_type": "code",
   "execution_count": 2133,
   "outputs": [],
   "source": [
    "# training_sequence.s"
   ],
   "metadata": {
    "collapsed": false,
    "pycharm": {
     "name": "#%%\n"
    }
   }
  },
  {
   "cell_type": "code",
   "execution_count": 2134,
   "outputs": [],
   "source": [
    "vocab_size = 40000\n",
    "embedding_dim = 16\n",
    "max_length = 1000\n",
    "trunc_type = 'post'\n",
    "oov_tok = '<OOV>'\n",
    "padding_type = 'post'"
   ],
   "metadata": {
    "collapsed": false,
    "pycharm": {
     "name": "#%%\n"
    }
   }
  },
  {
   "cell_type": "code",
   "execution_count": 2135,
   "outputs": [],
   "source": [
    "# from tensorflow.keras.preprocessing.text import Tokenizer\n",
    "# from tensorflow.keras.preprocessing.sequence import pad_sequences\n",
    "# tokenizer = Tokenizer(num_words=vocab_size, oov_token=oov_tok)\n",
    "# tokenizer.fit_on_texts(training_sequence)\n",
    "# word_index = tokenizer.word_index"
   ],
   "metadata": {
    "collapsed": false,
    "pycharm": {
     "name": "#%%\n"
    }
   }
  },
  {
   "cell_type": "code",
   "execution_count": 2136,
   "outputs": [],
   "source": [
    "# sequences = tokenizer.texts_to_sequences(training_sequence)\n",
    "# padded = pad_sequences(sequences, maxlen=max_length, truncating=trunc_type)\n",
    "# test_sequence = tokenizer.texts_to_sequences(test_sequence)\n",
    "# testing_padded = pad_sequences(test_sequence, maxlen=max_length)\n",
    "# padded"
   ],
   "metadata": {
    "collapsed": false,
    "pycharm": {
     "name": "#%%\n"
    }
   }
  },
  {
   "cell_type": "code",
   "execution_count": 2137,
   "outputs": [
    {
     "data": {
      "text/plain": "82172"
     },
     "execution_count": 2137,
     "metadata": {},
     "output_type": "execute_result"
    }
   ],
   "source": [
    "training_split.shape[-1]"
   ],
   "metadata": {
    "collapsed": false,
    "pycharm": {
     "name": "#%%\n"
    }
   }
  },
  {
   "cell_type": "code",
   "execution_count": 2149,
   "outputs": [],
   "source": [
    "model = tf.keras.Sequential([\n",
    "    tf.keras.Input(shape=(training_split.shape[-1],)),\n",
    "    tf.keras.layers.Dropout(0.85),\n",
    "    tf.keras.layers.Dense(2,activation='relu'),\n",
    "    tf.keras.layers.Dropout(0.6),\n",
    "    # kernel_regularizer=tf.keras.regularizers.L1(.05)\n",
    "    tf.keras.layers.Dense(1, activation='sigmoid')\n",
    "])"
   ],
   "metadata": {
    "collapsed": false,
    "pycharm": {
     "name": "#%%\n"
    }
   }
  },
  {
   "cell_type": "code",
   "execution_count": 2150,
   "outputs": [],
   "source": [
    "METRICS = [\n",
    "      tf.keras.metrics.TruePositives(name='tp'),\n",
    "      tf.keras.metrics.FalsePositives(name='fp'),\n",
    "      tf.keras.metrics.TrueNegatives(name='tn'),\n",
    "      tf.keras.metrics.FalseNegatives(name='fn'),\n",
    "      tf.keras.metrics.BinaryAccuracy(name='accuracy'),\n",
    "      tf.keras.metrics.Precision(name='precision'),\n",
    "      tf.keras.metrics.Recall(name='recall'),\n",
    "      tf.keras.metrics.AUC(name='auc'),\n",
    "      tf.keras.metrics.AUC(name='prc', curve='PR'), # precision-recall curve\n",
    "]\n",
    "\n",
    "model.compile(loss=tf.keras.losses.BinaryCrossentropy(from_logits=True), optimizer='adam', metrics=METRICS)"
   ],
   "metadata": {
    "collapsed": false,
    "pycharm": {
     "name": "#%%\n"
    }
   }
  },
  {
   "cell_type": "code",
   "execution_count": 2151,
   "outputs": [
    {
     "name": "stdout",
     "output_type": "stream",
     "text": [
      "Epoch 1/20\n"
     ]
    },
    {
     "name": "stderr",
     "output_type": "stream",
     "text": [
      "/Users/bhabaranjanpanigrahi/miniforge3/envs/mlp/lib/python3.8/site-packages/keras/backend.py:5673: UserWarning: \"`binary_crossentropy` received `from_logits=True`, but the `output` argument was produced by a Sigmoid activation and thus does not represent logits. Was this intended?\n",
      "  output, from_logits = _get_logits(\n",
      "2022-10-06 01:44:05.318293: I tensorflow/core/grappler/optimizers/custom_graph_optimizer_registry.cc:114] Plugin optimizer for device_type GPU is enabled.\n"
     ]
    },
    {
     "name": "stdout",
     "output_type": "stream",
     "text": [
      "32/32 [==============================] - ETA: 0s - loss: 0.6632 - tp: 370.0000 - fp: 262.0000 - tn: 243.0000 - fn: 135.0000 - accuracy: 0.6069 - precision: 0.5854 - recall: 0.7327 - auc: 0.6348 - prc: 0.5894"
     ]
    },
    {
     "name": "stderr",
     "output_type": "stream",
     "text": [
      "2022-10-06 01:44:12.548471: I tensorflow/core/grappler/optimizers/custom_graph_optimizer_registry.cc:114] Plugin optimizer for device_type GPU is enabled.\n"
     ]
    },
    {
     "name": "stdout",
     "output_type": "stream",
     "text": [
      "32/32 [==============================] - 12s 280ms/step - loss: 0.6632 - tp: 370.0000 - fp: 262.0000 - tn: 243.0000 - fn: 135.0000 - accuracy: 0.6069 - precision: 0.5854 - recall: 0.7327 - auc: 0.6348 - prc: 0.5894 - val_loss: 0.6084 - val_tp: 173.0000 - val_fp: 4.0000 - val_tn: 213.0000 - val_fn: 44.0000 - val_accuracy: 0.8894 - val_precision: 0.9774 - val_recall: 0.7972 - val_auc: 0.9749 - val_prc: 0.9689\n",
      "Epoch 2/20\n",
      "32/32 [==============================] - 1s 46ms/step - loss: 0.5851 - tp: 404.0000 - fp: 183.0000 - tn: 322.0000 - fn: 101.0000 - accuracy: 0.7188 - precision: 0.6882 - recall: 0.8000 - auc: 0.7652 - prc: 0.6876 - val_loss: 0.4706 - val_tp: 188.0000 - val_fp: 1.0000 - val_tn: 216.0000 - val_fn: 29.0000 - val_accuracy: 0.9309 - val_precision: 0.9947 - val_recall: 0.8664 - val_auc: 0.9954 - val_prc: 0.9926\n",
      "Epoch 3/20\n",
      "32/32 [==============================] - 1s 35ms/step - loss: 0.5173 - tp: 450.0000 - fp: 189.0000 - tn: 316.0000 - fn: 55.0000 - accuracy: 0.7584 - precision: 0.7042 - recall: 0.8911 - auc: 0.7899 - prc: 0.7037 - val_loss: 0.4139 - val_tp: 191.0000 - val_fp: 0.0000e+00 - val_tn: 217.0000 - val_fn: 26.0000 - val_accuracy: 0.9401 - val_precision: 1.0000 - val_recall: 0.8802 - val_auc: 0.9986 - val_prc: 0.9986\n",
      "Epoch 4/20\n",
      "32/32 [==============================] - 1s 33ms/step - loss: 0.4969 - tp: 462.0000 - fp: 175.0000 - tn: 330.0000 - fn: 43.0000 - accuracy: 0.7842 - precision: 0.7253 - recall: 0.9149 - auc: 0.8147 - prc: 0.7352 - val_loss: 0.3755 - val_tp: 212.0000 - val_fp: 0.0000e+00 - val_tn: 217.0000 - val_fn: 5.0000 - val_accuracy: 0.9885 - val_precision: 1.0000 - val_recall: 0.9770 - val_auc: 0.9998 - val_prc: 0.9998\n",
      "Epoch 5/20\n",
      "32/32 [==============================] - 1s 31ms/step - loss: 0.4810 - tp: 474.0000 - fp: 186.0000 - tn: 319.0000 - fn: 31.0000 - accuracy: 0.7851 - precision: 0.7182 - recall: 0.9386 - auc: 0.7976 - prc: 0.7092 - val_loss: 0.3527 - val_tp: 214.0000 - val_fp: 0.0000e+00 - val_tn: 217.0000 - val_fn: 3.0000 - val_accuracy: 0.9931 - val_precision: 1.0000 - val_recall: 0.9862 - val_auc: 1.0000 - val_prc: 1.0000\n",
      "Epoch 6/20\n",
      "32/32 [==============================] - 1s 25ms/step - loss: 0.4594 - tp: 488.0000 - fp: 172.0000 - tn: 333.0000 - fn: 17.0000 - accuracy: 0.8129 - precision: 0.7394 - recall: 0.9663 - auc: 0.8194 - prc: 0.7288 - val_loss: 0.3361 - val_tp: 214.0000 - val_fp: 0.0000e+00 - val_tn: 217.0000 - val_fn: 3.0000 - val_accuracy: 0.9931 - val_precision: 1.0000 - val_recall: 0.9862 - val_auc: 1.0000 - val_prc: 1.0000\n",
      "Epoch 7/20\n",
      "32/32 [==============================] - 1s 28ms/step - loss: 0.4582 - tp: 490.0000 - fp: 185.0000 - tn: 320.0000 - fn: 15.0000 - accuracy: 0.8020 - precision: 0.7259 - recall: 0.9703 - auc: 0.8138 - prc: 0.7315 - val_loss: 0.3263 - val_tp: 214.0000 - val_fp: 0.0000e+00 - val_tn: 217.0000 - val_fn: 3.0000 - val_accuracy: 0.9931 - val_precision: 1.0000 - val_recall: 0.9862 - val_auc: 0.9999 - val_prc: 0.9999\n",
      "Epoch 8/20\n",
      "32/32 [==============================] - 1s 26ms/step - loss: 0.4444 - tp: 491.0000 - fp: 172.0000 - tn: 333.0000 - fn: 14.0000 - accuracy: 0.8158 - precision: 0.7406 - recall: 0.9723 - auc: 0.8319 - prc: 0.7503 - val_loss: 0.3175 - val_tp: 205.0000 - val_fp: 0.0000e+00 - val_tn: 217.0000 - val_fn: 12.0000 - val_accuracy: 0.9724 - val_precision: 1.0000 - val_recall: 0.9447 - val_auc: 1.0000 - val_prc: 1.0000\n",
      "Epoch 9/20\n",
      "32/32 [==============================] - 1s 26ms/step - loss: 0.4437 - tp: 492.0000 - fp: 171.0000 - tn: 334.0000 - fn: 13.0000 - accuracy: 0.8178 - precision: 0.7421 - recall: 0.9743 - auc: 0.8222 - prc: 0.7336 - val_loss: 0.3064 - val_tp: 209.0000 - val_fp: 0.0000e+00 - val_tn: 217.0000 - val_fn: 8.0000 - val_accuracy: 0.9816 - val_precision: 1.0000 - val_recall: 0.9631 - val_auc: 1.0000 - val_prc: 1.0000\n",
      "Epoch 10/20\n",
      "32/32 [==============================] - 1s 25ms/step - loss: 0.4390 - tp: 497.0000 - fp: 175.0000 - tn: 330.0000 - fn: 8.0000 - accuracy: 0.8188 - precision: 0.7396 - recall: 0.9842 - auc: 0.8258 - prc: 0.7426 - val_loss: 0.2928 - val_tp: 217.0000 - val_fp: 0.0000e+00 - val_tn: 217.0000 - val_fn: 0.0000e+00 - val_accuracy: 1.0000 - val_precision: 1.0000 - val_recall: 1.0000 - val_auc: 1.0000 - val_prc: 1.0000\n",
      "Epoch 11/20\n",
      "32/32 [==============================] - 1s 23ms/step - loss: 0.4349 - tp: 501.0000 - fp: 182.0000 - tn: 323.0000 - fn: 4.0000 - accuracy: 0.8158 - precision: 0.7335 - recall: 0.9921 - auc: 0.8201 - prc: 0.7256 - val_loss: 0.2860 - val_tp: 217.0000 - val_fp: 0.0000e+00 - val_tn: 217.0000 - val_fn: 0.0000e+00 - val_accuracy: 1.0000 - val_precision: 1.0000 - val_recall: 1.0000 - val_auc: 1.0000 - val_prc: 1.0000\n",
      "Epoch 12/20\n",
      "32/32 [==============================] - 1s 23ms/step - loss: 0.4302 - tp: 499.0000 - fp: 178.0000 - tn: 327.0000 - fn: 6.0000 - accuracy: 0.8178 - precision: 0.7371 - recall: 0.9881 - auc: 0.8163 - prc: 0.7265 - val_loss: 0.2802 - val_tp: 213.0000 - val_fp: 0.0000e+00 - val_tn: 217.0000 - val_fn: 4.0000 - val_accuracy: 0.9908 - val_precision: 1.0000 - val_recall: 0.9816 - val_auc: 1.0000 - val_prc: 1.0000\n",
      "Epoch 13/20\n",
      "32/32 [==============================] - 1s 23ms/step - loss: 0.4291 - tp: 496.0000 - fp: 177.0000 - tn: 328.0000 - fn: 9.0000 - accuracy: 0.8158 - precision: 0.7370 - recall: 0.9822 - auc: 0.8278 - prc: 0.7488 - val_loss: 0.2753 - val_tp: 217.0000 - val_fp: 0.0000e+00 - val_tn: 217.0000 - val_fn: 0.0000e+00 - val_accuracy: 1.0000 - val_precision: 1.0000 - val_recall: 1.0000 - val_auc: 1.0000 - val_prc: 1.0000\n",
      "Epoch 14/20\n",
      "32/32 [==============================] - 1s 27ms/step - loss: 0.4113 - tp: 498.0000 - fp: 162.0000 - tn: 343.0000 - fn: 7.0000 - accuracy: 0.8327 - precision: 0.7545 - recall: 0.9861 - auc: 0.8379 - prc: 0.7559 - val_loss: 0.2691 - val_tp: 217.0000 - val_fp: 0.0000e+00 - val_tn: 217.0000 - val_fn: 0.0000e+00 - val_accuracy: 1.0000 - val_precision: 1.0000 - val_recall: 1.0000 - val_auc: 1.0000 - val_prc: 1.0000\n",
      "Epoch 15/20\n",
      "32/32 [==============================] - 1s 23ms/step - loss: 0.4229 - tp: 503.0000 - fp: 180.0000 - tn: 325.0000 - fn: 2.0000 - accuracy: 0.8198 - precision: 0.7365 - recall: 0.9960 - auc: 0.8116 - prc: 0.7245 - val_loss: 0.2630 - val_tp: 217.0000 - val_fp: 0.0000e+00 - val_tn: 217.0000 - val_fn: 0.0000e+00 - val_accuracy: 1.0000 - val_precision: 1.0000 - val_recall: 1.0000 - val_auc: 1.0000 - val_prc: 1.0000\n",
      "Epoch 16/20\n",
      "32/32 [==============================] - 1s 24ms/step - loss: 0.4226 - tp: 502.0000 - fp: 180.0000 - tn: 325.0000 - fn: 3.0000 - accuracy: 0.8188 - precision: 0.7361 - recall: 0.9941 - auc: 0.8243 - prc: 0.7408 - val_loss: 0.2577 - val_tp: 217.0000 - val_fp: 0.0000e+00 - val_tn: 217.0000 - val_fn: 0.0000e+00 - val_accuracy: 1.0000 - val_precision: 1.0000 - val_recall: 1.0000 - val_auc: 1.0000 - val_prc: 1.0000\n",
      "Epoch 17/20\n",
      "32/32 [==============================] - 1s 23ms/step - loss: 0.4282 - tp: 503.0000 - fp: 189.0000 - tn: 316.0000 - fn: 2.0000 - accuracy: 0.8109 - precision: 0.7269 - recall: 0.9960 - auc: 0.8124 - prc: 0.7273 - val_loss: 0.2536 - val_tp: 217.0000 - val_fp: 0.0000e+00 - val_tn: 217.0000 - val_fn: 0.0000e+00 - val_accuracy: 1.0000 - val_precision: 1.0000 - val_recall: 1.0000 - val_auc: 1.0000 - val_prc: 1.0000\n",
      "Epoch 18/20\n",
      "32/32 [==============================] - 1s 23ms/step - loss: 0.4094 - tp: 504.0000 - fp: 174.0000 - tn: 331.0000 - fn: 1.0000 - accuracy: 0.8267 - precision: 0.7434 - recall: 0.9980 - auc: 0.8147 - prc: 0.7276 - val_loss: 0.2486 - val_tp: 213.0000 - val_fp: 0.0000e+00 - val_tn: 217.0000 - val_fn: 4.0000 - val_accuracy: 0.9908 - val_precision: 1.0000 - val_recall: 0.9816 - val_auc: 1.0000 - val_prc: 1.0000\n",
      "Epoch 19/20\n",
      "32/32 [==============================] - 1s 24ms/step - loss: 0.4115 - tp: 503.0000 - fp: 177.0000 - tn: 328.0000 - fn: 2.0000 - accuracy: 0.8228 - precision: 0.7397 - recall: 0.9960 - auc: 0.8196 - prc: 0.7342 - val_loss: 0.2446 - val_tp: 213.0000 - val_fp: 0.0000e+00 - val_tn: 217.0000 - val_fn: 4.0000 - val_accuracy: 0.9908 - val_precision: 1.0000 - val_recall: 0.9816 - val_auc: 1.0000 - val_prc: 1.0000\n",
      "Epoch 20/20\n",
      "32/32 [==============================] - 1s 25ms/step - loss: 0.4159 - tp: 502.0000 - fp: 183.0000 - tn: 322.0000 - fn: 3.0000 - accuracy: 0.8158 - precision: 0.7328 - recall: 0.9941 - auc: 0.8109 - prc: 0.7245 - val_loss: 0.2408 - val_tp: 213.0000 - val_fp: 0.0000e+00 - val_tn: 217.0000 - val_fn: 4.0000 - val_accuracy: 0.9908 - val_precision: 1.0000 - val_recall: 0.9816 - val_auc: 1.0000 - val_prc: 1.0000\n"
     ]
    }
   ],
   "source": [
    "num_epochs = 20\n",
    "history = model.fit(training_split, train_result, epochs=num_epochs, validation_data=(test_split, test_result))"
   ],
   "metadata": {
    "collapsed": false,
    "pycharm": {
     "name": "#%%\n"
    }
   }
  },
  {
   "cell_type": "code",
   "execution_count": 2109,
   "outputs": [],
   "source": [
    "table_test = pd.read_table('../drug-discovery/1663769555_8653905_test.txt', names=['sequence'])"
   ],
   "metadata": {
    "collapsed": false,
    "pycharm": {
     "name": "#%%\n"
    }
   }
  },
  {
   "cell_type": "code",
   "execution_count": 2120,
   "outputs": [
    {
     "data": {
      "text/plain": "array([1, 1, 1, 0, 1, 0, 0, 1, 0, 0, 0, 1, 0, 1, 0, 0, 0, 1, 0, 0, 0, 1,\n       0, 0, 0, 1, 0, 0, 0, 1, 0, 0, 1, 1, 1, 1, 0, 1, 1, 0, 0, 1, 0, 0,\n       0, 1, 0, 1, 1, 0, 0, 0, 0, 1, 0, 0, 0, 0, 0, 1, 0, 0, 1, 0, 0, 1,\n       0, 1, 0, 0, 0, 0, 0, 1, 0, 0, 1, 1, 1, 1, 0, 1, 1, 1, 0, 1, 1, 1,\n       0, 1, 1, 1, 1, 1, 0, 1, 0, 0, 1, 0, 1, 0, 1, 1, 1, 0, 1, 1, 1, 0,\n       0, 0, 1, 1, 0, 1, 0, 1, 1, 1, 0, 1, 1, 1, 1, 0, 1, 1, 0, 1, 1, 0,\n       1, 1, 0, 1, 0, 1, 1, 0, 1, 1, 0, 1, 1, 1, 0, 1, 0, 1, 0, 0, 0, 1,\n       0, 0, 1, 0, 0, 1, 1, 1, 1, 0, 1, 0, 0, 1, 1, 0, 0, 1, 0, 1, 0, 0,\n       0, 1, 0, 0, 0, 1, 0, 1, 1, 0, 1, 0, 0, 1, 1, 1, 1, 0, 0, 1, 1, 0,\n       1, 1, 1, 0, 0, 1, 0, 0, 0, 0, 1, 0, 1, 1, 0, 0, 0, 0, 0, 1, 1, 0,\n       1, 0, 1, 0, 0, 1, 1, 1, 1, 0, 1, 0, 0, 1, 1, 0, 0, 1, 1, 0, 0, 1,\n       1, 1, 0, 1, 1, 0, 1, 0, 0, 0, 0, 0, 0, 1, 0, 1, 0, 0, 0, 0, 0, 0,\n       0, 0, 0, 1, 1, 0, 1, 0, 1, 0, 0, 1, 0, 0, 0, 0, 1, 1, 0, 0, 1, 1,\n       1, 1, 1, 1, 0, 1, 0, 1, 1, 0, 1, 1, 1, 0, 1, 1, 1, 0, 0, 1, 1, 0,\n       0, 1, 1, 1, 1, 1, 1, 1, 0, 1, 1, 0, 1, 0, 0, 0, 1, 1, 1, 1, 0, 1,\n       1, 0, 0, 1, 0, 0, 1, 0, 0, 0, 1, 0, 0, 0, 0, 0, 0, 1, 1, 0, 1, 1,\n       0, 0, 1, 1, 1, 0, 1, 1, 1, 0, 1, 0, 1, 1, 1, 1, 1, 0, 0, 0, 1, 1,\n       1, 1, 1, 0, 1, 1, 1, 0, 1, 0, 0, 1, 0, 1, 0, 0, 1, 1, 0, 0, 1, 1,\n       0, 0, 0, 0, 1, 0, 0, 0, 1, 1, 0, 1, 0, 0, 1, 0, 1, 0, 1, 1, 0, 0,\n       0, 1, 1, 1, 0, 0, 1, 0, 0, 0, 1, 1, 0, 0, 1, 1])"
     },
     "execution_count": 2120,
     "metadata": {},
     "output_type": "execute_result"
    }
   ],
   "source": [],
   "metadata": {
    "collapsed": false,
    "pycharm": {
     "name": "#%%\n"
    }
   }
  },
  {
   "cell_type": "code",
   "execution_count": 2111,
   "outputs": [],
   "source": [
    "unlabeled_test_sequence = vectorizer.transform(table_test.sequence).toarray()"
   ],
   "metadata": {
    "collapsed": false,
    "pycharm": {
     "name": "#%%\n"
    }
   }
  },
  {
   "cell_type": "code",
   "execution_count": 2112,
   "outputs": [
    {
     "data": {
      "text/plain": "(350, 82145)"
     },
     "execution_count": 2112,
     "metadata": {},
     "output_type": "execute_result"
    }
   ],
   "source": [
    "unlabeled_test_sequence.shape"
   ],
   "metadata": {
    "collapsed": false,
    "pycharm": {
     "name": "#%%\n"
    }
   }
  },
  {
   "cell_type": "code",
   "execution_count": 2113,
   "outputs": [
    {
     "name": "stdout",
     "output_type": "stream",
     "text": [
      " 1/11 [=>............................] - ETA: 1s"
     ]
    },
    {
     "name": "stderr",
     "output_type": "stream",
     "text": [
      "2022-10-06 01:30:19.373410: I tensorflow/core/grappler/optimizers/custom_graph_optimizer_registry.cc:114] Plugin optimizer for device_type GPU is enabled.\n"
     ]
    },
    {
     "name": "stdout",
     "output_type": "stream",
     "text": [
      "11/11 [==============================] - 0s 20ms/step\n"
     ]
    }
   ],
   "source": [
    "y = model.predict(unlabeled_test_sequence)"
   ],
   "metadata": {
    "collapsed": false,
    "pycharm": {
     "name": "#%%\n"
    }
   }
  },
  {
   "cell_type": "code",
   "execution_count": 2143,
   "outputs": [
    {
     "data": {
      "text/plain": "array([[1.75521746e-01],\n       [5.54977590e-03],\n       [1.79217290e-02],\n       [1.78968608e-02],\n       [1.57925133e-02],\n       [1.02927648e-02],\n       [1.60034467e-02],\n       [2.31880136e-02],\n       [2.30996385e-02],\n       [3.66349593e-02],\n       [1.28836799e-02],\n       [1.15241809e-02],\n       [6.29432034e-04],\n       [1.04653388e-02],\n       [1.17007494e-02],\n       [1.10611869e-02],\n       [2.92280596e-03],\n       [8.62275483e-04],\n       [1.36420969e-02],\n       [4.29580174e-03],\n       [3.61924153e-03],\n       [1.37779489e-02],\n       [7.46713078e-04],\n       [1.49882650e-02],\n       [5.97570324e-03],\n       [1.89996541e-01],\n       [7.43256509e-02],\n       [1.09598879e-02],\n       [2.08329577e-02],\n       [7.29883835e-03],\n       [1.59714520e-02],\n       [1.15250694e-02],\n       [1.40340375e-02],\n       [1.58128736e-03],\n       [1.24751180e-02],\n       [1.74183119e-02],\n       [1.76055897e-02],\n       [3.83425206e-02],\n       [4.57743220e-02],\n       [2.34245174e-02],\n       [1.29213547e-02],\n       [1.13102719e-02],\n       [1.92555171e-02],\n       [8.54533818e-03],\n       [2.95344112e-03],\n       [1.44746359e-02],\n       [1.13197891e-02],\n       [1.94110628e-02],\n       [2.36585941e-02],\n       [1.25627415e-02],\n       [9.33816358e-02],\n       [2.88516209e-02],\n       [1.22747542e-02],\n       [2.93724407e-02],\n       [2.41022483e-02],\n       [3.36542487e-01],\n       [1.67615674e-02],\n       [1.57421809e-02],\n       [1.41930217e-02],\n       [1.00217527e-02],\n       [1.91004686e-02],\n       [4.14411455e-01],\n       [1.01543674e-02],\n       [5.59264049e-03],\n       [9.91388224e-03],\n       [1.61444582e-02],\n       [1.41188040e-01],\n       [6.11610652e-04],\n       [2.77975928e-02],\n       [9.34342295e-03],\n       [8.58435873e-03],\n       [1.79043841e-02],\n       [4.12589638e-03],\n       [3.76199447e-02],\n       [1.70705263e-02],\n       [2.13723928e-02],\n       [6.86885277e-03],\n       [2.05119848e-02],\n       [2.43953187e-02],\n       [8.32626503e-03],\n       [3.98027571e-03],\n       [2.64818780e-02],\n       [2.28578880e-01],\n       [6.01800643e-02],\n       [1.94713287e-02],\n       [3.60121936e-01],\n       [8.37523211e-03],\n       [2.38887779e-02],\n       [2.07134858e-02],\n       [3.01364828e-02],\n       [2.57076608e-04],\n       [1.53375985e-02],\n       [1.30866021e-02],\n       [2.16748081e-02],\n       [7.95360468e-03],\n       [4.04744688e-03],\n       [1.17005501e-02],\n       [3.89660173e-03],\n       [1.30374074e-01],\n       [9.99953389e-01],\n       [9.31887887e-03],\n       [1.23397885e-02],\n       [4.92419116e-02],\n       [1.03983348e-02],\n       [2.17389669e-02],\n       [1.79986618e-02],\n       [7.40188593e-03],\n       [7.20565394e-03],\n       [2.66865082e-02],\n       [1.40568549e-02],\n       [1.40398787e-02],\n       [1.96956936e-02],\n       [8.07907432e-03],\n       [3.40185664e-03],\n       [9.31111634e-01],\n       [1.40981823e-02],\n       [9.85262450e-03],\n       [1.09253349e-02],\n       [5.12475483e-02],\n       [1.10203344e-02],\n       [4.23980877e-02],\n       [1.43479034e-02],\n       [1.42605910e-02],\n       [1.28148748e-02],\n       [9.55948606e-03],\n       [1.29892407e-02],\n       [2.76363865e-02],\n       [1.08624771e-02],\n       [2.13212632e-02],\n       [8.23685434e-03],\n       [8.84988531e-03],\n       [2.26974681e-01],\n       [7.70940096e-04],\n       [2.68718670e-03],\n       [9.84074504e-05],\n       [1.38355987e-02],\n       [8.16399977e-03],\n       [1.17070759e-02],\n       [2.53448114e-02],\n       [4.22696071e-03],\n       [2.28307620e-02],\n       [1.36800548e-02],\n       [3.40741687e-03],\n       [1.64638590e-02],\n       [1.26446690e-02],\n       [1.89464670e-02],\n       [1.66085511e-01],\n       [1.84556544e-02],\n       [4.23359610e-02],\n       [1.66689400e-02],\n       [1.28323985e-02],\n       [1.22901413e-03],\n       [1.19719869e-02],\n       [5.55948019e-01],\n       [9.00200382e-03],\n       [2.65530199e-02],\n       [7.28166709e-03],\n       [1.03678918e-02],\n       [1.85911134e-02],\n       [1.06585603e-02],\n       [4.59547862e-02],\n       [1.01051684e-02],\n       [2.45669261e-01],\n       [1.22056669e-02],\n       [7.19493022e-03],\n       [4.96676611e-03],\n       [4.77235857e-03],\n       [1.26804120e-03],\n       [4.88343241e-04],\n       [2.21277680e-03],\n       [6.21365616e-03],\n       [8.54126271e-03],\n       [2.03431901e-02],\n       [1.13082603e-02],\n       [1.68841630e-02],\n       [9.08374659e-06],\n       [1.24903247e-02],\n       [1.47212353e-02],\n       [1.15579162e-02],\n       [1.50420452e-02],\n       [4.51778946e-03],\n       [9.94915050e-03],\n       [6.52970094e-03],\n       [1.04381230e-04],\n       [2.09122989e-02],\n       [2.34912876e-02],\n       [1.09104235e-02],\n       [1.22251241e-02],\n       [2.28453074e-02],\n       [1.56301837e-02],\n       [3.28662805e-03],\n       [3.37156886e-03],\n       [1.44385090e-02],\n       [1.22258747e-02],\n       [1.93063654e-02],\n       [1.16693052e-02],\n       [2.01526899e-02],\n       [9.21136420e-03],\n       [2.48933062e-02],\n       [2.02909932e-02],\n       [8.33069161e-02],\n       [1.81808863e-02],\n       [1.89185888e-02],\n       [2.32628286e-02],\n       [9.13161132e-03],\n       [2.37111226e-02],\n       [1.51396077e-02],\n       [1.36217065e-02],\n       [1.40265115e-02],\n       [1.57655291e-02],\n       [4.85608773e-03],\n       [4.95318174e-02],\n       [1.23698553e-02],\n       [1.59606070e-03],\n       [2.63620820e-03],\n       [1.17882562e-03],\n       [1.00485887e-02],\n       [2.22739018e-02],\n       [3.72295864e-02],\n       [1.28257684e-02],\n       [2.32379772e-02],\n       [7.57452741e-04],\n       [2.36892290e-02],\n       [2.12066285e-02],\n       [1.29165836e-02],\n       [9.87398505e-01],\n       [2.25731041e-02],\n       [6.76841661e-03],\n       [2.32237205e-02],\n       [5.66117000e-04],\n       [2.92039096e-01],\n       [5.69645269e-03],\n       [9.77317803e-03],\n       [1.62058976e-02],\n       [1.34475073e-02],\n       [2.07535625e-02],\n       [5.81679400e-03],\n       [1.81528591e-02],\n       [9.91930161e-03],\n       [1.67894755e-02],\n       [1.23540852e-02],\n       [9.63601936e-03],\n       [1.28957322e-02],\n       [2.13968381e-02],\n       [1.47112291e-02],\n       [3.19548585e-02],\n       [3.89448251e-04],\n       [2.02521048e-02],\n       [7.81393796e-03],\n       [8.12357198e-03],\n       [3.01262271e-02],\n       [6.12288974e-02],\n       [2.17789989e-02],\n       [1.14587471e-02],\n       [1.93669468e-01],\n       [1.15086148e-02],\n       [1.29933599e-02],\n       [7.57829286e-03],\n       [1.11120299e-01],\n       [1.25566823e-02],\n       [3.37355174e-02],\n       [1.96865704e-02],\n       [1.62251424e-02],\n       [1.84798948e-02],\n       [2.53117252e-02],\n       [4.74837236e-03],\n       [2.16739252e-02],\n       [4.00822936e-03],\n       [1.13807032e-02],\n       [1.19442996e-02],\n       [9.32372268e-03],\n       [1.28229316e-02],\n       [1.41165927e-02],\n       [1.82770249e-02],\n       [1.62905431e-03],\n       [6.07533753e-03],\n       [1.58637036e-02],\n       [2.04258952e-02],\n       [1.89907756e-02],\n       [1.73316439e-05],\n       [2.25064307e-02],\n       [2.60762591e-02],\n       [6.86973939e-03],\n       [4.07840163e-02],\n       [4.43591103e-02],\n       [5.29329712e-03],\n       [2.13345159e-02],\n       [4.65318188e-03],\n       [2.11632121e-02],\n       [1.16652418e-02],\n       [4.08816570e-03],\n       [1.27061224e-03],\n       [2.53213882e-01],\n       [9.34817828e-03],\n       [1.64449066e-02],\n       [9.50793643e-03],\n       [2.17989348e-02],\n       [1.48046324e-02],\n       [2.75350176e-02],\n       [6.50254218e-03],\n       [3.06503382e-02],\n       [2.98336614e-02],\n       [1.55771319e-02],\n       [1.82492379e-02],\n       [1.41642541e-02],\n       [1.81821249e-02],\n       [5.65529242e-03],\n       [2.27767304e-02],\n       [1.57610385e-03],\n       [3.02053615e-02],\n       [4.50569578e-03],\n       [1.50240893e-02],\n       [1.02760913e-02],\n       [8.49225838e-03],\n       [3.20109054e-02],\n       [1.11536451e-01],\n       [1.14649758e-02],\n       [2.57866969e-03],\n       [3.78672266e-03],\n       [7.10208609e-04],\n       [1.87153593e-02],\n       [2.47983392e-02],\n       [1.21953934e-01],\n       [1.51010193e-02],\n       [7.16617610e-03],\n       [7.48195872e-02],\n       [2.38546841e-02],\n       [1.26649989e-02],\n       [1.90419685e-02],\n       [2.05630455e-02],\n       [1.49917766e-01],\n       [1.37948049e-02],\n       [5.26929228e-03],\n       [1.88542455e-02],\n       [1.83170028e-02],\n       [1.00938836e-02],\n       [5.91447204e-02],\n       [2.91080936e-03],\n       [3.60364504e-02],\n       [6.79350364e-07],\n       [7.18286354e-03],\n       [5.58409141e-04],\n       [4.56101261e-03],\n       [9.29630175e-03],\n       [9.96967871e-03],\n       [6.70164183e-04],\n       [4.00414225e-03],\n       [4.05194648e-02],\n       [3.51400644e-01],\n       [1.03641422e-02]], dtype=float32)"
     },
     "execution_count": 2143,
     "metadata": {},
     "output_type": "execute_result"
    }
   ],
   "source": [
    "y"
   ],
   "metadata": {
    "collapsed": false,
    "pycharm": {
     "name": "#%%\n"
    }
   }
  },
  {
   "cell_type": "code",
   "execution_count": 2115,
   "outputs": [],
   "source": [
    "# for i in range(3):\n",
    "z = [1 if i>=.5 else 0 for i in y ]"
   ],
   "metadata": {
    "collapsed": false,
    "pycharm": {
     "name": "#%%\n"
    }
   }
  },
  {
   "cell_type": "code",
   "execution_count": 2144,
   "outputs": [
    {
     "data": {
      "text/plain": "0"
     },
     "execution_count": 2144,
     "metadata": {},
     "output_type": "execute_result"
    }
   ],
   "source": [
    "z[61]"
   ],
   "metadata": {
    "collapsed": false,
    "pycharm": {
     "name": "#%%\n"
    }
   }
  },
  {
   "cell_type": "code",
   "execution_count": 2119,
   "outputs": [],
   "source": [
    "import csv\n",
    "outfile = open('./results.csv','w')\n",
    "out = csv.writer(outfile)\n",
    "out.writerows(map(lambda x: [x], z))\n",
    "outfile.close()"
   ],
   "metadata": {
    "collapsed": false,
    "pycharm": {
     "name": "#%%\n"
    }
   }
  },
  {
   "cell_type": "code",
   "execution_count": 2152,
   "outputs": [
    {
     "data": {
      "text/plain": "[<matplotlib.lines.Line2D at 0x351c3da30>]"
     },
     "execution_count": 2152,
     "metadata": {},
     "output_type": "execute_result"
    },
    {
     "data": {
      "text/plain": "<Figure size 640x480 with 2 Axes>",
      "image/png": "[encoded data removed]"
     },
     "metadata": {},
     "output_type": "display_data"
    }
   ],
   "source": [
    "fig, (ax1,ax2) = plt.subplots(1,2)\n",
    "testloss = np.array(history.history['val_loss']).reshape(len(history.history['val_loss']),1)\n",
    "trainloss = np.array(history.history['loss']).reshape(len(history.history['loss']),1)\n",
    "\n",
    "ax1.plot(history.epoch, testloss, '-')\n",
    "ax1.plot(history.epoch, trainloss, '--')\n",
    "# ax1.ylabel('loss')\n",
    "# ax1.xlabel('epoch')\n",
    "\n",
    "train_precision = np.array(history.history['precision']).reshape(len(history.history['loss']),1)\n",
    "train_recall= np.array(history.history['recall']).reshape(len(history.history['loss']),1)\n",
    "j =( 2 * train_precision * train_recall) / (train_precision+train_recall)\n",
    "\n",
    "test_precission = np.array(history.history['val_precision']).reshape(len(history.history['loss']),1)\n",
    "test_recall = np.array(history.history['val_recall']).reshape(len(history.history['loss']),1)\n",
    "k = (2 * test_precission * test_recall )/ (test_precission+test_recall)\n",
    "# plt.plot(history.epoch,j, '-')\n",
    "# plt.plot(k,'--')\n",
    "\n",
    "ax2.plot(history.epoch, k, 'tab:red')\n",
    "ax2.plot(history.epoch, j, 'tab:green')\n",
    "\n",
    "# ax3.plot(j+3)\n",
    "# ax3.plot(trainloss,'tab:blue')"
   ],
   "metadata": {
    "collapsed": false,
    "pycharm": {
     "name": "#%%\n"
    }
   }
  },
  {
   "cell_type": "code",
   "execution_count": null,
   "outputs": [],
   "source": [],
   "metadata": {
    "collapsed": false,
    "pycharm": {
     "name": "#%%\n"
    }
   }
  }
 ],
 "metadata": {
  "kernelspec": {
   "display_name": "Python 3",
   "language": "python",
   "name": "python3"
  },
  "language_info": {
   "codemirror_mode": {
    "name": "ipython",
    "version": 2
   },
   "file_extension": ".py",
   "mimetype": "text/x-python",
   "name": "python",
   "nbconvert_exporter": "python",
   "pygments_lexer": "ipython2",
   "version": "2.7.6"
  }
 },
 "nbformat": 4,
 "nbformat_minor": 0
}