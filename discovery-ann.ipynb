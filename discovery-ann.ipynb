{
 "cells": [
  {
   "cell_type": "code",
   "execution_count": 145,
   "metadata": {
    "collapsed": true,
    "pycharm": {
     "name": "#%%\n"
    }
   },
   "outputs": [],
   "source": [
    "import tensorflow as tf\n",
    "import pandas as pd\n",
    "import numpy as np\n",
    "import matplotlib.pyplot as plt\n",
    "import imblearn"
   ]
  },
  {
   "cell_type": "code",
   "execution_count": 146,
   "outputs": [],
   "source": [
    "table = pd.read_table('../drug-discovery/1663769555_8559356_train.txt', names=['binding','sequence'])"
   ],
   "metadata": {
    "collapsed": false,
    "pycharm": {
     "name": "#%%\n"
    }
   }
  },
  {
   "cell_type": "code",
   "execution_count": 147,
   "outputs": [],
   "source": [
    "from sklearn.feature_extraction.text import CountVectorizer\n",
    "def return_binary_vectorized_form(data_frame):\n",
    "    count_vectorizer = CountVectorizer(binary=True)\n",
    "    fitted_and_transformed = count_vectorizer.fit_transform(data_frame).toarray()\n",
    "    return count_vectorizer,  fitted_and_transformed\n"
   ],
   "metadata": {
    "collapsed": false,
    "pycharm": {
     "name": "#%%\n"
    }
   }
  },
  {
   "cell_type": "code",
   "execution_count": 148,
   "outputs": [],
   "source": [
    "from sklearn.feature_extraction.text import CountVectorizer\n",
    "def return_binary_vectorized_form_with_vocab(data_frame, vocab):\n",
    "    count_vectorizer = CountVectorizer(binary=True, vocabulary=vocab)\n",
    "    fitted_and_transformed = count_vectorizer.fit_transform(data_frame).toarray()\n",
    "    return count_vectorizer,  fitted_and_transformed"
   ],
   "metadata": {
    "collapsed": false,
    "pycharm": {
     "name": "#%%\n"
    }
   }
  },
  {
   "cell_type": "code",
   "execution_count": 149,
   "outputs": [],
   "source": [
    "from sklearn.feature_selection import SelectKBest, chi2\n",
    "def select_k_best_features(feature_set, target_values, fraction, feature_list):\n",
    "    select_bestselect_best = SelectKBest(score_func=chi2, k = int(len(feature_list)*fraction))\n",
    "    select_bestselect_best.fit(feature_set,target_values)\n",
    "    mask = select_bestselect_best.get_support()\n",
    "    k_best_featurs = feature_list[mask]\n",
    "    return k_best_featurs"
   ],
   "metadata": {
    "collapsed": false,
    "pycharm": {
     "name": "#%%\n"
    }
   }
  },
  {
   "cell_type": "code",
   "execution_count": 150,
   "outputs": [],
   "source": [
    "from sklearn.model_selection import train_test_split\n",
    "active_df = table.loc[table.binding == 1]\n",
    "not_active_df = table.loc[table.binding == 0]\n",
    "active_train, active_test, active_binding_train, active_binding_test = train_test_split(active_df.sequence, active_df.binding, shuffle=True, train_size=.65)\n",
    "not_active_train, not_active_test, not_active_binding_train, not_active_binding_test = train_test_split(not_active_df.sequence, not_active_df.binding, shuffle=True, train_size=.70)"
   ],
   "metadata": {
    "collapsed": false,
    "pycharm": {
     "name": "#%%\n"
    }
   }
  },
  {
   "cell_type": "code",
   "execution_count": 151,
   "outputs": [],
   "source": [
    "active_train_df = pd.DataFrame(active_train)\n",
    "active_test_df = pd.DataFrame(active_test)\n",
    "active_binding_train_df = pd.DataFrame(active_binding_train)\n",
    "active_binding_test_df = pd.DataFrame(active_binding_test)\n",
    "\n",
    "active_train_df['binding'] = active_binding_train_df['binding']\n",
    "active_test_df['binding'] = active_binding_test_df['binding']"
   ],
   "metadata": {
    "collapsed": false,
    "pycharm": {
     "name": "#%%\n"
    }
   }
  },
  {
   "cell_type": "code",
   "execution_count": 152,
   "outputs": [],
   "source": [
    "not_active_train_df = pd.DataFrame(not_active_train)\n",
    "not_active_test_df = pd.DataFrame(not_active_test)\n",
    "not_active_binding_train_df = pd.DataFrame(not_active_binding_train)\n",
    "not_active_binding_test_df = pd.DataFrame(not_active_binding_test)\n",
    "\n",
    "not_active_train_df['binding'] = not_active_binding_train_df['binding']\n",
    "not_active_test_df['binding'] = not_active_binding_test_df['binding']"
   ],
   "metadata": {
    "collapsed": false,
    "pycharm": {
     "name": "#%%\n"
    }
   }
  },
  {
   "cell_type": "code",
   "execution_count": 153,
   "outputs": [
    {
     "name": "stdout",
     "output_type": "stream",
     "text": [
      "0    505\n",
      "1     50\n",
      "Name: binding, dtype: int64\n",
      "0    217\n",
      "1     28\n",
      "Name: binding, dtype: int64\n"
     ]
    }
   ],
   "source": [
    "train_df = pd.concat([active_train_df,not_active_train_df]).reset_index()\n",
    "train_df = train_df.drop('index',axis=1)\n",
    "print(train_df.binding.value_counts())\n",
    "\n",
    "test_df = pd.concat([active_test_df,not_active_test_df]).reset_index()\n",
    "test_df = test_df.drop('index',axis=1)\n",
    "print(test_df.binding.value_counts())"
   ],
   "metadata": {
    "collapsed": false,
    "pycharm": {
     "name": "#%%\n"
    }
   }
  },
  {
   "cell_type": "code",
   "execution_count": 154,
   "outputs": [],
   "source": [
    "from imblearn.over_sampling import RandomOverSampler\n",
    "sampler = RandomOverSampler()\n",
    "x_sampled, y_sampled = sampler.fit_resample(np.array(train_df.sequence).reshape(-1,1),train_df.binding)\n",
    "x_test_sampled, y_test_sampled = sampler.fit_resample(np.array(test_df.sequence).reshape(-1,1),test_df.binding)"
   ],
   "metadata": {
    "collapsed": false,
    "pycharm": {
     "name": "#%%\n"
    }
   }
  },
  {
   "cell_type": "code",
   "execution_count": 155,
   "outputs": [
    {
     "name": "stdout",
     "output_type": "stream",
     "text": [
      "1    505\n",
      "0    505\n",
      "Name: binding, dtype: int64\n",
      "1    217\n",
      "0    217\n",
      "Name: binding, dtype: int64\n"
     ]
    }
   ],
   "source": [
    "final_train_set = pd.DataFrame(x_sampled, columns  =[\"sequence\"])\n",
    "final_train_set['binding'] = y_sampled\n",
    "print(final_train_set.binding.value_counts())\n",
    "\n",
    "final_test_set = pd.DataFrame(x_test_sampled, columns  =[\"sequence\"])\n",
    "final_test_set['binding'] = y_test_sampled\n",
    "print(final_test_set.binding.value_counts())"
   ],
   "metadata": {
    "collapsed": false,
    "pycharm": {
     "name": "#%%\n"
    }
   }
  },
  {
   "cell_type": "code",
   "execution_count": 156,
   "outputs": [],
   "source": [
    "vectorizer_global, training_features = return_binary_vectorized_form(final_train_set.sequence)\n",
    "k_best_feature = select_k_best_features(training_features, final_train_set.binding, 0.15, vectorizer_global.get_feature_names_out())\n",
    "vectorizer_k_best, training_split = return_binary_vectorized_form_with_vocab(final_train_set.sequence,k_best_feature)\n",
    "test_split = vectorizer_k_best.transform(final_test_set.sequence).toarray()"
   ],
   "metadata": {
    "collapsed": false,
    "pycharm": {
     "name": "#%%\n"
    }
   }
  },
  {
   "cell_type": "code",
   "execution_count": 157,
   "outputs": [
    {
     "name": "stdout",
     "output_type": "stream",
     "text": [
      "(1010, 12069)\n",
      "(434, 12069)\n"
     ]
    }
   ],
   "source": [
    "print(training_split.shape)\n",
    "print(test_split.shape)"
   ],
   "metadata": {
    "collapsed": false,
    "pycharm": {
     "name": "#%%\n"
    }
   }
  },
  {
   "cell_type": "code",
   "execution_count": 158,
   "outputs": [
    {
     "name": "stdout",
     "output_type": "stream",
     "text": [
      "(1010,)\n",
      "(434,)\n"
     ]
    }
   ],
   "source": [
    "train_result = np.array(final_train_set.binding)\n",
    "test_result = np.array(final_test_set.binding)\n",
    "print(train_result.shape)\n",
    "print(test_result.shape)"
   ],
   "metadata": {
    "collapsed": false,
    "pycharm": {
     "name": "#%%\n"
    }
   }
  },
  {
   "cell_type": "code",
   "execution_count": 159,
   "outputs": [
    {
     "data": {
      "text/plain": "217"
     },
     "execution_count": 159,
     "metadata": {},
     "output_type": "execute_result"
    }
   ],
   "source": [
    "test_result.sum()"
   ],
   "metadata": {
    "collapsed": false,
    "pycharm": {
     "name": "#%%\n"
    }
   }
  },
  {
   "cell_type": "code",
   "execution_count": 160,
   "outputs": [
    {
     "data": {
      "text/plain": "505"
     },
     "execution_count": 160,
     "metadata": {},
     "output_type": "execute_result"
    }
   ],
   "source": [
    "train_result.sum()"
   ],
   "metadata": {
    "collapsed": false,
    "pycharm": {
     "name": "#%%\n"
    }
   }
  },
  {
   "cell_type": "code",
   "execution_count": 161,
   "outputs": [
    {
     "data": {
      "text/plain": "12069"
     },
     "execution_count": 161,
     "metadata": {},
     "output_type": "execute_result"
    }
   ],
   "source": [
    "training_split.shape[-1]"
   ],
   "metadata": {
    "collapsed": false,
    "pycharm": {
     "name": "#%%\n"
    }
   }
  },
  {
   "cell_type": "code",
   "execution_count": 170,
   "outputs": [],
   "source": [
    "model = tf.keras.Sequential([\n",
    "    tf.keras.Input(shape=(training_split.shape[-1],)),\n",
    "    # tf.keras.layers.Dropout(0.85),\n",
    "    tf.keras.layers.Dense(2,activation='relu',kernel_regularizer=tf.keras.regularizers.L1(.1)),\n",
    "    tf.keras.layers.Dense(1, activation='sigmoid')\n",
    "])"
   ],
   "metadata": {
    "collapsed": false,
    "pycharm": {
     "name": "#%%\n"
    }
   }
  },
  {
   "cell_type": "code",
   "execution_count": 171,
   "outputs": [],
   "source": [
    "METRICS = [\n",
    "      tf.keras.metrics.TruePositives(name='tp'),\n",
    "      tf.keras.metrics.FalsePositives(name='fp'),\n",
    "      tf.keras.metrics.TrueNegatives(name='tn'),\n",
    "      tf.keras.metrics.FalseNegatives(name='fn'),\n",
    "      tf.keras.metrics.BinaryAccuracy(name='accuracy'),\n",
    "      tf.keras.metrics.Precision(name='precision'),\n",
    "      tf.keras.metrics.Recall(name='recall'),\n",
    "      tf.keras.metrics.AUC(name='auc'),\n",
    "      tf.keras.metrics.AUC(name='prc', curve='PR'), # precision-recall curve\n",
    "]\n",
    "\n",
    "model.compile(loss=tf.keras.losses.BinaryCrossentropy(from_logits=True), optimizer='adam', metrics=METRICS)"
   ],
   "metadata": {
    "collapsed": false,
    "pycharm": {
     "name": "#%%\n"
    }
   }
  },
  {
   "cell_type": "code",
   "execution_count": 172,
   "outputs": [
    {
     "name": "stdout",
     "output_type": "stream",
     "text": [
      "Epoch 1/20\n"
     ]
    },
    {
     "name": "stderr",
     "output_type": "stream",
     "text": [
      "/Users/bhabaranjanpanigrahi/miniforge3/envs/mlp/lib/python3.8/site-packages/keras/backend.py:5673: UserWarning: \"`binary_crossentropy` received `from_logits=True`, but the `output` argument was produced by a Sigmoid activation and thus does not represent logits. Was this intended?\n",
      "  output, from_logits = _get_logits(\n",
      "2022-10-06 15:06:42.512910: I tensorflow/core/grappler/optimizers/custom_graph_optimizer_registry.cc:114] Plugin optimizer for device_type GPU is enabled.\n"
     ]
    },
    {
     "name": "stdout",
     "output_type": "stream",
     "text": [
      "32/32 [==============================] - ETA: 0s - loss: 8.9283 - tp: 380.0000 - fp: 211.0000 - tn: 294.0000 - fn: 125.0000 - accuracy: 0.6673 - precision: 0.6430 - recall: 0.7525 - auc: 0.6736 - prc: 0.6619"
     ]
    },
    {
     "name": "stderr",
     "output_type": "stream",
     "text": [
      "2022-10-06 15:06:43.816799: I tensorflow/core/grappler/optimizers/custom_graph_optimizer_registry.cc:114] Plugin optimizer for device_type GPU is enabled.\n"
     ]
    },
    {
     "name": "stdout",
     "output_type": "stream",
     "text": [
      "32/32 [==============================] - 2s 55ms/step - loss: 8.9283 - tp: 380.0000 - fp: 211.0000 - tn: 294.0000 - fn: 125.0000 - accuracy: 0.6673 - precision: 0.6430 - recall: 0.7525 - auc: 0.6736 - prc: 0.6619 - val_loss: 2.1190 - val_tp: 170.0000 - val_fp: 43.0000 - val_tn: 174.0000 - val_fn: 47.0000 - val_accuracy: 0.7926 - val_precision: 0.7981 - val_recall: 0.7834 - val_auc: 0.8056 - val_prc: 0.8404\n",
      "Epoch 2/20\n",
      "32/32 [==============================] - 1s 19ms/step - loss: 1.4183 - tp: 375.0000 - fp: 20.0000 - tn: 485.0000 - fn: 130.0000 - accuracy: 0.8515 - precision: 0.9494 - recall: 0.7426 - auc: 0.7603 - prc: 0.8036 - val_loss: 1.0728 - val_tp: 31.0000 - val_fp: 3.0000 - val_tn: 214.0000 - val_fn: 186.0000 - val_accuracy: 0.5645 - val_precision: 0.9118 - val_recall: 0.1429 - val_auc: 0.5494 - val_prc: 0.5653\n",
      "Epoch 3/20\n",
      "32/32 [==============================] - 1s 18ms/step - loss: 1.0255 - tp: 255.0000 - fp: 3.0000 - tn: 502.0000 - fn: 250.0000 - accuracy: 0.7495 - precision: 0.9884 - recall: 0.5050 - auc: 0.5894 - prc: 0.6242 - val_loss: 1.0105 - val_tp: 34.0000 - val_fp: 2.0000 - val_tn: 215.0000 - val_fn: 183.0000 - val_accuracy: 0.5737 - val_precision: 0.9444 - val_recall: 0.1567 - val_auc: 0.5115 - val_prc: 0.5060\n",
      "Epoch 4/20\n",
      "32/32 [==============================] - 1s 18ms/step - loss: 1.0098 - tp: 56.0000 - fp: 0.0000e+00 - tn: 505.0000 - fn: 449.0000 - accuracy: 0.5554 - precision: 1.0000 - recall: 0.1109 - auc: 0.6436 - prc: 0.6893 - val_loss: 1.0125 - val_tp: 0.0000e+00 - val_fp: 0.0000e+00 - val_tn: 217.0000 - val_fn: 217.0000 - val_accuracy: 0.5000 - val_precision: 0.0000e+00 - val_recall: 0.0000e+00 - val_auc: 0.6498 - val_prc: 0.7150\n",
      "Epoch 5/20\n",
      "32/32 [==============================] - 1s 17ms/step - loss: 1.0065 - tp: 100.0000 - fp: 0.0000e+00 - tn: 505.0000 - fn: 405.0000 - accuracy: 0.5990 - precision: 1.0000 - recall: 0.1980 - auc: 0.8352 - prc: 0.8687 - val_loss: 1.0090 - val_tp: 0.0000e+00 - val_fp: 0.0000e+00 - val_tn: 217.0000 - val_fn: 217.0000 - val_accuracy: 0.5000 - val_precision: 0.0000e+00 - val_recall: 0.0000e+00 - val_auc: 0.8088 - val_prc: 0.8126\n",
      "Epoch 6/20\n",
      "32/32 [==============================] - 1s 17ms/step - loss: 1.0078 - tp: 139.0000 - fp: 0.0000e+00 - tn: 505.0000 - fn: 366.0000 - accuracy: 0.6376 - precision: 1.0000 - recall: 0.2752 - auc: 0.8399 - prc: 0.8465 - val_loss: 1.0059 - val_tp: 20.0000 - val_fp: 0.0000e+00 - val_tn: 217.0000 - val_fn: 197.0000 - val_accuracy: 0.5461 - val_precision: 1.0000 - val_recall: 0.0922 - val_auc: 0.7442 - val_prc: 0.6886\n",
      "Epoch 7/20\n",
      "32/32 [==============================] - 1s 17ms/step - loss: 1.0067 - tp: 181.0000 - fp: 1.0000 - tn: 504.0000 - fn: 324.0000 - accuracy: 0.6782 - precision: 0.9945 - recall: 0.3584 - auc: 0.7996 - prc: 0.7806 - val_loss: 1.0116 - val_tp: 54.0000 - val_fp: 2.0000 - val_tn: 215.0000 - val_fn: 163.0000 - val_accuracy: 0.6198 - val_precision: 0.9643 - val_recall: 0.2488 - val_auc: 0.5806 - val_prc: 0.5439\n",
      "Epoch 8/20\n",
      "32/32 [==============================] - 1s 17ms/step - loss: 1.0069 - tp: 223.0000 - fp: 3.0000 - tn: 502.0000 - fn: 282.0000 - accuracy: 0.7178 - precision: 0.9867 - recall: 0.4416 - auc: 0.7660 - prc: 0.7440 - val_loss: 1.0076 - val_tp: 32.0000 - val_fp: 0.0000e+00 - val_tn: 217.0000 - val_fn: 185.0000 - val_accuracy: 0.5737 - val_precision: 1.0000 - val_recall: 0.1475 - val_auc: 0.6544 - val_prc: 0.5966\n",
      "Epoch 9/20\n",
      "32/32 [==============================] - 1s 17ms/step - loss: 1.0070 - tp: 204.0000 - fp: 2.0000 - tn: 503.0000 - fn: 301.0000 - accuracy: 0.7000 - precision: 0.9903 - recall: 0.4040 - auc: 0.8141 - prc: 0.8003 - val_loss: 1.0108 - val_tp: 39.0000 - val_fp: 1.0000 - val_tn: 216.0000 - val_fn: 178.0000 - val_accuracy: 0.5876 - val_precision: 0.9750 - val_recall: 0.1797 - val_auc: 0.8111 - val_prc: 0.7674\n",
      "Epoch 10/20\n",
      "32/32 [==============================] - 1s 17ms/step - loss: 1.0086 - tp: 239.0000 - fp: 3.0000 - tn: 502.0000 - fn: 266.0000 - accuracy: 0.7337 - precision: 0.9876 - recall: 0.4733 - auc: 0.7166 - prc: 0.7307 - val_loss: 1.0092 - val_tp: 59.0000 - val_fp: 6.0000 - val_tn: 211.0000 - val_fn: 158.0000 - val_accuracy: 0.6221 - val_precision: 0.9077 - val_recall: 0.2719 - val_auc: 0.6658 - val_prc: 0.6357\n",
      "Epoch 11/20\n",
      "32/32 [==============================] - 1s 17ms/step - loss: 1.0094 - tp: 331.0000 - fp: 10.0000 - tn: 495.0000 - fn: 174.0000 - accuracy: 0.8178 - precision: 0.9707 - recall: 0.6554 - auc: 0.6784 - prc: 0.7253 - val_loss: 1.0114 - val_tp: 96.0000 - val_fp: 5.0000 - val_tn: 212.0000 - val_fn: 121.0000 - val_accuracy: 0.7097 - val_precision: 0.9505 - val_recall: 0.4424 - val_auc: 0.5737 - val_prc: 0.5782\n",
      "Epoch 12/20\n",
      "32/32 [==============================] - 1s 17ms/step - loss: 1.0095 - tp: 344.0000 - fp: 10.0000 - tn: 495.0000 - fn: 161.0000 - accuracy: 0.8307 - precision: 0.9718 - recall: 0.6812 - auc: 0.6841 - prc: 0.7392 - val_loss: 1.0077 - val_tp: 63.0000 - val_fp: 2.0000 - val_tn: 215.0000 - val_fn: 154.0000 - val_accuracy: 0.6406 - val_precision: 0.9692 - val_recall: 0.2903 - val_auc: 0.6659 - val_prc: 0.6133\n",
      "Epoch 13/20\n",
      "32/32 [==============================] - 1s 17ms/step - loss: 1.0091 - tp: 302.0000 - fp: 9.0000 - tn: 496.0000 - fn: 203.0000 - accuracy: 0.7901 - precision: 0.9711 - recall: 0.5980 - auc: 0.8229 - prc: 0.8167 - val_loss: 1.0147 - val_tp: 48.0000 - val_fp: 0.0000e+00 - val_tn: 217.0000 - val_fn: 169.0000 - val_accuracy: 0.6106 - val_precision: 1.0000 - val_recall: 0.2212 - val_auc: 0.7864 - val_prc: 0.7728\n",
      "Epoch 14/20\n",
      "32/32 [==============================] - 1s 17ms/step - loss: 1.0118 - tp: 265.0000 - fp: 2.0000 - tn: 503.0000 - fn: 240.0000 - accuracy: 0.7604 - precision: 0.9925 - recall: 0.5248 - auc: 0.8889 - prc: 0.8961 - val_loss: 1.0097 - val_tp: 69.0000 - val_fp: 1.0000 - val_tn: 216.0000 - val_fn: 148.0000 - val_accuracy: 0.6567 - val_precision: 0.9857 - val_recall: 0.3180 - val_auc: 0.7952 - val_prc: 0.8440\n",
      "Epoch 15/20\n",
      "32/32 [==============================] - 1s 16ms/step - loss: 1.0071 - tp: 214.0000 - fp: 2.0000 - tn: 503.0000 - fn: 291.0000 - accuracy: 0.7099 - precision: 0.9907 - recall: 0.4238 - auc: 0.8623 - prc: 0.9023 - val_loss: 1.0090 - val_tp: 68.0000 - val_fp: 1.0000 - val_tn: 216.0000 - val_fn: 149.0000 - val_accuracy: 0.6544 - val_precision: 0.9855 - val_recall: 0.3134 - val_auc: 0.8250 - val_prc: 0.8669\n",
      "Epoch 16/20\n",
      "32/32 [==============================] - 1s 17ms/step - loss: 1.0085 - tp: 383.0000 - fp: 19.0000 - tn: 486.0000 - fn: 122.0000 - accuracy: 0.8604 - precision: 0.9527 - recall: 0.7584 - auc: 0.8332 - prc: 0.8661 - val_loss: 1.0121 - val_tp: 146.0000 - val_fp: 6.0000 - val_tn: 211.0000 - val_fn: 71.0000 - val_accuracy: 0.8226 - val_precision: 0.9605 - val_recall: 0.6728 - val_auc: 0.8142 - val_prc: 0.8322\n",
      "Epoch 17/20\n",
      "32/32 [==============================] - 1s 17ms/step - loss: 1.0105 - tp: 378.0000 - fp: 16.0000 - tn: 489.0000 - fn: 127.0000 - accuracy: 0.8584 - precision: 0.9594 - recall: 0.7485 - auc: 0.9024 - prc: 0.9151 - val_loss: 1.0121 - val_tp: 146.0000 - val_fp: 5.0000 - val_tn: 212.0000 - val_fn: 71.0000 - val_accuracy: 0.8249 - val_precision: 0.9669 - val_recall: 0.6728 - val_auc: 0.8419 - val_prc: 0.8782\n",
      "Epoch 18/20\n",
      "32/32 [==============================] - 1s 17ms/step - loss: 1.0099 - tp: 345.0000 - fp: 15.0000 - tn: 490.0000 - fn: 160.0000 - accuracy: 0.8267 - precision: 0.9583 - recall: 0.6832 - auc: 0.8752 - prc: 0.9088 - val_loss: 1.0124 - val_tp: 146.0000 - val_fp: 7.0000 - val_tn: 210.0000 - val_fn: 71.0000 - val_accuracy: 0.8203 - val_precision: 0.9542 - val_recall: 0.6728 - val_auc: 0.8374 - val_prc: 0.8728\n",
      "Epoch 19/20\n",
      "32/32 [==============================] - 1s 17ms/step - loss: 1.0071 - tp: 366.0000 - fp: 17.0000 - tn: 488.0000 - fn: 139.0000 - accuracy: 0.8455 - precision: 0.9556 - recall: 0.7248 - auc: 0.8915 - prc: 0.9169 - val_loss: 1.0093 - val_tp: 146.0000 - val_fp: 5.0000 - val_tn: 212.0000 - val_fn: 71.0000 - val_accuracy: 0.8249 - val_precision: 0.9669 - val_recall: 0.6728 - val_auc: 0.8783 - val_prc: 0.9051\n",
      "Epoch 20/20\n",
      "32/32 [==============================] - 1s 16ms/step - loss: 1.0069 - tp: 364.0000 - fp: 17.0000 - tn: 488.0000 - fn: 141.0000 - accuracy: 0.8436 - precision: 0.9554 - recall: 0.7208 - auc: 0.9296 - prc: 0.9439 - val_loss: 1.0106 - val_tp: 155.0000 - val_fp: 5.0000 - val_tn: 212.0000 - val_fn: 62.0000 - val_accuracy: 0.8456 - val_precision: 0.9688 - val_recall: 0.7143 - val_auc: 0.8446 - val_prc: 0.8817\n"
     ]
    }
   ],
   "source": [
    "num_epochs = 20\n",
    "history = model.fit(training_split, train_result, epochs=num_epochs, validation_data=(test_split, test_result))"
   ],
   "metadata": {
    "collapsed": false,
    "pycharm": {
     "name": "#%%\n"
    }
   }
  },
  {
   "cell_type": "code",
   "execution_count": null,
   "outputs": [],
   "source": [],
   "metadata": {
    "collapsed": false,
    "pycharm": {
     "name": "#%%\n"
    }
   }
  },
  {
   "cell_type": "code",
   "execution_count": 2274,
   "outputs": [],
   "source": [
    "table_test = pd.read_table('../drug-discovery/1663769555_8653905_test.txt', names=['sequence'])"
   ],
   "metadata": {
    "collapsed": false,
    "pycharm": {
     "name": "#%%\n"
    }
   }
  },
  {
   "cell_type": "code",
   "execution_count": 2274,
   "outputs": [],
   "source": [],
   "metadata": {
    "collapsed": false,
    "pycharm": {
     "name": "#%%\n"
    }
   }
  },
  {
   "cell_type": "code",
   "execution_count": 2275,
   "outputs": [],
   "source": [
    "unlabeled_test_sequence = vectorizer_k_best.transform(table_test.sequence).toarray()"
   ],
   "metadata": {
    "collapsed": false,
    "pycharm": {
     "name": "#%%\n"
    }
   }
  },
  {
   "cell_type": "code",
   "execution_count": 2276,
   "outputs": [
    {
     "data": {
      "text/plain": "(350, 12325)"
     },
     "execution_count": 2276,
     "metadata": {},
     "output_type": "execute_result"
    }
   ],
   "source": [
    "unlabeled_test_sequence.shape"
   ],
   "metadata": {
    "collapsed": false,
    "pycharm": {
     "name": "#%%\n"
    }
   }
  },
  {
   "cell_type": "code",
   "execution_count": 2277,
   "outputs": [
    {
     "name": "stdout",
     "output_type": "stream",
     "text": [
      " 8/11 [====================>.........] - ETA: 0s"
     ]
    },
    {
     "name": "stderr",
     "output_type": "stream",
     "text": [
      "2022-10-06 02:44:38.336909: I tensorflow/core/grappler/optimizers/custom_graph_optimizer_registry.cc:114] Plugin optimizer for device_type GPU is enabled.\n"
     ]
    },
    {
     "name": "stdout",
     "output_type": "stream",
     "text": [
      "11/11 [==============================] - 0s 15ms/step\n"
     ]
    }
   ],
   "source": [
    "y = model.predict(unlabeled_test_sequence)"
   ],
   "metadata": {
    "collapsed": false,
    "pycharm": {
     "name": "#%%\n"
    }
   }
  },
  {
   "cell_type": "code",
   "execution_count": 2278,
   "outputs": [
    {
     "data": {
      "text/plain": "array([[0.6592826 ],\n       [0.23935299],\n       [0.296676  ],\n       [0.3219071 ],\n       [0.32281226],\n       [0.3201064 ],\n       [0.33405152],\n       [0.36273706],\n       [0.35569504],\n       [0.49149922],\n       [0.25525194],\n       [0.3375533 ],\n       [0.20907633],\n       [0.33114335],\n       [0.35033846],\n       [0.46227854],\n       [0.15608594],\n       [0.23246264],\n       [0.27420235],\n       [0.24557185],\n       [0.19583343],\n       [0.3490965 ],\n       [0.12967853],\n       [0.24576283],\n       [0.39984587],\n       [0.75503534],\n       [0.33622605],\n       [0.2689    ],\n       [0.32833603],\n       [0.26585162],\n       [0.3009542 ],\n       [0.37062418],\n       [0.31932494],\n       [0.17161638],\n       [0.2921615 ],\n       [0.28504017],\n       [0.28737098],\n       [0.34804067],\n       [0.43381003],\n       [0.34715256],\n       [0.26454854],\n       [0.29872432],\n       [0.28909793],\n       [0.22936128],\n       [0.19502898],\n       [0.26172948],\n       [0.29550877],\n       [0.29646844],\n       [0.24375857],\n       [0.24082914],\n       [0.44353464],\n       [0.33171752],\n       [0.35628235],\n       [0.5260437 ],\n       [0.3151331 ],\n       [0.7538634 ],\n       [0.3280783 ],\n       [0.32998046],\n       [0.3187465 ],\n       [0.3377522 ],\n       [0.2930659 ],\n       [0.92620724],\n       [0.2899779 ],\n       [0.23728448],\n       [0.35972834],\n       [0.34611428],\n       [0.6778889 ],\n       [0.12302009],\n       [0.28210258],\n       [0.29986438],\n       [0.25117412],\n       [0.24489689],\n       [0.21576867],\n       [0.30205408],\n       [0.28177634],\n       [0.35084662],\n       [0.24788597],\n       [0.30124673],\n       [0.29078695],\n       [0.27178976],\n       [0.42512202],\n       [0.32265848],\n       [0.761747  ],\n       [0.7015126 ],\n       [0.27305612],\n       [0.7717384 ],\n       [0.30881083],\n       [0.29256895],\n       [0.2499036 ],\n       [0.40499774],\n       [0.10071731],\n       [0.30747628],\n       [0.306396  ],\n       [0.26098275],\n       [0.32901183],\n       [0.31264016],\n       [0.3995163 ],\n       [0.28217483],\n       [0.76528704],\n       [0.98721004],\n       [0.25982252],\n       [0.31862935],\n       [0.3044509 ],\n       [0.30925924],\n       [0.28779405],\n       [0.25975797],\n       [0.25343835],\n       [0.41153994],\n       [0.32018852],\n       [0.35870975],\n       [0.38536298],\n       [0.3219972 ],\n       [0.25899118],\n       [0.20690149],\n       [0.89320433],\n       [0.2549289 ],\n       [0.2873072 ],\n       [0.278389  ],\n       [0.46464682],\n       [0.2639387 ],\n       [0.47702822],\n       [0.2338069 ],\n       [0.30326435],\n       [0.24530311],\n       [0.26502472],\n       [0.35500902],\n       [0.3405672 ],\n       [0.34815362],\n       [0.33673587],\n       [0.3032972 ],\n       [0.25660446],\n       [0.8335658 ],\n       [0.21956138],\n       [0.22841538],\n       [0.09581855],\n       [0.28686938],\n       [0.28440458],\n       [0.33071247],\n       [0.26477173],\n       [0.78259635],\n       [0.32202226],\n       [0.38182288],\n       [0.23604965],\n       [0.28601548],\n       [0.25838536],\n       [0.3272233 ],\n       [0.7896823 ],\n       [0.29489475],\n       [0.47655657],\n       [0.2666121 ],\n       [0.26338193],\n       [0.173157  ],\n       [0.26998702],\n       [0.7316161 ],\n       [0.37065694],\n       [0.34546125],\n       [0.33339635],\n       [0.24258728],\n       [0.29439324],\n       [0.30996808],\n       [0.4083428 ],\n       [0.32710385],\n       [0.7246704 ],\n       [0.28982136],\n       [0.37723765],\n       [0.26543912],\n       [0.31253466],\n       [0.15083924],\n       [0.25585118],\n       [0.22899643],\n       [0.22191513],\n       [0.3135831 ],\n       [0.27204397],\n       [0.27091867],\n       [0.35197118],\n       [0.06436768],\n       [0.246469  ],\n       [0.35339358],\n       [0.27633154],\n       [0.26311332],\n       [0.21794769],\n       [0.27426916],\n       [0.23028497],\n       [0.11159438],\n       [0.34372202],\n       [0.30366609],\n       [0.27865878],\n       [0.29244205],\n       [0.34902257],\n       [0.35068145],\n       [0.15509567],\n       [0.18662617],\n       [0.30933622],\n       [0.32396647],\n       [0.29159173],\n       [0.39569175],\n       [0.29793403],\n       [0.31665832],\n       [0.30075586],\n       [0.34007293],\n       [0.50936174],\n       [0.27419457],\n       [0.29729393],\n       [0.34545267],\n       [0.2902459 ],\n       [0.33428314],\n       [0.34833005],\n       [0.23661785],\n       [0.30625245],\n       [0.3202381 ],\n       [0.27050114],\n       [0.28000382],\n       [0.30864564],\n       [0.28835964],\n       [0.27861494],\n       [0.15984403],\n       [0.30969286],\n       [0.3630658 ],\n       [0.37895003],\n       [0.3254474 ],\n       [0.36877015],\n       [0.22754563],\n       [0.6032789 ],\n       [0.28784   ],\n       [0.2677593 ],\n       [0.92063564],\n       [0.31396654],\n       [0.24555282],\n       [0.42557555],\n       [0.09078838],\n       [0.6187849 ],\n       [0.34251222],\n       [0.28077945],\n       [0.28416303],\n       [0.27135056],\n       [0.36319593],\n       [0.24588792],\n       [0.2743862 ],\n       [0.2561028 ],\n       [0.3526304 ],\n       [0.25585866],\n       [0.27165267],\n       [0.36004558],\n       [0.31866804],\n       [0.21779718],\n       [0.33734778],\n       [0.14240696],\n       [0.49768502],\n       [0.2398051 ],\n       [0.2689865 ],\n       [0.31478497],\n       [0.36994913],\n       [0.30921966],\n       [0.2884606 ],\n       [0.71928734],\n       [0.29187477],\n       [0.29723173],\n       [0.27855197],\n       [0.47756344],\n       [0.30768338],\n       [0.3738678 ],\n       [0.3291304 ],\n       [0.29315677],\n       [0.2935028 ],\n       [0.3456993 ],\n       [0.34632012],\n       [0.31893885],\n       [0.18741365],\n       [0.32134295],\n       [0.30494773],\n       [0.2536763 ],\n       [0.30812842],\n       [0.32684836],\n       [0.3531051 ],\n       [0.17324263],\n       [0.2552461 ],\n       [0.31970793],\n       [0.31715545],\n       [0.36661842],\n       [0.05995631],\n       [0.2894106 ],\n       [0.5700855 ],\n       [0.26962748],\n       [0.33490452],\n       [0.37849265],\n       [0.24113561],\n       [0.28557464],\n       [0.25631687],\n       [0.29836857],\n       [0.3607147 ],\n       [0.1390283 ],\n       [0.21991776],\n       [0.681721  ],\n       [0.31367257],\n       [0.31886488],\n       [0.29213837],\n       [0.31190464],\n       [0.29319578],\n       [0.69655305],\n       [0.29250824],\n       [0.37071946],\n       [0.30466115],\n       [0.32222965],\n       [0.2666682 ],\n       [0.27046242],\n       [0.27771837],\n       [0.23075773],\n       [0.3420576 ],\n       [0.1839885 ],\n       [0.30709854],\n       [0.21004143],\n       [0.217951  ],\n       [0.2688791 ],\n       [0.22221695],\n       [0.30242687],\n       [0.75103146],\n       [0.22892408],\n       [0.21064524],\n       [0.17228486],\n       [0.14158505],\n       [0.38069734],\n       [0.34528443],\n       [0.7229271 ],\n       [0.33801293],\n       [0.29085904],\n       [0.38967177],\n       [0.43299296],\n       [0.3005075 ],\n       [0.25353673],\n       [0.2781943 ],\n       [0.67513204],\n       [0.2852945 ],\n       [0.35085255],\n       [0.26665163],\n       [0.27973488],\n       [0.24997532],\n       [0.40671867],\n       [0.21233894],\n       [0.37964264],\n       [0.04743966],\n       [0.1930766 ],\n       [0.11892883],\n       [0.2598201 ],\n       [0.327723  ],\n       [0.2968508 ],\n       [0.12202529],\n       [0.25318727],\n       [0.30413356],\n       [0.790365  ],\n       [0.34918958]], dtype=float32)"
     },
     "execution_count": 2278,
     "metadata": {},
     "output_type": "execute_result"
    }
   ],
   "source": [
    "y"
   ],
   "metadata": {
    "collapsed": false,
    "pycharm": {
     "name": "#%%\n"
    }
   }
  },
  {
   "cell_type": "code",
   "execution_count": 2279,
   "outputs": [],
   "source": [
    "# for i in range(3):\n",
    "z = [1 if i>=.5 else 0 for i in y ]"
   ],
   "metadata": {
    "collapsed": false,
    "pycharm": {
     "name": "#%%\n"
    }
   }
  },
  {
   "cell_type": "code",
   "execution_count": 2283,
   "outputs": [
    {
     "data": {
      "text/plain": "1"
     },
     "execution_count": 2283,
     "metadata": {},
     "output_type": "execute_result"
    }
   ],
   "source": [
    "z[61]"
   ],
   "metadata": {
    "collapsed": false,
    "pycharm": {
     "name": "#%%\n"
    }
   }
  },
  {
   "cell_type": "code",
   "execution_count": 2284,
   "outputs": [],
   "source": [
    "import csv\n",
    "outfile = open('./results.csv','w')\n",
    "out = csv.writer(outfile)\n",
    "out.writerows(map(lambda x: [x], z))\n",
    "outfile.close()"
   ],
   "metadata": {
    "collapsed": false,
    "pycharm": {
     "name": "#%%\n"
    }
   }
  },
  {
   "cell_type": "code",
   "execution_count": 173,
   "outputs": [
    {
     "name": "stderr",
     "output_type": "stream",
     "text": [
      "/var/folders/w9/17dx1py559xc12bhjgp9w4_80000gn/T/ipykernel_22595/2300480017.py:16: RuntimeWarning: invalid value encountered in divide\n",
      "  k = (2 * test_precission * test_recall )/ (test_precission+test_recall)\n"
     ]
    },
    {
     "data": {
      "text/plain": "[<matplotlib.lines.Line2D at 0x2d98d34f0>]"
     },
     "execution_count": 173,
     "metadata": {},
     "output_type": "execute_result"
    },
    {
     "data": {
      "text/plain": "<Figure size 640x480 with 2 Axes>",
      "image/png": "[encoded data removed]"
     },
     "metadata": {},
     "output_type": "display_data"
    }
   ],
   "source": [
    "fig, (ax1,ax2) = plt.subplots(1,2)\n",
    "testloss = np.array(history.history['val_loss']).reshape(len(history.history['val_loss']),1)\n",
    "trainloss = np.array(history.history['loss']).reshape(len(history.history['loss']),1)\n",
    "\n",
    "ax1.plot(history.epoch, testloss, '-')\n",
    "ax1.plot(history.epoch, trainloss, '--')\n",
    "# ax1.ylabel('loss')\n",
    "# ax1.xlabel('epoch')\n",
    "\n",
    "train_precision = np.array(history.history['precision']).reshape(len(history.history['loss']),1)\n",
    "train_recall= np.array(history.history['recall']).reshape(len(history.history['loss']),1)\n",
    "j =( 2 * train_precision * train_recall) / (train_precision+train_recall)\n",
    "\n",
    "test_precission = np.array(history.history['val_precision']).reshape(len(history.history['loss']),1)\n",
    "test_recall = np.array(history.history['val_recall']).reshape(len(history.history['loss']),1)\n",
    "k = (2 * test_precission * test_recall )/ (test_precission+test_recall)\n",
    "# plt.plot(history.epoch,j, '-')\n",
    "# plt.plot(k,'--')\n",
    "\n",
    "ax2.plot(history.epoch, k, 'tab:red')\n",
    "ax2.plot(history.epoch, j, 'tab:green')\n",
    "\n",
    "# ax3.plot(j+3)\n",
    "# ax3.plot(trainloss,'tab:blue')"
   ],
   "metadata": {
    "collapsed": false,
    "pycharm": {
     "name": "#%%\n"
    }
   }
  },
  {
   "cell_type": "code",
   "execution_count": null,
   "outputs": [],
   "source": [],
   "metadata": {
    "collapsed": false,
    "pycharm": {
     "name": "#%%\n"
    }
   }
  }
 ],
 "metadata": {
  "kernelspec": {
   "display_name": "Python 3",
   "language": "python",
   "name": "python3"
  },
  "language_info": {
   "codemirror_mode": {
    "name": "ipython",
    "version": 2
   },
   "file_extension": ".py",
   "mimetype": "text/x-python",
   "name": "python",
   "nbconvert_exporter": "python",
   "pygments_lexer": "ipython2",
   "version": "2.7.6"
  }
 },
 "nbformat": 4,
 "nbformat_minor": 0
}