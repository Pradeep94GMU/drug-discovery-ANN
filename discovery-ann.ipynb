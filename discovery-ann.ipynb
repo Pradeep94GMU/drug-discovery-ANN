{
 "cells": [
  {
   "cell_type": "code",
   "execution_count": 308,
   "metadata": {
    "collapsed": true,
    "pycharm": {
     "name": "#%%\n"
    }
   },
   "outputs": [],
   "source": [
    "import tensorflow as tf\n",
    "import pandas as pd\n",
    "import numpy as np\n",
    "import matplotlib.pyplot as plt\n",
    "import imblearn"
   ]
  },
  {
   "cell_type": "code",
   "execution_count": 309,
   "outputs": [
    {
     "name": "stdout",
     "output_type": "stream",
     "text": [
      "2.10.0\n"
     ]
    }
   ],
   "source": [
    "print(tf.__version__)"
   ],
   "metadata": {
    "collapsed": false,
    "pycharm": {
     "name": "#%%\n"
    }
   }
  },
  {
   "cell_type": "code",
   "execution_count": 310,
   "outputs": [],
   "source": [
    "table = pd.read_table('../drug-discovery/1663769555_8559356_train.txt', names=['binding','sequence'])"
   ],
   "metadata": {
    "collapsed": false,
    "pycharm": {
     "name": "#%%\n"
    }
   }
  },
  {
   "cell_type": "markdown",
   "source": [
    "### Seprating Training and Testing Data"
   ],
   "metadata": {
    "collapsed": false,
    "pycharm": {
     "name": "#%% md\n"
    }
   }
  },
  {
   "cell_type": "code",
   "execution_count": 311,
   "outputs": [],
   "source": [
    "from sklearn.feature_extraction.text import CountVectorizer\n",
    "def return_binary_vectorized_form(data_frame):\n",
    "    count_vectorizer = CountVectorizer(binary=True)\n",
    "    fitted_and_transformed = count_vectorizer.fit_transform(data_frame).toarray()\n",
    "    return count_vectorizer,  fitted_and_transformed\n"
   ],
   "metadata": {
    "collapsed": false,
    "pycharm": {
     "name": "#%%\n"
    }
   }
  },
  {
   "cell_type": "code",
   "execution_count": 312,
   "outputs": [],
   "source": [
    "from sklearn.model_selection import train_test_split\n",
    "active_df = table.loc[table.binding == 1]\n",
    "not_active_df = table.loc[table.binding == 0]\n",
    "# Mainly spliting the data here for testing, that is the reason train size is set to .20\n",
    "active_train, active_test, active_binding_train, active_binding_test = train_test_split(active_df.sequence, active_df.binding, shuffle=True, train_size= .20)\n",
    "not_active_train, not_active_test, not_active_binding_train, not_active_binding_test = train_test_split(not_active_df.sequence, not_active_df.binding, shuffle=True, train_size=.70)"
   ],
   "metadata": {
    "collapsed": false,
    "pycharm": {
     "name": "#%%\n"
    }
   }
  },
  {
   "cell_type": "code",
   "execution_count": 313,
   "outputs": [],
   "source": [
    "active_test_df = pd.DataFrame(active_test)\n",
    "active_binding_test_df = pd.DataFrame(active_binding_test)\n",
    "active_test_df['binding'] = active_binding_test_df['binding']"
   ],
   "metadata": {
    "collapsed": false,
    "pycharm": {
     "name": "#%%\n"
    }
   }
  },
  {
   "cell_type": "code",
   "execution_count": 314,
   "outputs": [],
   "source": [
    "not_active_test_df = pd.DataFrame(not_active_test)\n",
    "not_active_binding_test_df = pd.DataFrame(not_active_binding_test)\n",
    "not_active_test_df['binding'] = not_active_binding_test_df['binding']"
   ],
   "metadata": {
    "collapsed": false,
    "pycharm": {
     "name": "#%%\n"
    }
   }
  },
  {
   "cell_type": "code",
   "execution_count": 315,
   "outputs": [
    {
     "name": "stdout",
     "output_type": "stream",
     "text": [
      "0    217\n",
      "1     63\n",
      "Name: binding, dtype: int64\n"
     ]
    }
   ],
   "source": [
    "test_df = pd.concat([active_test_df,not_active_test_df]).reset_index()\n",
    "test_df = test_df.drop('index',axis=1)\n",
    "print(test_df.binding.value_counts())"
   ],
   "metadata": {
    "collapsed": false,
    "pycharm": {
     "name": "#%%\n"
    }
   }
  },
  {
   "cell_type": "markdown",
   "source": [
    "### Over Sampling On the Main Data"
   ],
   "metadata": {
    "collapsed": false,
    "pycharm": {
     "name": "#%% md\n"
    }
   }
  },
  {
   "cell_type": "code",
   "execution_count": 316,
   "outputs": [],
   "source": [
    "from imblearn.over_sampling import RandomOverSampler\n",
    "sampler = RandomOverSampler()\n",
    "x_sampled, y_sampled = sampler.fit_resample(np.array(table.sequence).reshape(-1,1),table.binding)"
   ],
   "metadata": {
    "collapsed": false,
    "pycharm": {
     "name": "#%%\n"
    }
   }
  },
  {
   "cell_type": "code",
   "execution_count": 317,
   "outputs": [
    {
     "name": "stdout",
     "output_type": "stream",
     "text": [
      "0    722\n",
      "1    722\n",
      "Name: binding, dtype: int64\n",
      "0    217\n",
      "1     63\n",
      "Name: binding, dtype: int64\n"
     ]
    }
   ],
   "source": [
    "final_train_set = pd.DataFrame(x_sampled, columns  =[\"sequence\"])\n",
    "final_train_set['binding'] = y_sampled\n",
    "print(final_train_set.binding.value_counts())\n",
    "\n",
    "final_test_set = pd.DataFrame(test_df.sequence, columns  =[\"sequence\"])\n",
    "final_test_set['binding'] = test_df.binding\n",
    "print(final_test_set.binding.value_counts())"
   ],
   "metadata": {
    "collapsed": false,
    "pycharm": {
     "name": "#%%\n"
    }
   }
  },
  {
   "cell_type": "markdown",
   "source": [
    "Extracting Features in Binary vectorized format"
   ],
   "metadata": {
    "collapsed": false,
    "pycharm": {
     "name": "#%% md\n"
    }
   }
  },
  {
   "cell_type": "code",
   "execution_count": 318,
   "outputs": [],
   "source": [
    "vectorizer_best, training_split = return_binary_vectorized_form(final_train_set.sequence)\n",
    "test_split = vectorizer_best.transform(final_test_set.sequence).toarray()"
   ],
   "metadata": {
    "collapsed": false,
    "pycharm": {
     "name": "#%%\n"
    }
   }
  },
  {
   "cell_type": "code",
   "execution_count": 319,
   "outputs": [
    {
     "name": "stdout",
     "output_type": "stream",
     "text": [
      "(1444, 84482)\n",
      "(280, 84482)\n"
     ]
    }
   ],
   "source": [
    "print(training_split.shape)\n",
    "print(test_split.shape)"
   ],
   "metadata": {
    "collapsed": false,
    "pycharm": {
     "name": "#%%\n"
    }
   }
  },
  {
   "cell_type": "code",
   "execution_count": 320,
   "outputs": [],
   "source": [
    "train_result = np.array(final_train_set.binding)\n",
    "test_result = np.array(final_test_set.binding)\n",
    "# print(train_result.shape)\n",
    "# print(test_result.shape)\n"
   ],
   "metadata": {
    "collapsed": false,
    "pycharm": {
     "name": "#%%\n"
    }
   }
  },
  {
   "cell_type": "code",
   "execution_count": 321,
   "outputs": [
    {
     "data": {
      "text/plain": "array([[0, 0, 0, ..., 0, 0, 0],\n       [0, 0, 0, ..., 0, 0, 0],\n       [0, 0, 0, ..., 0, 0, 0],\n       ...,\n       [0, 0, 0, ..., 0, 0, 0],\n       [0, 0, 0, ..., 0, 0, 0],\n       [0, 0, 0, ..., 0, 0, 0]])"
     },
     "execution_count": 321,
     "metadata": {},
     "output_type": "execute_result"
    }
   ],
   "source": [
    "training_split"
   ],
   "metadata": {
    "collapsed": false,
    "pycharm": {
     "name": "#%%\n"
    }
   }
  },
  {
   "cell_type": "markdown",
   "source": [
    "## Modeling Neural Network"
   ],
   "metadata": {
    "collapsed": false,
    "pycharm": {
     "name": "#%% md\n"
    }
   }
  },
  {
   "cell_type": "markdown",
   "source": [
    "#### Early Stopping Criteria"
   ],
   "metadata": {
    "collapsed": false,
    "pycharm": {
     "name": "#%% md\n"
    }
   }
  },
  {
   "cell_type": "code",
   "execution_count": 332,
   "outputs": [],
   "source": [
    "class EarlyStoppingMonitor(tf.keras.callbacks.Callback):\n",
    "    def __init__(self):\n",
    "        super(EarlyStoppingMonitor, self).__init__()\n",
    "        self.f1_train = None\n",
    "        self.f1_test = None\n",
    "        self.count =0\n",
    "\n",
    "    def on_epoch_end(self, epoch, logs=None):\n",
    "        current_train_precision = logs.get('precision')\n",
    "        current_train_recall= logs.get('recall')\n",
    "        current_test_precision = logs.get('val_precision')\n",
    "        current_test_recall= logs.get('val_recall')\n",
    "        if current_train_precision==0 or current_train_recall==0 or current_test_precision==0 or current_test_recall==0:\n",
    "            print(\"**** Waring: precision recall zero avoid exception ****\")\n",
    "            return\n",
    "        self.f1_train = (2*current_train_precision*current_train_recall) / (current_train_precision+current_train_recall)\n",
    "        self.f1_test = (2*current_test_precision*current_test_recall) / (current_test_precision+current_test_recall)\n",
    "        if abs(self.f1_train-self.f1_test) < .02 and 1>self.f1_test>.979:\n",
    "            # self.count += 1\n",
    "            # if self.count >4:\n",
    "            self.model.stop_training = True\n",
    "            print('\\n\\n******* Stoping on Defined Thresold *******')\n",
    "            print('F1 TRAINING: ', self.f1_train)\n",
    "            print('F1 TESTING: ' , self.f1_test)\n",
    "\n",
    "    def on_train_end(self, logs=None):\n",
    "        if self.model.stop_training:\n",
    "            print(\"\\n\\n\\n****** Early Stopping *******\")\n"
   ],
   "metadata": {
    "collapsed": false,
    "pycharm": {
     "name": "#%%\n"
    }
   }
  },
  {
   "cell_type": "markdown",
   "source": [
    "#### Neural Network Size (hypermater selection explained in the report)"
   ],
   "metadata": {
    "collapsed": false,
    "pycharm": {
     "name": "#%% md\n"
    }
   }
  },
  {
   "cell_type": "code",
   "execution_count": 333,
   "outputs": [],
   "source": [
    "model = tf.keras.Sequential([\n",
    "    tf.keras.Input(shape=(training_split.shape[-1],)),\n",
    "    tf.keras.layers.Dense(26,activation='relu',kernel_regularizer=tf.keras.regularizers.L1(.015)),\n",
    "    tf.keras.layers.Dense(26,activation='relu',kernel_regularizer=tf.keras.regularizers.L1(.015)),\n",
    "    tf.keras.layers.Dense(1, activation='sigmoid')\n",
    "])"
   ],
   "metadata": {
    "collapsed": false,
    "pycharm": {
     "name": "#%%\n"
    }
   }
  },
  {
   "cell_type": "markdown",
   "source": [
    "#### Metrics to moniter in every pass"
   ],
   "metadata": {
    "collapsed": false,
    "pycharm": {
     "name": "#%% md\n"
    }
   }
  },
  {
   "cell_type": "code",
   "execution_count": 334,
   "outputs": [],
   "source": [
    "METRICS = [\n",
    "      tf.keras.metrics.TruePositives(name='tp'),\n",
    "      tf.keras.metrics.FalsePositives(name='fp'),\n",
    "      tf.keras.metrics.TrueNegatives(name='tn'),\n",
    "      tf.keras.metrics.FalseNegatives(name='fn'),\n",
    "      tf.keras.metrics.Precision(name='precision'),\n",
    "      tf.keras.metrics.Recall(name='recall')\n",
    "]\n",
    "model.compile(loss=tf.keras.losses.BinaryFocalCrossentropy(), metrics=METRICS, optimizer='adam')"
   ],
   "metadata": {
    "collapsed": false,
    "pycharm": {
     "name": "#%%\n"
    }
   }
  },
  {
   "cell_type": "code",
   "execution_count": 335,
   "outputs": [
    {
     "name": "stdout",
     "output_type": "stream",
     "text": [
      "Epoch 1/350\n"
     ]
    },
    {
     "name": "stderr",
     "output_type": "stream",
     "text": [
      "2022-10-09 17:32:09.062372: I tensorflow/core/grappler/optimizers/custom_graph_optimizer_registry.cc:114] Plugin optimizer for device_type GPU is enabled.\n"
     ]
    },
    {
     "name": "stdout",
     "output_type": "stream",
     "text": [
      "21/21 [==============================] - ETA: 0s - loss: 40.9235 - tp: 599.0000 - fp: 195.0000 - tn: 527.0000 - fn: 123.0000 - precision: 0.7544 - recall: 0.8296"
     ]
    },
    {
     "name": "stderr",
     "output_type": "stream",
     "text": [
      "2022-10-09 17:32:10.569474: I tensorflow/core/grappler/optimizers/custom_graph_optimizer_registry.cc:114] Plugin optimizer for device_type GPU is enabled.\n"
     ]
    },
    {
     "name": "stdout",
     "output_type": "stream",
     "text": [
      "21/21 [==============================] - 2s 69ms/step - loss: 40.9235 - tp: 599.0000 - fp: 195.0000 - tn: 527.0000 - fn: 123.0000 - precision: 0.7544 - recall: 0.8296 - val_loss: 15.6265 - val_tp: 60.0000 - val_fp: 15.0000 - val_tn: 202.0000 - val_fn: 3.0000 - val_precision: 0.8000 - val_recall: 0.9524\n",
      "Epoch 2/350\n",
      "21/21 [==============================] - 1s 44ms/step - loss: 10.0645 - tp: 606.0000 - fp: 31.0000 - tn: 691.0000 - fn: 116.0000 - precision: 0.9513 - recall: 0.8393 - val_loss: 7.0656 - val_tp: 54.0000 - val_fp: 9.0000 - val_tn: 208.0000 - val_fn: 9.0000 - val_precision: 0.8571 - val_recall: 0.8571\n",
      "Epoch 3/350\n",
      "21/21 [==============================] - 1s 44ms/step - loss: 6.2679 - tp: 542.0000 - fp: 19.0000 - tn: 703.0000 - fn: 180.0000 - precision: 0.9661 - recall: 0.7507 - val_loss: 5.7482 - val_tp: 41.0000 - val_fp: 6.0000 - val_tn: 211.0000 - val_fn: 22.0000 - val_precision: 0.8723 - val_recall: 0.6508\n",
      "Epoch 4/350\n",
      "21/21 [==============================] - 1s 44ms/step - loss: 5.5106 - tp: 499.0000 - fp: 21.0000 - tn: 701.0000 - fn: 223.0000 - precision: 0.9596 - recall: 0.6911 - val_loss: 5.3677 - val_tp: 41.0000 - val_fp: 6.0000 - val_tn: 211.0000 - val_fn: 22.0000 - val_precision: 0.8723 - val_recall: 0.6508\n",
      "Epoch 5/350\n",
      "21/21 [==============================] - 1s 44ms/step - loss: 5.2199 - tp: 492.0000 - fp: 21.0000 - tn: 701.0000 - fn: 230.0000 - precision: 0.9591 - recall: 0.6814 - val_loss: 5.0800 - val_tp: 42.0000 - val_fp: 6.0000 - val_tn: 211.0000 - val_fn: 21.0000 - val_precision: 0.8750 - val_recall: 0.6667\n",
      "Epoch 6/350\n",
      "21/21 [==============================] - 1s 43ms/step - loss: 4.9985 - tp: 490.0000 - fp: 19.0000 - tn: 703.0000 - fn: 232.0000 - precision: 0.9627 - recall: 0.6787 - val_loss: 4.9445 - val_tp: 41.0000 - val_fp: 6.0000 - val_tn: 211.0000 - val_fn: 22.0000 - val_precision: 0.8723 - val_recall: 0.6508\n",
      "Epoch 7/350\n",
      "21/21 [==============================] - 1s 43ms/step - loss: 4.8151 - tp: 489.0000 - fp: 20.0000 - tn: 702.0000 - fn: 233.0000 - precision: 0.9607 - recall: 0.6773 - val_loss: 4.7084 - val_tp: 40.0000 - val_fp: 6.0000 - val_tn: 211.0000 - val_fn: 23.0000 - val_precision: 0.8696 - val_recall: 0.6349\n",
      "Epoch 8/350\n",
      "21/21 [==============================] - 1s 43ms/step - loss: 4.6567 - tp: 484.0000 - fp: 19.0000 - tn: 703.0000 - fn: 238.0000 - precision: 0.9622 - recall: 0.6704 - val_loss: 4.5846 - val_tp: 42.0000 - val_fp: 7.0000 - val_tn: 210.0000 - val_fn: 21.0000 - val_precision: 0.8571 - val_recall: 0.6667\n",
      "Epoch 9/350\n",
      "21/21 [==============================] - 1s 43ms/step - loss: 4.5015 - tp: 502.0000 - fp: 21.0000 - tn: 701.0000 - fn: 220.0000 - precision: 0.9598 - recall: 0.6953 - val_loss: 4.3992 - val_tp: 41.0000 - val_fp: 7.0000 - val_tn: 210.0000 - val_fn: 22.0000 - val_precision: 0.8542 - val_recall: 0.6508\n",
      "Epoch 10/350\n",
      "21/21 [==============================] - 1s 43ms/step - loss: 4.3605 - tp: 494.0000 - fp: 21.0000 - tn: 701.0000 - fn: 228.0000 - precision: 0.9592 - recall: 0.6842 - val_loss: 4.3417 - val_tp: 42.0000 - val_fp: 7.0000 - val_tn: 210.0000 - val_fn: 21.0000 - val_precision: 0.8571 - val_recall: 0.6667\n",
      "Epoch 11/350\n",
      "21/21 [==============================] - 1s 45ms/step - loss: 4.2390 - tp: 508.0000 - fp: 20.0000 - tn: 702.0000 - fn: 214.0000 - precision: 0.9621 - recall: 0.7036 - val_loss: 4.1784 - val_tp: 40.0000 - val_fp: 6.0000 - val_tn: 211.0000 - val_fn: 23.0000 - val_precision: 0.8696 - val_recall: 0.6349\n",
      "Epoch 12/350\n",
      "21/21 [==============================] - 1s 44ms/step - loss: 4.1259 - tp: 499.0000 - fp: 19.0000 - tn: 703.0000 - fn: 223.0000 - precision: 0.9633 - recall: 0.6911 - val_loss: 4.0819 - val_tp: 41.0000 - val_fp: 6.0000 - val_tn: 211.0000 - val_fn: 22.0000 - val_precision: 0.8723 - val_recall: 0.6508\n",
      "Epoch 13/350\n",
      "21/21 [==============================] - 1s 43ms/step - loss: 4.0324 - tp: 506.0000 - fp: 20.0000 - tn: 702.0000 - fn: 216.0000 - precision: 0.9620 - recall: 0.7008 - val_loss: 3.9605 - val_tp: 41.0000 - val_fp: 6.0000 - val_tn: 211.0000 - val_fn: 22.0000 - val_precision: 0.8723 - val_recall: 0.6508\n",
      "Epoch 14/350\n",
      "21/21 [==============================] - 1s 43ms/step - loss: 3.9553 - tp: 513.0000 - fp: 20.0000 - tn: 702.0000 - fn: 209.0000 - precision: 0.9625 - recall: 0.7105 - val_loss: 3.9604 - val_tp: 41.0000 - val_fp: 5.0000 - val_tn: 212.0000 - val_fn: 22.0000 - val_precision: 0.8913 - val_recall: 0.6508\n",
      "Epoch 15/350\n",
      "21/21 [==============================] - 1s 43ms/step - loss: 3.9058 - tp: 514.0000 - fp: 19.0000 - tn: 703.0000 - fn: 208.0000 - precision: 0.9644 - recall: 0.7119 - val_loss: 3.8830 - val_tp: 41.0000 - val_fp: 5.0000 - val_tn: 212.0000 - val_fn: 22.0000 - val_precision: 0.8913 - val_recall: 0.6508\n",
      "Epoch 16/350\n",
      "21/21 [==============================] - 1s 43ms/step - loss: 3.8551 - tp: 509.0000 - fp: 19.0000 - tn: 703.0000 - fn: 213.0000 - precision: 0.9640 - recall: 0.7050 - val_loss: 3.8578 - val_tp: 45.0000 - val_fp: 5.0000 - val_tn: 212.0000 - val_fn: 18.0000 - val_precision: 0.9000 - val_recall: 0.7143\n",
      "Epoch 17/350\n",
      "21/21 [==============================] - 1s 44ms/step - loss: 3.8377 - tp: 518.0000 - fp: 20.0000 - tn: 702.0000 - fn: 204.0000 - precision: 0.9628 - recall: 0.7175 - val_loss: 3.7862 - val_tp: 41.0000 - val_fp: 5.0000 - val_tn: 212.0000 - val_fn: 22.0000 - val_precision: 0.8913 - val_recall: 0.6508\n",
      "Epoch 18/350\n",
      "21/21 [==============================] - 1s 42ms/step - loss: 3.8300 - tp: 519.0000 - fp: 19.0000 - tn: 703.0000 - fn: 203.0000 - precision: 0.9647 - recall: 0.7188 - val_loss: 3.8382 - val_tp: 44.0000 - val_fp: 5.0000 - val_tn: 212.0000 - val_fn: 19.0000 - val_precision: 0.8980 - val_recall: 0.6984\n",
      "Epoch 19/350\n",
      "21/21 [==============================] - 1s 43ms/step - loss: 3.8312 - tp: 530.0000 - fp: 19.0000 - tn: 703.0000 - fn: 192.0000 - precision: 0.9654 - recall: 0.7341 - val_loss: 3.8342 - val_tp: 45.0000 - val_fp: 5.0000 - val_tn: 212.0000 - val_fn: 18.0000 - val_precision: 0.9000 - val_recall: 0.7143\n",
      "Epoch 20/350\n",
      "21/21 [==============================] - 1s 43ms/step - loss: 3.8263 - tp: 538.0000 - fp: 20.0000 - tn: 702.0000 - fn: 184.0000 - precision: 0.9642 - recall: 0.7452 - val_loss: 3.8682 - val_tp: 47.0000 - val_fp: 5.0000 - val_tn: 212.0000 - val_fn: 16.0000 - val_precision: 0.9038 - val_recall: 0.7460\n",
      "Epoch 21/350\n",
      "21/21 [==============================] - 1s 44ms/step - loss: 3.8364 - tp: 548.0000 - fp: 22.0000 - tn: 700.0000 - fn: 174.0000 - precision: 0.9614 - recall: 0.7590 - val_loss: 3.8043 - val_tp: 47.0000 - val_fp: 5.0000 - val_tn: 212.0000 - val_fn: 16.0000 - val_precision: 0.9038 - val_recall: 0.7460\n",
      "Epoch 22/350\n",
      "21/21 [==============================] - 1s 43ms/step - loss: 3.8312 - tp: 546.0000 - fp: 20.0000 - tn: 702.0000 - fn: 176.0000 - precision: 0.9647 - recall: 0.7562 - val_loss: 3.8375 - val_tp: 43.0000 - val_fp: 5.0000 - val_tn: 212.0000 - val_fn: 20.0000 - val_precision: 0.8958 - val_recall: 0.6825\n",
      "Epoch 23/350\n",
      "21/21 [==============================] - 1s 43ms/step - loss: 3.8255 - tp: 569.0000 - fp: 20.0000 - tn: 702.0000 - fn: 153.0000 - precision: 0.9660 - recall: 0.7881 - val_loss: 3.8364 - val_tp: 47.0000 - val_fp: 5.0000 - val_tn: 212.0000 - val_fn: 16.0000 - val_precision: 0.9038 - val_recall: 0.7460\n",
      "Epoch 24/350\n",
      "21/21 [==============================] - 1s 43ms/step - loss: 3.8322 - tp: 564.0000 - fp: 20.0000 - tn: 702.0000 - fn: 158.0000 - precision: 0.9658 - recall: 0.7812 - val_loss: 3.8589 - val_tp: 48.0000 - val_fp: 5.0000 - val_tn: 212.0000 - val_fn: 15.0000 - val_precision: 0.9057 - val_recall: 0.7619\n",
      "Epoch 25/350\n",
      "21/21 [==============================] - 1s 43ms/step - loss: 3.8369 - tp: 592.0000 - fp: 19.0000 - tn: 703.0000 - fn: 130.0000 - precision: 0.9689 - recall: 0.8199 - val_loss: 3.8191 - val_tp: 46.0000 - val_fp: 5.0000 - val_tn: 212.0000 - val_fn: 17.0000 - val_precision: 0.9020 - val_recall: 0.7302\n",
      "Epoch 26/350\n",
      "21/21 [==============================] - 1s 43ms/step - loss: 3.8348 - tp: 596.0000 - fp: 20.0000 - tn: 702.0000 - fn: 126.0000 - precision: 0.9675 - recall: 0.8255 - val_loss: 3.8557 - val_tp: 46.0000 - val_fp: 5.0000 - val_tn: 212.0000 - val_fn: 17.0000 - val_precision: 0.9020 - val_recall: 0.7302\n",
      "Epoch 27/350\n",
      "21/21 [==============================] - 1s 43ms/step - loss: 3.8301 - tp: 584.0000 - fp: 19.0000 - tn: 703.0000 - fn: 138.0000 - precision: 0.9685 - recall: 0.8089 - val_loss: 3.8045 - val_tp: 50.0000 - val_fp: 5.0000 - val_tn: 212.0000 - val_fn: 13.0000 - val_precision: 0.9091 - val_recall: 0.7937\n",
      "Epoch 28/350\n",
      "21/21 [==============================] - 1s 43ms/step - loss: 3.8314 - tp: 607.0000 - fp: 20.0000 - tn: 702.0000 - fn: 115.0000 - precision: 0.9681 - recall: 0.8407 - val_loss: 3.8434 - val_tp: 52.0000 - val_fp: 5.0000 - val_tn: 212.0000 - val_fn: 11.0000 - val_precision: 0.9123 - val_recall: 0.8254\n",
      "Epoch 29/350\n",
      "21/21 [==============================] - 1s 43ms/step - loss: 3.8298 - tp: 620.0000 - fp: 21.0000 - tn: 701.0000 - fn: 102.0000 - precision: 0.9672 - recall: 0.8587 - val_loss: 3.8092 - val_tp: 54.0000 - val_fp: 6.0000 - val_tn: 211.0000 - val_fn: 9.0000 - val_precision: 0.9000 - val_recall: 0.8571\n",
      "Epoch 30/350\n",
      "21/21 [==============================] - 1s 43ms/step - loss: 3.8288 - tp: 633.0000 - fp: 20.0000 - tn: 702.0000 - fn: 89.0000 - precision: 0.9694 - recall: 0.8767 - val_loss: 3.8696 - val_tp: 49.0000 - val_fp: 5.0000 - val_tn: 212.0000 - val_fn: 14.0000 - val_precision: 0.9074 - val_recall: 0.7778\n",
      "Epoch 31/350\n",
      "21/21 [==============================] - 1s 43ms/step - loss: 3.8339 - tp: 622.0000 - fp: 20.0000 - tn: 702.0000 - fn: 100.0000 - precision: 0.9688 - recall: 0.8615 - val_loss: 3.8376 - val_tp: 53.0000 - val_fp: 4.0000 - val_tn: 213.0000 - val_fn: 10.0000 - val_precision: 0.9298 - val_recall: 0.8413\n",
      "Epoch 32/350\n",
      "21/21 [==============================] - 1s 43ms/step - loss: 3.8367 - tp: 640.0000 - fp: 20.0000 - tn: 702.0000 - fn: 82.0000 - precision: 0.9697 - recall: 0.8864 - val_loss: 3.8312 - val_tp: 50.0000 - val_fp: 4.0000 - val_tn: 213.0000 - val_fn: 13.0000 - val_precision: 0.9259 - val_recall: 0.7937\n",
      "Epoch 33/350\n",
      "21/21 [==============================] - 1s 43ms/step - loss: 3.8356 - tp: 626.0000 - fp: 20.0000 - tn: 702.0000 - fn: 96.0000 - precision: 0.9690 - recall: 0.8670 - val_loss: 3.8162 - val_tp: 59.0000 - val_fp: 5.0000 - val_tn: 212.0000 - val_fn: 4.0000 - val_precision: 0.9219 - val_recall: 0.9365\n",
      "Epoch 34/350\n",
      "21/21 [==============================] - 1s 44ms/step - loss: 3.8313 - tp: 653.0000 - fp: 21.0000 - tn: 701.0000 - fn: 69.0000 - precision: 0.9688 - recall: 0.9044 - val_loss: 3.8702 - val_tp: 56.0000 - val_fp: 6.0000 - val_tn: 211.0000 - val_fn: 7.0000 - val_precision: 0.9032 - val_recall: 0.8889\n",
      "Epoch 35/350\n",
      "21/21 [==============================] - 1s 43ms/step - loss: 3.8469 - tp: 643.0000 - fp: 22.0000 - tn: 700.0000 - fn: 79.0000 - precision: 0.9669 - recall: 0.8906 - val_loss: 3.8350 - val_tp: 53.0000 - val_fp: 6.0000 - val_tn: 211.0000 - val_fn: 10.0000 - val_precision: 0.8983 - val_recall: 0.8413\n",
      "Epoch 36/350\n",
      "21/21 [==============================] - 1s 43ms/step - loss: 3.8291 - tp: 642.0000 - fp: 20.0000 - tn: 702.0000 - fn: 80.0000 - precision: 0.9698 - recall: 0.8892 - val_loss: 3.8454 - val_tp: 55.0000 - val_fp: 6.0000 - val_tn: 211.0000 - val_fn: 8.0000 - val_precision: 0.9016 - val_recall: 0.8730\n",
      "Epoch 37/350\n",
      "21/21 [==============================] - 1s 43ms/step - loss: 3.8239 - tp: 662.0000 - fp: 21.0000 - tn: 701.0000 - fn: 60.0000 - precision: 0.9693 - recall: 0.9169 - val_loss: 3.7759 - val_tp: 52.0000 - val_fp: 5.0000 - val_tn: 212.0000 - val_fn: 11.0000 - val_precision: 0.9123 - val_recall: 0.8254\n",
      "Epoch 38/350\n",
      "21/21 [==============================] - 1s 43ms/step - loss: 3.8263 - tp: 659.0000 - fp: 19.0000 - tn: 703.0000 - fn: 63.0000 - precision: 0.9720 - recall: 0.9127 - val_loss: 3.8412 - val_tp: 55.0000 - val_fp: 5.0000 - val_tn: 212.0000 - val_fn: 8.0000 - val_precision: 0.9167 - val_recall: 0.8730\n",
      "Epoch 39/350\n",
      "21/21 [==============================] - 1s 43ms/step - loss: 3.8226 - tp: 666.0000 - fp: 21.0000 - tn: 701.0000 - fn: 56.0000 - precision: 0.9694 - recall: 0.9224 - val_loss: 3.8217 - val_tp: 58.0000 - val_fp: 4.0000 - val_tn: 213.0000 - val_fn: 5.0000 - val_precision: 0.9355 - val_recall: 0.9206\n",
      "Epoch 40/350\n",
      "21/21 [==============================] - 1s 43ms/step - loss: 3.8213 - tp: 672.0000 - fp: 21.0000 - tn: 701.0000 - fn: 50.0000 - precision: 0.9697 - recall: 0.9307 - val_loss: 3.8470 - val_tp: 57.0000 - val_fp: 5.0000 - val_tn: 212.0000 - val_fn: 6.0000 - val_precision: 0.9194 - val_recall: 0.9048\n",
      "Epoch 41/350\n",
      "21/21 [==============================] - 1s 43ms/step - loss: 3.8254 - tp: 680.0000 - fp: 20.0000 - tn: 702.0000 - fn: 42.0000 - precision: 0.9714 - recall: 0.9418 - val_loss: 3.8013 - val_tp: 53.0000 - val_fp: 4.0000 - val_tn: 213.0000 - val_fn: 10.0000 - val_precision: 0.9298 - val_recall: 0.8413\n",
      "Epoch 42/350\n",
      "21/21 [==============================] - 1s 43ms/step - loss: 3.8325 - tp: 668.0000 - fp: 17.0000 - tn: 705.0000 - fn: 54.0000 - precision: 0.9752 - recall: 0.9252 - val_loss: 3.8472 - val_tp: 60.0000 - val_fp: 6.0000 - val_tn: 211.0000 - val_fn: 3.0000 - val_precision: 0.9091 - val_recall: 0.9524\n",
      "Epoch 43/350\n",
      "21/21 [==============================] - 1s 43ms/step - loss: 3.8242 - tp: 675.0000 - fp: 20.0000 - tn: 702.0000 - fn: 47.0000 - precision: 0.9712 - recall: 0.9349 - val_loss: 3.8308 - val_tp: 58.0000 - val_fp: 4.0000 - val_tn: 213.0000 - val_fn: 5.0000 - val_precision: 0.9355 - val_recall: 0.9206\n",
      "Epoch 44/350\n",
      "21/21 [==============================] - 1s 43ms/step - loss: 3.8255 - tp: 685.0000 - fp: 18.0000 - tn: 704.0000 - fn: 37.0000 - precision: 0.9744 - recall: 0.9488 - val_loss: 3.8605 - val_tp: 58.0000 - val_fp: 6.0000 - val_tn: 211.0000 - val_fn: 5.0000 - val_precision: 0.9062 - val_recall: 0.9206\n",
      "Epoch 45/350\n",
      "21/21 [==============================] - 1s 43ms/step - loss: 3.8242 - tp: 688.0000 - fp: 19.0000 - tn: 703.0000 - fn: 34.0000 - precision: 0.9731 - recall: 0.9529 - val_loss: 3.8195 - val_tp: 61.0000 - val_fp: 6.0000 - val_tn: 211.0000 - val_fn: 2.0000 - val_precision: 0.9104 - val_recall: 0.9683\n",
      "Epoch 46/350\n",
      "21/21 [==============================] - 1s 43ms/step - loss: 3.8326 - tp: 679.0000 - fp: 18.0000 - tn: 704.0000 - fn: 43.0000 - precision: 0.9742 - recall: 0.9404 - val_loss: 3.8741 - val_tp: 61.0000 - val_fp: 6.0000 - val_tn: 211.0000 - val_fn: 2.0000 - val_precision: 0.9104 - val_recall: 0.9683\n",
      "Epoch 47/350\n",
      "21/21 [==============================] - 1s 43ms/step - loss: 3.8306 - tp: 683.0000 - fp: 18.0000 - tn: 704.0000 - fn: 39.0000 - precision: 0.9743 - recall: 0.9460 - val_loss: 3.8175 - val_tp: 58.0000 - val_fp: 4.0000 - val_tn: 213.0000 - val_fn: 5.0000 - val_precision: 0.9355 - val_recall: 0.9206\n",
      "Epoch 48/350\n",
      "21/21 [==============================] - 1s 42ms/step - loss: 3.8349 - tp: 681.0000 - fp: 21.0000 - tn: 701.0000 - fn: 41.0000 - precision: 0.9701 - recall: 0.9432 - val_loss: 3.8407 - val_tp: 60.0000 - val_fp: 4.0000 - val_tn: 213.0000 - val_fn: 3.0000 - val_precision: 0.9375 - val_recall: 0.9524\n",
      "Epoch 49/350\n",
      "21/21 [==============================] - 1s 45ms/step - loss: 3.8365 - tp: 687.0000 - fp: 20.0000 - tn: 702.0000 - fn: 35.0000 - precision: 0.9717 - recall: 0.9515 - val_loss: 3.8092 - val_tp: 60.0000 - val_fp: 5.0000 - val_tn: 212.0000 - val_fn: 3.0000 - val_precision: 0.9231 - val_recall: 0.9524\n",
      "Epoch 50/350\n",
      "21/21 [==============================] - 1s 43ms/step - loss: 3.8253 - tp: 686.0000 - fp: 21.0000 - tn: 701.0000 - fn: 36.0000 - precision: 0.9703 - recall: 0.9501 - val_loss: 3.8711 - val_tp: 60.0000 - val_fp: 4.0000 - val_tn: 213.0000 - val_fn: 3.0000 - val_precision: 0.9375 - val_recall: 0.9524\n",
      "Epoch 51/350\n",
      "21/21 [==============================] - 1s 43ms/step - loss: 3.8306 - tp: 677.0000 - fp: 18.0000 - tn: 704.0000 - fn: 45.0000 - precision: 0.9741 - recall: 0.9377 - val_loss: 3.8430 - val_tp: 60.0000 - val_fp: 4.0000 - val_tn: 213.0000 - val_fn: 3.0000 - val_precision: 0.9375 - val_recall: 0.9524\n",
      "Epoch 52/350\n",
      "21/21 [==============================] - 1s 43ms/step - loss: 3.8406 - tp: 691.0000 - fp: 21.0000 - tn: 701.0000 - fn: 31.0000 - precision: 0.9705 - recall: 0.9571 - val_loss: 3.8652 - val_tp: 61.0000 - val_fp: 8.0000 - val_tn: 209.0000 - val_fn: 2.0000 - val_precision: 0.8841 - val_recall: 0.9683\n",
      "Epoch 53/350\n",
      "21/21 [==============================] - 1s 43ms/step - loss: 3.8296 - tp: 691.0000 - fp: 21.0000 - tn: 701.0000 - fn: 31.0000 - precision: 0.9705 - recall: 0.9571 - val_loss: 3.8062 - val_tp: 60.0000 - val_fp: 4.0000 - val_tn: 213.0000 - val_fn: 3.0000 - val_precision: 0.9375 - val_recall: 0.9524\n",
      "Epoch 54/350\n",
      "21/21 [==============================] - 1s 43ms/step - loss: 3.8306 - tp: 684.0000 - fp: 19.0000 - tn: 703.0000 - fn: 38.0000 - precision: 0.9730 - recall: 0.9474 - val_loss: 3.8689 - val_tp: 59.0000 - val_fp: 4.0000 - val_tn: 213.0000 - val_fn: 4.0000 - val_precision: 0.9365 - val_recall: 0.9365\n",
      "Epoch 55/350\n",
      "21/21 [==============================] - 1s 43ms/step - loss: 3.8351 - tp: 691.0000 - fp: 18.0000 - tn: 704.0000 - fn: 31.0000 - precision: 0.9746 - recall: 0.9571 - val_loss: 3.8468 - val_tp: 57.0000 - val_fp: 2.0000 - val_tn: 215.0000 - val_fn: 6.0000 - val_precision: 0.9661 - val_recall: 0.9048\n",
      "Epoch 56/350\n",
      "21/21 [==============================] - 1s 43ms/step - loss: 3.8330 - tp: 687.0000 - fp: 19.0000 - tn: 703.0000 - fn: 35.0000 - precision: 0.9731 - recall: 0.9515 - val_loss: 3.8455 - val_tp: 60.0000 - val_fp: 5.0000 - val_tn: 212.0000 - val_fn: 3.0000 - val_precision: 0.9231 - val_recall: 0.9524\n",
      "Epoch 57/350\n",
      "21/21 [==============================] - 1s 44ms/step - loss: 3.8413 - tp: 695.0000 - fp: 22.0000 - tn: 700.0000 - fn: 27.0000 - precision: 0.9693 - recall: 0.9626 - val_loss: 3.7986 - val_tp: 61.0000 - val_fp: 4.0000 - val_tn: 213.0000 - val_fn: 2.0000 - val_precision: 0.9385 - val_recall: 0.9683\n",
      "Epoch 58/350\n",
      "21/21 [==============================] - 1s 43ms/step - loss: 3.8543 - tp: 685.0000 - fp: 18.0000 - tn: 704.0000 - fn: 37.0000 - precision: 0.9744 - recall: 0.9488 - val_loss: 3.8482 - val_tp: 61.0000 - val_fp: 6.0000 - val_tn: 211.0000 - val_fn: 2.0000 - val_precision: 0.9104 - val_recall: 0.9683\n",
      "Epoch 59/350\n",
      "21/21 [==============================] - 1s 43ms/step - loss: 3.8379 - tp: 686.0000 - fp: 20.0000 - tn: 702.0000 - fn: 36.0000 - precision: 0.9717 - recall: 0.9501 - val_loss: 3.8795 - val_tp: 63.0000 - val_fp: 5.0000 - val_tn: 212.0000 - val_fn: 0.0000e+00 - val_precision: 0.9265 - val_recall: 1.0000\n",
      "Epoch 60/350\n",
      "21/21 [==============================] - 1s 43ms/step - loss: 3.8589 - tp: 691.0000 - fp: 17.0000 - tn: 705.0000 - fn: 31.0000 - precision: 0.9760 - recall: 0.9571 - val_loss: 3.8684 - val_tp: 59.0000 - val_fp: 4.0000 - val_tn: 213.0000 - val_fn: 4.0000 - val_precision: 0.9365 - val_recall: 0.9365\n",
      "Epoch 61/350\n",
      "21/21 [==============================] - 1s 43ms/step - loss: 3.8398 - tp: 693.0000 - fp: 17.0000 - tn: 705.0000 - fn: 29.0000 - precision: 0.9761 - recall: 0.9598 - val_loss: 3.8354 - val_tp: 60.0000 - val_fp: 5.0000 - val_tn: 212.0000 - val_fn: 3.0000 - val_precision: 0.9231 - val_recall: 0.9524\n",
      "Epoch 62/350\n",
      "21/21 [==============================] - 1s 43ms/step - loss: 3.8453 - tp: 682.0000 - fp: 19.0000 - tn: 703.0000 - fn: 40.0000 - precision: 0.9729 - recall: 0.9446 - val_loss: 3.8434 - val_tp: 59.0000 - val_fp: 5.0000 - val_tn: 212.0000 - val_fn: 4.0000 - val_precision: 0.9219 - val_recall: 0.9365\n",
      "Epoch 63/350\n",
      "21/21 [==============================] - 1s 44ms/step - loss: 3.8474 - tp: 696.0000 - fp: 20.0000 - tn: 702.0000 - fn: 26.0000 - precision: 0.9721 - recall: 0.9640 - val_loss: 3.8399 - val_tp: 61.0000 - val_fp: 4.0000 - val_tn: 213.0000 - val_fn: 2.0000 - val_precision: 0.9385 - val_recall: 0.9683\n",
      "Epoch 64/350\n",
      "21/21 [==============================] - 1s 43ms/step - loss: 3.8444 - tp: 682.0000 - fp: 19.0000 - tn: 703.0000 - fn: 40.0000 - precision: 0.9729 - recall: 0.9446 - val_loss: 3.8524 - val_tp: 58.0000 - val_fp: 5.0000 - val_tn: 212.0000 - val_fn: 5.0000 - val_precision: 0.9206 - val_recall: 0.9206\n",
      "Epoch 65/350\n",
      "21/21 [==============================] - 1s 43ms/step - loss: 3.8359 - tp: 697.0000 - fp: 17.0000 - tn: 705.0000 - fn: 25.0000 - precision: 0.9762 - recall: 0.9654 - val_loss: 3.7999 - val_tp: 59.0000 - val_fp: 5.0000 - val_tn: 212.0000 - val_fn: 4.0000 - val_precision: 0.9219 - val_recall: 0.9365\n",
      "Epoch 66/350\n",
      "21/21 [==============================] - 1s 43ms/step - loss: 3.8300 - tp: 691.0000 - fp: 17.0000 - tn: 705.0000 - fn: 31.0000 - precision: 0.9760 - recall: 0.9571 - val_loss: 3.8677 - val_tp: 61.0000 - val_fp: 4.0000 - val_tn: 213.0000 - val_fn: 2.0000 - val_precision: 0.9385 - val_recall: 0.9683\n",
      "Epoch 67/350\n",
      "21/21 [==============================] - 1s 43ms/step - loss: 3.8303 - tp: 694.0000 - fp: 18.0000 - tn: 704.0000 - fn: 28.0000 - precision: 0.9747 - recall: 0.9612 - val_loss: 3.7970 - val_tp: 60.0000 - val_fp: 1.0000 - val_tn: 216.0000 - val_fn: 3.0000 - val_precision: 0.9836 - val_recall: 0.9524\n",
      "Epoch 68/350\n",
      "21/21 [==============================] - 1s 43ms/step - loss: 3.8335 - tp: 688.0000 - fp: 19.0000 - tn: 703.0000 - fn: 34.0000 - precision: 0.9731 - recall: 0.9529 - val_loss: 3.8402 - val_tp: 62.0000 - val_fp: 3.0000 - val_tn: 214.0000 - val_fn: 1.0000 - val_precision: 0.9538 - val_recall: 0.9841\n",
      "Epoch 69/350\n",
      "21/21 [==============================] - 1s 43ms/step - loss: 3.8283 - tp: 698.0000 - fp: 18.0000 - tn: 704.0000 - fn: 24.0000 - precision: 0.9749 - recall: 0.9668 - val_loss: 3.8009 - val_tp: 59.0000 - val_fp: 3.0000 - val_tn: 214.0000 - val_fn: 4.0000 - val_precision: 0.9516 - val_recall: 0.9365\n",
      "Epoch 70/350\n",
      "21/21 [==============================] - 1s 43ms/step - loss: 3.8428 - tp: 689.0000 - fp: 19.0000 - tn: 703.0000 - fn: 33.0000 - precision: 0.9732 - recall: 0.9543 - val_loss: 3.8683 - val_tp: 60.0000 - val_fp: 3.0000 - val_tn: 214.0000 - val_fn: 3.0000 - val_precision: 0.9524 - val_recall: 0.9524\n",
      "Epoch 71/350\n",
      "21/21 [==============================] - 1s 43ms/step - loss: 3.8493 - tp: 689.0000 - fp: 17.0000 - tn: 705.0000 - fn: 33.0000 - precision: 0.9759 - recall: 0.9543 - val_loss: 3.8485 - val_tp: 59.0000 - val_fp: 3.0000 - val_tn: 214.0000 - val_fn: 4.0000 - val_precision: 0.9516 - val_recall: 0.9365\n",
      "Epoch 72/350\n",
      "21/21 [==============================] - 1s 43ms/step - loss: 3.8401 - tp: 697.0000 - fp: 14.0000 - tn: 708.0000 - fn: 25.0000 - precision: 0.9803 - recall: 0.9654 - val_loss: 3.8451 - val_tp: 60.0000 - val_fp: 5.0000 - val_tn: 212.0000 - val_fn: 3.0000 - val_precision: 0.9231 - val_recall: 0.9524\n",
      "Epoch 73/350\n",
      "21/21 [==============================] - 1s 42ms/step - loss: 3.8293 - tp: 697.0000 - fp: 19.0000 - tn: 703.0000 - fn: 25.0000 - precision: 0.9735 - recall: 0.9654 - val_loss: 3.8170 - val_tp: 59.0000 - val_fp: 4.0000 - val_tn: 213.0000 - val_fn: 4.0000 - val_precision: 0.9365 - val_recall: 0.9365\n",
      "Epoch 74/350\n",
      "21/21 [==============================] - 1s 43ms/step - loss: 3.8518 - tp: 692.0000 - fp: 19.0000 - tn: 703.0000 - fn: 30.0000 - precision: 0.9733 - recall: 0.9584 - val_loss: 3.8781 - val_tp: 61.0000 - val_fp: 5.0000 - val_tn: 212.0000 - val_fn: 2.0000 - val_precision: 0.9242 - val_recall: 0.9683\n",
      "Epoch 75/350\n",
      "21/21 [==============================] - 1s 44ms/step - loss: 3.8463 - tp: 700.0000 - fp: 20.0000 - tn: 702.0000 - fn: 22.0000 - precision: 0.9722 - recall: 0.9695 - val_loss: 3.8414 - val_tp: 60.0000 - val_fp: 4.0000 - val_tn: 213.0000 - val_fn: 3.0000 - val_precision: 0.9375 - val_recall: 0.9524\n",
      "Epoch 76/350\n",
      "21/21 [==============================] - 1s 43ms/step - loss: 3.8440 - tp: 691.0000 - fp: 20.0000 - tn: 702.0000 - fn: 31.0000 - precision: 0.9719 - recall: 0.9571 - val_loss: 3.8843 - val_tp: 61.0000 - val_fp: 4.0000 - val_tn: 213.0000 - val_fn: 2.0000 - val_precision: 0.9385 - val_recall: 0.9683\n",
      "Epoch 77/350\n",
      "21/21 [==============================] - 1s 43ms/step - loss: 3.8498 - tp: 696.0000 - fp: 15.0000 - tn: 707.0000 - fn: 26.0000 - precision: 0.9789 - recall: 0.9640 - val_loss: 3.7932 - val_tp: 58.0000 - val_fp: 5.0000 - val_tn: 212.0000 - val_fn: 5.0000 - val_precision: 0.9206 - val_recall: 0.9206\n",
      "Epoch 78/350\n",
      "21/21 [==============================] - 1s 43ms/step - loss: 3.8397 - tp: 690.0000 - fp: 20.0000 - tn: 702.0000 - fn: 32.0000 - precision: 0.9718 - recall: 0.9557 - val_loss: 3.8713 - val_tp: 60.0000 - val_fp: 4.0000 - val_tn: 213.0000 - val_fn: 3.0000 - val_precision: 0.9375 - val_recall: 0.9524\n",
      "Epoch 79/350\n",
      "21/21 [==============================] - 1s 43ms/step - loss: 3.8634 - tp: 693.0000 - fp: 14.0000 - tn: 708.0000 - fn: 29.0000 - precision: 0.9802 - recall: 0.9598 - val_loss: 3.8553 - val_tp: 62.0000 - val_fp: 5.0000 - val_tn: 212.0000 - val_fn: 1.0000 - val_precision: 0.9254 - val_recall: 0.9841\n",
      "Epoch 80/350\n",
      "21/21 [==============================] - 1s 43ms/step - loss: 3.8360 - tp: 700.0000 - fp: 20.0000 - tn: 702.0000 - fn: 22.0000 - precision: 0.9722 - recall: 0.9695 - val_loss: 3.8675 - val_tp: 62.0000 - val_fp: 5.0000 - val_tn: 212.0000 - val_fn: 1.0000 - val_precision: 0.9254 - val_recall: 0.9841\n",
      "Epoch 81/350\n",
      "21/21 [==============================] - 1s 43ms/step - loss: 3.8366 - tp: 696.0000 - fp: 16.0000 - tn: 706.0000 - fn: 26.0000 - precision: 0.9775 - recall: 0.9640 - val_loss: 3.8004 - val_tp: 60.0000 - val_fp: 5.0000 - val_tn: 212.0000 - val_fn: 3.0000 - val_precision: 0.9231 - val_recall: 0.9524\n",
      "Epoch 82/350\n",
      "21/21 [==============================] - 1s 43ms/step - loss: 3.8430 - tp: 703.0000 - fp: 20.0000 - tn: 702.0000 - fn: 19.0000 - precision: 0.9723 - recall: 0.9737 - val_loss: 3.8566 - val_tp: 62.0000 - val_fp: 4.0000 - val_tn: 213.0000 - val_fn: 1.0000 - val_precision: 0.9394 - val_recall: 0.9841\n",
      "Epoch 83/350\n",
      "21/21 [==============================] - 1s 43ms/step - loss: 3.8259 - tp: 703.0000 - fp: 15.0000 - tn: 707.0000 - fn: 19.0000 - precision: 0.9791 - recall: 0.9737 - val_loss: 3.8214 - val_tp: 60.0000 - val_fp: 3.0000 - val_tn: 214.0000 - val_fn: 3.0000 - val_precision: 0.9524 - val_recall: 0.9524\n",
      "Epoch 84/350\n",
      "21/21 [==============================] - 1s 43ms/step - loss: 3.8194 - tp: 697.0000 - fp: 15.0000 - tn: 707.0000 - fn: 25.0000 - precision: 0.9789 - recall: 0.9654 - val_loss: 3.8394 - val_tp: 60.0000 - val_fp: 6.0000 - val_tn: 211.0000 - val_fn: 3.0000 - val_precision: 0.9091 - val_recall: 0.9524\n",
      "Epoch 85/350\n",
      "21/21 [==============================] - 1s 43ms/step - loss: 3.8403 - tp: 695.0000 - fp: 18.0000 - tn: 704.0000 - fn: 27.0000 - precision: 0.9748 - recall: 0.9626 - val_loss: 3.8102 - val_tp: 61.0000 - val_fp: 2.0000 - val_tn: 215.0000 - val_fn: 2.0000 - val_precision: 0.9683 - val_recall: 0.9683\n",
      "Epoch 86/350\n",
      "21/21 [==============================] - 1s 43ms/step - loss: 3.8606 - tp: 693.0000 - fp: 18.0000 - tn: 704.0000 - fn: 29.0000 - precision: 0.9747 - recall: 0.9598 - val_loss: 3.8915 - val_tp: 59.0000 - val_fp: 5.0000 - val_tn: 212.0000 - val_fn: 4.0000 - val_precision: 0.9219 - val_recall: 0.9365\n",
      "Epoch 87/350\n",
      "21/21 [==============================] - 1s 43ms/step - loss: 3.8250 - tp: 695.0000 - fp: 16.0000 - tn: 706.0000 - fn: 27.0000 - precision: 0.9775 - recall: 0.9626 - val_loss: 3.8151 - val_tp: 61.0000 - val_fp: 2.0000 - val_tn: 215.0000 - val_fn: 2.0000 - val_precision: 0.9683 - val_recall: 0.9683\n",
      "Epoch 88/350\n",
      "21/21 [==============================] - 1s 43ms/step - loss: 3.8445 - tp: 695.0000 - fp: 16.0000 - tn: 706.0000 - fn: 27.0000 - precision: 0.9775 - recall: 0.9626 - val_loss: 3.9223 - val_tp: 61.0000 - val_fp: 6.0000 - val_tn: 211.0000 - val_fn: 2.0000 - val_precision: 0.9104 - val_recall: 0.9683\n",
      "Epoch 89/350\n",
      "21/21 [==============================] - 1s 43ms/step - loss: 3.8753 - tp: 693.0000 - fp: 20.0000 - tn: 702.0000 - fn: 29.0000 - precision: 0.9719 - recall: 0.9598 - val_loss: 3.8642 - val_tp: 56.0000 - val_fp: 3.0000 - val_tn: 214.0000 - val_fn: 7.0000 - val_precision: 0.9492 - val_recall: 0.8889\n",
      "Epoch 90/350\n",
      "21/21 [==============================] - 1s 43ms/step - loss: 3.8764 - tp: 677.0000 - fp: 17.0000 - tn: 705.0000 - fn: 45.0000 - precision: 0.9755 - recall: 0.9377 - val_loss: 3.8824 - val_tp: 60.0000 - val_fp: 2.0000 - val_tn: 215.0000 - val_fn: 3.0000 - val_precision: 0.9677 - val_recall: 0.9524\n",
      "Epoch 91/350\n",
      "21/21 [==============================] - 1s 43ms/step - loss: 3.8458 - tp: 689.0000 - fp: 18.0000 - tn: 704.0000 - fn: 33.0000 - precision: 0.9745 - recall: 0.9543 - val_loss: 3.8309 - val_tp: 62.0000 - val_fp: 6.0000 - val_tn: 211.0000 - val_fn: 1.0000 - val_precision: 0.9118 - val_recall: 0.9841\n",
      "Epoch 92/350\n",
      "21/21 [==============================] - 1s 43ms/step - loss: 3.8571 - tp: 706.0000 - fp: 20.0000 - tn: 702.0000 - fn: 16.0000 - precision: 0.9725 - recall: 0.9778 - val_loss: 3.8543 - val_tp: 59.0000 - val_fp: 4.0000 - val_tn: 213.0000 - val_fn: 4.0000 - val_precision: 0.9365 - val_recall: 0.9365\n",
      "Epoch 93/350\n",
      "21/21 [==============================] - 1s 43ms/step - loss: 3.8332 - tp: 699.0000 - fp: 17.0000 - tn: 705.0000 - fn: 23.0000 - precision: 0.9763 - recall: 0.9681 - val_loss: 3.8001 - val_tp: 58.0000 - val_fp: 2.0000 - val_tn: 215.0000 - val_fn: 5.0000 - val_precision: 0.9667 - val_recall: 0.9206\n",
      "Epoch 94/350\n",
      "21/21 [==============================] - 1s 43ms/step - loss: 3.8412 - tp: 690.0000 - fp: 15.0000 - tn: 707.0000 - fn: 32.0000 - precision: 0.9787 - recall: 0.9557 - val_loss: 3.8697 - val_tp: 59.0000 - val_fp: 3.0000 - val_tn: 214.0000 - val_fn: 4.0000 - val_precision: 0.9516 - val_recall: 0.9365\n",
      "Epoch 95/350\n",
      "21/21 [==============================] - 1s 43ms/step - loss: 3.8351 - tp: 690.0000 - fp: 17.0000 - tn: 705.0000 - fn: 32.0000 - precision: 0.9760 - recall: 0.9557 - val_loss: 3.8446 - val_tp: 62.0000 - val_fp: 5.0000 - val_tn: 212.0000 - val_fn: 1.0000 - val_precision: 0.9254 - val_recall: 0.9841\n",
      "Epoch 96/350\n",
      "21/21 [==============================] - 1s 43ms/step - loss: 3.8043 - tp: 701.0000 - fp: 16.0000 - tn: 706.0000 - fn: 21.0000 - precision: 0.9777 - recall: 0.9709 - val_loss: 3.8307 - val_tp: 55.0000 - val_fp: 3.0000 - val_tn: 214.0000 - val_fn: 8.0000 - val_precision: 0.9483 - val_recall: 0.8730\n",
      "Epoch 97/350\n",
      "21/21 [==============================] - 1s 43ms/step - loss: 3.8405 - tp: 696.0000 - fp: 15.0000 - tn: 707.0000 - fn: 26.0000 - precision: 0.9789 - recall: 0.9640 - val_loss: 3.7907 - val_tp: 60.0000 - val_fp: 3.0000 - val_tn: 214.0000 - val_fn: 3.0000 - val_precision: 0.9524 - val_recall: 0.9524\n",
      "Epoch 98/350\n",
      "21/21 [==============================] - 1s 43ms/step - loss: 3.8321 - tp: 689.0000 - fp: 15.0000 - tn: 707.0000 - fn: 33.0000 - precision: 0.9787 - recall: 0.9543 - val_loss: 3.8482 - val_tp: 60.0000 - val_fp: 6.0000 - val_tn: 211.0000 - val_fn: 3.0000 - val_precision: 0.9091 - val_recall: 0.9524\n",
      "Epoch 99/350\n",
      "21/21 [==============================] - 1s 43ms/step - loss: 3.8251 - tp: 704.0000 - fp: 16.0000 - tn: 706.0000 - fn: 18.0000 - precision: 0.9778 - recall: 0.9751 - val_loss: 3.8161 - val_tp: 61.0000 - val_fp: 3.0000 - val_tn: 214.0000 - val_fn: 2.0000 - val_precision: 0.9531 - val_recall: 0.9683\n",
      "Epoch 100/350\n",
      "21/21 [==============================] - 1s 44ms/step - loss: 3.8205 - tp: 701.0000 - fp: 16.0000 - tn: 706.0000 - fn: 21.0000 - precision: 0.9777 - recall: 0.9709 - val_loss: 3.8718 - val_tp: 59.0000 - val_fp: 4.0000 - val_tn: 213.0000 - val_fn: 4.0000 - val_precision: 0.9365 - val_recall: 0.9365\n",
      "Epoch 101/350\n",
      "21/21 [==============================] - 1s 43ms/step - loss: 3.8324 - tp: 692.0000 - fp: 18.0000 - tn: 704.0000 - fn: 30.0000 - precision: 0.9746 - recall: 0.9584 - val_loss: 3.9119 - val_tp: 59.0000 - val_fp: 6.0000 - val_tn: 211.0000 - val_fn: 4.0000 - val_precision: 0.9077 - val_recall: 0.9365\n",
      "Epoch 102/350\n",
      "21/21 [==============================] - 1s 43ms/step - loss: 3.9131 - tp: 700.0000 - fp: 21.0000 - tn: 701.0000 - fn: 22.0000 - precision: 0.9709 - recall: 0.9695 - val_loss: 3.8840 - val_tp: 59.0000 - val_fp: 3.0000 - val_tn: 214.0000 - val_fn: 4.0000 - val_precision: 0.9516 - val_recall: 0.9365\n",
      "Epoch 103/350\n",
      "21/21 [==============================] - 1s 43ms/step - loss: 3.8560 - tp: 695.0000 - fp: 14.0000 - tn: 708.0000 - fn: 27.0000 - precision: 0.9803 - recall: 0.9626 - val_loss: 3.8405 - val_tp: 61.0000 - val_fp: 4.0000 - val_tn: 213.0000 - val_fn: 2.0000 - val_precision: 0.9385 - val_recall: 0.9683\n",
      "Epoch 104/350\n",
      "21/21 [==============================] - 1s 43ms/step - loss: 3.9243 - tp: 690.0000 - fp: 20.0000 - tn: 702.0000 - fn: 32.0000 - precision: 0.9718 - recall: 0.9557 - val_loss: 3.8925 - val_tp: 59.0000 - val_fp: 6.0000 - val_tn: 211.0000 - val_fn: 4.0000 - val_precision: 0.9077 - val_recall: 0.9365\n",
      "Epoch 105/350\n",
      "21/21 [==============================] - 1s 44ms/step - loss: 3.8446 - tp: 697.0000 - fp: 18.0000 - tn: 704.0000 - fn: 25.0000 - precision: 0.9748 - recall: 0.9654 - val_loss: 3.8078 - val_tp: 61.0000 - val_fp: 5.0000 - val_tn: 212.0000 - val_fn: 2.0000 - val_precision: 0.9242 - val_recall: 0.9683\n",
      "Epoch 106/350\n",
      "21/21 [==============================] - 1s 44ms/step - loss: 3.8218 - tp: 698.0000 - fp: 15.0000 - tn: 707.0000 - fn: 24.0000 - precision: 0.9790 - recall: 0.9668 - val_loss: 3.8932 - val_tp: 62.0000 - val_fp: 7.0000 - val_tn: 210.0000 - val_fn: 1.0000 - val_precision: 0.8986 - val_recall: 0.9841\n",
      "Epoch 107/350\n",
      "21/21 [==============================] - 1s 44ms/step - loss: 3.8486 - tp: 689.0000 - fp: 15.0000 - tn: 707.0000 - fn: 33.0000 - precision: 0.9787 - recall: 0.9543 - val_loss: 3.8153 - val_tp: 60.0000 - val_fp: 2.0000 - val_tn: 215.0000 - val_fn: 3.0000 - val_precision: 0.9677 - val_recall: 0.9524\n",
      "Epoch 108/350\n",
      "21/21 [==============================] - 1s 43ms/step - loss: 3.8267 - tp: 704.0000 - fp: 16.0000 - tn: 706.0000 - fn: 18.0000 - precision: 0.9778 - recall: 0.9751 - val_loss: 3.8596 - val_tp: 62.0000 - val_fp: 2.0000 - val_tn: 215.0000 - val_fn: 1.0000 - val_precision: 0.9688 - val_recall: 0.9841\n",
      "Epoch 109/350\n",
      "21/21 [==============================] - 1s 43ms/step - loss: 3.8513 - tp: 706.0000 - fp: 19.0000 - tn: 703.0000 - fn: 16.0000 - precision: 0.9738 - recall: 0.9778 - val_loss: 3.8100 - val_tp: 60.0000 - val_fp: 3.0000 - val_tn: 214.0000 - val_fn: 3.0000 - val_precision: 0.9524 - val_recall: 0.9524\n",
      "Epoch 110/350\n",
      "21/21 [==============================] - 1s 43ms/step - loss: 3.8368 - tp: 701.0000 - fp: 17.0000 - tn: 705.0000 - fn: 21.0000 - precision: 0.9763 - recall: 0.9709 - val_loss: 3.8771 - val_tp: 62.0000 - val_fp: 3.0000 - val_tn: 214.0000 - val_fn: 1.0000 - val_precision: 0.9538 - val_recall: 0.9841\n",
      "Epoch 111/350\n",
      "21/21 [==============================] - 1s 45ms/step - loss: 3.8576 - tp: 697.0000 - fp: 21.0000 - tn: 701.0000 - fn: 25.0000 - precision: 0.9708 - recall: 0.9654 - val_loss: 3.9106 - val_tp: 61.0000 - val_fp: 2.0000 - val_tn: 215.0000 - val_fn: 2.0000 - val_precision: 0.9683 - val_recall: 0.9683\n",
      "Epoch 112/350\n",
      "21/21 [==============================] - 1s 43ms/step - loss: 3.8591 - tp: 693.0000 - fp: 14.0000 - tn: 708.0000 - fn: 29.0000 - precision: 0.9802 - recall: 0.9598 - val_loss: 3.8627 - val_tp: 61.0000 - val_fp: 5.0000 - val_tn: 212.0000 - val_fn: 2.0000 - val_precision: 0.9242 - val_recall: 0.9683\n",
      "Epoch 113/350\n",
      "21/21 [==============================] - 1s 43ms/step - loss: 3.8334 - tp: 704.0000 - fp: 16.0000 - tn: 706.0000 - fn: 18.0000 - precision: 0.9778 - recall: 0.9751 - val_loss: 3.7939 - val_tp: 62.0000 - val_fp: 3.0000 - val_tn: 214.0000 - val_fn: 1.0000 - val_precision: 0.9538 - val_recall: 0.9841\n",
      "Epoch 114/350\n",
      "21/21 [==============================] - 1s 43ms/step - loss: 3.8207 - tp: 707.0000 - fp: 16.0000 - tn: 706.0000 - fn: 15.0000 - precision: 0.9779 - recall: 0.9792 - val_loss: 3.8497 - val_tp: 59.0000 - val_fp: 4.0000 - val_tn: 213.0000 - val_fn: 4.0000 - val_precision: 0.9365 - val_recall: 0.9365\n",
      "Epoch 115/350\n",
      "21/21 [==============================] - 1s 43ms/step - loss: 3.8360 - tp: 705.0000 - fp: 18.0000 - tn: 704.0000 - fn: 17.0000 - precision: 0.9751 - recall: 0.9765 - val_loss: 3.8241 - val_tp: 60.0000 - val_fp: 4.0000 - val_tn: 213.0000 - val_fn: 3.0000 - val_precision: 0.9375 - val_recall: 0.9524\n",
      "Epoch 116/350\n",
      "21/21 [==============================] - 1s 43ms/step - loss: 3.8195 - tp: 701.0000 - fp: 16.0000 - tn: 706.0000 - fn: 21.0000 - precision: 0.9777 - recall: 0.9709 - val_loss: 3.8559 - val_tp: 61.0000 - val_fp: 5.0000 - val_tn: 212.0000 - val_fn: 2.0000 - val_precision: 0.9242 - val_recall: 0.9683\n",
      "Epoch 117/350\n",
      "21/21 [==============================] - 1s 43ms/step - loss: 3.8264 - tp: 703.0000 - fp: 17.0000 - tn: 705.0000 - fn: 19.0000 - precision: 0.9764 - recall: 0.9737 - val_loss: 3.8023 - val_tp: 61.0000 - val_fp: 3.0000 - val_tn: 214.0000 - val_fn: 2.0000 - val_precision: 0.9531 - val_recall: 0.9683\n",
      "Epoch 118/350\n",
      "21/21 [==============================] - 1s 43ms/step - loss: 3.8603 - tp: 696.0000 - fp: 18.0000 - tn: 704.0000 - fn: 26.0000 - precision: 0.9748 - recall: 0.9640 - val_loss: 3.8538 - val_tp: 60.0000 - val_fp: 1.0000 - val_tn: 216.0000 - val_fn: 3.0000 - val_precision: 0.9836 - val_recall: 0.9524\n",
      "Epoch 119/350\n",
      "21/21 [==============================] - 1s 43ms/step - loss: 3.8418 - tp: 698.0000 - fp: 18.0000 - tn: 704.0000 - fn: 24.0000 - precision: 0.9749 - recall: 0.9668 - val_loss: 3.9647 - val_tp: 60.0000 - val_fp: 14.0000 - val_tn: 203.0000 - val_fn: 3.0000 - val_precision: 0.8108 - val_recall: 0.9524\n",
      "Epoch 120/350\n",
      "21/21 [==============================] - 1s 43ms/step - loss: 3.8853 - tp: 701.0000 - fp: 20.0000 - tn: 702.0000 - fn: 21.0000 - precision: 0.9723 - recall: 0.9709 - val_loss: 3.8934 - val_tp: 62.0000 - val_fp: 7.0000 - val_tn: 210.0000 - val_fn: 1.0000 - val_precision: 0.8986 - val_recall: 0.9841\n",
      "Epoch 121/350\n",
      "21/21 [==============================] - 1s 43ms/step - loss: 3.8584 - tp: 701.0000 - fp: 15.0000 - tn: 707.0000 - fn: 21.0000 - precision: 0.9791 - recall: 0.9709 - val_loss: 3.8213 - val_tp: 58.0000 - val_fp: 3.0000 - val_tn: 214.0000 - val_fn: 5.0000 - val_precision: 0.9508 - val_recall: 0.9206\n",
      "Epoch 122/350\n",
      "21/21 [==============================] - 1s 43ms/step - loss: 3.8664 - tp: 697.0000 - fp: 13.0000 - tn: 709.0000 - fn: 25.0000 - precision: 0.9817 - recall: 0.9654 - val_loss: 3.8241 - val_tp: 63.0000 - val_fp: 6.0000 - val_tn: 211.0000 - val_fn: 0.0000e+00 - val_precision: 0.9130 - val_recall: 1.0000\n",
      "Epoch 123/350\n",
      "21/21 [==============================] - 1s 43ms/step - loss: 3.8230 - tp: 698.0000 - fp: 17.0000 - tn: 705.0000 - fn: 24.0000 - precision: 0.9762 - recall: 0.9668 - val_loss: 3.8200 - val_tp: 59.0000 - val_fp: 1.0000 - val_tn: 216.0000 - val_fn: 4.0000 - val_precision: 0.9833 - val_recall: 0.9365\n",
      "Epoch 124/350\n",
      "21/21 [==============================] - 1s 44ms/step - loss: 3.8290 - tp: 689.0000 - fp: 14.0000 - tn: 708.0000 - fn: 33.0000 - precision: 0.9801 - recall: 0.9543 - val_loss: 3.8567 - val_tp: 63.0000 - val_fp: 5.0000 - val_tn: 212.0000 - val_fn: 0.0000e+00 - val_precision: 0.9265 - val_recall: 1.0000\n",
      "Epoch 125/350\n",
      "21/21 [==============================] - 1s 43ms/step - loss: 3.8193 - tp: 703.0000 - fp: 14.0000 - tn: 708.0000 - fn: 19.0000 - precision: 0.9805 - recall: 0.9737 - val_loss: 3.7900 - val_tp: 57.0000 - val_fp: 0.0000e+00 - val_tn: 217.0000 - val_fn: 6.0000 - val_precision: 1.0000 - val_recall: 0.9048\n",
      "Epoch 126/350\n",
      "21/21 [==============================] - 1s 43ms/step - loss: 3.8350 - tp: 702.0000 - fp: 15.0000 - tn: 707.0000 - fn: 20.0000 - precision: 0.9791 - recall: 0.9723 - val_loss: 3.8658 - val_tp: 59.0000 - val_fp: 2.0000 - val_tn: 215.0000 - val_fn: 4.0000 - val_precision: 0.9672 - val_recall: 0.9365\n",
      "Epoch 127/350\n",
      "21/21 [==============================] - 1s 43ms/step - loss: 3.9325 - tp: 694.0000 - fp: 20.0000 - tn: 702.0000 - fn: 28.0000 - precision: 0.9720 - recall: 0.9612 - val_loss: 3.8652 - val_tp: 61.0000 - val_fp: 5.0000 - val_tn: 212.0000 - val_fn: 2.0000 - val_precision: 0.9242 - val_recall: 0.9683\n",
      "Epoch 128/350\n",
      "21/21 [==============================] - 1s 43ms/step - loss: 3.8469 - tp: 700.0000 - fp: 14.0000 - tn: 708.0000 - fn: 22.0000 - precision: 0.9804 - recall: 0.9695 - val_loss: 3.8298 - val_tp: 57.0000 - val_fp: 2.0000 - val_tn: 215.0000 - val_fn: 6.0000 - val_precision: 0.9661 - val_recall: 0.9048\n",
      "Epoch 129/350\n",
      "21/21 [==============================] - ETA: 0s - loss: 3.8237 - tp: 695.0000 - fp: 16.0000 - tn: 706.0000 - fn: 27.0000 - precision: 0.9775 - recall: 0.9626\n",
      "\n",
      "******* Stoping on Defined Thresold *******\n",
      "F1 TRAINING:  0.9699930272503446\n",
      "F1 TESTING:  0.9838709994902461\n",
      "21/21 [==============================] - 1s 43ms/step - loss: 3.8237 - tp: 695.0000 - fp: 16.0000 - tn: 706.0000 - fn: 27.0000 - precision: 0.9775 - recall: 0.9626 - val_loss: 3.8056 - val_tp: 61.0000 - val_fp: 0.0000e+00 - val_tn: 217.0000 - val_fn: 2.0000 - val_precision: 1.0000 - val_recall: 0.9683\n",
      "\n",
      "\n",
      "\n",
      "****** Early Stopping *******\n"
     ]
    }
   ],
   "source": [
    "num_epochs = 350 ## Training will stop much before 350 iteration if the Criteria is Met\n",
    "history = model.fit(training_split, train_result,\n",
    "                    epochs=num_epochs,\n",
    "                    batch_size=70,\n",
    "                    validation_data=(test_split, test_result),\n",
    "                    callbacks=[EarlyStoppingMonitor()])\n",
    "# ,callbacks=[tf.keras.callbacks.EarlyStopping()]"
   ],
   "metadata": {
    "collapsed": false,
    "pycharm": {
     "name": "#%%\n"
    }
   }
  },
  {
   "cell_type": "markdown",
   "source": [
    "## Loss and F1-score Visualization"
   ],
   "metadata": {
    "collapsed": false,
    "pycharm": {
     "name": "#%% md\n"
    }
   }
  },
  {
   "cell_type": "code",
   "execution_count": 336,
   "outputs": [
    {
     "data": {
      "text/plain": "Text(0.5, 1.0, 'F1-Score')"
     },
     "execution_count": 336,
     "metadata": {},
     "output_type": "execute_result"
    },
    {
     "data": {
      "text/plain": "<Figure size 640x480 with 2 Axes>",
      "image/png": "[encoded data removed]"
     },
     "metadata": {},
     "output_type": "display_data"
    }
   ],
   "source": [
    "fig, (ax1,ax2) = plt.subplots(2,1)\n",
    "testloss = np.array(history.history['val_loss']).reshape(len(history.history['val_loss']),1)\n",
    "trainloss = np.array(history.history['loss']).reshape(len(history.history['loss']),1)\n",
    "fig.tight_layout(pad=2.0)\n",
    "ax1.plot(history.epoch, testloss, '-')\n",
    "ax1.plot(history.epoch, trainloss, '--')\n",
    "ax1.set_title('Loss Function')\n",
    "# ax1.ylabel('loss')\n",
    "# ax1.xlabel('epoch')\n",
    "\n",
    "train_precision = np.array(history.history['precision']).reshape(len(history.history['loss']),1)\n",
    "train_recall= np.array(history.history['recall']).reshape(len(history.history['loss']),1)\n",
    "f1_train =( 2 * train_precision * train_recall) / (train_precision+train_recall)\n",
    "\n",
    "test_precission = np.array(history.history['val_precision']).reshape(len(history.history['loss']),1)\n",
    "test_recall = np.array(history.history['val_recall']).reshape(len(history.history['loss']),1)\n",
    "f1_test = (2 * test_precission * test_recall )/ (test_precission+test_recall)\n",
    "# plt.plot(history.epoch,j, '-')\n",
    "# plt.plot(k,'--')\n",
    "ax2.scatter(history.epoch, f1_test)\n",
    "ax2.scatter(history.epoch, f1_train)\n",
    "ax2.plot(history.epoch, f1_test,'-')\n",
    "ax2.plot(history.epoch, f1_train,'--')\n",
    "ax2.set_title('F1-Score')\n",
    "# ax3.plot(j+3)\n",
    "# ax3.plot(trainloss,'tab:blue')"
   ],
   "metadata": {
    "collapsed": false,
    "pycharm": {
     "name": "#%%\n"
    }
   }
  },
  {
   "cell_type": "markdown",
   "source": [
    "### Transformation and Prediction on unlabeled data"
   ],
   "metadata": {
    "collapsed": false,
    "pycharm": {
     "name": "#%% md\n"
    }
   }
  },
  {
   "cell_type": "code",
   "execution_count": 337,
   "outputs": [],
   "source": [
    "table_test = pd.read_table('../drug-discovery/1663769555_8653905_test.txt', names=['sequence'])"
   ],
   "metadata": {
    "collapsed": false,
    "pycharm": {
     "name": "#%%\n"
    }
   }
  },
  {
   "cell_type": "code",
   "execution_count": 338,
   "outputs": [],
   "source": [
    "unlabeled_test_sequence = vectorizer_best.transform(table_test.sequence).toarray()"
   ],
   "metadata": {
    "collapsed": false,
    "pycharm": {
     "name": "#%%\n"
    }
   }
  },
  {
   "cell_type": "code",
   "execution_count": 339,
   "outputs": [
    {
     "name": "stdout",
     "output_type": "stream",
     "text": [
      "(350, 84482)\n"
     ]
    }
   ],
   "source": [
    "print(unlabeled_test_sequence.shape)"
   ],
   "metadata": {
    "collapsed": false,
    "pycharm": {
     "name": "#%%\n"
    }
   }
  },
  {
   "cell_type": "code",
   "execution_count": 340,
   "outputs": [
    {
     "name": "stdout",
     "output_type": "stream",
     "text": [
      " 6/11 [===============>..............] - ETA: 0s"
     ]
    },
    {
     "name": "stderr",
     "output_type": "stream",
     "text": [
      "2022-10-09 17:34:55.128748: I tensorflow/core/grappler/optimizers/custom_graph_optimizer_registry.cc:114] Plugin optimizer for device_type GPU is enabled.\n"
     ]
    },
    {
     "name": "stdout",
     "output_type": "stream",
     "text": [
      "11/11 [==============================] - 0s 28ms/step\n"
     ]
    }
   ],
   "source": [
    "predicted = model.predict(unlabeled_test_sequence)"
   ],
   "metadata": {
    "collapsed": false,
    "pycharm": {
     "name": "#%%\n"
    }
   }
  },
  {
   "cell_type": "code",
   "execution_count": 341,
   "outputs": [],
   "source": [
    "final_result = [1 if i>=.5 else 0 for i in predicted ]"
   ],
   "metadata": {
    "collapsed": false,
    "pycharm": {
     "name": "#%%\n"
    }
   }
  },
  {
   "cell_type": "code",
   "execution_count": 342,
   "outputs": [
    {
     "name": "stdout",
     "output_type": "stream",
     "text": [
      "350\n"
     ]
    }
   ],
   "source": [
    "print(len(final_result))"
   ],
   "metadata": {
    "collapsed": false,
    "pycharm": {
     "name": "#%%\n"
    }
   }
  },
  {
   "cell_type": "code",
   "execution_count": 343,
   "outputs": [],
   "source": [
    "import csv\n",
    "outfile = open('./results.csv','w')\n",
    "out = csv.writer(outfile)\n",
    "out.writerows(map(lambda x: [x], final_result))\n",
    "outfile.close()"
   ],
   "metadata": {
    "collapsed": false,
    "pycharm": {
     "name": "#%%\n"
    }
   }
  },
  {
   "cell_type": "code",
   "execution_count": null,
   "outputs": [],
   "source": [],
   "metadata": {
    "collapsed": false,
    "pycharm": {
     "name": "#%%\n"
    }
   }
  }
 ],
 "metadata": {
  "kernelspec": {
   "display_name": "Python 3",
   "language": "python",
   "name": "python3"
  },
  "language_info": {
   "codemirror_mode": {
    "name": "ipython",
    "version": 2
   },
   "file_extension": ".py",
   "mimetype": "text/x-python",
   "name": "python",
   "nbconvert_exporter": "python",
   "pygments_lexer": "ipython2",
   "version": "2.7.6"
  }
 },
 "nbformat": 4,
 "nbformat_minor": 0
}