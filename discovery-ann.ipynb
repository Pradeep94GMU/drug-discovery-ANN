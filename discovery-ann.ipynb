{
 "cells": [
  {
   "cell_type": "code",
   "execution_count": 233,
   "metadata": {
    "collapsed": true,
    "pycharm": {
     "name": "#%%\n"
    }
   },
   "outputs": [],
   "source": [
    "import tensorflow as tf\n",
    "import pandas as pd\n",
    "import numpy as np\n",
    "import matplotlib.pyplot as plt\n",
    "import imblearn"
   ]
  },
  {
   "cell_type": "code",
   "execution_count": 234,
   "outputs": [
    {
     "name": "stdout",
     "output_type": "stream",
     "text": [
      "2.10.0\n"
     ]
    }
   ],
   "source": [
    "print(tf.__version__)"
   ],
   "metadata": {
    "collapsed": false,
    "pycharm": {
     "name": "#%%\n"
    }
   }
  },
  {
   "cell_type": "code",
   "execution_count": 235,
   "outputs": [],
   "source": [
    "table = pd.read_table('../drug-discovery/1663769555_8559356_train.txt', names=['binding','sequence'])"
   ],
   "metadata": {
    "collapsed": false,
    "pycharm": {
     "name": "#%%\n"
    }
   }
  },
  {
   "cell_type": "code",
   "execution_count": 236,
   "outputs": [],
   "source": [
    "from sklearn.feature_extraction.text import CountVectorizer\n",
    "def return_binary_vectorized_form(data_frame):\n",
    "    count_vectorizer = CountVectorizer(binary=True)\n",
    "    fitted_and_transformed = count_vectorizer.fit_transform(data_frame).toarray()\n",
    "    return count_vectorizer,  fitted_and_transformed\n"
   ],
   "metadata": {
    "collapsed": false,
    "pycharm": {
     "name": "#%%\n"
    }
   }
  },
  {
   "cell_type": "code",
   "execution_count": 237,
   "outputs": [],
   "source": [
    "from sklearn.model_selection import train_test_split\n",
    "active_df = table.loc[table.binding == 1]\n",
    "not_active_df = table.loc[table.binding == 0]\n",
    "active_train, active_test, active_binding_train, active_binding_test = train_test_split(active_df.sequence, active_df.binding, shuffle=True, train_size= .20)\n",
    "not_active_train, not_active_test, not_active_binding_train, not_active_binding_test = train_test_split(not_active_df.sequence, not_active_df.binding, shuffle=True, train_size=.70)"
   ],
   "metadata": {
    "collapsed": false,
    "pycharm": {
     "name": "#%%\n"
    }
   }
  },
  {
   "cell_type": "code",
   "execution_count": 238,
   "outputs": [],
   "source": [
    "active_test_df = pd.DataFrame(active_test)\n",
    "active_binding_test_df = pd.DataFrame(active_binding_test)\n",
    "active_test_df['binding'] = active_binding_test_df['binding']"
   ],
   "metadata": {
    "collapsed": false,
    "pycharm": {
     "name": "#%%\n"
    }
   }
  },
  {
   "cell_type": "code",
   "execution_count": 239,
   "outputs": [],
   "source": [
    "not_active_test_df = pd.DataFrame(not_active_test)\n",
    "not_active_binding_test_df = pd.DataFrame(not_active_binding_test)\n",
    "not_active_test_df['binding'] = not_active_binding_test_df['binding']"
   ],
   "metadata": {
    "collapsed": false,
    "pycharm": {
     "name": "#%%\n"
    }
   }
  },
  {
   "cell_type": "code",
   "execution_count": 240,
   "outputs": [
    {
     "name": "stdout",
     "output_type": "stream",
     "text": [
      "0    217\n",
      "1     63\n",
      "Name: binding, dtype: int64\n"
     ]
    }
   ],
   "source": [
    "test_df = pd.concat([active_test_df,not_active_test_df]).reset_index()\n",
    "test_df = test_df.drop('index',axis=1)\n",
    "print(test_df.binding.value_counts())"
   ],
   "metadata": {
    "collapsed": false,
    "pycharm": {
     "name": "#%%\n"
    }
   }
  },
  {
   "cell_type": "code",
   "execution_count": 241,
   "outputs": [],
   "source": [
    "from imblearn.over_sampling import RandomOverSampler\n",
    "sampler = RandomOverSampler()\n",
    "x_sampled, y_sampled = sampler.fit_resample(np.array(table.sequence).reshape(-1,1),table.binding)"
   ],
   "metadata": {
    "collapsed": false,
    "pycharm": {
     "name": "#%%\n"
    }
   }
  },
  {
   "cell_type": "code",
   "execution_count": 256,
   "outputs": [
    {
     "name": "stdout",
     "output_type": "stream",
     "text": [
      "0    722\n",
      "1    722\n",
      "Name: binding, dtype: int64\n",
      "0    217\n",
      "1     63\n",
      "Name: binding, dtype: int64\n"
     ]
    }
   ],
   "source": [
    "final_train_set = pd.DataFrame(x_sampled, columns  =[\"sequence\"])\n",
    "final_train_set['binding'] = y_sampled\n",
    "print(final_train_set.binding.value_counts())\n",
    "\n",
    "final_test_set = pd.DataFrame(test_df.sequence, columns  =[\"sequence\"])\n",
    "final_test_set['binding'] = test_df.binding\n",
    "print(final_test_set.binding.value_counts())"
   ],
   "metadata": {
    "collapsed": false,
    "pycharm": {
     "name": "#%%\n"
    }
   }
  },
  {
   "cell_type": "code",
   "execution_count": 257,
   "outputs": [],
   "source": [
    "vectorizer_best, training_split = return_binary_vectorized_form(final_train_set.sequence)\n",
    "test_split = vectorizer_best.transform(final_test_set.sequence).toarray()"
   ],
   "metadata": {
    "collapsed": false,
    "pycharm": {
     "name": "#%%\n"
    }
   }
  },
  {
   "cell_type": "code",
   "execution_count": 258,
   "outputs": [
    {
     "name": "stdout",
     "output_type": "stream",
     "text": [
      "(1444, 84482)\n",
      "(280, 84482)\n"
     ]
    }
   ],
   "source": [
    "print(training_split.shape)\n",
    "print(test_split.shape)"
   ],
   "metadata": {
    "collapsed": false,
    "pycharm": {
     "name": "#%%\n"
    }
   }
  },
  {
   "cell_type": "code",
   "execution_count": 259,
   "outputs": [],
   "source": [
    "train_result = np.array(final_train_set.binding)\n",
    "test_result = np.array(final_test_set.binding)\n",
    "# print(train_result.shape)\n",
    "# print(test_result.shape)\n"
   ],
   "metadata": {
    "collapsed": false,
    "pycharm": {
     "name": "#%%\n"
    }
   }
  },
  {
   "cell_type": "code",
   "execution_count": 260,
   "outputs": [
    {
     "data": {
      "text/plain": "array([[0, 0, 0, ..., 0, 0, 0],\n       [0, 0, 0, ..., 0, 0, 0],\n       [0, 0, 0, ..., 0, 0, 0],\n       ...,\n       [0, 0, 0, ..., 0, 0, 0],\n       [0, 0, 0, ..., 0, 0, 0],\n       [0, 0, 0, ..., 0, 0, 0]])"
     },
     "execution_count": 260,
     "metadata": {},
     "output_type": "execute_result"
    }
   ],
   "source": [
    "training_split"
   ],
   "metadata": {
    "collapsed": false,
    "pycharm": {
     "name": "#%%\n"
    }
   }
  },
  {
   "cell_type": "code",
   "execution_count": 261,
   "outputs": [],
   "source": [
    "class EarlyStoppingMonitor(tf.keras.callbacks.Callback):\n",
    "    def __init__(self):\n",
    "        super(EarlyStoppingMonitor, self).__init__()\n",
    "        self.f1_train = None\n",
    "        self.f1_test = None\n",
    "        self.count =0\n",
    "\n",
    "    def on_epoch_end(self, epoch, logs=None):\n",
    "        current_train_precision = logs.get('precision')\n",
    "        current_train_recall= logs.get('recall')\n",
    "        current_test_precision = logs.get('val_precision')\n",
    "        current_test_recall= logs.get('val_recall')\n",
    "        if current_train_precision==0 or current_train_recall==0 or current_test_precision==0 or current_test_recall==0:\n",
    "            print(\"** Waring: precision recall zero avoid exception **\")\n",
    "            return\n",
    "        self.f1_train = (2*current_train_precision*current_train_recall) / (current_train_precision+current_train_recall)\n",
    "        self.f1_test = (2*current_test_precision*current_test_recall) / (current_test_precision+current_test_recall)\n",
    "        if abs(self.f1_train-self.f1_test) < .02 and 1>self.f1_test>.98:\n",
    "            # self.count += 1\n",
    "            # if self.count >4:\n",
    "            self.model.stop_training = True\n",
    "            print('Stoping on set citeria')\n",
    "            print('f1 training: ', self.f1_train)\n",
    "            print('f1 testing: ' , self.f1_test)\n",
    "\n",
    "    def on_train_end(self, logs=None):\n",
    "        if self.model.stop_training:\n",
    "            print(\"Early stopping\")\n"
   ],
   "metadata": {
    "collapsed": false,
    "pycharm": {
     "name": "#%%\n"
    }
   }
  },
  {
   "cell_type": "code",
   "execution_count": 262,
   "outputs": [],
   "source": [
    "model = tf.keras.Sequential([\n",
    "    tf.keras.Input(shape=(training_split.shape[-1],)),\n",
    "    tf.keras.layers.Dense(26,activation='relu',kernel_regularizer=tf.keras.regularizers.L1(.015)),\n",
    "    tf.keras.layers.Dense(26,activation='relu',kernel_regularizer=tf.keras.regularizers.L1(.015)),\n",
    "    tf.keras.layers.Dense(1, activation='sigmoid')\n",
    "])"
   ],
   "metadata": {
    "collapsed": false,
    "pycharm": {
     "name": "#%%\n"
    }
   }
  },
  {
   "cell_type": "code",
   "execution_count": 263,
   "outputs": [],
   "source": [
    "METRICS = [\n",
    "      tf.keras.metrics.TruePositives(name='tp'),\n",
    "      tf.keras.metrics.FalsePositives(name='fp'),\n",
    "      tf.keras.metrics.TrueNegatives(name='tn'),\n",
    "      tf.keras.metrics.FalseNegatives(name='fn'),\n",
    "      tf.keras.metrics.Precision(name='precision'),\n",
    "      tf.keras.metrics.Recall(name='recall')\n",
    "]\n",
    "model.compile(loss=tf.keras.losses.BinaryFocalCrossentropy(), metrics=METRICS, optimizer='adam')"
   ],
   "metadata": {
    "collapsed": false,
    "pycharm": {
     "name": "#%%\n"
    }
   }
  },
  {
   "cell_type": "code",
   "execution_count": 264,
   "outputs": [
    {
     "name": "stdout",
     "output_type": "stream",
     "text": [
      "Epoch 1/120\n"
     ]
    },
    {
     "name": "stderr",
     "output_type": "stream",
     "text": [
      "2022-10-09 16:52:17.697341: I tensorflow/core/grappler/optimizers/custom_graph_optimizer_registry.cc:114] Plugin optimizer for device_type GPU is enabled.\n"
     ]
    },
    {
     "name": "stdout",
     "output_type": "stream",
     "text": [
      "21/21 [==============================] - ETA: 0s - loss: 40.9049 - tp: 631.0000 - fp: 218.0000 - tn: 504.0000 - fn: 91.0000 - precision: 0.7432 - recall: 0.8740"
     ]
    },
    {
     "name": "stderr",
     "output_type": "stream",
     "text": [
      "2022-10-09 16:52:19.292583: I tensorflow/core/grappler/optimizers/custom_graph_optimizer_registry.cc:114] Plugin optimizer for device_type GPU is enabled.\n"
     ]
    },
    {
     "name": "stdout",
     "output_type": "stream",
     "text": [
      "21/21 [==============================] - 2s 75ms/step - loss: 40.9049 - tp: 631.0000 - fp: 218.0000 - tn: 504.0000 - fn: 91.0000 - precision: 0.7432 - recall: 0.8740 - val_loss: 15.5833 - val_tp: 48.0000 - val_fp: 1.0000 - val_tn: 216.0000 - val_fn: 15.0000 - val_precision: 0.9796 - val_recall: 0.7619\n",
      "Epoch 2/120\n",
      "21/21 [==============================] - 1s 50ms/step - loss: 10.0291 - tp: 555.0000 - fp: 22.0000 - tn: 700.0000 - fn: 167.0000 - precision: 0.9619 - recall: 0.7687 - val_loss: 7.0180 - val_tp: 47.0000 - val_fp: 1.0000 - val_tn: 216.0000 - val_fn: 16.0000 - val_precision: 0.9792 - val_recall: 0.7460\n",
      "Epoch 3/120\n",
      "21/21 [==============================] - 1s 48ms/step - loss: 6.2217 - tp: 532.0000 - fp: 20.0000 - tn: 702.0000 - fn: 190.0000 - precision: 0.9638 - recall: 0.7368 - val_loss: 5.6882 - val_tp: 41.0000 - val_fp: 1.0000 - val_tn: 216.0000 - val_fn: 22.0000 - val_precision: 0.9762 - val_recall: 0.6508\n",
      "Epoch 4/120\n",
      "21/21 [==============================] - 1s 45ms/step - loss: 5.4620 - tp: 473.0000 - fp: 18.0000 - tn: 704.0000 - fn: 249.0000 - precision: 0.9633 - recall: 0.6551 - val_loss: 5.2923 - val_tp: 39.0000 - val_fp: 1.0000 - val_tn: 216.0000 - val_fn: 24.0000 - val_precision: 0.9750 - val_recall: 0.6190\n",
      "Epoch 5/120\n",
      "21/21 [==============================] - 1s 43ms/step - loss: 5.1575 - tp: 486.0000 - fp: 18.0000 - tn: 704.0000 - fn: 236.0000 - precision: 0.9643 - recall: 0.6731 - val_loss: 5.0248 - val_tp: 40.0000 - val_fp: 1.0000 - val_tn: 216.0000 - val_fn: 23.0000 - val_precision: 0.9756 - val_recall: 0.6349\n",
      "Epoch 6/120\n",
      "21/21 [==============================] - 1s 43ms/step - loss: 4.9346 - tp: 489.0000 - fp: 18.0000 - tn: 704.0000 - fn: 233.0000 - precision: 0.9645 - recall: 0.6773 - val_loss: 4.8682 - val_tp: 39.0000 - val_fp: 1.0000 - val_tn: 216.0000 - val_fn: 24.0000 - val_precision: 0.9750 - val_recall: 0.6190\n",
      "Epoch 7/120\n",
      "21/21 [==============================] - 1s 44ms/step - loss: 4.7659 - tp: 491.0000 - fp: 20.0000 - tn: 702.0000 - fn: 231.0000 - precision: 0.9609 - recall: 0.6801 - val_loss: 4.6625 - val_tp: 41.0000 - val_fp: 1.0000 - val_tn: 216.0000 - val_fn: 22.0000 - val_precision: 0.9762 - val_recall: 0.6508\n",
      "Epoch 8/120\n",
      "21/21 [==============================] - 1s 45ms/step - loss: 4.6139 - tp: 493.0000 - fp: 19.0000 - tn: 703.0000 - fn: 229.0000 - precision: 0.9629 - recall: 0.6828 - val_loss: 4.5439 - val_tp: 39.0000 - val_fp: 1.0000 - val_tn: 216.0000 - val_fn: 24.0000 - val_precision: 0.9750 - val_recall: 0.6190\n",
      "Epoch 9/120\n",
      "21/21 [==============================] - 1s 42ms/step - loss: 4.4749 - tp: 489.0000 - fp: 20.0000 - tn: 702.0000 - fn: 233.0000 - precision: 0.9607 - recall: 0.6773 - val_loss: 4.3909 - val_tp: 40.0000 - val_fp: 1.0000 - val_tn: 216.0000 - val_fn: 23.0000 - val_precision: 0.9756 - val_recall: 0.6349\n",
      "Epoch 10/120\n",
      "21/21 [==============================] - 1s 41ms/step - loss: 4.3559 - tp: 497.0000 - fp: 20.0000 - tn: 702.0000 - fn: 225.0000 - precision: 0.9613 - recall: 0.6884 - val_loss: 4.3166 - val_tp: 39.0000 - val_fp: 1.0000 - val_tn: 216.0000 - val_fn: 24.0000 - val_precision: 0.9750 - val_recall: 0.6190\n",
      "Epoch 11/120\n",
      "21/21 [==============================] - 1s 41ms/step - loss: 4.2354 - tp: 503.0000 - fp: 20.0000 - tn: 702.0000 - fn: 219.0000 - precision: 0.9618 - recall: 0.6967 - val_loss: 4.1695 - val_tp: 38.0000 - val_fp: 1.0000 - val_tn: 216.0000 - val_fn: 25.0000 - val_precision: 0.9744 - val_recall: 0.6032\n",
      "Epoch 12/120\n",
      "21/21 [==============================] - 1s 43ms/step - loss: 4.1262 - tp: 493.0000 - fp: 19.0000 - tn: 703.0000 - fn: 229.0000 - precision: 0.9629 - recall: 0.6828 - val_loss: 4.0759 - val_tp: 40.0000 - val_fp: 1.0000 - val_tn: 216.0000 - val_fn: 23.0000 - val_precision: 0.9756 - val_recall: 0.6349\n",
      "Epoch 13/120\n",
      "21/21 [==============================] - 1s 42ms/step - loss: 4.0311 - tp: 501.0000 - fp: 21.0000 - tn: 701.0000 - fn: 221.0000 - precision: 0.9598 - recall: 0.6939 - val_loss: 3.9659 - val_tp: 40.0000 - val_fp: 1.0000 - val_tn: 216.0000 - val_fn: 23.0000 - val_precision: 0.9756 - val_recall: 0.6349\n",
      "Epoch 14/120\n",
      "21/21 [==============================] - 1s 43ms/step - loss: 3.9462 - tp: 497.0000 - fp: 19.0000 - tn: 703.0000 - fn: 225.0000 - precision: 0.9632 - recall: 0.6884 - val_loss: 3.9344 - val_tp: 40.0000 - val_fp: 1.0000 - val_tn: 216.0000 - val_fn: 23.0000 - val_precision: 0.9756 - val_recall: 0.6349\n",
      "Epoch 15/120\n",
      "21/21 [==============================] - 1s 43ms/step - loss: 3.8752 - tp: 501.0000 - fp: 21.0000 - tn: 701.0000 - fn: 221.0000 - precision: 0.9598 - recall: 0.6939 - val_loss: 3.8324 - val_tp: 39.0000 - val_fp: 1.0000 - val_tn: 216.0000 - val_fn: 24.0000 - val_precision: 0.9750 - val_recall: 0.6190\n",
      "Epoch 16/120\n",
      "21/21 [==============================] - 1s 41ms/step - loss: 3.8051 - tp: 489.0000 - fp: 20.0000 - tn: 702.0000 - fn: 233.0000 - precision: 0.9607 - recall: 0.6773 - val_loss: 3.7837 - val_tp: 41.0000 - val_fp: 1.0000 - val_tn: 216.0000 - val_fn: 22.0000 - val_precision: 0.9762 - val_recall: 0.6508\n",
      "Epoch 17/120\n",
      "21/21 [==============================] - 1s 43ms/step - loss: 3.7708 - tp: 505.0000 - fp: 22.0000 - tn: 700.0000 - fn: 217.0000 - precision: 0.9583 - recall: 0.6994 - val_loss: 3.7292 - val_tp: 42.0000 - val_fp: 1.0000 - val_tn: 216.0000 - val_fn: 21.0000 - val_precision: 0.9767 - val_recall: 0.6667\n",
      "Epoch 18/120\n",
      "21/21 [==============================] - 1s 42ms/step - loss: 3.7521 - tp: 503.0000 - fp: 19.0000 - tn: 703.0000 - fn: 219.0000 - precision: 0.9636 - recall: 0.6967 - val_loss: 3.7581 - val_tp: 43.0000 - val_fp: 1.0000 - val_tn: 216.0000 - val_fn: 20.0000 - val_precision: 0.9773 - val_recall: 0.6825\n",
      "Epoch 19/120\n",
      "21/21 [==============================] - 1s 42ms/step - loss: 3.7466 - tp: 513.0000 - fp: 21.0000 - tn: 701.0000 - fn: 209.0000 - precision: 0.9607 - recall: 0.7105 - val_loss: 3.7352 - val_tp: 43.0000 - val_fp: 1.0000 - val_tn: 216.0000 - val_fn: 20.0000 - val_precision: 0.9773 - val_recall: 0.6825\n",
      "Epoch 20/120\n",
      "21/21 [==============================] - 1s 41ms/step - loss: 3.7336 - tp: 521.0000 - fp: 21.0000 - tn: 701.0000 - fn: 201.0000 - precision: 0.9613 - recall: 0.7216 - val_loss: 3.7463 - val_tp: 43.0000 - val_fp: 1.0000 - val_tn: 216.0000 - val_fn: 20.0000 - val_precision: 0.9773 - val_recall: 0.6825\n",
      "Epoch 21/120\n",
      "21/21 [==============================] - 1s 42ms/step - loss: 3.7349 - tp: 514.0000 - fp: 21.0000 - tn: 701.0000 - fn: 208.0000 - precision: 0.9607 - recall: 0.7119 - val_loss: 3.7119 - val_tp: 43.0000 - val_fp: 1.0000 - val_tn: 216.0000 - val_fn: 20.0000 - val_precision: 0.9773 - val_recall: 0.6825\n",
      "Epoch 22/120\n",
      "21/21 [==============================] - 1s 42ms/step - loss: 3.7323 - tp: 531.0000 - fp: 22.0000 - tn: 700.0000 - fn: 191.0000 - precision: 0.9602 - recall: 0.7355 - val_loss: 3.7423 - val_tp: 41.0000 - val_fp: 1.0000 - val_tn: 216.0000 - val_fn: 22.0000 - val_precision: 0.9762 - val_recall: 0.6508\n",
      "Epoch 23/120\n",
      "21/21 [==============================] - 1s 42ms/step - loss: 3.7296 - tp: 522.0000 - fp: 20.0000 - tn: 702.0000 - fn: 200.0000 - precision: 0.9631 - recall: 0.7230 - val_loss: 3.7193 - val_tp: 43.0000 - val_fp: 1.0000 - val_tn: 216.0000 - val_fn: 20.0000 - val_precision: 0.9773 - val_recall: 0.6825\n",
      "Epoch 24/120\n",
      "21/21 [==============================] - 1s 42ms/step - loss: 3.7322 - tp: 525.0000 - fp: 20.0000 - tn: 702.0000 - fn: 197.0000 - precision: 0.9633 - recall: 0.7271 - val_loss: 3.7333 - val_tp: 41.0000 - val_fp: 1.0000 - val_tn: 216.0000 - val_fn: 22.0000 - val_precision: 0.9762 - val_recall: 0.6508\n",
      "Epoch 25/120\n",
      "21/21 [==============================] - 1s 43ms/step - loss: 3.7304 - tp: 524.0000 - fp: 20.0000 - tn: 702.0000 - fn: 198.0000 - precision: 0.9632 - recall: 0.7258 - val_loss: 3.7186 - val_tp: 44.0000 - val_fp: 2.0000 - val_tn: 215.0000 - val_fn: 19.0000 - val_precision: 0.9565 - val_recall: 0.6984\n",
      "Epoch 26/120\n",
      "21/21 [==============================] - 1s 44ms/step - loss: 3.7313 - tp: 535.0000 - fp: 20.0000 - tn: 702.0000 - fn: 187.0000 - precision: 0.9640 - recall: 0.7410 - val_loss: 3.7460 - val_tp: 43.0000 - val_fp: 1.0000 - val_tn: 216.0000 - val_fn: 20.0000 - val_precision: 0.9773 - val_recall: 0.6825\n",
      "Epoch 27/120\n",
      "21/21 [==============================] - 1s 42ms/step - loss: 3.7299 - tp: 541.0000 - fp: 22.0000 - tn: 700.0000 - fn: 181.0000 - precision: 0.9609 - recall: 0.7493 - val_loss: 3.6993 - val_tp: 43.0000 - val_fp: 1.0000 - val_tn: 216.0000 - val_fn: 20.0000 - val_precision: 0.9773 - val_recall: 0.6825\n",
      "Epoch 28/120\n",
      "21/21 [==============================] - 1s 42ms/step - loss: 3.7340 - tp: 535.0000 - fp: 20.0000 - tn: 702.0000 - fn: 187.0000 - precision: 0.9640 - recall: 0.7410 - val_loss: 3.7325 - val_tp: 46.0000 - val_fp: 1.0000 - val_tn: 216.0000 - val_fn: 17.0000 - val_precision: 0.9787 - val_recall: 0.7302\n",
      "Epoch 29/120\n",
      "21/21 [==============================] - 1s 42ms/step - loss: 3.7331 - tp: 533.0000 - fp: 20.0000 - tn: 702.0000 - fn: 189.0000 - precision: 0.9638 - recall: 0.7382 - val_loss: 3.7141 - val_tp: 47.0000 - val_fp: 2.0000 - val_tn: 215.0000 - val_fn: 16.0000 - val_precision: 0.9592 - val_recall: 0.7460\n",
      "Epoch 30/120\n",
      "21/21 [==============================] - 1s 42ms/step - loss: 3.7371 - tp: 548.0000 - fp: 19.0000 - tn: 703.0000 - fn: 174.0000 - precision: 0.9665 - recall: 0.7590 - val_loss: 3.7550 - val_tp: 45.0000 - val_fp: 1.0000 - val_tn: 216.0000 - val_fn: 18.0000 - val_precision: 0.9783 - val_recall: 0.7143\n",
      "Epoch 31/120\n",
      "21/21 [==============================] - 1s 43ms/step - loss: 3.7332 - tp: 550.0000 - fp: 20.0000 - tn: 702.0000 - fn: 172.0000 - precision: 0.9649 - recall: 0.7618 - val_loss: 3.7323 - val_tp: 49.0000 - val_fp: 2.0000 - val_tn: 215.0000 - val_fn: 14.0000 - val_precision: 0.9608 - val_recall: 0.7778\n",
      "Epoch 32/120\n",
      "21/21 [==============================] - 1s 45ms/step - loss: 3.7348 - tp: 559.0000 - fp: 19.0000 - tn: 703.0000 - fn: 163.0000 - precision: 0.9671 - recall: 0.7742 - val_loss: 3.7304 - val_tp: 46.0000 - val_fp: 1.0000 - val_tn: 216.0000 - val_fn: 17.0000 - val_precision: 0.9787 - val_recall: 0.7302\n",
      "Epoch 33/120\n",
      "21/21 [==============================] - 1s 43ms/step - loss: 3.7342 - tp: 573.0000 - fp: 19.0000 - tn: 703.0000 - fn: 149.0000 - precision: 0.9679 - recall: 0.7936 - val_loss: 3.7162 - val_tp: 48.0000 - val_fp: 1.0000 - val_tn: 216.0000 - val_fn: 15.0000 - val_precision: 0.9796 - val_recall: 0.7619\n",
      "Epoch 34/120\n",
      "21/21 [==============================] - 1s 47ms/step - loss: 3.7384 - tp: 574.0000 - fp: 19.0000 - tn: 703.0000 - fn: 148.0000 - precision: 0.9680 - recall: 0.7950 - val_loss: 3.7575 - val_tp: 48.0000 - val_fp: 1.0000 - val_tn: 216.0000 - val_fn: 15.0000 - val_precision: 0.9796 - val_recall: 0.7619\n",
      "Epoch 35/120\n",
      "21/21 [==============================] - 1s 42ms/step - loss: 3.7324 - tp: 575.0000 - fp: 20.0000 - tn: 702.0000 - fn: 147.0000 - precision: 0.9664 - recall: 0.7964 - val_loss: 3.7336 - val_tp: 49.0000 - val_fp: 1.0000 - val_tn: 216.0000 - val_fn: 14.0000 - val_precision: 0.9800 - val_recall: 0.7778\n",
      "Epoch 36/120\n",
      "21/21 [==============================] - 1s 42ms/step - loss: 3.7334 - tp: 589.0000 - fp: 19.0000 - tn: 703.0000 - fn: 133.0000 - precision: 0.9688 - recall: 0.8158 - val_loss: 3.7352 - val_tp: 51.0000 - val_fp: 1.0000 - val_tn: 216.0000 - val_fn: 12.0000 - val_precision: 0.9808 - val_recall: 0.8095\n",
      "Epoch 37/120\n",
      "21/21 [==============================] - 1s 42ms/step - loss: 3.7373 - tp: 594.0000 - fp: 19.0000 - tn: 703.0000 - fn: 128.0000 - precision: 0.9690 - recall: 0.8227 - val_loss: 3.6994 - val_tp: 54.0000 - val_fp: 1.0000 - val_tn: 216.0000 - val_fn: 9.0000 - val_precision: 0.9818 - val_recall: 0.8571\n",
      "Epoch 38/120\n",
      "21/21 [==============================] - 1s 43ms/step - loss: 3.7374 - tp: 612.0000 - fp: 19.0000 - tn: 703.0000 - fn: 110.0000 - precision: 0.9699 - recall: 0.8476 - val_loss: 3.7538 - val_tp: 53.0000 - val_fp: 1.0000 - val_tn: 216.0000 - val_fn: 10.0000 - val_precision: 0.9815 - val_recall: 0.8413\n",
      "Epoch 39/120\n",
      "21/21 [==============================] - 1s 43ms/step - loss: 3.7350 - tp: 604.0000 - fp: 19.0000 - tn: 703.0000 - fn: 118.0000 - precision: 0.9695 - recall: 0.8366 - val_loss: 3.7282 - val_tp: 52.0000 - val_fp: 1.0000 - val_tn: 216.0000 - val_fn: 11.0000 - val_precision: 0.9811 - val_recall: 0.8254\n",
      "Epoch 40/120\n",
      "21/21 [==============================] - 1s 43ms/step - loss: 3.7397 - tp: 620.0000 - fp: 19.0000 - tn: 703.0000 - fn: 102.0000 - precision: 0.9703 - recall: 0.8587 - val_loss: 3.7546 - val_tp: 50.0000 - val_fp: 1.0000 - val_tn: 216.0000 - val_fn: 13.0000 - val_precision: 0.9804 - val_recall: 0.7937\n",
      "Epoch 41/120\n",
      "21/21 [==============================] - 1s 43ms/step - loss: 3.7387 - tp: 624.0000 - fp: 19.0000 - tn: 703.0000 - fn: 98.0000 - precision: 0.9705 - recall: 0.8643 - val_loss: 3.7147 - val_tp: 52.0000 - val_fp: 1.0000 - val_tn: 216.0000 - val_fn: 11.0000 - val_precision: 0.9811 - val_recall: 0.8254\n",
      "Epoch 42/120\n",
      "21/21 [==============================] - 1s 42ms/step - loss: 3.7384 - tp: 627.0000 - fp: 19.0000 - tn: 703.0000 - fn: 95.0000 - precision: 0.9706 - recall: 0.8684 - val_loss: 3.7394 - val_tp: 48.0000 - val_fp: 1.0000 - val_tn: 216.0000 - val_fn: 15.0000 - val_precision: 0.9796 - val_recall: 0.7619\n",
      "Epoch 43/120\n",
      "21/21 [==============================] - 1s 42ms/step - loss: 3.7362 - tp: 639.0000 - fp: 19.0000 - tn: 703.0000 - fn: 83.0000 - precision: 0.9711 - recall: 0.8850 - val_loss: 3.7230 - val_tp: 53.0000 - val_fp: 1.0000 - val_tn: 216.0000 - val_fn: 10.0000 - val_precision: 0.9815 - val_recall: 0.8413\n",
      "Epoch 44/120\n",
      "21/21 [==============================] - 1s 43ms/step - loss: 3.7365 - tp: 632.0000 - fp: 19.0000 - tn: 703.0000 - fn: 90.0000 - precision: 0.9708 - recall: 0.8753 - val_loss: 3.7471 - val_tp: 56.0000 - val_fp: 1.0000 - val_tn: 216.0000 - val_fn: 7.0000 - val_precision: 0.9825 - val_recall: 0.8889\n",
      "Epoch 45/120\n",
      "21/21 [==============================] - 1s 41ms/step - loss: 3.7375 - tp: 648.0000 - fp: 19.0000 - tn: 703.0000 - fn: 74.0000 - precision: 0.9715 - recall: 0.8975 - val_loss: 3.7076 - val_tp: 51.0000 - val_fp: 1.0000 - val_tn: 216.0000 - val_fn: 12.0000 - val_precision: 0.9808 - val_recall: 0.8095\n",
      "Epoch 46/120\n",
      "21/21 [==============================] - 1s 42ms/step - loss: 3.7355 - tp: 633.0000 - fp: 20.0000 - tn: 702.0000 - fn: 89.0000 - precision: 0.9694 - recall: 0.8767 - val_loss: 3.7675 - val_tp: 52.0000 - val_fp: 1.0000 - val_tn: 216.0000 - val_fn: 11.0000 - val_precision: 0.9811 - val_recall: 0.8254\n",
      "Epoch 47/120\n",
      "21/21 [==============================] - 1s 41ms/step - loss: 3.7487 - tp: 638.0000 - fp: 20.0000 - tn: 702.0000 - fn: 84.0000 - precision: 0.9696 - recall: 0.8837 - val_loss: 3.7136 - val_tp: 54.0000 - val_fp: 1.0000 - val_tn: 216.0000 - val_fn: 9.0000 - val_precision: 0.9818 - val_recall: 0.8571\n",
      "Epoch 48/120\n",
      "21/21 [==============================] - 1s 41ms/step - loss: 3.7333 - tp: 657.0000 - fp: 19.0000 - tn: 703.0000 - fn: 65.0000 - precision: 0.9719 - recall: 0.9100 - val_loss: 3.7281 - val_tp: 53.0000 - val_fp: 1.0000 - val_tn: 216.0000 - val_fn: 10.0000 - val_precision: 0.9815 - val_recall: 0.8413\n",
      "Epoch 49/120\n",
      "21/21 [==============================] - 1s 42ms/step - loss: 3.7364 - tp: 647.0000 - fp: 19.0000 - tn: 703.0000 - fn: 75.0000 - precision: 0.9715 - recall: 0.8961 - val_loss: 3.7263 - val_tp: 60.0000 - val_fp: 1.0000 - val_tn: 216.0000 - val_fn: 3.0000 - val_precision: 0.9836 - val_recall: 0.9524\n",
      "Epoch 50/120\n",
      "21/21 [==============================] - 1s 41ms/step - loss: 3.7474 - tp: 659.0000 - fp: 18.0000 - tn: 704.0000 - fn: 63.0000 - precision: 0.9734 - recall: 0.9127 - val_loss: 3.7693 - val_tp: 56.0000 - val_fp: 1.0000 - val_tn: 216.0000 - val_fn: 7.0000 - val_precision: 0.9825 - val_recall: 0.8889\n",
      "Epoch 51/120\n",
      "21/21 [==============================] - 1s 42ms/step - loss: 3.7374 - tp: 655.0000 - fp: 19.0000 - tn: 703.0000 - fn: 67.0000 - precision: 0.9718 - recall: 0.9072 - val_loss: 3.7382 - val_tp: 58.0000 - val_fp: 1.0000 - val_tn: 216.0000 - val_fn: 5.0000 - val_precision: 0.9831 - val_recall: 0.9206\n",
      "Epoch 52/120\n",
      "21/21 [==============================] - 1s 42ms/step - loss: 3.7426 - tp: 665.0000 - fp: 19.0000 - tn: 703.0000 - fn: 57.0000 - precision: 0.9722 - recall: 0.9211 - val_loss: 3.7286 - val_tp: 57.0000 - val_fp: 1.0000 - val_tn: 216.0000 - val_fn: 6.0000 - val_precision: 0.9828 - val_recall: 0.9048\n",
      "Epoch 53/120\n",
      "21/21 [==============================] - 1s 42ms/step - loss: 3.7439 - tp: 662.0000 - fp: 19.0000 - tn: 703.0000 - fn: 60.0000 - precision: 0.9721 - recall: 0.9169 - val_loss: 3.7239 - val_tp: 57.0000 - val_fp: 1.0000 - val_tn: 216.0000 - val_fn: 6.0000 - val_precision: 0.9828 - val_recall: 0.9048\n",
      "Epoch 54/120\n",
      "21/21 [==============================] - 1s 43ms/step - loss: 3.7375 - tp: 671.0000 - fp: 19.0000 - tn: 703.0000 - fn: 51.0000 - precision: 0.9725 - recall: 0.9294 - val_loss: 3.7562 - val_tp: 57.0000 - val_fp: 1.0000 - val_tn: 216.0000 - val_fn: 6.0000 - val_precision: 0.9828 - val_recall: 0.9048\n",
      "Epoch 55/120\n",
      "21/21 [==============================] - 1s 43ms/step - loss: 3.7446 - tp: 670.0000 - fp: 19.0000 - tn: 703.0000 - fn: 52.0000 - precision: 0.9724 - recall: 0.9280 - val_loss: 3.7368 - val_tp: 56.0000 - val_fp: 1.0000 - val_tn: 216.0000 - val_fn: 7.0000 - val_precision: 0.9825 - val_recall: 0.8889\n",
      "Epoch 56/120\n",
      "21/21 [==============================] - 1s 42ms/step - loss: 3.7435 - tp: 676.0000 - fp: 20.0000 - tn: 702.0000 - fn: 46.0000 - precision: 0.9713 - recall: 0.9363 - val_loss: 3.7512 - val_tp: 58.0000 - val_fp: 1.0000 - val_tn: 216.0000 - val_fn: 5.0000 - val_precision: 0.9831 - val_recall: 0.9206\n",
      "Epoch 57/120\n",
      "21/21 [==============================] - 1s 41ms/step - loss: 3.7418 - tp: 669.0000 - fp: 19.0000 - tn: 703.0000 - fn: 53.0000 - precision: 0.9724 - recall: 0.9266 - val_loss: 3.6996 - val_tp: 59.0000 - val_fp: 1.0000 - val_tn: 216.0000 - val_fn: 4.0000 - val_precision: 0.9833 - val_recall: 0.9365\n",
      "Epoch 58/120\n",
      "21/21 [==============================] - 1s 43ms/step - loss: 3.7280 - tp: 682.0000 - fp: 18.0000 - tn: 704.0000 - fn: 40.0000 - precision: 0.9743 - recall: 0.9446 - val_loss: 3.7532 - val_tp: 59.0000 - val_fp: 1.0000 - val_tn: 216.0000 - val_fn: 4.0000 - val_precision: 0.9833 - val_recall: 0.9365\n",
      "Epoch 59/120\n",
      "21/21 [==============================] - 1s 43ms/step - loss: 3.7345 - tp: 683.0000 - fp: 20.0000 - tn: 702.0000 - fn: 39.0000 - precision: 0.9716 - recall: 0.9460 - val_loss: 3.7264 - val_tp: 60.0000 - val_fp: 1.0000 - val_tn: 216.0000 - val_fn: 3.0000 - val_precision: 0.9836 - val_recall: 0.9524\n",
      "Epoch 60/120\n",
      "21/21 [==============================] - 1s 42ms/step - loss: 3.7488 - tp: 673.0000 - fp: 21.0000 - tn: 701.0000 - fn: 49.0000 - precision: 0.9697 - recall: 0.9321 - val_loss: 3.7884 - val_tp: 62.0000 - val_fp: 2.0000 - val_tn: 215.0000 - val_fn: 1.0000 - val_precision: 0.9688 - val_recall: 0.9841\n",
      "Epoch 61/120\n",
      "21/21 [==============================] - 1s 42ms/step - loss: 3.7865 - tp: 686.0000 - fp: 21.0000 - tn: 701.0000 - fn: 36.0000 - precision: 0.9703 - recall: 0.9501 - val_loss: 3.7241 - val_tp: 60.0000 - val_fp: 1.0000 - val_tn: 216.0000 - val_fn: 3.0000 - val_precision: 0.9836 - val_recall: 0.9524\n",
      "Epoch 62/120\n",
      "21/21 [==============================] - 1s 42ms/step - loss: 3.7470 - tp: 678.0000 - fp: 18.0000 - tn: 704.0000 - fn: 44.0000 - precision: 0.9741 - recall: 0.9391 - val_loss: 3.7617 - val_tp: 61.0000 - val_fp: 1.0000 - val_tn: 216.0000 - val_fn: 2.0000 - val_precision: 0.9839 - val_recall: 0.9683\n",
      "Epoch 63/120\n",
      "21/21 [==============================] - 1s 43ms/step - loss: 3.7500 - tp: 687.0000 - fp: 16.0000 - tn: 706.0000 - fn: 35.0000 - precision: 0.9772 - recall: 0.9515 - val_loss: 3.7266 - val_tp: 56.0000 - val_fp: 1.0000 - val_tn: 216.0000 - val_fn: 7.0000 - val_precision: 0.9825 - val_recall: 0.8889\n",
      "Epoch 64/120\n",
      "21/21 [==============================] - 1s 42ms/step - loss: 3.7505 - tp: 681.0000 - fp: 19.0000 - tn: 703.0000 - fn: 41.0000 - precision: 0.9729 - recall: 0.9432 - val_loss: 3.7622 - val_tp: 58.0000 - val_fp: 1.0000 - val_tn: 216.0000 - val_fn: 5.0000 - val_precision: 0.9831 - val_recall: 0.9206\n",
      "Epoch 65/120\n",
      "21/21 [==============================] - 1s 42ms/step - loss: 3.7462 - tp: 682.0000 - fp: 19.0000 - tn: 703.0000 - fn: 40.0000 - precision: 0.9729 - recall: 0.9446 - val_loss: 3.7186 - val_tp: 59.0000 - val_fp: 1.0000 - val_tn: 216.0000 - val_fn: 4.0000 - val_precision: 0.9833 - val_recall: 0.9365\n",
      "Epoch 66/120\n",
      "21/21 [==============================] - 1s 43ms/step - loss: 3.7645 - tp: 681.0000 - fp: 21.0000 - tn: 701.0000 - fn: 41.0000 - precision: 0.9701 - recall: 0.9432 - val_loss: 3.7681 - val_tp: 58.0000 - val_fp: 1.0000 - val_tn: 216.0000 - val_fn: 5.0000 - val_precision: 0.9831 - val_recall: 0.9206\n",
      "Epoch 67/120\n",
      "21/21 [==============================] - 1s 42ms/step - loss: 3.7365 - tp: 690.0000 - fp: 17.0000 - tn: 705.0000 - fn: 32.0000 - precision: 0.9760 - recall: 0.9557 - val_loss: 3.6999 - val_tp: 53.0000 - val_fp: 1.0000 - val_tn: 216.0000 - val_fn: 10.0000 - val_precision: 0.9815 - val_recall: 0.8413\n",
      "Epoch 68/120\n",
      "21/21 [==============================] - 1s 42ms/step - loss: 3.7357 - tp: 680.0000 - fp: 21.0000 - tn: 701.0000 - fn: 42.0000 - precision: 0.9700 - recall: 0.9418 - val_loss: 3.7284 - val_tp: 60.0000 - val_fp: 1.0000 - val_tn: 216.0000 - val_fn: 3.0000 - val_precision: 0.9836 - val_recall: 0.9524\n",
      "Epoch 69/120\n",
      "21/21 [==============================] - 1s 43ms/step - loss: 3.7386 - tp: 680.0000 - fp: 17.0000 - tn: 705.0000 - fn: 42.0000 - precision: 0.9756 - recall: 0.9418 - val_loss: 3.7730 - val_tp: 60.0000 - val_fp: 2.0000 - val_tn: 215.0000 - val_fn: 3.0000 - val_precision: 0.9677 - val_recall: 0.9524\n",
      "Epoch 70/120\n",
      "21/21 [==============================] - 1s 42ms/step - loss: 3.7785 - tp: 685.0000 - fp: 20.0000 - tn: 702.0000 - fn: 37.0000 - precision: 0.9716 - recall: 0.9488 - val_loss: 3.7706 - val_tp: 61.0000 - val_fp: 1.0000 - val_tn: 216.0000 - val_fn: 2.0000 - val_precision: 0.9839 - val_recall: 0.9683\n",
      "Epoch 71/120\n",
      "21/21 [==============================] - 1s 42ms/step - loss: 3.7512 - tp: 686.0000 - fp: 18.0000 - tn: 704.0000 - fn: 36.0000 - precision: 0.9744 - recall: 0.9501 - val_loss: 3.7652 - val_tp: 60.0000 - val_fp: 2.0000 - val_tn: 215.0000 - val_fn: 3.0000 - val_precision: 0.9677 - val_recall: 0.9524\n",
      "Epoch 72/120\n",
      "21/21 [==============================] - ETA: 0s - loss: 3.7682 - tp: 691.0000 - fp: 17.0000 - tn: 705.0000 - fn: 31.0000 - precision: 0.9760 - recall: 0.9571Stoping on set citeria\n",
      "f1 training:  0.9664336012558048\n",
      "f1 testing:  0.9838709994902461\n",
      "21/21 [==============================] - 1s 42ms/step - loss: 3.7682 - tp: 691.0000 - fp: 17.0000 - tn: 705.0000 - fn: 31.0000 - precision: 0.9760 - recall: 0.9571 - val_loss: 3.7374 - val_tp: 61.0000 - val_fp: 0.0000e+00 - val_tn: 217.0000 - val_fn: 2.0000 - val_precision: 1.0000 - val_recall: 0.9683\n",
      "Early stopping\n"
     ]
    }
   ],
   "source": [
    "num_epochs = 120\n",
    "history = model.fit(training_split, train_result,\n",
    "                    epochs=num_epochs,\n",
    "                    batch_size=70,\n",
    "                    validation_data=(test_split, test_result),\n",
    "                    callbacks=[EarlyStoppingMonitor()])\n",
    "# ,callbacks=[tf.keras.callbacks.EarlyStopping()]"
   ],
   "metadata": {
    "collapsed": false,
    "pycharm": {
     "name": "#%%\n"
    }
   }
  },
  {
   "cell_type": "code",
   "execution_count": 265,
   "outputs": [
    {
     "data": {
      "text/plain": "[<matplotlib.lines.Line2D at 0x29af24430>]"
     },
     "execution_count": 265,
     "metadata": {},
     "output_type": "execute_result"
    },
    {
     "data": {
      "text/plain": "<Figure size 640x480 with 2 Axes>",
      "image/png": "[encoded data removed]"
     },
     "metadata": {},
     "output_type": "display_data"
    }
   ],
   "source": [
    "fig, (ax1,ax2) = plt.subplots(2,1)\n",
    "testloss = np.array(history.history['val_loss']).reshape(len(history.history['val_loss']),1)\n",
    "trainloss = np.array(history.history['loss']).reshape(len(history.history['loss']),1)\n",
    "\n",
    "ax1.plot(history.epoch, testloss, '-')\n",
    "ax1.plot(history.epoch, trainloss, '--')\n",
    "# ax1.ylabel('loss')\n",
    "# ax1.xlabel('epoch')\n",
    "\n",
    "train_precision = np.array(history.history['precision']).reshape(len(history.history['loss']),1)\n",
    "train_recall= np.array(history.history['recall']).reshape(len(history.history['loss']),1)\n",
    "j =( 2 * train_precision * train_recall) / (train_precision+train_recall)\n",
    "\n",
    "test_precission = np.array(history.history['val_precision']).reshape(len(history.history['loss']),1)\n",
    "test_recall = np.array(history.history['val_recall']).reshape(len(history.history['loss']),1)\n",
    "k = (2 * test_precission * test_recall )/ (test_precission+test_recall)\n",
    "# plt.plot(history.epoch,j, '-')\n",
    "# plt.plot(k,'--')\n",
    "\n",
    "ax2.scatter(history.epoch, k)\n",
    "ax2.scatter(history.epoch, j)\n",
    "ax2.plot(history.epoch, k,'-')\n",
    "ax2.plot(history.epoch, j,'--')\n",
    "# ax3.plot(j+3)\n",
    "# ax3.plot(trainloss,'tab:blue')"
   ],
   "metadata": {
    "collapsed": false,
    "pycharm": {
     "name": "#%%\n"
    }
   }
  },
  {
   "cell_type": "code",
   "execution_count": 266,
   "outputs": [],
   "source": [
    "table_test = pd.read_table('../drug-discovery/1663769555_8653905_test.txt', names=['sequence'])"
   ],
   "metadata": {
    "collapsed": false,
    "pycharm": {
     "name": "#%%\n"
    }
   }
  },
  {
   "cell_type": "code",
   "execution_count": 267,
   "outputs": [],
   "source": [
    "unlabeled_test_sequence = vectorizer_best.transform(table_test.sequence).toarray()"
   ],
   "metadata": {
    "collapsed": false,
    "pycharm": {
     "name": "#%%\n"
    }
   }
  },
  {
   "cell_type": "code",
   "execution_count": 268,
   "outputs": [
    {
     "name": "stdout",
     "output_type": "stream",
     "text": [
      "(350, 84482)\n"
     ]
    }
   ],
   "source": [
    "print(unlabeled_test_sequence.shape)"
   ],
   "metadata": {
    "collapsed": false,
    "pycharm": {
     "name": "#%%\n"
    }
   }
  },
  {
   "cell_type": "code",
   "execution_count": 269,
   "outputs": [
    {
     "name": "stdout",
     "output_type": "stream",
     "text": [
      " 6/11 [===============>..............] - ETA: 0s"
     ]
    },
    {
     "name": "stderr",
     "output_type": "stream",
     "text": [
      "2022-10-09 16:54:19.768349: I tensorflow/core/grappler/optimizers/custom_graph_optimizer_registry.cc:114] Plugin optimizer for device_type GPU is enabled.\n"
     ]
    },
    {
     "name": "stdout",
     "output_type": "stream",
     "text": [
      "11/11 [==============================] - 0s 28ms/step\n"
     ]
    }
   ],
   "source": [
    "predicted = model.predict(unlabeled_test_sequence)"
   ],
   "metadata": {
    "collapsed": false,
    "pycharm": {
     "name": "#%%\n"
    }
   }
  },
  {
   "cell_type": "code",
   "execution_count": 270,
   "outputs": [],
   "source": [
    "# for i in range(3):\n",
    "final_result = [1 if i>=.5 else 0 for i in predicted ]"
   ],
   "metadata": {
    "collapsed": false,
    "pycharm": {
     "name": "#%%\n"
    }
   }
  },
  {
   "cell_type": "code",
   "execution_count": 271,
   "outputs": [
    {
     "name": "stdout",
     "output_type": "stream",
     "text": [
      "350\n"
     ]
    }
   ],
   "source": [
    "print(len(final_result))"
   ],
   "metadata": {
    "collapsed": false,
    "pycharm": {
     "name": "#%%\n"
    }
   }
  },
  {
   "cell_type": "code",
   "execution_count": 273,
   "outputs": [],
   "source": [
    "import csv\n",
    "outfile = open('./results.csv','w')\n",
    "out = csv.writer(outfile)\n",
    "out.writerows(map(lambda x: [x], final_result))\n",
    "outfile.close()"
   ],
   "metadata": {
    "collapsed": false,
    "pycharm": {
     "name": "#%%\n"
    }
   }
  },
  {
   "cell_type": "code",
   "execution_count": null,
   "outputs": [],
   "source": [],
   "metadata": {
    "collapsed": false,
    "pycharm": {
     "name": "#%%\n"
    }
   }
  }
 ],
 "metadata": {
  "kernelspec": {
   "display_name": "Python 3",
   "language": "python",
   "name": "python3"
  },
  "language_info": {
   "codemirror_mode": {
    "name": "ipython",
    "version": 2
   },
   "file_extension": ".py",
   "mimetype": "text/x-python",
   "name": "python",
   "nbconvert_exporter": "python",
   "pygments_lexer": "ipython2",
   "version": "2.7.6"
  }
 },
 "nbformat": 4,
 "nbformat_minor": 0
}