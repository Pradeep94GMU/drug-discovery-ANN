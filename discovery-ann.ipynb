{
 "cells": [
  {
   "cell_type": "code",
   "execution_count": 790,
   "metadata": {
    "collapsed": true,
    "pycharm": {
     "name": "#%%\n"
    }
   },
   "outputs": [],
   "source": [
    "import tensorflow as tf\n",
    "import pandas as pd\n",
    "import numpy as np\n",
    "import matplotlib.pyplot as plt\n",
    "import imblearn"
   ]
  },
  {
   "cell_type": "code",
   "execution_count": 791,
   "outputs": [],
   "source": [
    "table = pd.read_table('../drug-discovery/1663769555_8559356_train.txt', names=['binding','sequence'])"
   ],
   "metadata": {
    "collapsed": false,
    "pycharm": {
     "name": "#%%\n"
    }
   }
  },
  {
   "cell_type": "code",
   "execution_count": 792,
   "outputs": [],
   "source": [
    "from sklearn.feature_extraction.text import CountVectorizer\n",
    "def return_binary_vectorized_form(data_frame):\n",
    "    count_vectorizer = CountVectorizer(binary=True)\n",
    "    fitted_and_transformed = count_vectorizer.fit_transform(data_frame).toarray()\n",
    "    return count_vectorizer,  fitted_and_transformed\n"
   ],
   "metadata": {
    "collapsed": false,
    "pycharm": {
     "name": "#%%\n"
    }
   }
  },
  {
   "cell_type": "code",
   "execution_count": 793,
   "outputs": [],
   "source": [
    "from sklearn.feature_extraction.text import CountVectorizer\n",
    "def return_binary_vectorized_form_with_vocab(data_frame, vocab):\n",
    "    count_vectorizer = CountVectorizer(binary=True, vocabulary=vocab)\n",
    "    fitted_and_transformed = count_vectorizer.fit_transform(data_frame).toarray()\n",
    "    return count_vectorizer,  fitted_and_transformed"
   ],
   "metadata": {
    "collapsed": false,
    "pycharm": {
     "name": "#%%\n"
    }
   }
  },
  {
   "cell_type": "code",
   "execution_count": 845,
   "outputs": [],
   "source": [
    "from sklearn.feature_selection import SelectKBest, chi2\n",
    "def select_k_best_features(feature_set, target_values, fraction, feature_list):\n",
    "    select_bestselect_best = SelectKBest(score_func=chi2, k = int(len(feature_list)*fraction))\n",
    "    select_bestselect_best.fit(feature_set,target_values)\n",
    "    mask = select_bestselect_best.get_support()\n",
    "    k_best_featurs = feature_list[mask]\n",
    "    return k_best_featurs"
   ],
   "metadata": {
    "collapsed": false,
    "pycharm": {
     "name": "#%%\n"
    }
   }
  },
  {
   "cell_type": "code",
   "execution_count": 963,
   "outputs": [],
   "source": [
    "from sklearn.model_selection import train_test_split\n",
    "active_df = table.loc[table.binding == 1]\n",
    "not_active_df = table.loc[table.binding == 0]\n",
    "active_train, active_test, active_binding_train, active_binding_test = train_test_split(active_df.sequence, active_df.binding, shuffle=True, train_size= .20)\n",
    "not_active_train, not_active_test, not_active_binding_train, not_active_binding_test = train_test_split(not_active_df.sequence, not_active_df.binding, shuffle=True, train_size=.70)"
   ],
   "metadata": {
    "collapsed": false,
    "pycharm": {
     "name": "#%%\n"
    }
   }
  },
  {
   "cell_type": "markdown",
   "source": [],
   "metadata": {
    "collapsed": false,
    "pycharm": {
     "name": "#%% md\n"
    }
   }
  },
  {
   "cell_type": "code",
   "execution_count": 964,
   "outputs": [],
   "source": [
    "active_train_df = pd.DataFrame(active_train)\n",
    "active_test_df = pd.DataFrame(active_test)\n",
    "active_binding_train_df = pd.DataFrame(active_binding_train)\n",
    "active_binding_test_df = pd.DataFrame(active_binding_test)\n",
    "\n",
    "active_train_df['binding'] = active_binding_train_df['binding']\n",
    "active_test_df['binding'] = active_binding_test_df['binding']"
   ],
   "metadata": {
    "collapsed": false,
    "pycharm": {
     "name": "#%%\n"
    }
   }
  },
  {
   "cell_type": "code",
   "execution_count": 965,
   "outputs": [],
   "source": [
    "not_active_train_df = pd.DataFrame(not_active_train)\n",
    "not_active_test_df = pd.DataFrame(not_active_test)\n",
    "not_active_binding_train_df = pd.DataFrame(not_active_binding_train)\n",
    "not_active_binding_test_df = pd.DataFrame(not_active_binding_test)\n",
    "\n",
    "not_active_train_df['binding'] = not_active_binding_train_df['binding']\n",
    "not_active_test_df['binding'] = not_active_binding_test_df['binding']"
   ],
   "metadata": {
    "collapsed": false,
    "pycharm": {
     "name": "#%%\n"
    }
   }
  },
  {
   "cell_type": "code",
   "execution_count": 966,
   "outputs": [
    {
     "name": "stdout",
     "output_type": "stream",
     "text": [
      "0    505\n",
      "1     15\n",
      "Name: binding, dtype: int64\n",
      "0    217\n",
      "1     63\n",
      "Name: binding, dtype: int64\n"
     ]
    }
   ],
   "source": [
    "train_df = pd.concat([active_train_df,not_active_train_df]).reset_index()\n",
    "train_df = train_df.drop('index',axis=1)\n",
    "print(train_df.binding.value_counts())\n",
    "\n",
    "test_df = pd.concat([active_test_df,not_active_test_df]).reset_index()\n",
    "test_df = test_df.drop('index',axis=1)\n",
    "print(test_df.binding.value_counts())"
   ],
   "metadata": {
    "collapsed": false,
    "pycharm": {
     "name": "#%%\n"
    }
   }
  },
  {
   "cell_type": "code",
   "execution_count": 967,
   "outputs": [],
   "source": [
    "from imblearn.over_sampling import RandomOverSampler\n",
    "sampler = RandomOverSampler()\n",
    "x_sampled, y_sampled = sampler.fit_resample(np.array(table.sequence).reshape(-1,1),table.binding)\n",
    "# sampler = RandomOverSampler(sampling_strategy=.65)\n",
    "# x_test_sampled, y_test_sampled = sampler.fit_resample(np.array(test_df.sequence).reshape(-1,1),test_df.binding)"
   ],
   "metadata": {
    "collapsed": false,
    "pycharm": {
     "name": "#%%\n"
    }
   }
  },
  {
   "cell_type": "code",
   "execution_count": 968,
   "outputs": [
    {
     "name": "stdout",
     "output_type": "stream",
     "text": [
      "0    722\n",
      "1    722\n",
      "Name: binding, dtype: int64\n",
      "0    217\n",
      "1     63\n",
      "Name: binding, dtype: int64\n"
     ]
    }
   ],
   "source": [
    "final_train_set = pd.DataFrame(x_sampled, columns  =[\"sequence\"])\n",
    "final_train_set['binding'] = y_sampled\n",
    "print(final_train_set.binding.value_counts())\n",
    "\n",
    "final_test_set = pd.DataFrame(test_df.sequence, columns  =[\"sequence\"])\n",
    "final_test_set['binding'] = test_df.binding\n",
    "print(final_test_set.binding.value_counts())"
   ],
   "metadata": {
    "collapsed": false,
    "pycharm": {
     "name": "#%%\n"
    }
   }
  },
  {
   "cell_type": "code",
   "execution_count": 969,
   "outputs": [],
   "source": [
    "vectorizer_global, training_features = return_binary_vectorized_form(final_train_set.sequence)\n",
    "k_best_feature = select_k_best_features(training_features, final_train_set.binding,1, vectorizer_global.get_feature_names_out())\n",
    "vectorizer_k_best, training_split = return_binary_vectorized_form_with_vocab(final_train_set.sequence,k_best_feature)\n",
    "test_split = vectorizer_k_best.transform(final_test_set.sequence).toarray()"
   ],
   "metadata": {
    "collapsed": false,
    "pycharm": {
     "name": "#%%\n"
    }
   }
  },
  {
   "cell_type": "code",
   "execution_count": 970,
   "outputs": [
    {
     "name": "stdout",
     "output_type": "stream",
     "text": [
      "(1444, 84482)\n",
      "(280, 84482)\n"
     ]
    }
   ],
   "source": [
    "print(training_split.shape)\n",
    "print(test_split.shape)"
   ],
   "metadata": {
    "collapsed": false,
    "pycharm": {
     "name": "#%%\n"
    }
   }
  },
  {
   "cell_type": "code",
   "execution_count": 971,
   "outputs": [],
   "source": [
    "train_result = np.array(final_train_set.binding)\n",
    "test_result = np.array(final_test_set.binding)\n",
    "# print(train_result.shape)\n",
    "# print(test_result.shape)\n"
   ],
   "metadata": {
    "collapsed": false,
    "pycharm": {
     "name": "#%%\n"
    }
   }
  },
  {
   "cell_type": "code",
   "execution_count": 972,
   "outputs": [],
   "source": [
    "# from sklearn.decomposition import KernelPCA\n",
    "# pca = KernelPCA()\n",
    "# training_split = pca.fit_transform(training_split)\n",
    "# test_split = pca.transform(test_split)"
   ],
   "metadata": {
    "collapsed": false,
    "pycharm": {
     "name": "#%%\n"
    }
   }
  },
  {
   "cell_type": "code",
   "execution_count": 973,
   "outputs": [
    {
     "data": {
      "text/plain": "array([[0, 0, 0, ..., 0, 0, 0],\n       [0, 0, 0, ..., 0, 0, 0],\n       [0, 0, 0, ..., 0, 0, 0],\n       ...,\n       [0, 0, 0, ..., 0, 0, 0],\n       [0, 0, 0, ..., 0, 0, 0],\n       [0, 0, 0, ..., 0, 0, 0]])"
     },
     "execution_count": 973,
     "metadata": {},
     "output_type": "execute_result"
    }
   ],
   "source": [
    "training_split"
   ],
   "metadata": {
    "collapsed": false,
    "pycharm": {
     "name": "#%%\n"
    }
   }
  },
  {
   "cell_type": "code",
   "execution_count": 987,
   "outputs": [],
   "source": [
    "class EarlyStoppingMonitor(tf.keras.callbacks.Callback):\n",
    "    def __init__(self):\n",
    "        super(EarlyStoppingMonitor, self).__init__()\n",
    "        self.f1_train = None\n",
    "        self.f1_test = None\n",
    "        self.count =0\n",
    "\n",
    "    def on_epoch_end(self, epoch, logs=None):\n",
    "        current_train_precision = logs.get('precision')\n",
    "        current_train_recall= logs.get('recall')\n",
    "        current_test_precision = logs.get('val_precision')\n",
    "        current_test_recall= logs.get('val_recall')\n",
    "        if current_train_precision==0 or current_train_recall==0 or current_test_precision==0 or current_test_recall==0:\n",
    "            print(\"** Waring: precision reacall zero avoid exception **\")\n",
    "            return\n",
    "        self.f1_train = (2*current_train_precision*current_train_recall) / (current_train_precision+current_train_recall)\n",
    "        self.f1_test = (2*current_test_precision*current_test_recall) / (current_test_precision+current_test_recall)\n",
    "        if abs(self.f1_train-self.f1_test) < .01 and 1>self.f1_test>.98:\n",
    "            self.model.stop_training = True\n",
    "            print('stoping on set citeria')\n",
    "            print('f1 training: ', self.f1_train)\n",
    "            print('f1 testing: ' , self.f1_test)\n",
    "\n",
    "    def on_train_end(self, logs=None):\n",
    "        if self.model.stop_training:\n",
    "            print(\"Early stopping\")\n"
   ],
   "metadata": {
    "collapsed": false,
    "pycharm": {
     "name": "#%%\n"
    }
   }
  },
  {
   "cell_type": "code",
   "execution_count": 988,
   "outputs": [],
   "source": [
    "model = tf.keras.Sequential([\n",
    "    tf.keras.Input(shape=(training_split.shape[-1],)),\n",
    "    tf.keras.layers.Dense(26,activation='relu',kernel_regularizer=tf.keras.regularizers.L1(.015)),\n",
    "    tf.keras.layers.Dense(26,activation='relu',kernel_regularizer=tf.keras.regularizers.L1(.015)),\n",
    "    tf.keras.layers.Dense(1, activation='sigmoid')\n",
    "])"
   ],
   "metadata": {
    "collapsed": false,
    "pycharm": {
     "name": "#%%\n"
    }
   }
  },
  {
   "cell_type": "code",
   "execution_count": 989,
   "outputs": [],
   "source": [
    "METRICS = [\n",
    "      tf.keras.metrics.TruePositives(name='tp'),\n",
    "      tf.keras.metrics.FalsePositives(name='fp'),\n",
    "      tf.keras.metrics.TrueNegatives(name='tn'),\n",
    "      tf.keras.metrics.FalseNegatives(name='fn'),\n",
    "      tf.keras.metrics.Precision(name='precision'),\n",
    "      tf.keras.metrics.Recall(name='recall')\n",
    "]\n",
    "model.compile(loss=tf.keras.losses.BinaryFocalCrossentropy(), metrics=METRICS, optimizer='adam')"
   ],
   "metadata": {
    "collapsed": false,
    "pycharm": {
     "name": "#%%\n"
    }
   }
  },
  {
   "cell_type": "code",
   "execution_count": 990,
   "outputs": [
    {
     "name": "stdout",
     "output_type": "stream",
     "text": [
      "Epoch 1/200\n"
     ]
    },
    {
     "name": "stderr",
     "output_type": "stream",
     "text": [
      "2022-10-08 02:58:21.009952: I tensorflow/core/grappler/optimizers/custom_graph_optimizer_registry.cc:114] Plugin optimizer for device_type GPU is enabled.\n"
     ]
    },
    {
     "name": "stdout",
     "output_type": "stream",
     "text": [
      "21/21 [==============================] - ETA: 0s - loss: 40.8583 - tp: 590.0000 - fp: 175.0000 - tn: 547.0000 - fn: 132.0000 - precision: 0.7712 - recall: 0.8172"
     ]
    },
    {
     "name": "stderr",
     "output_type": "stream",
     "text": [
      "2022-10-08 02:58:23.845229: I tensorflow/core/grappler/optimizers/custom_graph_optimizer_registry.cc:114] Plugin optimizer for device_type GPU is enabled.\n"
     ]
    },
    {
     "name": "stdout",
     "output_type": "stream",
     "text": [
      "21/21 [==============================] - 4s 123ms/step - loss: 40.8583 - tp: 590.0000 - fp: 175.0000 - tn: 547.0000 - fn: 132.0000 - precision: 0.7712 - recall: 0.8172 - val_loss: 15.5451 - val_tp: 39.0000 - val_fp: 0.0000e+00 - val_tn: 217.0000 - val_fn: 24.0000 - val_precision: 1.0000 - val_recall: 0.6190\n",
      "Epoch 2/200\n",
      "21/21 [==============================] - 1s 55ms/step - loss: 10.0058 - tp: 434.0000 - fp: 5.0000 - tn: 717.0000 - fn: 288.0000 - precision: 0.9886 - recall: 0.6011 - val_loss: 6.9760 - val_tp: 28.0000 - val_fp: 0.0000e+00 - val_tn: 217.0000 - val_fn: 35.0000 - val_precision: 1.0000 - val_recall: 0.4444\n",
      "Epoch 3/200\n",
      "21/21 [==============================] - 1s 49ms/step - loss: 6.1900 - tp: 420.0000 - fp: 9.0000 - tn: 713.0000 - fn: 302.0000 - precision: 0.9790 - recall: 0.5817 - val_loss: 5.6470 - val_tp: 35.0000 - val_fp: 2.0000 - val_tn: 215.0000 - val_fn: 28.0000 - val_precision: 0.9459 - val_recall: 0.5556\n",
      "Epoch 4/200\n",
      "21/21 [==============================] - 1s 49ms/step - loss: 5.4418 - tp: 480.0000 - fp: 13.0000 - tn: 709.0000 - fn: 242.0000 - precision: 0.9736 - recall: 0.6648 - val_loss: 5.2773 - val_tp: 42.0000 - val_fp: 4.0000 - val_tn: 213.0000 - val_fn: 21.0000 - val_precision: 0.9130 - val_recall: 0.6667\n",
      "Epoch 5/200\n",
      "21/21 [==============================] - 1s 50ms/step - loss: 5.1542 - tp: 475.0000 - fp: 15.0000 - tn: 707.0000 - fn: 247.0000 - precision: 0.9694 - recall: 0.6579 - val_loss: 5.0370 - val_tp: 37.0000 - val_fp: 4.0000 - val_tn: 213.0000 - val_fn: 26.0000 - val_precision: 0.9024 - val_recall: 0.5873\n",
      "Epoch 6/200\n",
      "21/21 [==============================] - 1s 50ms/step - loss: 4.9422 - tp: 470.0000 - fp: 18.0000 - tn: 704.0000 - fn: 252.0000 - precision: 0.9631 - recall: 0.6510 - val_loss: 4.8551 - val_tp: 36.0000 - val_fp: 3.0000 - val_tn: 214.0000 - val_fn: 27.0000 - val_precision: 0.9231 - val_recall: 0.5714\n",
      "Epoch 7/200\n",
      "21/21 [==============================] - 1s 49ms/step - loss: 4.7695 - tp: 458.0000 - fp: 15.0000 - tn: 707.0000 - fn: 264.0000 - precision: 0.9683 - recall: 0.6343 - val_loss: 4.6642 - val_tp: 42.0000 - val_fp: 3.0000 - val_tn: 214.0000 - val_fn: 21.0000 - val_precision: 0.9333 - val_recall: 0.6667\n",
      "Epoch 8/200\n",
      "21/21 [==============================] - 1s 49ms/step - loss: 4.6006 - tp: 478.0000 - fp: 18.0000 - tn: 704.0000 - fn: 244.0000 - precision: 0.9637 - recall: 0.6620 - val_loss: 4.5166 - val_tp: 38.0000 - val_fp: 4.0000 - val_tn: 213.0000 - val_fn: 25.0000 - val_precision: 0.9048 - val_recall: 0.6032\n",
      "Epoch 9/200\n",
      "21/21 [==============================] - 1s 50ms/step - loss: 4.4627 - tp: 469.0000 - fp: 19.0000 - tn: 703.0000 - fn: 253.0000 - precision: 0.9611 - recall: 0.6496 - val_loss: 4.3865 - val_tp: 40.0000 - val_fp: 3.0000 - val_tn: 214.0000 - val_fn: 23.0000 - val_precision: 0.9302 - val_recall: 0.6349\n",
      "Epoch 10/200\n",
      "21/21 [==============================] - 1s 49ms/step - loss: 4.3369 - tp: 474.0000 - fp: 19.0000 - tn: 703.0000 - fn: 248.0000 - precision: 0.9615 - recall: 0.6565 - val_loss: 4.2778 - val_tp: 42.0000 - val_fp: 3.0000 - val_tn: 214.0000 - val_fn: 21.0000 - val_precision: 0.9333 - val_recall: 0.6667\n",
      "Epoch 11/200\n",
      "21/21 [==============================] - 1s 56ms/step - loss: 4.2091 - tp: 481.0000 - fp: 21.0000 - tn: 701.0000 - fn: 241.0000 - precision: 0.9582 - recall: 0.6662 - val_loss: 4.1401 - val_tp: 38.0000 - val_fp: 4.0000 - val_tn: 213.0000 - val_fn: 25.0000 - val_precision: 0.9048 - val_recall: 0.6032\n",
      "Epoch 12/200\n",
      "21/21 [==============================] - 1s 61ms/step - loss: 4.0858 - tp: 471.0000 - fp: 19.0000 - tn: 703.0000 - fn: 251.0000 - precision: 0.9612 - recall: 0.6524 - val_loss: 4.0174 - val_tp: 40.0000 - val_fp: 3.0000 - val_tn: 214.0000 - val_fn: 23.0000 - val_precision: 0.9302 - val_recall: 0.6349\n",
      "Epoch 13/200\n",
      "21/21 [==============================] - 1s 53ms/step - loss: 3.9745 - tp: 471.0000 - fp: 19.0000 - tn: 703.0000 - fn: 251.0000 - precision: 0.9612 - recall: 0.6524 - val_loss: 3.9150 - val_tp: 39.0000 - val_fp: 3.0000 - val_tn: 214.0000 - val_fn: 24.0000 - val_precision: 0.9286 - val_recall: 0.6190\n",
      "Epoch 14/200\n",
      "21/21 [==============================] - 1s 50ms/step - loss: 3.8819 - tp: 472.0000 - fp: 19.0000 - tn: 703.0000 - fn: 250.0000 - precision: 0.9613 - recall: 0.6537 - val_loss: 3.8446 - val_tp: 41.0000 - val_fp: 4.0000 - val_tn: 213.0000 - val_fn: 22.0000 - val_precision: 0.9111 - val_recall: 0.6508\n",
      "Epoch 15/200\n",
      "21/21 [==============================] - 1s 49ms/step - loss: 3.7973 - tp: 478.0000 - fp: 19.0000 - tn: 703.0000 - fn: 244.0000 - precision: 0.9618 - recall: 0.6620 - val_loss: 3.7528 - val_tp: 39.0000 - val_fp: 3.0000 - val_tn: 214.0000 - val_fn: 24.0000 - val_precision: 0.9286 - val_recall: 0.6190\n",
      "Epoch 16/200\n",
      "21/21 [==============================] - 1s 48ms/step - loss: 3.7205 - tp: 478.0000 - fp: 19.0000 - tn: 703.0000 - fn: 244.0000 - precision: 0.9618 - recall: 0.6620 - val_loss: 3.6794 - val_tp: 41.0000 - val_fp: 3.0000 - val_tn: 214.0000 - val_fn: 22.0000 - val_precision: 0.9318 - val_recall: 0.6508\n",
      "Epoch 17/200\n",
      "21/21 [==============================] - 1s 47ms/step - loss: 3.6666 - tp: 483.0000 - fp: 19.0000 - tn: 703.0000 - fn: 239.0000 - precision: 0.9622 - recall: 0.6690 - val_loss: 3.6387 - val_tp: 39.0000 - val_fp: 3.0000 - val_tn: 214.0000 - val_fn: 24.0000 - val_precision: 0.9286 - val_recall: 0.6190\n",
      "Epoch 18/200\n",
      "21/21 [==============================] - 1s 47ms/step - loss: 3.6511 - tp: 489.0000 - fp: 19.0000 - tn: 703.0000 - fn: 233.0000 - precision: 0.9626 - recall: 0.6773 - val_loss: 3.6419 - val_tp: 39.0000 - val_fp: 3.0000 - val_tn: 214.0000 - val_fn: 24.0000 - val_precision: 0.9286 - val_recall: 0.6190\n",
      "Epoch 19/200\n",
      "21/21 [==============================] - 1s 48ms/step - loss: 3.6484 - tp: 484.0000 - fp: 20.0000 - tn: 702.0000 - fn: 238.0000 - precision: 0.9603 - recall: 0.6704 - val_loss: 3.6437 - val_tp: 40.0000 - val_fp: 4.0000 - val_tn: 213.0000 - val_fn: 23.0000 - val_precision: 0.9091 - val_recall: 0.6349\n",
      "Epoch 20/200\n",
      "21/21 [==============================] - 1s 48ms/step - loss: 3.6492 - tp: 494.0000 - fp: 21.0000 - tn: 701.0000 - fn: 228.0000 - precision: 0.9592 - recall: 0.6842 - val_loss: 3.6509 - val_tp: 43.0000 - val_fp: 4.0000 - val_tn: 213.0000 - val_fn: 20.0000 - val_precision: 0.9149 - val_recall: 0.6825\n",
      "Epoch 21/200\n",
      "21/21 [==============================] - 1s 49ms/step - loss: 3.6502 - tp: 492.0000 - fp: 21.0000 - tn: 701.0000 - fn: 230.0000 - precision: 0.9591 - recall: 0.6814 - val_loss: 3.6382 - val_tp: 41.0000 - val_fp: 4.0000 - val_tn: 213.0000 - val_fn: 22.0000 - val_precision: 0.9111 - val_recall: 0.6508\n",
      "Epoch 22/200\n",
      "21/21 [==============================] - 1s 49ms/step - loss: 3.6468 - tp: 498.0000 - fp: 21.0000 - tn: 701.0000 - fn: 224.0000 - precision: 0.9595 - recall: 0.6898 - val_loss: 3.6448 - val_tp: 41.0000 - val_fp: 4.0000 - val_tn: 213.0000 - val_fn: 22.0000 - val_precision: 0.9111 - val_recall: 0.6508\n",
      "Epoch 23/200\n",
      "21/21 [==============================] - 1s 48ms/step - loss: 3.6510 - tp: 498.0000 - fp: 21.0000 - tn: 701.0000 - fn: 224.0000 - precision: 0.9595 - recall: 0.6898 - val_loss: 3.6431 - val_tp: 42.0000 - val_fp: 4.0000 - val_tn: 213.0000 - val_fn: 21.0000 - val_precision: 0.9130 - val_recall: 0.6667\n",
      "Epoch 24/200\n",
      "21/21 [==============================] - 1s 48ms/step - loss: 3.6476 - tp: 505.0000 - fp: 21.0000 - tn: 701.0000 - fn: 217.0000 - precision: 0.9601 - recall: 0.6994 - val_loss: 3.6494 - val_tp: 42.0000 - val_fp: 4.0000 - val_tn: 213.0000 - val_fn: 21.0000 - val_precision: 0.9130 - val_recall: 0.6667\n",
      "Epoch 25/200\n",
      "21/21 [==============================] - 1s 48ms/step - loss: 3.6520 - tp: 507.0000 - fp: 21.0000 - tn: 701.0000 - fn: 215.0000 - precision: 0.9602 - recall: 0.7022 - val_loss: 3.6386 - val_tp: 43.0000 - val_fp: 4.0000 - val_tn: 213.0000 - val_fn: 20.0000 - val_precision: 0.9149 - val_recall: 0.6825\n",
      "Epoch 26/200\n",
      "21/21 [==============================] - 1s 47ms/step - loss: 3.6511 - tp: 505.0000 - fp: 21.0000 - tn: 701.0000 - fn: 217.0000 - precision: 0.9601 - recall: 0.6994 - val_loss: 3.6569 - val_tp: 43.0000 - val_fp: 4.0000 - val_tn: 213.0000 - val_fn: 20.0000 - val_precision: 0.9149 - val_recall: 0.6825\n",
      "Epoch 27/200\n",
      "21/21 [==============================] - 1s 47ms/step - loss: 3.6515 - tp: 522.0000 - fp: 21.0000 - tn: 701.0000 - fn: 200.0000 - precision: 0.9613 - recall: 0.7230 - val_loss: 3.6424 - val_tp: 44.0000 - val_fp: 3.0000 - val_tn: 214.0000 - val_fn: 19.0000 - val_precision: 0.9362 - val_recall: 0.6984\n",
      "Epoch 28/200\n",
      "21/21 [==============================] - 1s 47ms/step - loss: 3.6554 - tp: 520.0000 - fp: 20.0000 - tn: 702.0000 - fn: 202.0000 - precision: 0.9630 - recall: 0.7202 - val_loss: 3.6439 - val_tp: 41.0000 - val_fp: 4.0000 - val_tn: 213.0000 - val_fn: 22.0000 - val_precision: 0.9111 - val_recall: 0.6508\n",
      "Epoch 29/200\n",
      "21/21 [==============================] - 1s 47ms/step - loss: 3.6507 - tp: 539.0000 - fp: 21.0000 - tn: 701.0000 - fn: 183.0000 - precision: 0.9625 - recall: 0.7465 - val_loss: 3.6378 - val_tp: 43.0000 - val_fp: 3.0000 - val_tn: 214.0000 - val_fn: 20.0000 - val_precision: 0.9348 - val_recall: 0.6825\n",
      "Epoch 30/200\n",
      "21/21 [==============================] - 1s 47ms/step - loss: 3.6528 - tp: 528.0000 - fp: 20.0000 - tn: 702.0000 - fn: 194.0000 - precision: 0.9635 - recall: 0.7313 - val_loss: 3.6599 - val_tp: 45.0000 - val_fp: 4.0000 - val_tn: 213.0000 - val_fn: 18.0000 - val_precision: 0.9184 - val_recall: 0.7143\n",
      "Epoch 31/200\n",
      "21/21 [==============================] - 1s 47ms/step - loss: 3.6498 - tp: 536.0000 - fp: 20.0000 - tn: 702.0000 - fn: 186.0000 - precision: 0.9640 - recall: 0.7424 - val_loss: 3.6488 - val_tp: 42.0000 - val_fp: 3.0000 - val_tn: 214.0000 - val_fn: 21.0000 - val_precision: 0.9333 - val_recall: 0.6667\n",
      "Epoch 32/200\n",
      "21/21 [==============================] - 1s 48ms/step - loss: 3.6531 - tp: 538.0000 - fp: 21.0000 - tn: 701.0000 - fn: 184.0000 - precision: 0.9624 - recall: 0.7452 - val_loss: 3.6422 - val_tp: 47.0000 - val_fp: 4.0000 - val_tn: 213.0000 - val_fn: 16.0000 - val_precision: 0.9216 - val_recall: 0.7460\n",
      "Epoch 33/200\n",
      "21/21 [==============================] - 1s 48ms/step - loss: 3.6562 - tp: 562.0000 - fp: 20.0000 - tn: 702.0000 - fn: 160.0000 - precision: 0.9656 - recall: 0.7784 - val_loss: 3.6578 - val_tp: 47.0000 - val_fp: 5.0000 - val_tn: 212.0000 - val_fn: 16.0000 - val_precision: 0.9038 - val_recall: 0.7460\n",
      "Epoch 34/200\n",
      "21/21 [==============================] - 1s 48ms/step - loss: 3.6555 - tp: 565.0000 - fp: 20.0000 - tn: 702.0000 - fn: 157.0000 - precision: 0.9658 - recall: 0.7825 - val_loss: 3.6527 - val_tp: 50.0000 - val_fp: 4.0000 - val_tn: 213.0000 - val_fn: 13.0000 - val_precision: 0.9259 - val_recall: 0.7937\n",
      "Epoch 35/200\n",
      "21/21 [==============================] - 1s 50ms/step - loss: 3.6527 - tp: 570.0000 - fp: 20.0000 - tn: 702.0000 - fn: 152.0000 - precision: 0.9661 - recall: 0.7895 - val_loss: 3.6539 - val_tp: 52.0000 - val_fp: 4.0000 - val_tn: 213.0000 - val_fn: 11.0000 - val_precision: 0.9286 - val_recall: 0.8254\n",
      "Epoch 36/200\n",
      "21/21 [==============================] - 1s 48ms/step - loss: 3.6553 - tp: 593.0000 - fp: 20.0000 - tn: 702.0000 - fn: 129.0000 - precision: 0.9674 - recall: 0.8213 - val_loss: 3.6455 - val_tp: 56.0000 - val_fp: 4.0000 - val_tn: 213.0000 - val_fn: 7.0000 - val_precision: 0.9333 - val_recall: 0.8889\n",
      "Epoch 37/200\n",
      "21/21 [==============================] - 1s 48ms/step - loss: 3.6520 - tp: 607.0000 - fp: 20.0000 - tn: 702.0000 - fn: 115.0000 - precision: 0.9681 - recall: 0.8407 - val_loss: 3.6321 - val_tp: 50.0000 - val_fp: 3.0000 - val_tn: 214.0000 - val_fn: 13.0000 - val_precision: 0.9434 - val_recall: 0.7937\n",
      "Epoch 38/200\n",
      "21/21 [==============================] - 1s 48ms/step - loss: 3.6541 - tp: 614.0000 - fp: 20.0000 - tn: 702.0000 - fn: 108.0000 - precision: 0.9685 - recall: 0.8504 - val_loss: 3.6747 - val_tp: 56.0000 - val_fp: 4.0000 - val_tn: 213.0000 - val_fn: 7.0000 - val_precision: 0.9333 - val_recall: 0.8889\n",
      "Epoch 39/200\n",
      "21/21 [==============================] - 1s 48ms/step - loss: 3.6588 - tp: 629.0000 - fp: 19.0000 - tn: 703.0000 - fn: 93.0000 - precision: 0.9707 - recall: 0.8712 - val_loss: 3.6456 - val_tp: 51.0000 - val_fp: 2.0000 - val_tn: 215.0000 - val_fn: 12.0000 - val_precision: 0.9623 - val_recall: 0.8095\n",
      "Epoch 40/200\n",
      "21/21 [==============================] - 1s 48ms/step - loss: 3.6584 - tp: 631.0000 - fp: 19.0000 - tn: 703.0000 - fn: 91.0000 - precision: 0.9708 - recall: 0.8740 - val_loss: 3.6559 - val_tp: 54.0000 - val_fp: 3.0000 - val_tn: 214.0000 - val_fn: 9.0000 - val_precision: 0.9474 - val_recall: 0.8571\n",
      "Epoch 41/200\n",
      "21/21 [==============================] - 1s 48ms/step - loss: 3.6683 - tp: 638.0000 - fp: 20.0000 - tn: 702.0000 - fn: 84.0000 - precision: 0.9696 - recall: 0.8837 - val_loss: 3.6639 - val_tp: 59.0000 - val_fp: 4.0000 - val_tn: 213.0000 - val_fn: 4.0000 - val_precision: 0.9365 - val_recall: 0.9365\n",
      "Epoch 42/200\n",
      "21/21 [==============================] - 1s 48ms/step - loss: 3.6621 - tp: 651.0000 - fp: 19.0000 - tn: 703.0000 - fn: 71.0000 - precision: 0.9716 - recall: 0.9017 - val_loss: 3.6499 - val_tp: 58.0000 - val_fp: 3.0000 - val_tn: 214.0000 - val_fn: 5.0000 - val_precision: 0.9508 - val_recall: 0.9206\n",
      "Epoch 43/200\n",
      "21/21 [==============================] - 1s 47ms/step - loss: 3.6532 - tp: 650.0000 - fp: 19.0000 - tn: 703.0000 - fn: 72.0000 - precision: 0.9716 - recall: 0.9003 - val_loss: 3.6521 - val_tp: 58.0000 - val_fp: 3.0000 - val_tn: 214.0000 - val_fn: 5.0000 - val_precision: 0.9508 - val_recall: 0.9206\n",
      "Epoch 44/200\n",
      "21/21 [==============================] - 1s 47ms/step - loss: 3.6509 - tp: 661.0000 - fp: 19.0000 - tn: 703.0000 - fn: 61.0000 - precision: 0.9721 - recall: 0.9155 - val_loss: 3.6621 - val_tp: 61.0000 - val_fp: 4.0000 - val_tn: 213.0000 - val_fn: 2.0000 - val_precision: 0.9385 - val_recall: 0.9683\n",
      "Epoch 45/200\n",
      "21/21 [==============================] - 1s 48ms/step - loss: 3.6790 - tp: 672.0000 - fp: 25.0000 - tn: 697.0000 - fn: 50.0000 - precision: 0.9641 - recall: 0.9307 - val_loss: 3.6948 - val_tp: 61.0000 - val_fp: 4.0000 - val_tn: 213.0000 - val_fn: 2.0000 - val_precision: 0.9385 - val_recall: 0.9683\n",
      "Epoch 46/200\n",
      "21/21 [==============================] - 1s 48ms/step - loss: 3.6786 - tp: 659.0000 - fp: 19.0000 - tn: 703.0000 - fn: 63.0000 - precision: 0.9720 - recall: 0.9127 - val_loss: 3.6923 - val_tp: 60.0000 - val_fp: 5.0000 - val_tn: 212.0000 - val_fn: 3.0000 - val_precision: 0.9231 - val_recall: 0.9524\n",
      "Epoch 47/200\n",
      "21/21 [==============================] - 1s 48ms/step - loss: 3.6856 - tp: 678.0000 - fp: 22.0000 - tn: 700.0000 - fn: 44.0000 - precision: 0.9686 - recall: 0.9391 - val_loss: 3.6577 - val_tp: 57.0000 - val_fp: 2.0000 - val_tn: 215.0000 - val_fn: 6.0000 - val_precision: 0.9661 - val_recall: 0.9048\n",
      "Epoch 48/200\n",
      "21/21 [==============================] - 1s 48ms/step - loss: 3.6723 - tp: 665.0000 - fp: 19.0000 - tn: 703.0000 - fn: 57.0000 - precision: 0.9722 - recall: 0.9211 - val_loss: 3.6610 - val_tp: 60.0000 - val_fp: 3.0000 - val_tn: 214.0000 - val_fn: 3.0000 - val_precision: 0.9524 - val_recall: 0.9524\n",
      "Epoch 49/200\n",
      "21/21 [==============================] - 1s 48ms/step - loss: 3.6643 - tp: 670.0000 - fp: 19.0000 - tn: 703.0000 - fn: 52.0000 - precision: 0.9724 - recall: 0.9280 - val_loss: 3.6503 - val_tp: 60.0000 - val_fp: 2.0000 - val_tn: 215.0000 - val_fn: 3.0000 - val_precision: 0.9677 - val_recall: 0.9524\n",
      "Epoch 50/200\n",
      "21/21 [==============================] - 1s 49ms/step - loss: 3.6646 - tp: 671.0000 - fp: 19.0000 - tn: 703.0000 - fn: 51.0000 - precision: 0.9725 - recall: 0.9294 - val_loss: 3.6754 - val_tp: 61.0000 - val_fp: 3.0000 - val_tn: 214.0000 - val_fn: 2.0000 - val_precision: 0.9531 - val_recall: 0.9683\n",
      "Epoch 51/200\n",
      "21/21 [==============================] - 1s 48ms/step - loss: 3.6701 - tp: 682.0000 - fp: 20.0000 - tn: 702.0000 - fn: 40.0000 - precision: 0.9715 - recall: 0.9446 - val_loss: 3.6438 - val_tp: 58.0000 - val_fp: 4.0000 - val_tn: 213.0000 - val_fn: 5.0000 - val_precision: 0.9355 - val_recall: 0.9206\n",
      "Epoch 52/200\n",
      "21/21 [==============================] - 1s 49ms/step - loss: 3.6517 - tp: 673.0000 - fp: 19.0000 - tn: 703.0000 - fn: 49.0000 - precision: 0.9725 - recall: 0.9321 - val_loss: 3.6478 - val_tp: 60.0000 - val_fp: 3.0000 - val_tn: 214.0000 - val_fn: 3.0000 - val_precision: 0.9524 - val_recall: 0.9524\n",
      "Epoch 53/200\n",
      "21/21 [==============================] - 1s 49ms/step - loss: 3.6558 - tp: 684.0000 - fp: 17.0000 - tn: 705.0000 - fn: 38.0000 - precision: 0.9757 - recall: 0.9474 - val_loss: 3.6467 - val_tp: 55.0000 - val_fp: 2.0000 - val_tn: 215.0000 - val_fn: 8.0000 - val_precision: 0.9649 - val_recall: 0.8730\n",
      "Epoch 54/200\n",
      "21/21 [==============================] - 1s 48ms/step - loss: 3.6577 - tp: 684.0000 - fp: 19.0000 - tn: 703.0000 - fn: 38.0000 - precision: 0.9730 - recall: 0.9474 - val_loss: 3.6501 - val_tp: 61.0000 - val_fp: 3.0000 - val_tn: 214.0000 - val_fn: 2.0000 - val_precision: 0.9531 - val_recall: 0.9683\n",
      "Epoch 55/200\n",
      "21/21 [==============================] - 1s 48ms/step - loss: 3.6541 - tp: 683.0000 - fp: 19.0000 - tn: 703.0000 - fn: 39.0000 - precision: 0.9729 - recall: 0.9460 - val_loss: 3.6773 - val_tp: 58.0000 - val_fp: 7.0000 - val_tn: 210.0000 - val_fn: 5.0000 - val_precision: 0.8923 - val_recall: 0.9206\n",
      "Epoch 56/200\n",
      "21/21 [==============================] - 1s 48ms/step - loss: 3.6607 - tp: 684.0000 - fp: 20.0000 - tn: 702.0000 - fn: 38.0000 - precision: 0.9716 - recall: 0.9474 - val_loss: 3.6448 - val_tp: 59.0000 - val_fp: 1.0000 - val_tn: 216.0000 - val_fn: 4.0000 - val_precision: 0.9833 - val_recall: 0.9365\n",
      "Epoch 57/200\n",
      "21/21 [==============================] - 1s 48ms/step - loss: 3.6575 - tp: 682.0000 - fp: 21.0000 - tn: 701.0000 - fn: 40.0000 - precision: 0.9701 - recall: 0.9446 - val_loss: 3.6342 - val_tp: 60.0000 - val_fp: 3.0000 - val_tn: 214.0000 - val_fn: 3.0000 - val_precision: 0.9524 - val_recall: 0.9524\n",
      "Epoch 58/200\n",
      "21/21 [==============================] - 1s 49ms/step - loss: 3.6863 - tp: 687.0000 - fp: 27.0000 - tn: 695.0000 - fn: 35.0000 - precision: 0.9622 - recall: 0.9515 - val_loss: 3.7761 - val_tp: 59.0000 - val_fp: 6.0000 - val_tn: 211.0000 - val_fn: 4.0000 - val_precision: 0.9077 - val_recall: 0.9365\n",
      "Epoch 59/200\n",
      "21/21 [==============================] - 1s 48ms/step - loss: 3.6995 - tp: 683.0000 - fp: 21.0000 - tn: 701.0000 - fn: 39.0000 - precision: 0.9702 - recall: 0.9460 - val_loss: 3.6676 - val_tp: 62.0000 - val_fp: 2.0000 - val_tn: 215.0000 - val_fn: 1.0000 - val_precision: 0.9688 - val_recall: 0.9841\n",
      "Epoch 60/200\n",
      "21/21 [==============================] - 1s 48ms/step - loss: 3.6562 - tp: 691.0000 - fp: 18.0000 - tn: 704.0000 - fn: 31.0000 - precision: 0.9746 - recall: 0.9571 - val_loss: 3.6490 - val_tp: 61.0000 - val_fp: 3.0000 - val_tn: 214.0000 - val_fn: 2.0000 - val_precision: 0.9531 - val_recall: 0.9683\n",
      "Epoch 61/200\n",
      "21/21 [==============================] - 1s 48ms/step - loss: 3.6555 - tp: 691.0000 - fp: 19.0000 - tn: 703.0000 - fn: 31.0000 - precision: 0.9732 - recall: 0.9571 - val_loss: 3.6606 - val_tp: 61.0000 - val_fp: 3.0000 - val_tn: 214.0000 - val_fn: 2.0000 - val_precision: 0.9531 - val_recall: 0.9683\n",
      "Epoch 62/200\n",
      "21/21 [==============================] - 1s 48ms/step - loss: 3.6626 - tp: 694.0000 - fp: 20.0000 - tn: 702.0000 - fn: 28.0000 - precision: 0.9720 - recall: 0.9612 - val_loss: 3.6650 - val_tp: 61.0000 - val_fp: 3.0000 - val_tn: 214.0000 - val_fn: 2.0000 - val_precision: 0.9531 - val_recall: 0.9683\n",
      "Epoch 63/200\n",
      "21/21 [==============================] - 1s 47ms/step - loss: 3.6491 - tp: 692.0000 - fp: 20.0000 - tn: 702.0000 - fn: 30.0000 - precision: 0.9719 - recall: 0.9584 - val_loss: 3.6489 - val_tp: 56.0000 - val_fp: 1.0000 - val_tn: 216.0000 - val_fn: 7.0000 - val_precision: 0.9825 - val_recall: 0.8889\n",
      "Epoch 64/200\n",
      "21/21 [==============================] - 1s 48ms/step - loss: 3.6554 - tp: 690.0000 - fp: 15.0000 - tn: 707.0000 - fn: 32.0000 - precision: 0.9787 - recall: 0.9557 - val_loss: 3.6472 - val_tp: 60.0000 - val_fp: 3.0000 - val_tn: 214.0000 - val_fn: 3.0000 - val_precision: 0.9524 - val_recall: 0.9524\n",
      "Epoch 65/200\n",
      "21/21 [==============================] - 1s 48ms/step - loss: 3.6418 - tp: 696.0000 - fp: 17.0000 - tn: 705.0000 - fn: 26.0000 - precision: 0.9762 - recall: 0.9640 - val_loss: 3.6268 - val_tp: 62.0000 - val_fp: 2.0000 - val_tn: 215.0000 - val_fn: 1.0000 - val_precision: 0.9688 - val_recall: 0.9841\n",
      "Epoch 66/200\n",
      "21/21 [==============================] - 1s 48ms/step - loss: 3.6574 - tp: 705.0000 - fp: 19.0000 - tn: 703.0000 - fn: 17.0000 - precision: 0.9738 - recall: 0.9765 - val_loss: 3.7481 - val_tp: 62.0000 - val_fp: 7.0000 - val_tn: 210.0000 - val_fn: 1.0000 - val_precision: 0.8986 - val_recall: 0.9841\n",
      "Epoch 67/200\n",
      "21/21 [==============================] - 1s 48ms/step - loss: 3.6803 - tp: 696.0000 - fp: 14.0000 - tn: 708.0000 - fn: 26.0000 - precision: 0.9803 - recall: 0.9640 - val_loss: 3.6337 - val_tp: 59.0000 - val_fp: 3.0000 - val_tn: 214.0000 - val_fn: 4.0000 - val_precision: 0.9516 - val_recall: 0.9365\n",
      "Epoch 68/200\n",
      "21/21 [==============================] - 1s 48ms/step - loss: 3.6592 - tp: 694.0000 - fp: 22.0000 - tn: 700.0000 - fn: 28.0000 - precision: 0.9693 - recall: 0.9612 - val_loss: 3.7209 - val_tp: 60.0000 - val_fp: 6.0000 - val_tn: 211.0000 - val_fn: 3.0000 - val_precision: 0.9091 - val_recall: 0.9524\n",
      "Epoch 69/200\n",
      "21/21 [==============================] - 1s 48ms/step - loss: 3.6985 - tp: 686.0000 - fp: 18.0000 - tn: 704.0000 - fn: 36.0000 - precision: 0.9744 - recall: 0.9501 - val_loss: 3.6583 - val_tp: 61.0000 - val_fp: 3.0000 - val_tn: 214.0000 - val_fn: 2.0000 - val_precision: 0.9531 - val_recall: 0.9683\n",
      "Epoch 70/200\n",
      "21/21 [==============================] - 1s 49ms/step - loss: 3.6539 - tp: 689.0000 - fp: 16.0000 - tn: 706.0000 - fn: 33.0000 - precision: 0.9773 - recall: 0.9543 - val_loss: 3.6557 - val_tp: 60.0000 - val_fp: 2.0000 - val_tn: 215.0000 - val_fn: 3.0000 - val_precision: 0.9677 - val_recall: 0.9524\n",
      "Epoch 71/200\n",
      "21/21 [==============================] - 1s 48ms/step - loss: 3.6469 - tp: 691.0000 - fp: 18.0000 - tn: 704.0000 - fn: 31.0000 - precision: 0.9746 - recall: 0.9571 - val_loss: 3.6498 - val_tp: 63.0000 - val_fp: 2.0000 - val_tn: 215.0000 - val_fn: 0.0000e+00 - val_precision: 0.9692 - val_recall: 1.0000\n",
      "Epoch 72/200\n",
      "21/21 [==============================] - 1s 48ms/step - loss: 3.7050 - tp: 687.0000 - fp: 21.0000 - tn: 701.0000 - fn: 35.0000 - precision: 0.9703 - recall: 0.9515 - val_loss: 3.6922 - val_tp: 61.0000 - val_fp: 2.0000 - val_tn: 215.0000 - val_fn: 2.0000 - val_precision: 0.9683 - val_recall: 0.9683\n",
      "Epoch 73/200\n",
      "21/21 [==============================] - 1s 48ms/step - loss: 3.6782 - tp: 692.0000 - fp: 19.0000 - tn: 703.0000 - fn: 30.0000 - precision: 0.9733 - recall: 0.9584 - val_loss: 3.6439 - val_tp: 60.0000 - val_fp: 2.0000 - val_tn: 215.0000 - val_fn: 3.0000 - val_precision: 0.9677 - val_recall: 0.9524\n",
      "Epoch 74/200\n",
      "21/21 [==============================] - 1s 47ms/step - loss: 3.6651 - tp: 684.0000 - fp: 15.0000 - tn: 707.0000 - fn: 38.0000 - precision: 0.9785 - recall: 0.9474 - val_loss: 3.6779 - val_tp: 61.0000 - val_fp: 4.0000 - val_tn: 213.0000 - val_fn: 2.0000 - val_precision: 0.9385 - val_recall: 0.9683\n",
      "Epoch 75/200\n",
      "21/21 [==============================] - 1s 48ms/step - loss: 3.6545 - tp: 693.0000 - fp: 15.0000 - tn: 707.0000 - fn: 29.0000 - precision: 0.9788 - recall: 0.9598 - val_loss: 3.6371 - val_tp: 58.0000 - val_fp: 2.0000 - val_tn: 215.0000 - val_fn: 5.0000 - val_precision: 0.9667 - val_recall: 0.9206\n",
      "Epoch 76/200\n",
      "21/21 [==============================] - 1s 49ms/step - loss: 3.6498 - tp: 699.0000 - fp: 16.0000 - tn: 706.0000 - fn: 23.0000 - precision: 0.9776 - recall: 0.9681 - val_loss: 3.6303 - val_tp: 59.0000 - val_fp: 1.0000 - val_tn: 216.0000 - val_fn: 4.0000 - val_precision: 0.9833 - val_recall: 0.9365\n",
      "Epoch 77/200\n",
      "21/21 [==============================] - 1s 48ms/step - loss: 3.7681 - tp: 690.0000 - fp: 27.0000 - tn: 695.0000 - fn: 32.0000 - precision: 0.9623 - recall: 0.9557 - val_loss: 3.7108 - val_tp: 60.0000 - val_fp: 2.0000 - val_tn: 215.0000 - val_fn: 3.0000 - val_precision: 0.9677 - val_recall: 0.9524\n",
      "Epoch 78/200\n",
      "21/21 [==============================] - 1s 48ms/step - loss: 3.7043 - tp: 683.0000 - fp: 18.0000 - tn: 704.0000 - fn: 39.0000 - precision: 0.9743 - recall: 0.9460 - val_loss: 3.6608 - val_tp: 58.0000 - val_fp: 2.0000 - val_tn: 215.0000 - val_fn: 5.0000 - val_precision: 0.9667 - val_recall: 0.9206\n",
      "Epoch 79/200\n",
      "21/21 [==============================] - 1s 47ms/step - loss: 3.6712 - tp: 691.0000 - fp: 19.0000 - tn: 703.0000 - fn: 31.0000 - precision: 0.9732 - recall: 0.9571 - val_loss: 3.6752 - val_tp: 62.0000 - val_fp: 5.0000 - val_tn: 212.0000 - val_fn: 1.0000 - val_precision: 0.9254 - val_recall: 0.9841\n",
      "Epoch 80/200\n",
      "21/21 [==============================] - 1s 48ms/step - loss: 3.6696 - tp: 689.0000 - fp: 20.0000 - tn: 702.0000 - fn: 33.0000 - precision: 0.9718 - recall: 0.9543 - val_loss: 3.6562 - val_tp: 60.0000 - val_fp: 3.0000 - val_tn: 214.0000 - val_fn: 3.0000 - val_precision: 0.9524 - val_recall: 0.9524\n",
      "Epoch 81/200\n",
      "21/21 [==============================] - 1s 47ms/step - loss: 3.6452 - tp: 703.0000 - fp: 15.0000 - tn: 707.0000 - fn: 19.0000 - precision: 0.9791 - recall: 0.9737 - val_loss: 3.6425 - val_tp: 61.0000 - val_fp: 2.0000 - val_tn: 215.0000 - val_fn: 2.0000 - val_precision: 0.9683 - val_recall: 0.9683\n",
      "Epoch 82/200\n",
      "21/21 [==============================] - 1s 47ms/step - loss: 3.6490 - tp: 690.0000 - fp: 18.0000 - tn: 704.0000 - fn: 32.0000 - precision: 0.9746 - recall: 0.9557 - val_loss: 3.6489 - val_tp: 61.0000 - val_fp: 1.0000 - val_tn: 216.0000 - val_fn: 2.0000 - val_precision: 0.9839 - val_recall: 0.9683\n",
      "Epoch 83/200\n",
      "21/21 [==============================] - 1s 48ms/step - loss: 3.6628 - tp: 680.0000 - fp: 16.0000 - tn: 706.0000 - fn: 42.0000 - precision: 0.9770 - recall: 0.9418 - val_loss: 3.6553 - val_tp: 60.0000 - val_fp: 3.0000 - val_tn: 214.0000 - val_fn: 3.0000 - val_precision: 0.9524 - val_recall: 0.9524\n",
      "Epoch 84/200\n",
      "21/21 [==============================] - 1s 48ms/step - loss: 3.6643 - tp: 691.0000 - fp: 19.0000 - tn: 703.0000 - fn: 31.0000 - precision: 0.9732 - recall: 0.9571 - val_loss: 3.6958 - val_tp: 63.0000 - val_fp: 7.0000 - val_tn: 210.0000 - val_fn: 0.0000e+00 - val_precision: 0.9000 - val_recall: 1.0000\n",
      "Epoch 85/200\n",
      "21/21 [==============================] - 1s 47ms/step - loss: 3.6737 - tp: 702.0000 - fp: 18.0000 - tn: 704.0000 - fn: 20.0000 - precision: 0.9750 - recall: 0.9723 - val_loss: 3.6332 - val_tp: 59.0000 - val_fp: 1.0000 - val_tn: 216.0000 - val_fn: 4.0000 - val_precision: 0.9833 - val_recall: 0.9365\n",
      "Epoch 86/200\n",
      "21/21 [==============================] - 1s 49ms/step - loss: 3.6471 - tp: 695.0000 - fp: 16.0000 - tn: 706.0000 - fn: 27.0000 - precision: 0.9775 - recall: 0.9626 - val_loss: 3.6484 - val_tp: 62.0000 - val_fp: 3.0000 - val_tn: 214.0000 - val_fn: 1.0000 - val_precision: 0.9538 - val_recall: 0.9841\n",
      "Epoch 87/200\n",
      "21/21 [==============================] - 1s 49ms/step - loss: 3.6986 - tp: 700.0000 - fp: 23.0000 - tn: 699.0000 - fn: 22.0000 - precision: 0.9682 - recall: 0.9695 - val_loss: 3.6942 - val_tp: 63.0000 - val_fp: 4.0000 - val_tn: 213.0000 - val_fn: 0.0000e+00 - val_precision: 0.9403 - val_recall: 1.0000\n",
      "Epoch 88/200\n",
      "21/21 [==============================] - 1s 48ms/step - loss: 3.6732 - tp: 700.0000 - fp: 17.0000 - tn: 705.0000 - fn: 22.0000 - precision: 0.9763 - recall: 0.9695 - val_loss: 3.6622 - val_tp: 62.0000 - val_fp: 7.0000 - val_tn: 210.0000 - val_fn: 1.0000 - val_precision: 0.8986 - val_recall: 0.9841\n",
      "Epoch 89/200\n",
      "21/21 [==============================] - 1s 48ms/step - loss: 3.6702 - tp: 694.0000 - fp: 18.0000 - tn: 704.0000 - fn: 28.0000 - precision: 0.9747 - recall: 0.9612 - val_loss: 3.6988 - val_tp: 62.0000 - val_fp: 5.0000 - val_tn: 212.0000 - val_fn: 1.0000 - val_precision: 0.9254 - val_recall: 0.9841\n",
      "Epoch 90/200\n",
      "21/21 [==============================] - 1s 49ms/step - loss: 3.6691 - tp: 700.0000 - fp: 16.0000 - tn: 706.0000 - fn: 22.0000 - precision: 0.9777 - recall: 0.9695 - val_loss: 3.6608 - val_tp: 62.0000 - val_fp: 4.0000 - val_tn: 213.0000 - val_fn: 1.0000 - val_precision: 0.9394 - val_recall: 0.9841\n",
      "Epoch 91/200\n",
      "21/21 [==============================] - 1s 49ms/step - loss: 3.6452 - tp: 703.0000 - fp: 20.0000 - tn: 702.0000 - fn: 19.0000 - precision: 0.9723 - recall: 0.9737 - val_loss: 3.6387 - val_tp: 57.0000 - val_fp: 2.0000 - val_tn: 215.0000 - val_fn: 6.0000 - val_precision: 0.9661 - val_recall: 0.9048\n",
      "Epoch 92/200\n",
      "21/21 [==============================] - 1s 48ms/step - loss: 3.6613 - tp: 690.0000 - fp: 19.0000 - tn: 703.0000 - fn: 32.0000 - precision: 0.9732 - recall: 0.9557 - val_loss: 3.6675 - val_tp: 60.0000 - val_fp: 6.0000 - val_tn: 211.0000 - val_fn: 3.0000 - val_precision: 0.9091 - val_recall: 0.9524\n",
      "Epoch 93/200\n",
      "21/21 [==============================] - 1s 50ms/step - loss: 3.6711 - tp: 693.0000 - fp: 17.0000 - tn: 705.0000 - fn: 29.0000 - precision: 0.9761 - recall: 0.9598 - val_loss: 3.6746 - val_tp: 61.0000 - val_fp: 4.0000 - val_tn: 213.0000 - val_fn: 2.0000 - val_precision: 0.9385 - val_recall: 0.9683\n",
      "Epoch 94/200\n",
      "21/21 [==============================] - 1s 49ms/step - loss: 3.6680 - tp: 695.0000 - fp: 18.0000 - tn: 704.0000 - fn: 27.0000 - precision: 0.9748 - recall: 0.9626 - val_loss: 3.6464 - val_tp: 58.0000 - val_fp: 1.0000 - val_tn: 216.0000 - val_fn: 5.0000 - val_precision: 0.9831 - val_recall: 0.9206\n",
      "Epoch 95/200\n",
      "21/21 [==============================] - 1s 48ms/step - loss: 3.6569 - tp: 689.0000 - fp: 15.0000 - tn: 707.0000 - fn: 33.0000 - precision: 0.9787 - recall: 0.9543 - val_loss: 3.6444 - val_tp: 60.0000 - val_fp: 3.0000 - val_tn: 214.0000 - val_fn: 3.0000 - val_precision: 0.9524 - val_recall: 0.9524\n",
      "Epoch 96/200\n",
      "21/21 [==============================] - 1s 47ms/step - loss: 3.6504 - tp: 697.0000 - fp: 18.0000 - tn: 704.0000 - fn: 25.0000 - precision: 0.9748 - recall: 0.9654 - val_loss: 3.6496 - val_tp: 60.0000 - val_fp: 3.0000 - val_tn: 214.0000 - val_fn: 3.0000 - val_precision: 0.9524 - val_recall: 0.9524\n",
      "Epoch 97/200\n",
      "21/21 [==============================] - 1s 50ms/step - loss: 3.6620 - tp: 696.0000 - fp: 21.0000 - tn: 701.0000 - fn: 26.0000 - precision: 0.9707 - recall: 0.9640 - val_loss: 3.7027 - val_tp: 61.0000 - val_fp: 1.0000 - val_tn: 216.0000 - val_fn: 2.0000 - val_precision: 0.9839 - val_recall: 0.9683\n",
      "Epoch 98/200\n",
      "21/21 [==============================] - 1s 48ms/step - loss: 3.6954 - tp: 701.0000 - fp: 16.0000 - tn: 706.0000 - fn: 21.0000 - precision: 0.9777 - recall: 0.9709 - val_loss: 3.6735 - val_tp: 57.0000 - val_fp: 1.0000 - val_tn: 216.0000 - val_fn: 6.0000 - val_precision: 0.9828 - val_recall: 0.9048\n",
      "Epoch 99/200\n",
      "21/21 [==============================] - 1s 48ms/step - loss: 3.6719 - tp: 696.0000 - fp: 18.0000 - tn: 704.0000 - fn: 26.0000 - precision: 0.9748 - recall: 0.9640 - val_loss: 3.6417 - val_tp: 60.0000 - val_fp: 1.0000 - val_tn: 216.0000 - val_fn: 3.0000 - val_precision: 0.9836 - val_recall: 0.9524\n",
      "Epoch 100/200\n",
      "21/21 [==============================] - 1s 48ms/step - loss: 3.6694 - tp: 688.0000 - fp: 16.0000 - tn: 706.0000 - fn: 34.0000 - precision: 0.9773 - recall: 0.9529 - val_loss: 3.7732 - val_tp: 59.0000 - val_fp: 7.0000 - val_tn: 210.0000 - val_fn: 4.0000 - val_precision: 0.8939 - val_recall: 0.9365\n",
      "Epoch 101/200\n",
      "21/21 [==============================] - 1s 48ms/step - loss: 3.7288 - tp: 691.0000 - fp: 19.0000 - tn: 703.0000 - fn: 31.0000 - precision: 0.9732 - recall: 0.9571 - val_loss: 3.7187 - val_tp: 62.0000 - val_fp: 5.0000 - val_tn: 212.0000 - val_fn: 1.0000 - val_precision: 0.9254 - val_recall: 0.9841\n",
      "Epoch 102/200\n",
      "21/21 [==============================] - 1s 48ms/step - loss: 3.6978 - tp: 697.0000 - fp: 16.0000 - tn: 706.0000 - fn: 25.0000 - precision: 0.9776 - recall: 0.9654 - val_loss: 3.6816 - val_tp: 61.0000 - val_fp: 5.0000 - val_tn: 212.0000 - val_fn: 2.0000 - val_precision: 0.9242 - val_recall: 0.9683\n",
      "Epoch 103/200\n",
      "21/21 [==============================] - 1s 47ms/step - loss: 3.6578 - tp: 697.0000 - fp: 17.0000 - tn: 705.0000 - fn: 25.0000 - precision: 0.9762 - recall: 0.9654 - val_loss: 3.6444 - val_tp: 60.0000 - val_fp: 1.0000 - val_tn: 216.0000 - val_fn: 3.0000 - val_precision: 0.9836 - val_recall: 0.9524\n",
      "Epoch 104/200\n",
      "21/21 [==============================] - 1s 47ms/step - loss: 3.6412 - tp: 701.0000 - fp: 16.0000 - tn: 706.0000 - fn: 21.0000 - precision: 0.9777 - recall: 0.9709 - val_loss: 3.6210 - val_tp: 61.0000 - val_fp: 1.0000 - val_tn: 216.0000 - val_fn: 2.0000 - val_precision: 0.9839 - val_recall: 0.9683\n",
      "Epoch 105/200\n",
      "21/21 [==============================] - 1s 48ms/step - loss: 3.6553 - tp: 692.0000 - fp: 17.0000 - tn: 705.0000 - fn: 30.0000 - precision: 0.9760 - recall: 0.9584 - val_loss: 3.6844 - val_tp: 63.0000 - val_fp: 4.0000 - val_tn: 213.0000 - val_fn: 0.0000e+00 - val_precision: 0.9403 - val_recall: 1.0000\n",
      "Epoch 106/200\n",
      "21/21 [==============================] - 1s 47ms/step - loss: 3.6736 - tp: 699.0000 - fp: 17.0000 - tn: 705.0000 - fn: 23.0000 - precision: 0.9763 - recall: 0.9681 - val_loss: 3.6703 - val_tp: 63.0000 - val_fp: 3.0000 - val_tn: 214.0000 - val_fn: 0.0000e+00 - val_precision: 0.9545 - val_recall: 1.0000\n",
      "Epoch 107/200\n",
      "21/21 [==============================] - 1s 48ms/step - loss: 3.7766 - tp: 699.0000 - fp: 22.0000 - tn: 700.0000 - fn: 23.0000 - precision: 0.9695 - recall: 0.9681 - val_loss: 3.7030 - val_tp: 60.0000 - val_fp: 2.0000 - val_tn: 215.0000 - val_fn: 3.0000 - val_precision: 0.9677 - val_recall: 0.9524\n",
      "Epoch 108/200\n",
      "21/21 [==============================] - 1s 48ms/step - loss: 3.6844 - tp: 692.0000 - fp: 14.0000 - tn: 708.0000 - fn: 30.0000 - precision: 0.9802 - recall: 0.9584 - val_loss: 3.6739 - val_tp: 63.0000 - val_fp: 4.0000 - val_tn: 213.0000 - val_fn: 0.0000e+00 - val_precision: 0.9403 - val_recall: 1.0000\n",
      "Epoch 109/200\n",
      "21/21 [==============================] - 1s 49ms/step - loss: 3.6473 - tp: 704.0000 - fp: 16.0000 - tn: 706.0000 - fn: 18.0000 - precision: 0.9778 - recall: 0.9751 - val_loss: 3.6354 - val_tp: 58.0000 - val_fp: 2.0000 - val_tn: 215.0000 - val_fn: 5.0000 - val_precision: 0.9667 - val_recall: 0.9206\n",
      "Epoch 110/200\n",
      "21/21 [==============================] - 1s 48ms/step - loss: 3.6865 - tp: 701.0000 - fp: 19.0000 - tn: 703.0000 - fn: 21.0000 - precision: 0.9736 - recall: 0.9709 - val_loss: 3.7023 - val_tp: 61.0000 - val_fp: 3.0000 - val_tn: 214.0000 - val_fn: 2.0000 - val_precision: 0.9531 - val_recall: 0.9683\n",
      "Epoch 111/200\n",
      "21/21 [==============================] - 1s 48ms/step - loss: 3.6566 - tp: 699.0000 - fp: 15.0000 - tn: 707.0000 - fn: 23.0000 - precision: 0.9790 - recall: 0.9681 - val_loss: 3.6374 - val_tp: 63.0000 - val_fp: 2.0000 - val_tn: 215.0000 - val_fn: 0.0000e+00 - val_precision: 0.9692 - val_recall: 1.0000\n",
      "Epoch 112/200\n",
      "21/21 [==============================] - 1s 48ms/step - loss: 3.6409 - tp: 701.0000 - fp: 18.0000 - tn: 704.0000 - fn: 21.0000 - precision: 0.9750 - recall: 0.9709 - val_loss: 3.6543 - val_tp: 57.0000 - val_fp: 2.0000 - val_tn: 215.0000 - val_fn: 6.0000 - val_precision: 0.9661 - val_recall: 0.9048\n",
      "Epoch 113/200\n",
      "21/21 [==============================] - 1s 47ms/step - loss: 3.7685 - tp: 698.0000 - fp: 22.0000 - tn: 700.0000 - fn: 24.0000 - precision: 0.9694 - recall: 0.9668 - val_loss: 3.7056 - val_tp: 61.0000 - val_fp: 2.0000 - val_tn: 215.0000 - val_fn: 2.0000 - val_precision: 0.9683 - val_recall: 0.9683\n",
      "Epoch 114/200\n",
      "21/21 [==============================] - 1s 49ms/step - loss: 3.6657 - tp: 696.0000 - fp: 17.0000 - tn: 705.0000 - fn: 26.0000 - precision: 0.9762 - recall: 0.9640 - val_loss: 3.6429 - val_tp: 60.0000 - val_fp: 3.0000 - val_tn: 214.0000 - val_fn: 3.0000 - val_precision: 0.9524 - val_recall: 0.9524\n",
      "Epoch 115/200\n",
      "21/21 [==============================] - 1s 48ms/step - loss: 3.6820 - tp: 687.0000 - fp: 18.0000 - tn: 704.0000 - fn: 35.0000 - precision: 0.9745 - recall: 0.9515 - val_loss: 3.6445 - val_tp: 62.0000 - val_fp: 2.0000 - val_tn: 215.0000 - val_fn: 1.0000 - val_precision: 0.9688 - val_recall: 0.9841\n",
      "Epoch 116/200\n",
      "21/21 [==============================] - 1s 48ms/step - loss: 3.6755 - tp: 698.0000 - fp: 17.0000 - tn: 705.0000 - fn: 24.0000 - precision: 0.9762 - recall: 0.9668 - val_loss: 3.6854 - val_tp: 62.0000 - val_fp: 1.0000 - val_tn: 216.0000 - val_fn: 1.0000 - val_precision: 0.9841 - val_recall: 0.9841\n",
      "Epoch 117/200\n",
      "21/21 [==============================] - 1s 48ms/step - loss: 3.6809 - tp: 699.0000 - fp: 21.0000 - tn: 701.0000 - fn: 23.0000 - precision: 0.9708 - recall: 0.9681 - val_loss: 3.7377 - val_tp: 60.0000 - val_fp: 3.0000 - val_tn: 214.0000 - val_fn: 3.0000 - val_precision: 0.9524 - val_recall: 0.9524\n",
      "Epoch 118/200\n",
      "21/21 [==============================] - 1s 48ms/step - loss: 3.7094 - tp: 693.0000 - fp: 14.0000 - tn: 708.0000 - fn: 29.0000 - precision: 0.9802 - recall: 0.9598 - val_loss: 3.6485 - val_tp: 61.0000 - val_fp: 3.0000 - val_tn: 214.0000 - val_fn: 2.0000 - val_precision: 0.9531 - val_recall: 0.9683\n",
      "Epoch 119/200\n",
      "21/21 [==============================] - 1s 49ms/step - loss: 3.6336 - tp: 702.0000 - fp: 15.0000 - tn: 707.0000 - fn: 20.0000 - precision: 0.9791 - recall: 0.9723 - val_loss: 3.6311 - val_tp: 60.0000 - val_fp: 2.0000 - val_tn: 215.0000 - val_fn: 3.0000 - val_precision: 0.9677 - val_recall: 0.9524\n",
      "Epoch 120/200\n",
      "21/21 [==============================] - 1s 49ms/step - loss: 3.6505 - tp: 692.0000 - fp: 20.0000 - tn: 702.0000 - fn: 30.0000 - precision: 0.9719 - recall: 0.9584 - val_loss: 3.6798 - val_tp: 63.0000 - val_fp: 6.0000 - val_tn: 211.0000 - val_fn: 0.0000e+00 - val_precision: 0.9130 - val_recall: 1.0000\n",
      "Epoch 121/200\n",
      "21/21 [==============================] - 1s 48ms/step - loss: 3.6659 - tp: 696.0000 - fp: 16.0000 - tn: 706.0000 - fn: 26.0000 - precision: 0.9775 - recall: 0.9640 - val_loss: 3.6495 - val_tp: 61.0000 - val_fp: 2.0000 - val_tn: 215.0000 - val_fn: 2.0000 - val_precision: 0.9683 - val_recall: 0.9683\n",
      "Epoch 122/200\n",
      "21/21 [==============================] - 1s 48ms/step - loss: 3.6634 - tp: 692.0000 - fp: 14.0000 - tn: 708.0000 - fn: 30.0000 - precision: 0.9802 - recall: 0.9584 - val_loss: 3.6543 - val_tp: 61.0000 - val_fp: 5.0000 - val_tn: 212.0000 - val_fn: 2.0000 - val_precision: 0.9242 - val_recall: 0.9683\n",
      "Epoch 123/200\n",
      "21/21 [==============================] - 1s 48ms/step - loss: 3.6664 - tp: 690.0000 - fp: 16.0000 - tn: 706.0000 - fn: 32.0000 - precision: 0.9773 - recall: 0.9557 - val_loss: 3.6489 - val_tp: 61.0000 - val_fp: 2.0000 - val_tn: 215.0000 - val_fn: 2.0000 - val_precision: 0.9683 - val_recall: 0.9683\n",
      "Epoch 124/200\n",
      "21/21 [==============================] - 1s 48ms/step - loss: 3.6635 - tp: 691.0000 - fp: 17.0000 - tn: 705.0000 - fn: 31.0000 - precision: 0.9760 - recall: 0.9571 - val_loss: 3.6681 - val_tp: 61.0000 - val_fp: 0.0000e+00 - val_tn: 217.0000 - val_fn: 2.0000 - val_precision: 1.0000 - val_recall: 0.9683\n",
      "Epoch 125/200\n",
      "21/21 [==============================] - 1s 50ms/step - loss: 3.6737 - tp: 694.0000 - fp: 18.0000 - tn: 704.0000 - fn: 28.0000 - precision: 0.9747 - recall: 0.9612 - val_loss: 3.6459 - val_tp: 60.0000 - val_fp: 1.0000 - val_tn: 216.0000 - val_fn: 3.0000 - val_precision: 0.9836 - val_recall: 0.9524\n",
      "Epoch 126/200\n",
      "21/21 [==============================] - 1s 59ms/step - loss: 3.6561 - tp: 683.0000 - fp: 16.0000 - tn: 706.0000 - fn: 39.0000 - precision: 0.9771 - recall: 0.9460 - val_loss: 3.6941 - val_tp: 63.0000 - val_fp: 7.0000 - val_tn: 210.0000 - val_fn: 0.0000e+00 - val_precision: 0.9000 - val_recall: 1.0000\n",
      "Epoch 127/200\n",
      "21/21 [==============================] - 1s 51ms/step - loss: 3.6569 - tp: 700.0000 - fp: 17.0000 - tn: 705.0000 - fn: 22.0000 - precision: 0.9763 - recall: 0.9695 - val_loss: 3.6270 - val_tp: 59.0000 - val_fp: 1.0000 - val_tn: 216.0000 - val_fn: 4.0000 - val_precision: 0.9833 - val_recall: 0.9365\n",
      "Epoch 128/200\n",
      "21/21 [==============================] - 1s 52ms/step - loss: 3.6610 - tp: 689.0000 - fp: 17.0000 - tn: 705.0000 - fn: 33.0000 - precision: 0.9759 - recall: 0.9543 - val_loss: 3.6996 - val_tp: 62.0000 - val_fp: 3.0000 - val_tn: 214.0000 - val_fn: 1.0000 - val_precision: 0.9538 - val_recall: 0.9841\n",
      "Epoch 129/200\n",
      "21/21 [==============================] - 1s 50ms/step - loss: 3.7520 - tp: 687.0000 - fp: 22.0000 - tn: 700.0000 - fn: 35.0000 - precision: 0.9690 - recall: 0.9515 - val_loss: 3.6849 - val_tp: 61.0000 - val_fp: 2.0000 - val_tn: 215.0000 - val_fn: 2.0000 - val_precision: 0.9683 - val_recall: 0.9683\n",
      "Epoch 130/200\n",
      "21/21 [==============================] - 1s 50ms/step - loss: 3.6796 - tp: 689.0000 - fp: 16.0000 - tn: 706.0000 - fn: 33.0000 - precision: 0.9773 - recall: 0.9543 - val_loss: 3.6914 - val_tp: 61.0000 - val_fp: 5.0000 - val_tn: 212.0000 - val_fn: 2.0000 - val_precision: 0.9242 - val_recall: 0.9683\n",
      "Epoch 131/200\n",
      "21/21 [==============================] - 1s 50ms/step - loss: 3.6633 - tp: 699.0000 - fp: 18.0000 - tn: 704.0000 - fn: 23.0000 - precision: 0.9749 - recall: 0.9681 - val_loss: 3.6950 - val_tp: 60.0000 - val_fp: 0.0000e+00 - val_tn: 217.0000 - val_fn: 3.0000 - val_precision: 1.0000 - val_recall: 0.9524\n",
      "Epoch 132/200\n",
      "21/21 [==============================] - 1s 49ms/step - loss: 3.7486 - tp: 695.0000 - fp: 23.0000 - tn: 699.0000 - fn: 27.0000 - precision: 0.9680 - recall: 0.9626 - val_loss: 3.9123 - val_tp: 61.0000 - val_fp: 1.0000 - val_tn: 216.0000 - val_fn: 2.0000 - val_precision: 0.9839 - val_recall: 0.9683\n",
      "Epoch 133/200\n",
      "21/21 [==============================] - 1s 48ms/step - loss: 3.7430 - tp: 694.0000 - fp: 14.0000 - tn: 708.0000 - fn: 28.0000 - precision: 0.9802 - recall: 0.9612 - val_loss: 3.6599 - val_tp: 61.0000 - val_fp: 0.0000e+00 - val_tn: 217.0000 - val_fn: 2.0000 - val_precision: 1.0000 - val_recall: 0.9683\n",
      "Epoch 134/200\n",
      "21/21 [==============================] - 1s 49ms/step - loss: 3.6560 - tp: 700.0000 - fp: 16.0000 - tn: 706.0000 - fn: 22.0000 - precision: 0.9777 - recall: 0.9695 - val_loss: 3.6457 - val_tp: 60.0000 - val_fp: 1.0000 - val_tn: 216.0000 - val_fn: 3.0000 - val_precision: 0.9836 - val_recall: 0.9524\n",
      "Epoch 135/200\n",
      "21/21 [==============================] - 1s 48ms/step - loss: 3.6629 - tp: 703.0000 - fp: 17.0000 - tn: 705.0000 - fn: 19.0000 - precision: 0.9764 - recall: 0.9737 - val_loss: 3.6569 - val_tp: 61.0000 - val_fp: 3.0000 - val_tn: 214.0000 - val_fn: 2.0000 - val_precision: 0.9531 - val_recall: 0.9683\n",
      "Epoch 136/200\n",
      "21/21 [==============================] - 1s 48ms/step - loss: 3.6533 - tp: 703.0000 - fp: 15.0000 - tn: 707.0000 - fn: 19.0000 - precision: 0.9791 - recall: 0.9737 - val_loss: 3.6325 - val_tp: 57.0000 - val_fp: 1.0000 - val_tn: 216.0000 - val_fn: 6.0000 - val_precision: 0.9828 - val_recall: 0.9048\n",
      "Epoch 137/200\n",
      "21/21 [==============================] - 1s 48ms/step - loss: 3.6605 - tp: 694.0000 - fp: 15.0000 - tn: 707.0000 - fn: 28.0000 - precision: 0.9788 - recall: 0.9612 - val_loss: 3.6540 - val_tp: 63.0000 - val_fp: 3.0000 - val_tn: 214.0000 - val_fn: 0.0000e+00 - val_precision: 0.9545 - val_recall: 1.0000\n",
      "Epoch 138/200\n",
      "21/21 [==============================] - 1s 49ms/step - loss: 3.6667 - tp: 700.0000 - fp: 19.0000 - tn: 703.0000 - fn: 22.0000 - precision: 0.9736 - recall: 0.9695 - val_loss: 3.6826 - val_tp: 60.0000 - val_fp: 2.0000 - val_tn: 215.0000 - val_fn: 3.0000 - val_precision: 0.9677 - val_recall: 0.9524\n",
      "Epoch 139/200\n",
      "21/21 [==============================] - 1s 49ms/step - loss: 3.6836 - tp: 697.0000 - fp: 20.0000 - tn: 702.0000 - fn: 25.0000 - precision: 0.9721 - recall: 0.9654 - val_loss: 3.6782 - val_tp: 62.0000 - val_fp: 2.0000 - val_tn: 215.0000 - val_fn: 1.0000 - val_precision: 0.9688 - val_recall: 0.9841\n",
      "Epoch 140/200\n",
      "21/21 [==============================] - 1s 48ms/step - loss: 3.6741 - tp: 702.0000 - fp: 16.0000 - tn: 706.0000 - fn: 20.0000 - precision: 0.9777 - recall: 0.9723 - val_loss: 3.6552 - val_tp: 60.0000 - val_fp: 2.0000 - val_tn: 215.0000 - val_fn: 3.0000 - val_precision: 0.9677 - val_recall: 0.9524\n",
      "Epoch 141/200\n",
      "21/21 [==============================] - 1s 49ms/step - loss: 3.6581 - tp: 697.0000 - fp: 14.0000 - tn: 708.0000 - fn: 25.0000 - precision: 0.9803 - recall: 0.9654 - val_loss: 3.6434 - val_tp: 59.0000 - val_fp: 2.0000 - val_tn: 215.0000 - val_fn: 4.0000 - val_precision: 0.9672 - val_recall: 0.9365\n",
      "Epoch 142/200\n",
      "21/21 [==============================] - 1s 48ms/step - loss: 3.6426 - tp: 694.0000 - fp: 15.0000 - tn: 707.0000 - fn: 28.0000 - precision: 0.9788 - recall: 0.9612 - val_loss: 3.6438 - val_tp: 60.0000 - val_fp: 1.0000 - val_tn: 216.0000 - val_fn: 3.0000 - val_precision: 0.9836 - val_recall: 0.9524\n",
      "Epoch 143/200\n",
      "21/21 [==============================] - 1s 49ms/step - loss: 3.6648 - tp: 696.0000 - fp: 10.0000 - tn: 712.0000 - fn: 26.0000 - precision: 0.9858 - recall: 0.9640 - val_loss: 3.6369 - val_tp: 61.0000 - val_fp: 2.0000 - val_tn: 215.0000 - val_fn: 2.0000 - val_precision: 0.9683 - val_recall: 0.9683\n",
      "Epoch 144/200\n",
      "21/21 [==============================] - 1s 48ms/step - loss: 3.6759 - tp: 704.0000 - fp: 17.0000 - tn: 705.0000 - fn: 18.0000 - precision: 0.9764 - recall: 0.9751 - val_loss: 3.6593 - val_tp: 60.0000 - val_fp: 3.0000 - val_tn: 214.0000 - val_fn: 3.0000 - val_precision: 0.9524 - val_recall: 0.9524\n",
      "Epoch 145/200\n",
      "21/21 [==============================] - 1s 48ms/step - loss: 3.6811 - tp: 700.0000 - fp: 15.0000 - tn: 707.0000 - fn: 22.0000 - precision: 0.9790 - recall: 0.9695 - val_loss: 3.6365 - val_tp: 58.0000 - val_fp: 2.0000 - val_tn: 215.0000 - val_fn: 5.0000 - val_precision: 0.9667 - val_recall: 0.9206\n",
      "Epoch 146/200\n",
      "21/21 [==============================] - 1s 48ms/step - loss: 3.7365 - tp: 693.0000 - fp: 22.0000 - tn: 700.0000 - fn: 29.0000 - precision: 0.9692 - recall: 0.9598 - val_loss: 3.7266 - val_tp: 61.0000 - val_fp: 1.0000 - val_tn: 216.0000 - val_fn: 2.0000 - val_precision: 0.9839 - val_recall: 0.9683\n",
      "Epoch 147/200\n",
      "21/21 [==============================] - 1s 48ms/step - loss: 3.6894 - tp: 697.0000 - fp: 15.0000 - tn: 707.0000 - fn: 25.0000 - precision: 0.9789 - recall: 0.9654 - val_loss: 3.6648 - val_tp: 62.0000 - val_fp: 2.0000 - val_tn: 215.0000 - val_fn: 1.0000 - val_precision: 0.9688 - val_recall: 0.9841\n",
      "Epoch 148/200\n",
      "21/21 [==============================] - 1s 48ms/step - loss: 3.6959 - tp: 697.0000 - fp: 20.0000 - tn: 702.0000 - fn: 25.0000 - precision: 0.9721 - recall: 0.9654 - val_loss: 3.7597 - val_tp: 61.0000 - val_fp: 3.0000 - val_tn: 214.0000 - val_fn: 2.0000 - val_precision: 0.9531 - val_recall: 0.9683\n",
      "Epoch 149/200\n",
      "21/21 [==============================] - 1s 48ms/step - loss: 3.6995 - tp: 699.0000 - fp: 16.0000 - tn: 706.0000 - fn: 23.0000 - precision: 0.9776 - recall: 0.9681 - val_loss: 3.6431 - val_tp: 60.0000 - val_fp: 3.0000 - val_tn: 214.0000 - val_fn: 3.0000 - val_precision: 0.9524 - val_recall: 0.9524\n",
      "Epoch 150/200\n",
      "21/21 [==============================] - 1s 48ms/step - loss: 3.7276 - tp: 699.0000 - fp: 19.0000 - tn: 703.0000 - fn: 23.0000 - precision: 0.9735 - recall: 0.9681 - val_loss: 3.6913 - val_tp: 62.0000 - val_fp: 2.0000 - val_tn: 215.0000 - val_fn: 1.0000 - val_precision: 0.9688 - val_recall: 0.9841\n",
      "Epoch 151/200\n",
      "21/21 [==============================] - 1s 48ms/step - loss: 3.6732 - tp: 701.0000 - fp: 17.0000 - tn: 705.0000 - fn: 21.0000 - precision: 0.9763 - recall: 0.9709 - val_loss: 3.6548 - val_tp: 60.0000 - val_fp: 3.0000 - val_tn: 214.0000 - val_fn: 3.0000 - val_precision: 0.9524 - val_recall: 0.9524\n",
      "Epoch 152/200\n",
      "21/21 [==============================] - 1s 48ms/step - loss: 3.6850 - tp: 694.0000 - fp: 14.0000 - tn: 708.0000 - fn: 28.0000 - precision: 0.9802 - recall: 0.9612 - val_loss: 3.6427 - val_tp: 59.0000 - val_fp: 3.0000 - val_tn: 214.0000 - val_fn: 4.0000 - val_precision: 0.9516 - val_recall: 0.9365\n",
      "Epoch 153/200\n",
      "21/21 [==============================] - 1s 48ms/step - loss: 3.6602 - tp: 695.0000 - fp: 15.0000 - tn: 707.0000 - fn: 27.0000 - precision: 0.9789 - recall: 0.9626 - val_loss: 3.6727 - val_tp: 62.0000 - val_fp: 3.0000 - val_tn: 214.0000 - val_fn: 1.0000 - val_precision: 0.9538 - val_recall: 0.9841\n",
      "Epoch 154/200\n",
      "21/21 [==============================] - 1s 49ms/step - loss: 3.6586 - tp: 700.0000 - fp: 13.0000 - tn: 709.0000 - fn: 22.0000 - precision: 0.9818 - recall: 0.9695 - val_loss: 3.6722 - val_tp: 62.0000 - val_fp: 5.0000 - val_tn: 212.0000 - val_fn: 1.0000 - val_precision: 0.9254 - val_recall: 0.9841\n",
      "Epoch 155/200\n",
      "21/21 [==============================] - 1s 48ms/step - loss: 3.6446 - tp: 708.0000 - fp: 13.0000 - tn: 709.0000 - fn: 14.0000 - precision: 0.9820 - recall: 0.9806 - val_loss: 3.6430 - val_tp: 63.0000 - val_fp: 1.0000 - val_tn: 216.0000 - val_fn: 0.0000e+00 - val_precision: 0.9844 - val_recall: 1.0000\n",
      "Epoch 156/200\n",
      "21/21 [==============================] - 1s 48ms/step - loss: 3.6531 - tp: 700.0000 - fp: 13.0000 - tn: 709.0000 - fn: 22.0000 - precision: 0.9818 - recall: 0.9695 - val_loss: 3.6652 - val_tp: 63.0000 - val_fp: 4.0000 - val_tn: 213.0000 - val_fn: 0.0000e+00 - val_precision: 0.9403 - val_recall: 1.0000\n",
      "Epoch 157/200\n",
      "21/21 [==============================] - 1s 48ms/step - loss: 3.8143 - tp: 694.0000 - fp: 19.0000 - tn: 703.0000 - fn: 28.0000 - precision: 0.9734 - recall: 0.9612 - val_loss: 3.7101 - val_tp: 61.0000 - val_fp: 2.0000 - val_tn: 215.0000 - val_fn: 2.0000 - val_precision: 0.9683 - val_recall: 0.9683\n",
      "Epoch 158/200\n",
      "21/21 [==============================] - 1s 48ms/step - loss: 3.7020 - tp: 689.0000 - fp: 14.0000 - tn: 708.0000 - fn: 33.0000 - precision: 0.9801 - recall: 0.9543 - val_loss: 3.6674 - val_tp: 61.0000 - val_fp: 2.0000 - val_tn: 215.0000 - val_fn: 2.0000 - val_precision: 0.9683 - val_recall: 0.9683\n",
      "Epoch 159/200\n",
      "21/21 [==============================] - 1s 49ms/step - loss: 3.6829 - tp: 702.0000 - fp: 19.0000 - tn: 703.0000 - fn: 20.0000 - precision: 0.9736 - recall: 0.9723 - val_loss: 3.6781 - val_tp: 61.0000 - val_fp: 0.0000e+00 - val_tn: 217.0000 - val_fn: 2.0000 - val_precision: 1.0000 - val_recall: 0.9683\n",
      "Epoch 160/200\n",
      "21/21 [==============================] - 1s 49ms/step - loss: 3.8317 - tp: 686.0000 - fp: 22.0000 - tn: 700.0000 - fn: 36.0000 - precision: 0.9689 - recall: 0.9501 - val_loss: 3.8894 - val_tp: 62.0000 - val_fp: 0.0000e+00 - val_tn: 217.0000 - val_fn: 1.0000 - val_precision: 1.0000 - val_recall: 0.9841\n",
      "Epoch 161/200\n",
      "21/21 [==============================] - 1s 48ms/step - loss: 3.7686 - tp: 690.0000 - fp: 13.0000 - tn: 709.0000 - fn: 32.0000 - precision: 0.9815 - recall: 0.9557 - val_loss: 3.6835 - val_tp: 61.0000 - val_fp: 4.0000 - val_tn: 213.0000 - val_fn: 2.0000 - val_precision: 0.9385 - val_recall: 0.9683\n",
      "Epoch 162/200\n",
      "21/21 [==============================] - 1s 49ms/step - loss: 3.7111 - tp: 695.0000 - fp: 14.0000 - tn: 708.0000 - fn: 27.0000 - precision: 0.9803 - recall: 0.9626 - val_loss: 3.6483 - val_tp: 62.0000 - val_fp: 2.0000 - val_tn: 215.0000 - val_fn: 1.0000 - val_precision: 0.9688 - val_recall: 0.9841\n",
      "Epoch 163/200\n",
      "21/21 [==============================] - 1s 48ms/step - loss: 3.6594 - tp: 682.0000 - fp: 13.0000 - tn: 709.0000 - fn: 40.0000 - precision: 0.9813 - recall: 0.9446 - val_loss: 3.6725 - val_tp: 63.0000 - val_fp: 3.0000 - val_tn: 214.0000 - val_fn: 0.0000e+00 - val_precision: 0.9545 - val_recall: 1.0000\n",
      "Epoch 164/200\n",
      "21/21 [==============================] - 1s 48ms/step - loss: 3.6529 - tp: 695.0000 - fp: 15.0000 - tn: 707.0000 - fn: 27.0000 - precision: 0.9789 - recall: 0.9626 - val_loss: 3.6493 - val_tp: 62.0000 - val_fp: 2.0000 - val_tn: 215.0000 - val_fn: 1.0000 - val_precision: 0.9688 - val_recall: 0.9841\n",
      "Epoch 165/200\n",
      "21/21 [==============================] - 1s 48ms/step - loss: 3.6568 - tp: 695.0000 - fp: 13.0000 - tn: 709.0000 - fn: 27.0000 - precision: 0.9816 - recall: 0.9626 - val_loss: 3.6408 - val_tp: 62.0000 - val_fp: 1.0000 - val_tn: 216.0000 - val_fn: 1.0000 - val_precision: 0.9841 - val_recall: 0.9841\n",
      "Epoch 166/200\n",
      "21/21 [==============================] - 1s 49ms/step - loss: 3.6320 - tp: 704.0000 - fp: 14.0000 - tn: 708.0000 - fn: 18.0000 - precision: 0.9805 - recall: 0.9751 - val_loss: 3.6312 - val_tp: 62.0000 - val_fp: 2.0000 - val_tn: 215.0000 - val_fn: 1.0000 - val_precision: 0.9688 - val_recall: 0.9841\n",
      "Epoch 167/200\n",
      "21/21 [==============================] - 1s 49ms/step - loss: 3.6457 - tp: 704.0000 - fp: 15.0000 - tn: 707.0000 - fn: 18.0000 - precision: 0.9791 - recall: 0.9751 - val_loss: 3.6303 - val_tp: 60.0000 - val_fp: 2.0000 - val_tn: 215.0000 - val_fn: 3.0000 - val_precision: 0.9677 - val_recall: 0.9524\n",
      "Epoch 168/200\n",
      "21/21 [==============================] - 1s 49ms/step - loss: 3.6336 - tp: 706.0000 - fp: 17.0000 - tn: 705.0000 - fn: 16.0000 - precision: 0.9765 - recall: 0.9778 - val_loss: 3.6264 - val_tp: 59.0000 - val_fp: 1.0000 - val_tn: 216.0000 - val_fn: 4.0000 - val_precision: 0.9833 - val_recall: 0.9365\n",
      "Epoch 169/200\n",
      "21/21 [==============================] - 1s 48ms/step - loss: 3.6731 - tp: 699.0000 - fp: 16.0000 - tn: 706.0000 - fn: 23.0000 - precision: 0.9776 - recall: 0.9681 - val_loss: 3.7069 - val_tp: 62.0000 - val_fp: 0.0000e+00 - val_tn: 217.0000 - val_fn: 1.0000 - val_precision: 1.0000 - val_recall: 0.9841\n",
      "Epoch 170/200\n",
      "21/21 [==============================] - ETA: 0s - loss: 3.6882 - tp: 704.0000 - fp: 14.0000 - tn: 708.0000 - fn: 18.0000 - precision: 0.9805 - recall: 0.9751stoping on set citeria\n",
      "f1 training:  0.9777777746483026\n",
      "f1 testing:  0.9843750009458745\n",
      "21/21 [==============================] - 1s 48ms/step - loss: 3.6882 - tp: 704.0000 - fp: 14.0000 - tn: 708.0000 - fn: 18.0000 - precision: 0.9805 - recall: 0.9751 - val_loss: 3.6704 - val_tp: 63.0000 - val_fp: 2.0000 - val_tn: 215.0000 - val_fn: 0.0000e+00 - val_precision: 0.9692 - val_recall: 1.0000\n",
      "Early stopping\n"
     ]
    }
   ],
   "source": [
    "num_epochs = 200\n",
    "history = model.fit(training_split, train_result,\n",
    "                    epochs=num_epochs,\n",
    "                    batch_size=70,\n",
    "                    validation_data=(test_split, test_result),\n",
    "                    callbacks=[EarlyStoppingMonitor()])\n",
    "# ,callbacks=[tf.keras.callbacks.EarlyStopping()]"
   ],
   "metadata": {
    "collapsed": false,
    "pycharm": {
     "name": "#%%\n"
    }
   }
  },
  {
   "cell_type": "code",
   "execution_count": 991,
   "outputs": [
    {
     "data": {
      "text/plain": "[<matplotlib.lines.Line2D at 0x3708b8d00>]"
     },
     "execution_count": 991,
     "metadata": {},
     "output_type": "execute_result"
    },
    {
     "data": {
      "text/plain": "<Figure size 640x480 with 2 Axes>",
      "image/png": "[encoded data removed]"
     },
     "metadata": {},
     "output_type": "display_data"
    }
   ],
   "source": [
    "fig, (ax1,ax2) = plt.subplots(2,1)\n",
    "testloss = np.array(history.history['val_loss']).reshape(len(history.history['val_loss']),1)\n",
    "trainloss = np.array(history.history['loss']).reshape(len(history.history['loss']),1)\n",
    "\n",
    "ax1.plot(history.epoch, testloss, '-')\n",
    "ax1.plot(history.epoch, trainloss, '--')\n",
    "# ax1.ylabel('loss')\n",
    "# ax1.xlabel('epoch')\n",
    "\n",
    "train_precision = np.array(history.history['precision']).reshape(len(history.history['loss']),1)\n",
    "train_recall= np.array(history.history['recall']).reshape(len(history.history['loss']),1)\n",
    "j =( 2 * train_precision * train_recall) / (train_precision+train_recall)\n",
    "\n",
    "test_precission = np.array(history.history['val_precision']).reshape(len(history.history['loss']),1)\n",
    "test_recall = np.array(history.history['val_recall']).reshape(len(history.history['loss']),1)\n",
    "k = (2 * test_precission * test_recall )/ (test_precission+test_recall)\n",
    "# plt.plot(history.epoch,j, '-')\n",
    "# plt.plot(k,'--')\n",
    "\n",
    "ax2.scatter(history.epoch, k)\n",
    "ax2.scatter(history.epoch, j)\n",
    "ax2.plot(history.epoch, k,'-')\n",
    "ax2.plot(history.epoch, j,'--')\n",
    "# ax3.plot(j+3)\n",
    "# ax3.plot(trainloss,'tab:blue')"
   ],
   "metadata": {
    "collapsed": false,
    "pycharm": {
     "name": "#%%\n"
    }
   }
  },
  {
   "cell_type": "code",
   "execution_count": 992,
   "outputs": [],
   "source": [
    "table_test = pd.read_table('../drug-discovery/1663769555_8653905_test.txt', names=['sequence'])"
   ],
   "metadata": {
    "collapsed": false,
    "pycharm": {
     "name": "#%%\n"
    }
   }
  },
  {
   "cell_type": "code",
   "execution_count": 992,
   "outputs": [],
   "source": [],
   "metadata": {
    "collapsed": false,
    "pycharm": {
     "name": "#%%\n"
    }
   }
  },
  {
   "cell_type": "code",
   "execution_count": 993,
   "outputs": [],
   "source": [
    "unlabeled_test_sequence = vectorizer_k_best.transform(table_test.sequence).toarray()\n",
    "# unlabeled_test_sequence = pca.transform(unlabeled_test_sequence)"
   ],
   "metadata": {
    "collapsed": false,
    "pycharm": {
     "name": "#%%\n"
    }
   }
  },
  {
   "cell_type": "code",
   "execution_count": 994,
   "outputs": [
    {
     "data": {
      "text/plain": "(350, 84482)"
     },
     "execution_count": 994,
     "metadata": {},
     "output_type": "execute_result"
    }
   ],
   "source": [
    "unlabeled_test_sequence.shape"
   ],
   "metadata": {
    "collapsed": false,
    "pycharm": {
     "name": "#%%\n"
    }
   }
  },
  {
   "cell_type": "code",
   "execution_count": 995,
   "outputs": [
    {
     "name": "stdout",
     "output_type": "stream",
     "text": [
      " 1/11 [=>............................] - ETA: 1s"
     ]
    },
    {
     "name": "stderr",
     "output_type": "stream",
     "text": [
      "2022-10-08 03:01:56.598682: I tensorflow/core/grappler/optimizers/custom_graph_optimizer_registry.cc:114] Plugin optimizer for device_type GPU is enabled.\n"
     ]
    },
    {
     "name": "stdout",
     "output_type": "stream",
     "text": [
      "11/11 [==============================] - 1s 36ms/step\n"
     ]
    }
   ],
   "source": [
    "y = model.predict(unlabeled_test_sequence)"
   ],
   "metadata": {
    "collapsed": false,
    "pycharm": {
     "name": "#%%\n"
    }
   }
  },
  {
   "cell_type": "code",
   "execution_count": 996,
   "outputs": [
    {
     "data": {
      "text/plain": "array([[0.36010283],\n       [0.21080378],\n       [0.28783798],\n       [0.30650008],\n       [0.21243855],\n       [0.20574212],\n       [0.23132883],\n       [0.25586954],\n       [0.32306263],\n       [0.5276549 ],\n       [0.262712  ],\n       [0.25974527],\n       [0.2621999 ],\n       [0.2965771 ],\n       [0.22538546],\n       [0.27845988],\n       [0.20131625],\n       [0.22990087],\n       [0.2549964 ],\n       [0.29119676],\n       [0.24486247],\n       [0.27936733],\n       [0.20485774],\n       [0.29062402],\n       [0.20131457],\n       [0.67850375],\n       [0.27758187],\n       [0.22660066],\n       [0.3303571 ],\n       [0.20776916],\n       [0.23526736],\n       [0.2845039 ],\n       [0.27178857],\n       [0.219386  ],\n       [0.27229673],\n       [0.23552878],\n       [0.23974432],\n       [0.25768003],\n       [0.30806422],\n       [0.23822036],\n       [0.24625987],\n       [0.23161276],\n       [0.22261436],\n       [0.2485371 ],\n       [0.27446824],\n       [0.220039  ],\n       [0.2903308 ],\n       [0.31310236],\n       [0.20131256],\n       [0.25628695],\n       [0.4099186 ],\n       [0.35463175],\n       [0.24078731],\n       [0.33612245],\n       [0.24558051],\n       [0.5745844 ],\n       [0.24292494],\n       [0.25662044],\n       [0.24507256],\n       [0.24125539],\n       [0.2545591 ],\n       [0.8828098 ],\n       [0.22158214],\n       [0.2960391 ],\n       [0.24065992],\n       [0.2981789 ],\n       [0.7790249 ],\n       [0.21228728],\n       [0.2600241 ],\n       [0.31204244],\n       [0.23576073],\n       [0.21443465],\n       [0.22862485],\n       [0.30620638],\n       [0.23929153],\n       [0.30892202],\n       [0.25101852],\n       [0.23928337],\n       [0.25502664],\n       [0.22812578],\n       [0.23283647],\n       [0.2127784 ],\n       [0.812388  ],\n       [0.7077638 ],\n       [0.22827834],\n       [0.5000211 ],\n       [0.27702782],\n       [0.3056053 ],\n       [0.2280997 ],\n       [0.31486198],\n       [0.20131145],\n       [0.29601827],\n       [0.41562054],\n       [0.29926515],\n       [0.27749065],\n       [0.2013162 ],\n       [0.2615533 ],\n       [0.25727925],\n       [0.7677154 ],\n       [0.97293854],\n       [0.21036282],\n       [0.32649788],\n       [0.22336668],\n       [0.2259881 ],\n       [0.20131645],\n       [0.24311726],\n       [0.26058248],\n       [0.24772   ],\n       [0.27928495],\n       [0.24176435],\n       [0.31605098],\n       [0.30497578],\n       [0.25604564],\n       [0.43846008],\n       [0.7453987 ],\n       [0.24881773],\n       [0.2922752 ],\n       [0.22480692],\n       [0.5967889 ],\n       [0.24700335],\n       [0.5682353 ],\n       [0.24335629],\n       [0.24903871],\n       [0.3702956 ],\n       [0.23762593],\n       [0.29123273],\n       [0.2882546 ],\n       [0.21380767],\n       [0.24915114],\n       [0.21864326],\n       [0.23386353],\n       [0.7841963 ],\n       [0.26912275],\n       [0.22329733],\n       [0.20131683],\n       [0.2656045 ],\n       [0.32072765],\n       [0.21446238],\n       [0.22741456],\n       [0.5071674 ],\n       [0.3803181 ],\n       [0.33699632],\n       [0.22059691],\n       [0.31549808],\n       [0.2725424 ],\n       [0.5067908 ],\n       [0.78610337],\n       [0.2845145 ],\n       [0.52222836],\n       [0.23905243],\n       [0.24491064],\n       [0.22627398],\n       [0.23354496],\n       [0.50153357],\n       [0.31008223],\n       [0.28500342],\n       [0.25776032],\n       [0.2585063 ],\n       [0.26458132],\n       [0.27973732],\n       [0.3983003 ],\n       [0.26126936],\n       [0.59465384],\n       [0.26819906],\n       [0.21784867],\n       [0.23792048],\n       [0.356862  ],\n       [0.24376725],\n       [0.43078682],\n       [0.23648116],\n       [0.24631396],\n       [0.23841985],\n       [0.24841094],\n       [0.3036406 ],\n       [0.23432218],\n       [0.20131528],\n       [0.25393364],\n       [0.26999208],\n       [0.28560975],\n       [0.27828515],\n       [0.31751296],\n       [0.23008353],\n       [0.25398353],\n       [0.22403526],\n       [0.23518461],\n       [0.2275721 ],\n       [0.25512996],\n       [0.3084357 ],\n       [0.22861996],\n       [0.2537017 ],\n       [0.24861825],\n       [0.24474019],\n       [0.21533789],\n       [0.2733831 ],\n       [0.22263734],\n       [0.20131123],\n       [0.25929487],\n       [0.25678936],\n       [0.24521035],\n       [0.3023943 ],\n       [0.41210514],\n       [0.24999395],\n       [0.24973974],\n       [0.24690613],\n       [0.35380733],\n       [0.34103233],\n       [0.31989324],\n       [0.24468014],\n       [0.27068558],\n       [0.26592654],\n       [0.32555744],\n       [0.22250742],\n       [0.21449843],\n       [0.30206272],\n       [0.25743183],\n       [0.3035257 ],\n       [0.3126886 ],\n       [0.33093747],\n       [0.230442  ],\n       [0.21103667],\n       [0.27915108],\n       [0.23956232],\n       [0.6484395 ],\n       [0.24332264],\n       [0.20293233],\n       [0.72673905],\n       [0.2719726 ],\n       [0.23151232],\n       [0.47867665],\n       [0.2013173 ],\n       [0.3577663 ],\n       [0.22091027],\n       [0.25564915],\n       [0.27254862],\n       [0.26975623],\n       [0.3017683 ],\n       [0.20778151],\n       [0.269097  ],\n       [0.24724758],\n       [0.2799129 ],\n       [0.2439487 ],\n       [0.22510834],\n       [0.2576166 ],\n       [0.31685546],\n       [0.22054131],\n       [0.2862979 ],\n       [0.23512249],\n       [0.5892765 ],\n       [0.2245702 ],\n       [0.30479422],\n       [0.24288172],\n       [0.37143704],\n       [0.24862166],\n       [0.21491542],\n       [0.6096573 ],\n       [0.24957046],\n       [0.30583927],\n       [0.21599424],\n       [0.26679766],\n       [0.26415363],\n       [0.29364043],\n       [0.3222289 ],\n       [0.27985597],\n       [0.27421212],\n       [0.250483  ],\n       [0.25289214],\n       [0.25449517],\n       [0.21007054],\n       [0.3049481 ],\n       [0.23294908],\n       [0.29496533],\n       [0.22416945],\n       [0.26102346],\n       [0.27301428],\n       [0.2932097 ],\n       [0.31727245],\n       [0.27857023],\n       [0.2629217 ],\n       [0.29432994],\n       [0.2013166 ],\n       [0.25555882],\n       [0.6195624 ],\n       [0.2615966 ],\n       [0.2501657 ],\n       [0.3490044 ],\n       [0.24398209],\n       [0.20131625],\n       [0.30955678],\n       [0.26948547],\n       [0.31384128],\n       [0.20131756],\n       [0.22202002],\n       [0.72806114],\n       [0.2831554 ],\n       [0.22487034],\n       [0.2911848 ],\n       [0.2387093 ],\n       [0.29047084],\n       [0.5016024 ],\n       [0.20884873],\n       [0.2874894 ],\n       [0.25423145],\n       [0.28027803],\n       [0.2282677 ],\n       [0.26299164],\n       [0.21711792],\n       [0.247307  ],\n       [0.2572648 ],\n       [0.23488662],\n       [0.31015065],\n       [0.23292775],\n       [0.23486476],\n       [0.25835913],\n       [0.24460725],\n       [0.23671165],\n       [0.66128707],\n       [0.20131528],\n       [0.3007772 ],\n       [0.24585217],\n       [0.20131476],\n       [0.24310848],\n       [0.35943848],\n       [0.81622285],\n       [0.2359901 ],\n       [0.23653837],\n       [0.5204219 ],\n       [0.47523528],\n       [0.32399708],\n       [0.25304815],\n       [0.29579374],\n       [0.6304149 ],\n       [0.26860946],\n       [0.2013093 ],\n       [0.20131418],\n       [0.2230423 ],\n       [0.2674202 ],\n       [0.36876452],\n       [0.21168531],\n       [0.41308483],\n       [0.24219412],\n       [0.2584999 ],\n       [0.20131235],\n       [0.22137325],\n       [0.29215512],\n       [0.26408234],\n       [0.2013084 ],\n       [0.3482336 ],\n       [0.2578734 ],\n       [0.5231433 ],\n       [0.25706765]], dtype=float32)"
     },
     "execution_count": 996,
     "metadata": {},
     "output_type": "execute_result"
    }
   ],
   "source": [
    "y"
   ],
   "metadata": {
    "collapsed": false,
    "pycharm": {
     "name": "#%%\n"
    }
   }
  },
  {
   "cell_type": "code",
   "execution_count": 997,
   "outputs": [],
   "source": [
    "# for i in range(3):\n",
    "z = [1 if i>=.5 else 0 for i in y ]"
   ],
   "metadata": {
    "collapsed": false,
    "pycharm": {
     "name": "#%%\n"
    }
   }
  },
  {
   "cell_type": "code",
   "execution_count": 998,
   "outputs": [
    {
     "data": {
      "text/plain": "350"
     },
     "execution_count": 998,
     "metadata": {},
     "output_type": "execute_result"
    }
   ],
   "source": [
    "len(z)"
   ],
   "metadata": {
    "collapsed": false,
    "pycharm": {
     "name": "#%%\n"
    }
   }
  },
  {
   "cell_type": "code",
   "execution_count": 999,
   "outputs": [],
   "source": [
    "import csv\n",
    "outfile = open('./results.csv','w')\n",
    "out = csv.writer(outfile)\n",
    "out.writerows(map(lambda x: [x], z))\n",
    "outfile.close()"
   ],
   "metadata": {
    "collapsed": false,
    "pycharm": {
     "name": "#%%\n"
    }
   }
  },
  {
   "cell_type": "code",
   "execution_count": 675,
   "outputs": [],
   "source": [],
   "metadata": {
    "collapsed": false,
    "pycharm": {
     "name": "#%%\n"
    }
   }
  },
  {
   "cell_type": "code",
   "execution_count": null,
   "outputs": [],
   "source": [],
   "metadata": {
    "collapsed": false,
    "pycharm": {
     "name": "#%%\n"
    }
   }
  }
 ],
 "metadata": {
  "kernelspec": {
   "display_name": "Python 3",
   "language": "python",
   "name": "python3"
  },
  "language_info": {
   "codemirror_mode": {
    "name": "ipython",
    "version": 2
   },
   "file_extension": ".py",
   "mimetype": "text/x-python",
   "name": "python",
   "nbconvert_exporter": "python",
   "pygments_lexer": "ipython2",
   "version": "2.7.6"
  }
 },
 "nbformat": 4,
 "nbformat_minor": 0
}