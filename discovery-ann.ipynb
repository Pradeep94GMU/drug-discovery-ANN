{
 "cells": [
  {
   "cell_type": "code",
   "execution_count": 768,
   "metadata": {
    "collapsed": true,
    "pycharm": {
     "name": "#%%\n"
    }
   },
   "outputs": [],
   "source": [
    "import tensorflow as tf\n",
    "import pandas as pd\n",
    "import numpy as np\n",
    "import matplotlib.pyplot as plt\n",
    "import imblearn"
   ]
  },
  {
   "cell_type": "code",
   "execution_count": 769,
   "outputs": [],
   "source": [
    "table = pd.read_table('../drug-discovery/1663769555_8559356_train.txt', names=['binding','sequence'])"
   ],
   "metadata": {
    "collapsed": false,
    "pycharm": {
     "name": "#%%\n"
    }
   }
  },
  {
   "cell_type": "code",
   "execution_count": 770,
   "outputs": [],
   "source": [
    "from sklearn.feature_extraction.text import CountVectorizer\n",
    "def return_binary_vectorized_form(data_frame):\n",
    "    count_vectorizer = CountVectorizer(binary=True)\n",
    "    fitted_and_transformed = count_vectorizer.fit_transform(data_frame).toarray()\n",
    "    return count_vectorizer,  fitted_and_transformed\n"
   ],
   "metadata": {
    "collapsed": false,
    "pycharm": {
     "name": "#%%\n"
    }
   }
  },
  {
   "cell_type": "code",
   "execution_count": 771,
   "outputs": [],
   "source": [
    "from sklearn.feature_extraction.text import CountVectorizer\n",
    "def return_binary_vectorized_form_with_vocab(data_frame, vocab):\n",
    "    count_vectorizer = CountVectorizer(binary=True, vocabulary=vocab)\n",
    "    fitted_and_transformed = count_vectorizer.fit_transform(data_frame).toarray()\n",
    "    return count_vectorizer,  fitted_and_transformed"
   ],
   "metadata": {
    "collapsed": false,
    "pycharm": {
     "name": "#%%\n"
    }
   }
  },
  {
   "cell_type": "code",
   "execution_count": 772,
   "outputs": [],
   "source": [
    "from sklearn.feature_selection import SelectKBest, chi2\n",
    "def select_k_best_features(feature_set, target_values, fraction, feature_list):\n",
    "    select_bestselect_best = SelectKBest(score_func=chi2, k = int(len(feature_list)*fraction))\n",
    "    select_bestselect_best.fit(feature_set,target_values)\n",
    "    mask = select_bestselect_best.get_support()\n",
    "    k_best_featurs = feature_list[mask]\n",
    "    return k_best_featurs"
   ],
   "metadata": {
    "collapsed": false,
    "pycharm": {
     "name": "#%%\n"
    }
   }
  },
  {
   "cell_type": "code",
   "execution_count": 773,
   "outputs": [],
   "source": [
    "from sklearn.model_selection import train_test_split\n",
    "active_df = table.loc[table.binding == 1]\n",
    "not_active_df = table.loc[table.binding == 0]\n",
    "active_train, active_test, active_binding_train, active_binding_test = train_test_split(active_df.sequence, active_df.binding, shuffle=True, train_size=.75)\n",
    "not_active_train, not_active_test, not_active_binding_train, not_active_binding_test = train_test_split(not_active_df.sequence, not_active_df.binding, shuffle=True, train_size=.70)"
   ],
   "metadata": {
    "collapsed": false,
    "pycharm": {
     "name": "#%%\n"
    }
   }
  },
  {
   "cell_type": "code",
   "execution_count": 774,
   "outputs": [],
   "source": [
    "active_train_df = pd.DataFrame(active_train)\n",
    "active_test_df = pd.DataFrame(active_test)\n",
    "active_binding_train_df = pd.DataFrame(active_binding_train)\n",
    "active_binding_test_df = pd.DataFrame(active_binding_test)\n",
    "\n",
    "active_train_df['binding'] = active_binding_train_df['binding']\n",
    "active_test_df['binding'] = active_binding_test_df['binding']"
   ],
   "metadata": {
    "collapsed": false,
    "pycharm": {
     "name": "#%%\n"
    }
   }
  },
  {
   "cell_type": "code",
   "execution_count": 775,
   "outputs": [],
   "source": [
    "not_active_train_df = pd.DataFrame(not_active_train)\n",
    "not_active_test_df = pd.DataFrame(not_active_test)\n",
    "not_active_binding_train_df = pd.DataFrame(not_active_binding_train)\n",
    "not_active_binding_test_df = pd.DataFrame(not_active_binding_test)\n",
    "\n",
    "not_active_train_df['binding'] = not_active_binding_train_df['binding']\n",
    "not_active_test_df['binding'] = not_active_binding_test_df['binding']"
   ],
   "metadata": {
    "collapsed": false,
    "pycharm": {
     "name": "#%%\n"
    }
   }
  },
  {
   "cell_type": "code",
   "execution_count": 776,
   "outputs": [
    {
     "name": "stdout",
     "output_type": "stream",
     "text": [
      "0    505\n",
      "1     58\n",
      "Name: binding, dtype: int64\n",
      "0    217\n",
      "1     20\n",
      "Name: binding, dtype: int64\n"
     ]
    }
   ],
   "source": [
    "train_df = pd.concat([active_train_df,not_active_train_df]).reset_index()\n",
    "train_df = train_df.drop('index',axis=1)\n",
    "print(train_df.binding.value_counts())\n",
    "\n",
    "test_df = pd.concat([active_test_df,not_active_test_df]).reset_index()\n",
    "test_df = test_df.drop('index',axis=1)\n",
    "print(test_df.binding.value_counts())"
   ],
   "metadata": {
    "collapsed": false,
    "pycharm": {
     "name": "#%%\n"
    }
   }
  },
  {
   "cell_type": "code",
   "execution_count": 777,
   "outputs": [],
   "source": [
    "from imblearn.over_sampling import RandomOverSampler\n",
    "sampler = RandomOverSampler()\n",
    "x_sampled, y_sampled = sampler.fit_resample(np.array(train_df.sequence).reshape(-1,1),train_df.binding)\n",
    "x_test_sampled, y_test_sampled = sampler.fit_resample(np.array(test_df.sequence).reshape(-1,1),test_df.binding)"
   ],
   "metadata": {
    "collapsed": false,
    "pycharm": {
     "name": "#%%\n"
    }
   }
  },
  {
   "cell_type": "code",
   "execution_count": 778,
   "outputs": [
    {
     "name": "stdout",
     "output_type": "stream",
     "text": [
      "1    505\n",
      "0    505\n",
      "Name: binding, dtype: int64\n",
      "1    217\n",
      "0    217\n",
      "Name: binding, dtype: int64\n"
     ]
    }
   ],
   "source": [
    "final_train_set = pd.DataFrame(x_sampled, columns  =[\"sequence\"])\n",
    "final_train_set['binding'] = y_sampled\n",
    "print(final_train_set.binding.value_counts())\n",
    "\n",
    "final_test_set = pd.DataFrame(x_test_sampled, columns  =[\"sequence\"])\n",
    "final_test_set['binding'] = y_test_sampled\n",
    "print(final_test_set.binding.value_counts())"
   ],
   "metadata": {
    "collapsed": false,
    "pycharm": {
     "name": "#%%\n"
    }
   }
  },
  {
   "cell_type": "code",
   "execution_count": 779,
   "outputs": [],
   "source": [
    "vectorizer_global, training_features = return_binary_vectorized_form(final_train_set.sequence)\n",
    "k_best_feature = select_k_best_features(training_features, final_train_set.binding, 0.25, vectorizer_global.get_feature_names_out())\n",
    "vectorizer_k_best, training_split = return_binary_vectorized_form_with_vocab(final_train_set.sequence,k_best_feature)\n",
    "test_split = vectorizer_k_best.transform(final_test_set.sequence).toarray()"
   ],
   "metadata": {
    "collapsed": false,
    "pycharm": {
     "name": "#%%\n"
    }
   }
  },
  {
   "cell_type": "code",
   "execution_count": 780,
   "outputs": [
    {
     "name": "stdout",
     "output_type": "stream",
     "text": [
      "(1010, 19997)\n",
      "(434, 19997)\n"
     ]
    }
   ],
   "source": [
    "print(training_split.shape)\n",
    "print(test_split.shape)"
   ],
   "metadata": {
    "collapsed": false,
    "pycharm": {
     "name": "#%%\n"
    }
   }
  },
  {
   "cell_type": "code",
   "execution_count": 781,
   "outputs": [
    {
     "name": "stdout",
     "output_type": "stream",
     "text": [
      "(1010,)\n",
      "(434,)\n"
     ]
    }
   ],
   "source": [
    "train_result = np.array(final_train_set.binding)\n",
    "test_result = np.array(final_test_set.binding)\n",
    "print(train_result.shape)\n",
    "print(test_result.shape)"
   ],
   "metadata": {
    "collapsed": false,
    "pycharm": {
     "name": "#%%\n"
    }
   }
  },
  {
   "cell_type": "code",
   "execution_count": 782,
   "outputs": [
    {
     "data": {
      "text/plain": "217"
     },
     "execution_count": 782,
     "metadata": {},
     "output_type": "execute_result"
    }
   ],
   "source": [
    "test_result.sum()"
   ],
   "metadata": {
    "collapsed": false,
    "pycharm": {
     "name": "#%%\n"
    }
   }
  },
  {
   "cell_type": "code",
   "execution_count": 783,
   "outputs": [
    {
     "data": {
      "text/plain": "505"
     },
     "execution_count": 783,
     "metadata": {},
     "output_type": "execute_result"
    }
   ],
   "source": [
    "train_result.sum()"
   ],
   "metadata": {
    "collapsed": false,
    "pycharm": {
     "name": "#%%\n"
    }
   }
  },
  {
   "cell_type": "code",
   "execution_count": 791,
   "outputs": [],
   "source": [
    "model = tf.keras.Sequential([\n",
    "    tf.keras.Input(shape=(training_split.shape[-1],)),\n",
    "    # tf.keras.layers.Dropout(0.8),\n",
    "    tf.keras.layers.Dense(2,activation='relu',kernel_regularizer=tf.keras.regularizers.L1(0.05)),\n",
    "    # tf.keras.layers.Dropout(0.5),\n",
    "    tf.keras.layers.Dense(1, activation='sigmoid')\n",
    "])"
   ],
   "metadata": {
    "collapsed": false,
    "pycharm": {
     "name": "#%%\n"
    }
   }
  },
  {
   "cell_type": "code",
   "execution_count": 792,
   "outputs": [],
   "source": [
    "METRICS = [\n",
    "      tf.keras.metrics.TruePositives(name='tp'),\n",
    "      tf.keras.metrics.FalsePositives(name='fp'),\n",
    "      tf.keras.metrics.TrueNegatives(name='tn'),\n",
    "      tf.keras.metrics.FalseNegatives(name='fn'),\n",
    "      tf.keras.metrics.BinaryAccuracy(name='accuracy'),\n",
    "      tf.keras.metrics.Precision(name='precision'),\n",
    "      tf.keras.metrics.Recall(name='recall'),\n",
    "      tf.keras.metrics.AUC(name='auc'),\n",
    "      tf.keras.metrics.AUC(name='prc', curve='PR'), # precision-recall curve\n",
    "]\n",
    "\n",
    "model.compile(loss=tf.keras.losses.BinaryCrossentropy(from_logits=True), optimizer='adam', metrics=METRICS)"
   ],
   "metadata": {
    "collapsed": false,
    "pycharm": {
     "name": "#%%\n"
    }
   }
  },
  {
   "cell_type": "code",
   "execution_count": 793,
   "outputs": [
    {
     "name": "stdout",
     "output_type": "stream",
     "text": [
      "Epoch 1/10\n"
     ]
    },
    {
     "name": "stderr",
     "output_type": "stream",
     "text": [
      "/Users/bhabaranjanpanigrahi/miniforge3/envs/mlp/lib/python3.8/site-packages/keras/backend.py:5673: UserWarning: \"`binary_crossentropy` received `from_logits=True`, but the `output` argument was produced by a Sigmoid activation and thus does not represent logits. Was this intended?\n",
      "  output, from_logits = _get_logits(\n",
      "2022-10-06 20:46:10.382033: I tensorflow/core/grappler/optimizers/custom_graph_optimizer_registry.cc:114] Plugin optimizer for device_type GPU is enabled.\n"
     ]
    },
    {
     "name": "stdout",
     "output_type": "stream",
     "text": [
      "32/32 [==============================] - ETA: 0s - loss: 5.3383 - tp: 453.0000 - fp: 224.0000 - tn: 281.0000 - fn: 52.0000 - accuracy: 0.7267 - precision: 0.6691 - recall: 0.8970 - auc: 0.8709 - prc: 0.9014"
     ]
    },
    {
     "name": "stderr",
     "output_type": "stream",
     "text": [
      "2022-10-06 20:46:13.459752: I tensorflow/core/grappler/optimizers/custom_graph_optimizer_registry.cc:114] Plugin optimizer for device_type GPU is enabled.\n"
     ]
    },
    {
     "name": "stdout",
     "output_type": "stream",
     "text": [
      "32/32 [==============================] - 5s 119ms/step - loss: 5.3383 - tp: 453.0000 - fp: 224.0000 - tn: 281.0000 - fn: 52.0000 - accuracy: 0.7267 - precision: 0.6691 - recall: 0.8970 - auc: 0.8709 - prc: 0.9014 - val_loss: 1.6083 - val_tp: 217.0000 - val_fp: 97.0000 - val_tn: 120.0000 - val_fn: 0.0000e+00 - val_accuracy: 0.7765 - val_precision: 0.6911 - val_recall: 1.0000 - val_auc: 0.9493 - val_prc: 0.9432\n",
      "Epoch 2/10\n",
      "32/32 [==============================] - 1s 27ms/step - loss: 1.1679 - tp: 461.0000 - fp: 64.0000 - tn: 441.0000 - fn: 44.0000 - accuracy: 0.8931 - precision: 0.8781 - recall: 0.9129 - auc: 0.9464 - prc: 0.9502 - val_loss: 0.9943 - val_tp: 172.0000 - val_fp: 10.0000 - val_tn: 207.0000 - val_fn: 45.0000 - val_accuracy: 0.8733 - val_precision: 0.9451 - val_recall: 0.7926 - val_auc: 0.9234 - val_prc: 0.9351\n",
      "Epoch 3/10\n",
      "32/32 [==============================] - 1s 20ms/step - loss: 0.9474 - tp: 419.0000 - fp: 26.0000 - tn: 479.0000 - fn: 86.0000 - accuracy: 0.8891 - precision: 0.9416 - recall: 0.8297 - auc: 0.9434 - prc: 0.9480 - val_loss: 0.9490 - val_tp: 163.0000 - val_fp: 5.0000 - val_tn: 212.0000 - val_fn: 54.0000 - val_accuracy: 0.8641 - val_precision: 0.9702 - val_recall: 0.7512 - val_auc: 0.8993 - val_prc: 0.9235\n",
      "Epoch 4/10\n",
      "32/32 [==============================] - 1s 20ms/step - loss: 0.9288 - tp: 386.0000 - fp: 22.0000 - tn: 483.0000 - fn: 119.0000 - accuracy: 0.8604 - precision: 0.9461 - recall: 0.7644 - auc: 0.9397 - prc: 0.9457 - val_loss: 0.9353 - val_tp: 163.0000 - val_fp: 4.0000 - val_tn: 213.0000 - val_fn: 54.0000 - val_accuracy: 0.8664 - val_precision: 0.9760 - val_recall: 0.7512 - val_auc: 0.9046 - val_prc: 0.9243\n",
      "Epoch 5/10\n",
      "32/32 [==============================] - 1s 18ms/step - loss: 0.9189 - tp: 368.0000 - fp: 21.0000 - tn: 484.0000 - fn: 137.0000 - accuracy: 0.8436 - precision: 0.9460 - recall: 0.7287 - auc: 0.9386 - prc: 0.9446 - val_loss: 0.9305 - val_tp: 163.0000 - val_fp: 4.0000 - val_tn: 213.0000 - val_fn: 54.0000 - val_accuracy: 0.8664 - val_precision: 0.9760 - val_recall: 0.7512 - val_auc: 0.8994 - val_prc: 0.9237\n",
      "Epoch 6/10\n",
      "32/32 [==============================] - 1s 20ms/step - loss: 0.9133 - tp: 364.0000 - fp: 21.0000 - tn: 484.0000 - fn: 141.0000 - accuracy: 0.8396 - precision: 0.9455 - recall: 0.7208 - auc: 0.9477 - prc: 0.9502 - val_loss: 0.9178 - val_tp: 163.0000 - val_fp: 3.0000 - val_tn: 214.0000 - val_fn: 54.0000 - val_accuracy: 0.8687 - val_precision: 0.9819 - val_recall: 0.7512 - val_auc: 0.9230 - val_prc: 0.9366\n",
      "Epoch 7/10\n",
      "32/32 [==============================] - 1s 19ms/step - loss: 0.9078 - tp: 361.0000 - fp: 19.0000 - tn: 486.0000 - fn: 144.0000 - accuracy: 0.8386 - precision: 0.9500 - recall: 0.7149 - auc: 0.9442 - prc: 0.9485 - val_loss: 0.9126 - val_tp: 149.0000 - val_fp: 3.0000 - val_tn: 214.0000 - val_fn: 68.0000 - val_accuracy: 0.8364 - val_precision: 0.9803 - val_recall: 0.6866 - val_auc: 0.9382 - val_prc: 0.9428\n",
      "Epoch 8/10\n",
      "32/32 [==============================] - 1s 18ms/step - loss: 0.9028 - tp: 359.0000 - fp: 18.0000 - tn: 487.0000 - fn: 146.0000 - accuracy: 0.8376 - precision: 0.9523 - recall: 0.7109 - auc: 0.9509 - prc: 0.9534 - val_loss: 0.9039 - val_tp: 149.0000 - val_fp: 3.0000 - val_tn: 214.0000 - val_fn: 68.0000 - val_accuracy: 0.8364 - val_precision: 0.9803 - val_recall: 0.6866 - val_auc: 0.9112 - val_prc: 0.9331\n",
      "Epoch 9/10\n",
      "32/32 [==============================] - 1s 18ms/step - loss: 0.9021 - tp: 348.0000 - fp: 17.0000 - tn: 488.0000 - fn: 157.0000 - accuracy: 0.8277 - precision: 0.9534 - recall: 0.6891 - auc: 0.9543 - prc: 0.9544 - val_loss: 0.9177 - val_tp: 149.0000 - val_fp: 3.0000 - val_tn: 214.0000 - val_fn: 68.0000 - val_accuracy: 0.8364 - val_precision: 0.9803 - val_recall: 0.6866 - val_auc: 0.8935 - val_prc: 0.9196\n",
      "Epoch 10/10\n",
      "32/32 [==============================] - 1s 17ms/step - loss: 0.9022 - tp: 350.0000 - fp: 17.0000 - tn: 488.0000 - fn: 155.0000 - accuracy: 0.8297 - precision: 0.9537 - recall: 0.6931 - auc: 0.9428 - prc: 0.9474 - val_loss: 0.9123 - val_tp: 149.0000 - val_fp: 3.0000 - val_tn: 214.0000 - val_fn: 68.0000 - val_accuracy: 0.8364 - val_precision: 0.9803 - val_recall: 0.6866 - val_auc: 0.8912 - val_prc: 0.9190\n"
     ]
    }
   ],
   "source": [
    "num_epochs = 10\n",
    "history = model.fit(training_split, train_result, epochs=num_epochs, validation_data=(test_split, test_result))"
   ],
   "metadata": {
    "collapsed": false,
    "pycharm": {
     "name": "#%%\n"
    }
   }
  },
  {
   "cell_type": "code",
   "execution_count": 794,
   "outputs": [
    {
     "data": {
      "text/plain": "[<matplotlib.lines.Line2D at 0x2cf60bc10>]"
     },
     "execution_count": 794,
     "metadata": {},
     "output_type": "execute_result"
    },
    {
     "data": {
      "text/plain": "<Figure size 640x480 with 2 Axes>",
      "image/png": "[encoded data removed]"
     },
     "metadata": {},
     "output_type": "display_data"
    }
   ],
   "source": [
    "fig, (ax1,ax2) = plt.subplots(2,1)\n",
    "testloss = np.array(history.history['val_loss']).reshape(len(history.history['val_loss']),1)\n",
    "trainloss = np.array(history.history['loss']).reshape(len(history.history['loss']),1)\n",
    "\n",
    "ax1.plot(history.epoch, testloss, '-')\n",
    "ax1.plot(history.epoch, trainloss, '--')\n",
    "# ax1.ylabel('loss')\n",
    "# ax1.xlabel('epoch')\n",
    "\n",
    "train_precision = np.array(history.history['precision']).reshape(len(history.history['loss']),1)\n",
    "train_recall= np.array(history.history['recall']).reshape(len(history.history['loss']),1)\n",
    "j =( 2 * train_precision * train_recall) / (train_precision+train_recall)\n",
    "\n",
    "test_precission = np.array(history.history['val_precision']).reshape(len(history.history['loss']),1)\n",
    "test_recall = np.array(history.history['val_recall']).reshape(len(history.history['loss']),1)\n",
    "k = (2 * test_precission * test_recall )/ (test_precission+test_recall)\n",
    "# plt.plot(history.epoch,j, '-')\n",
    "# plt.plot(k,'--')\n",
    "\n",
    "ax2.plot(history.epoch, k, 'tab:red')\n",
    "ax2.plot(history.epoch, j, 'tab:green')\n",
    "\n",
    "# ax3.plot(j+3)\n",
    "# ax3.plot(trainloss,'tab:blue')"
   ],
   "metadata": {
    "collapsed": false,
    "pycharm": {
     "name": "#%%\n"
    }
   }
  },
  {
   "cell_type": "code",
   "execution_count": 795,
   "outputs": [],
   "source": [
    "table_test = pd.read_table('../drug-discovery/1663769555_8653905_test.txt', names=['sequence'])"
   ],
   "metadata": {
    "collapsed": false,
    "pycharm": {
     "name": "#%%\n"
    }
   }
  },
  {
   "cell_type": "code",
   "execution_count": 795,
   "outputs": [],
   "source": [],
   "metadata": {
    "collapsed": false,
    "pycharm": {
     "name": "#%%\n"
    }
   }
  },
  {
   "cell_type": "code",
   "execution_count": 796,
   "outputs": [],
   "source": [
    "unlabeled_test_sequence = vectorizer_k_best.transform(table_test.sequence).toarray()"
   ],
   "metadata": {
    "collapsed": false,
    "pycharm": {
     "name": "#%%\n"
    }
   }
  },
  {
   "cell_type": "code",
   "execution_count": 797,
   "outputs": [
    {
     "data": {
      "text/plain": "(350, 19997)"
     },
     "execution_count": 797,
     "metadata": {},
     "output_type": "execute_result"
    }
   ],
   "source": [
    "unlabeled_test_sequence.shape"
   ],
   "metadata": {
    "collapsed": false,
    "pycharm": {
     "name": "#%%\n"
    }
   }
  },
  {
   "cell_type": "code",
   "execution_count": 798,
   "outputs": [
    {
     "name": "stdout",
     "output_type": "stream",
     "text": [
      " 2/11 [====>.........................] - ETA: 0s"
     ]
    },
    {
     "name": "stderr",
     "output_type": "stream",
     "text": [
      "2022-10-06 20:47:46.553732: I tensorflow/core/grappler/optimizers/custom_graph_optimizer_registry.cc:114] Plugin optimizer for device_type GPU is enabled.\n"
     ]
    },
    {
     "name": "stdout",
     "output_type": "stream",
     "text": [
      "11/11 [==============================] - 0s 13ms/step\n"
     ]
    }
   ],
   "source": [
    "y = model.predict(unlabeled_test_sequence)"
   ],
   "metadata": {
    "collapsed": false,
    "pycharm": {
     "name": "#%%\n"
    }
   }
  },
  {
   "cell_type": "code",
   "execution_count": 799,
   "outputs": [
    {
     "data": {
      "text/plain": "array([[0.50297004],\n       [0.42067304],\n       [0.42443714],\n       [0.4221262 ],\n       [0.42418137],\n       [0.42278776],\n       [0.42335525],\n       [0.42671728],\n       [0.42778754],\n       [0.5187776 ],\n       [0.42260182],\n       [0.4259282 ],\n       [0.42260867],\n       [0.4284702 ],\n       [0.42278197],\n       [0.42538434],\n       [0.421154  ],\n       [0.43679875],\n       [0.42307836],\n       [0.42289662],\n       [0.4215421 ],\n       [0.42419   ],\n       [0.41933984],\n       [0.42126197],\n       [0.45684728],\n       [0.8063652 ],\n       [0.42340192],\n       [0.42515984],\n       [0.42416775],\n       [0.42683688],\n       [0.425033  ],\n       [0.4237192 ],\n       [0.4234214 ],\n       [0.4219189 ],\n       [0.42444393],\n       [0.42426446],\n       [0.42301592],\n       [0.42357552],\n       [0.4288711 ],\n       [0.42230356],\n       [0.4230729 ],\n       [0.4221097 ],\n       [0.42389864],\n       [0.42055178],\n       [0.41874576],\n       [0.42292622],\n       [0.42428464],\n       [0.42395413],\n       [0.42063072],\n       [0.4199102 ],\n       [0.4324699 ],\n       [0.42071798],\n       [0.4224283 ],\n       [0.49000487],\n       [0.42304468],\n       [0.50208974],\n       [0.42451245],\n       [0.4245429 ],\n       [0.4244151 ],\n       [0.4222678 ],\n       [0.42404944],\n       [0.85783666],\n       [0.42269668],\n       [0.42070463],\n       [0.4265201 ],\n       [0.42490014],\n       [0.70548606],\n       [0.41749457],\n       [0.4244635 ],\n       [0.42065564],\n       [0.4193523 ],\n       [0.42378116],\n       [0.41998783],\n       [0.42288682],\n       [0.42225242],\n       [0.42494783],\n       [0.42284498],\n       [0.42351565],\n       [0.4243121 ],\n       [0.42269254],\n       [0.4450293 ],\n       [0.42208537],\n       [0.7782047 ],\n       [0.8384419 ],\n       [0.42209458],\n       [0.77560884],\n       [0.42560235],\n       [0.4271287 ],\n       [0.4239886 ],\n       [0.42435247],\n       [0.4220855 ],\n       [0.4239593 ],\n       [0.42316237],\n       [0.42349267],\n       [0.42137116],\n       [0.42841074],\n       [0.42538562],\n       [0.42265782],\n       [0.83619535],\n       [0.7780128 ],\n       [0.42420354],\n       [0.42490676],\n       [0.4216644 ],\n       [0.42242208],\n       [0.41974404],\n       [0.4197588 ],\n       [0.42502177],\n       [0.42619345],\n       [0.42442474],\n       [0.42216495],\n       [0.42348793],\n       [0.4235551 ],\n       [0.42124614],\n       [0.42510492],\n       [0.84950846],\n       [0.42372683],\n       [0.42329326],\n       [0.4236229 ],\n       [0.6534958 ],\n       [0.4232587 ],\n       [0.71236646],\n       [0.42216164],\n       [0.42305574],\n       [0.42212448],\n       [0.42113334],\n       [0.42032242],\n       [0.42301077],\n       [0.42313212],\n       [0.42284304],\n       [0.4256976 ],\n       [0.42238554],\n       [0.85806453],\n       [0.4213937 ],\n       [0.4216098 ],\n       [0.4200265 ],\n       [0.42404836],\n       [0.42291906],\n       [0.426565  ],\n       [0.42444667],\n       [0.43147114],\n       [0.420952  ],\n       [0.43868682],\n       [0.42052484],\n       [0.4220384 ],\n       [0.42088026],\n       [0.42410266],\n       [0.8045269 ],\n       [0.42453176],\n       [0.6473188 ],\n       [0.42257562],\n       [0.42214653],\n       [0.41842565],\n       [0.42029083],\n       [0.44785726],\n       [0.4220506 ],\n       [0.42544198],\n       [0.4220759 ],\n       [0.42183384],\n       [0.4231639 ],\n       [0.42433178],\n       [0.4914209 ],\n       [0.4229757 ],\n       [0.7311212 ],\n       [0.42356798],\n       [0.42396846],\n       [0.4240538 ],\n       [0.4280048 ],\n       [0.41937774],\n       [0.5646055 ],\n       [0.42072904],\n       [0.42249954],\n       [0.42274815],\n       [0.42245185],\n       [0.41930035],\n       [0.4227307 ],\n       [0.4163669 ],\n       [0.42367238],\n       [0.42310882],\n       [0.42083955],\n       [0.42134103],\n       [0.42154375],\n       [0.42188802],\n       [0.41972798],\n       [0.42110503],\n       [0.4227599 ],\n       [0.43442267],\n       [0.41960958],\n       [0.42503655],\n       [0.42305893],\n       [0.4230717 ],\n       [0.4205835 ],\n       [0.4191403 ],\n       [0.42238218],\n       [0.42255598],\n       [0.4210807 ],\n       [0.43519947],\n       [0.4230726 ],\n       [0.42305207],\n       [0.42671147],\n       [0.42758495],\n       [0.43291387],\n       [0.42300493],\n       [0.42506972],\n       [0.42251545],\n       [0.42477074],\n       [0.48160377],\n       [0.4231232 ],\n       [0.4228306 ],\n       [0.4221583 ],\n       [0.4243159 ],\n       [0.4236414 ],\n       [0.42043677],\n       [0.4210279 ],\n       [0.429933  ],\n       [0.4255317 ],\n       [0.41764855],\n       [0.42251647],\n       [0.4210515 ],\n       [0.42609754],\n       [0.4248713 ],\n       [0.42993972],\n       [0.42268348],\n       [0.74216986],\n       [0.42145386],\n       [0.4228356 ],\n       [0.74665284],\n       [0.423476  ],\n       [0.41937178],\n       [0.4245136 ],\n       [0.41852805],\n       [0.44165668],\n       [0.42421666],\n       [0.42560905],\n       [0.4214417 ],\n       [0.42223862],\n       [0.4274348 ],\n       [0.42535165],\n       [0.42232707],\n       [0.4215117 ],\n       [0.42260462],\n       [0.4202185 ],\n       [0.43166438],\n       [0.4213952 ],\n       [0.4234608 ],\n       [0.42024085],\n       [0.42193142],\n       [0.4208747 ],\n       [0.6681903 ],\n       [0.42141315],\n       [0.42282492],\n       [0.42172256],\n       [0.4226723 ],\n       [0.42582068],\n       [0.4230234 ],\n       [0.6868516 ],\n       [0.42482483],\n       [0.42289168],\n       [0.4218907 ],\n       [0.4407088 ],\n       [0.4247855 ],\n       [0.46763498],\n       [0.42433012],\n       [0.42526522],\n       [0.42443553],\n       [0.42427298],\n       [0.4291661 ],\n       [0.42308784],\n       [0.42234668],\n       [0.42484626],\n       [0.42217666],\n       [0.42189154],\n       [0.4226959 ],\n       [0.42679882],\n       [0.42345077],\n       [0.42222306],\n       [0.42497376],\n       [0.42427564],\n       [0.42545122],\n       [0.4241941 ],\n       [0.42036447],\n       [0.4211092 ],\n       [0.7850472 ],\n       [0.42498675],\n       [0.4224213 ],\n       [0.42477086],\n       [0.41957557],\n       [0.42236272],\n       [0.42273867],\n       [0.42009196],\n       [0.4234604 ],\n       [0.41811886],\n       [0.4310917 ],\n       [0.861115  ],\n       [0.42455223],\n       [0.4245878 ],\n       [0.42422932],\n       [0.42412436],\n       [0.42250413],\n       [0.48791334],\n       [0.42377332],\n       [0.42508307],\n       [0.42312273],\n       [0.4222582 ],\n       [0.4187958 ],\n       [0.42104363],\n       [0.42420092],\n       [0.4222989 ],\n       [0.4221914 ],\n       [0.42044118],\n       [0.42174742],\n       [0.43553418],\n       [0.42122653],\n       [0.42400014],\n       [0.42214122],\n       [0.42444453],\n       [0.8125403 ],\n       [0.42171857],\n       [0.42245618],\n       [0.42169368],\n       [0.42171755],\n       [0.4242192 ],\n       [0.42320228],\n       [0.78682446],\n       [0.42359412],\n       [0.42320046],\n       [0.42603922],\n       [0.49160936],\n       [0.42646313],\n       [0.42476144],\n       [0.42281726],\n       [0.7839722 ],\n       [0.42269224],\n       [0.4363694 ],\n       [0.4231474 ],\n       [0.4209177 ],\n       [0.4213438 ],\n       [0.4907134 ],\n       [0.42386082],\n       [0.42610985],\n       [0.42494094],\n       [0.42069063],\n       [0.4222026 ],\n       [0.42123583],\n       [0.4231881 ],\n       [0.4244269 ],\n       [0.4177863 ],\n       [0.43340638],\n       [0.42328176],\n       [0.5283941 ],\n       [0.42310593]], dtype=float32)"
     },
     "execution_count": 799,
     "metadata": {},
     "output_type": "execute_result"
    }
   ],
   "source": [
    "y"
   ],
   "metadata": {
    "collapsed": false,
    "pycharm": {
     "name": "#%%\n"
    }
   }
  },
  {
   "cell_type": "code",
   "execution_count": 800,
   "outputs": [],
   "source": [
    "# for i in range(3):\n",
    "z = [1 if i>=.5 else 0 for i in y ]"
   ],
   "metadata": {
    "collapsed": false,
    "pycharm": {
     "name": "#%%\n"
    }
   }
  },
  {
   "cell_type": "code",
   "execution_count": 801,
   "outputs": [
    {
     "data": {
      "text/plain": "1"
     },
     "execution_count": 801,
     "metadata": {},
     "output_type": "execute_result"
    }
   ],
   "source": [
    "z[61]"
   ],
   "metadata": {
    "collapsed": false,
    "pycharm": {
     "name": "#%%\n"
    }
   }
  },
  {
   "cell_type": "code",
   "execution_count": 802,
   "outputs": [],
   "source": [
    "import csv\n",
    "outfile = open('./results.csv','w')\n",
    "out = csv.writer(outfile)\n",
    "out.writerows(map(lambda x: [x], z))\n",
    "outfile.close()"
   ],
   "metadata": {
    "collapsed": false,
    "pycharm": {
     "name": "#%%\n"
    }
   }
  },
  {
   "cell_type": "code",
   "execution_count": null,
   "outputs": [],
   "source": [
    "ls"
   ],
   "metadata": {
    "collapsed": false,
    "pycharm": {
     "name": "#%%\n"
    }
   }
  }
 ],
 "metadata": {
  "kernelspec": {
   "display_name": "Python 3",
   "language": "python",
   "name": "python3"
  },
  "language_info": {
   "codemirror_mode": {
    "name": "ipython",
    "version": 2
   },
   "file_extension": ".py",
   "mimetype": "text/x-python",
   "name": "python",
   "nbconvert_exporter": "python",
   "pygments_lexer": "ipython2",
   "version": "2.7.6"
  }
 },
 "nbformat": 4,
 "nbformat_minor": 0
}