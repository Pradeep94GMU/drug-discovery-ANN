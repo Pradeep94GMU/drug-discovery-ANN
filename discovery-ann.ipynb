{
 "cells": [
  {
   "cell_type": "code",
   "execution_count": 473,
   "metadata": {
    "collapsed": true,
    "pycharm": {
     "name": "#%%\n"
    }
   },
   "outputs": [],
   "source": [
    "import tensorflow as tf\n",
    "import pandas as pd\n",
    "import numpy as np\n",
    "import matplotlib.pyplot as plt\n",
    "import imblearn"
   ]
  },
  {
   "cell_type": "code",
   "execution_count": 474,
   "outputs": [],
   "source": [
    "table = pd.read_table('../drug-discovery/1663769555_8559356_train.txt', names=['binding','sequence'])"
   ],
   "metadata": {
    "collapsed": false,
    "pycharm": {
     "name": "#%%\n"
    }
   }
  },
  {
   "cell_type": "code",
   "execution_count": 475,
   "outputs": [],
   "source": [
    "from sklearn.feature_extraction.text import CountVectorizer\n",
    "def return_binary_vectorized_form(data_frame):\n",
    "    count_vectorizer = CountVectorizer(binary=True)\n",
    "    fitted_and_transformed = count_vectorizer.fit_transform(data_frame).toarray()\n",
    "    return count_vectorizer,  fitted_and_transformed\n"
   ],
   "metadata": {
    "collapsed": false,
    "pycharm": {
     "name": "#%%\n"
    }
   }
  },
  {
   "cell_type": "code",
   "execution_count": 476,
   "outputs": [],
   "source": [
    "from sklearn.feature_extraction.text import CountVectorizer\n",
    "def return_binary_vectorized_form_with_vocab(data_frame, vocab):\n",
    "    count_vectorizer = CountVectorizer(binary=True, vocabulary=vocab)\n",
    "    fitted_and_transformed = count_vectorizer.fit_transform(data_frame).toarray()\n",
    "    return count_vectorizer,  fitted_and_transformed"
   ],
   "metadata": {
    "collapsed": false,
    "pycharm": {
     "name": "#%%\n"
    }
   }
  },
  {
   "cell_type": "code",
   "execution_count": 477,
   "outputs": [],
   "source": [
    "from sklearn.feature_selection import SelectKBest, chi2\n",
    "def select_k_best_features(feature_set, target_values, fraction, feature_list):\n",
    "    select_bestselect_best = SelectKBest(score_func=chi2, k = int(len(feature_list)*fraction))\n",
    "    select_bestselect_best.fit(feature_set,target_values)\n",
    "    mask = select_bestselect_best.get_support()\n",
    "    k_best_featurs = feature_list[mask]\n",
    "    return k_best_featurs"
   ],
   "metadata": {
    "collapsed": false,
    "pycharm": {
     "name": "#%%\n"
    }
   }
  },
  {
   "cell_type": "code",
   "execution_count": 478,
   "outputs": [],
   "source": [
    "def scale(data,mean,std_dev):\n",
    "    diff = data - mean\n",
    "    scaled = diff / std_dev\n",
    "    return scaled"
   ],
   "metadata": {
    "collapsed": false,
    "pycharm": {
     "name": "#%%\n"
    }
   }
  },
  {
   "cell_type": "code",
   "execution_count": 479,
   "outputs": [],
   "source": [
    "from sklearn.model_selection import train_test_split\n",
    "active_df = table.loc[table.binding == 1]\n",
    "not_active_df = table.loc[table.binding == 0]\n",
    "active_train, active_test, active_binding_train, active_binding_test = train_test_split(active_df.sequence, active_df.binding, shuffle=True, train_size=.75)\n",
    "not_active_train, not_active_test, not_active_binding_train, not_active_binding_test = train_test_split(not_active_df.sequence, not_active_df.binding, shuffle=True, train_size=.70)"
   ],
   "metadata": {
    "collapsed": false,
    "pycharm": {
     "name": "#%%\n"
    }
   }
  },
  {
   "cell_type": "markdown",
   "source": [],
   "metadata": {
    "collapsed": false,
    "pycharm": {
     "name": "#%% md\n"
    }
   }
  },
  {
   "cell_type": "code",
   "execution_count": 480,
   "outputs": [],
   "source": [
    "active_train_df = pd.DataFrame(active_train)\n",
    "active_test_df = pd.DataFrame(active_test)\n",
    "active_binding_train_df = pd.DataFrame(active_binding_train)\n",
    "active_binding_test_df = pd.DataFrame(active_binding_test)\n",
    "\n",
    "active_train_df['binding'] = active_binding_train_df['binding']\n",
    "active_test_df['binding'] = active_binding_test_df['binding']"
   ],
   "metadata": {
    "collapsed": false,
    "pycharm": {
     "name": "#%%\n"
    }
   }
  },
  {
   "cell_type": "code",
   "execution_count": 481,
   "outputs": [],
   "source": [
    "not_active_train_df = pd.DataFrame(not_active_train)\n",
    "not_active_test_df = pd.DataFrame(not_active_test)\n",
    "not_active_binding_train_df = pd.DataFrame(not_active_binding_train)\n",
    "not_active_binding_test_df = pd.DataFrame(not_active_binding_test)\n",
    "\n",
    "not_active_train_df['binding'] = not_active_binding_train_df['binding']\n",
    "not_active_test_df['binding'] = not_active_binding_test_df['binding']"
   ],
   "metadata": {
    "collapsed": false,
    "pycharm": {
     "name": "#%%\n"
    }
   }
  },
  {
   "cell_type": "code",
   "execution_count": 482,
   "outputs": [
    {
     "name": "stdout",
     "output_type": "stream",
     "text": [
      "0    505\n",
      "1     58\n",
      "Name: binding, dtype: int64\n",
      "0    217\n",
      "1     20\n",
      "Name: binding, dtype: int64\n"
     ]
    }
   ],
   "source": [
    "train_df = pd.concat([active_train_df,not_active_train_df]).reset_index()\n",
    "train_df = train_df.drop('index',axis=1)\n",
    "print(train_df.binding.value_counts())\n",
    "\n",
    "test_df = pd.concat([active_test_df,not_active_test_df]).reset_index()\n",
    "test_df = test_df.drop('index',axis=1)\n",
    "print(test_df.binding.value_counts())"
   ],
   "metadata": {
    "collapsed": false,
    "pycharm": {
     "name": "#%%\n"
    }
   }
  },
  {
   "cell_type": "code",
   "execution_count": 483,
   "outputs": [],
   "source": [
    "from imblearn.over_sampling import RandomOverSampler\n",
    "sampler = RandomOverSampler(sampling_strategy=.5)\n",
    "x_sampled, y_sampled = sampler.fit_resample(np.array(train_df.sequence).reshape(-1,1),train_df.binding)\n",
    "x_test_sampled, y_test_sampled = sampler.fit_resample(np.array(test_df.sequence).reshape(-1,1),test_df.binding)"
   ],
   "metadata": {
    "collapsed": false,
    "pycharm": {
     "name": "#%%\n"
    }
   }
  },
  {
   "cell_type": "code",
   "execution_count": 484,
   "outputs": [
    {
     "name": "stdout",
     "output_type": "stream",
     "text": [
      "0    505\n",
      "1    252\n",
      "Name: binding, dtype: int64\n",
      "0    217\n",
      "1    108\n",
      "Name: binding, dtype: int64\n"
     ]
    }
   ],
   "source": [
    "final_train_set = pd.DataFrame(x_sampled, columns  =[\"sequence\"])\n",
    "final_train_set['binding'] = y_sampled\n",
    "print(final_train_set.binding.value_counts())\n",
    "\n",
    "final_test_set = pd.DataFrame(x_test_sampled, columns  =[\"sequence\"])\n",
    "final_test_set['binding'] = y_test_sampled\n",
    "print(final_test_set.binding.value_counts())"
   ],
   "metadata": {
    "collapsed": false,
    "pycharm": {
     "name": "#%%\n"
    }
   }
  },
  {
   "cell_type": "code",
   "execution_count": 494,
   "outputs": [],
   "source": [
    "vectorizer_global, training_features = return_binary_vectorized_form(final_train_set.sequence)\n",
    "k_best_feature = select_k_best_features(training_features, final_train_set.binding, 1, vectorizer_global.get_feature_names_out())\n",
    "vectorizer_k_best, training_split = return_binary_vectorized_form_with_vocab(final_train_set.sequence,k_best_feature)\n",
    "test_split = vectorizer_k_best.transform(final_test_set.sequence).toarray()"
   ],
   "metadata": {
    "collapsed": false,
    "pycharm": {
     "name": "#%%\n"
    }
   }
  },
  {
   "cell_type": "code",
   "execution_count": 495,
   "outputs": [
    {
     "name": "stdout",
     "output_type": "stream",
     "text": [
      "(757, 80933)\n",
      "(325, 80933)\n"
     ]
    }
   ],
   "source": [
    "print(training_split.shape)\n",
    "print(test_split.shape)"
   ],
   "metadata": {
    "collapsed": false,
    "pycharm": {
     "name": "#%%\n"
    }
   }
  },
  {
   "cell_type": "code",
   "execution_count": 496,
   "outputs": [],
   "source": [
    "train_result = np.array(final_train_set.binding)\n",
    "test_result = np.array(final_test_set.binding)\n",
    "# print(train_result.shape)\n",
    "# print(test_result.shape)\n"
   ],
   "metadata": {
    "collapsed": false,
    "pycharm": {
     "name": "#%%\n"
    }
   }
  },
  {
   "cell_type": "code",
   "execution_count": 497,
   "outputs": [
    {
     "data": {
      "text/plain": "108"
     },
     "execution_count": 497,
     "metadata": {},
     "output_type": "execute_result"
    }
   ],
   "source": [
    "test_result.sum()"
   ],
   "metadata": {
    "collapsed": false,
    "pycharm": {
     "name": "#%%\n"
    }
   }
  },
  {
   "cell_type": "code",
   "execution_count": 498,
   "outputs": [
    {
     "data": {
      "text/plain": "array([[0, 0, 0, ..., 0, 0, 0],\n       [0, 0, 0, ..., 0, 0, 0],\n       [0, 0, 0, ..., 0, 0, 0],\n       ...,\n       [0, 0, 0, ..., 0, 0, 0],\n       [0, 0, 0, ..., 0, 0, 0],\n       [0, 0, 0, ..., 0, 0, 0]])"
     },
     "execution_count": 498,
     "metadata": {},
     "output_type": "execute_result"
    }
   ],
   "source": [
    "training_split"
   ],
   "metadata": {
    "collapsed": false,
    "pycharm": {
     "name": "#%%\n"
    }
   }
  },
  {
   "cell_type": "code",
   "execution_count": 499,
   "outputs": [],
   "source": [
    "# from sklearn.decomposition import PCA\n",
    "# pca = PCA(n_components=.95)\n",
    "# training_split = pca.fit_transform(training_split)\n",
    "# test_split = pca.transform(test_split)"
   ],
   "metadata": {
    "collapsed": false,
    "pycharm": {
     "name": "#%%\n"
    }
   }
  },
  {
   "cell_type": "code",
   "execution_count": 500,
   "outputs": [],
   "source": [
    "model = tf.keras.Sequential([\n",
    "    tf.keras.Input(shape=(training_split.shape[-1],)),\n",
    "    tf.keras.layers.Dense(2,activation='relu',kernel_regularizer=tf.keras.regularizers.L1(.05)),\n",
    "    # tf.keras.layers.Dropout(0.8),\n",
    "\n",
    "    # kernel_regularizer=tf.keras.regularizers.L1(.1)\n",
    "    tf.keras.layers.Dense(1, activation='sigmoid')\n",
    "])"
   ],
   "metadata": {
    "collapsed": false,
    "pycharm": {
     "name": "#%%\n"
    }
   }
  },
  {
   "cell_type": "code",
   "execution_count": 501,
   "outputs": [],
   "source": [
    "from sklearn.metrics import f1_score\n",
    "# def x(a,b):\n",
    "#     tf.make_ndarray(a.op.get_attr('value'))\n",
    "#     y = tf.make_ndarray(a.op.get_attr('value'))\n",
    "#     return y.shape[-1]\n",
    "METRICS = [\n",
    "      tf.keras.metrics.TruePositives(name='tp'),\n",
    "      tf.keras.metrics.FalsePositives(name='fp'),\n",
    "      tf.keras.metrics.TrueNegatives(name='tn'),\n",
    "      tf.keras.metrics.FalseNegatives(name='fn'),\n",
    "      tf.keras.metrics.BinaryAccuracy(name='accuracy'),\n",
    "      tf.keras.metrics.Precision(name='precision'),\n",
    "      tf.keras.metrics.Recall(name='recall'),\n",
    "      tf.keras.metrics.AUC(name='auc'),\n",
    "      tf.keras.metrics.AUC(name='prc', curve='PR'),\n",
    "      # x\n",
    "     # precision-recall curve\n",
    "\n",
    "]\n",
    "model.compile(loss=tf.keras.losses.BinaryFocalCrossentropy(), metrics=METRICS, optimizer='adam')"
   ],
   "metadata": {
    "collapsed": false,
    "pycharm": {
     "name": "#%%\n"
    }
   }
  },
  {
   "cell_type": "code",
   "execution_count": 506,
   "outputs": [
    {
     "name": "stdout",
     "output_type": "stream",
     "text": [
      "Epoch 1/50\n",
      "24/24 [==============================] - 1s 28ms/step - loss: 1.1955 - tp: 154.0000 - fp: 10.0000 - tn: 495.0000 - fn: 98.0000 - accuracy: 0.8573 - precision: 0.9390 - recall: 0.6111 - auc: 0.8893 - prc: 0.8812 - val_loss: 1.1951 - val_tp: 72.0000 - val_fp: 6.0000 - val_tn: 211.0000 - val_fn: 36.0000 - val_accuracy: 0.8708 - val_precision: 0.9231 - val_recall: 0.6667 - val_auc: 0.8579 - val_prc: 0.8463\n",
      "Epoch 2/50\n",
      "24/24 [==============================] - 1s 23ms/step - loss: 1.1846 - tp: 164.0000 - fp: 10.0000 - tn: 495.0000 - fn: 88.0000 - accuracy: 0.8705 - precision: 0.9425 - recall: 0.6508 - auc: 0.9113 - prc: 0.8946 - val_loss: 1.1917 - val_tp: 72.0000 - val_fp: 6.0000 - val_tn: 211.0000 - val_fn: 36.0000 - val_accuracy: 0.8708 - val_precision: 0.9231 - val_recall: 0.6667 - val_auc: 0.9107 - val_prc: 0.8356\n",
      "Epoch 3/50\n",
      "24/24 [==============================] - 1s 23ms/step - loss: 1.1905 - tp: 158.0000 - fp: 10.0000 - tn: 495.0000 - fn: 94.0000 - accuracy: 0.8626 - precision: 0.9405 - recall: 0.6270 - auc: 0.8913 - prc: 0.8817 - val_loss: 1.1928 - val_tp: 72.0000 - val_fp: 6.0000 - val_tn: 211.0000 - val_fn: 36.0000 - val_accuracy: 0.8708 - val_precision: 0.9231 - val_recall: 0.6667 - val_auc: 0.8517 - val_prc: 0.8010\n",
      "Epoch 4/50\n",
      "24/24 [==============================] - 1s 24ms/step - loss: 1.1874 - tp: 164.0000 - fp: 9.0000 - tn: 496.0000 - fn: 88.0000 - accuracy: 0.8719 - precision: 0.9480 - recall: 0.6508 - auc: 0.9065 - prc: 0.8934 - val_loss: 1.1968 - val_tp: 72.0000 - val_fp: 6.0000 - val_tn: 211.0000 - val_fn: 36.0000 - val_accuracy: 0.8708 - val_precision: 0.9231 - val_recall: 0.6667 - val_auc: 0.9000 - val_prc: 0.8491\n",
      "Epoch 5/50\n",
      "24/24 [==============================] - 1s 21ms/step - loss: 1.1850 - tp: 158.0000 - fp: 10.0000 - tn: 495.0000 - fn: 94.0000 - accuracy: 0.8626 - precision: 0.9405 - recall: 0.6270 - auc: 0.9044 - prc: 0.8915 - val_loss: 1.1966 - val_tp: 77.0000 - val_fp: 7.0000 - val_tn: 210.0000 - val_fn: 31.0000 - val_accuracy: 0.8831 - val_precision: 0.9167 - val_recall: 0.7130 - val_auc: 0.8949 - val_prc: 0.8593\n",
      "Epoch 6/50\n",
      "24/24 [==============================] - 0s 20ms/step - loss: 1.2001 - tp: 156.0000 - fp: 10.0000 - tn: 495.0000 - fn: 96.0000 - accuracy: 0.8600 - precision: 0.9398 - recall: 0.6190 - auc: 0.8942 - prc: 0.8878 - val_loss: 1.2006 - val_tp: 72.0000 - val_fp: 6.0000 - val_tn: 211.0000 - val_fn: 36.0000 - val_accuracy: 0.8708 - val_precision: 0.9231 - val_recall: 0.6667 - val_auc: 0.8414 - val_prc: 0.8341\n",
      "Epoch 7/50\n",
      "24/24 [==============================] - 0s 21ms/step - loss: 1.1928 - tp: 165.0000 - fp: 10.0000 - tn: 495.0000 - fn: 87.0000 - accuracy: 0.8719 - precision: 0.9429 - recall: 0.6548 - auc: 0.8885 - prc: 0.8761 - val_loss: 1.2139 - val_tp: 72.0000 - val_fp: 6.0000 - val_tn: 211.0000 - val_fn: 36.0000 - val_accuracy: 0.8708 - val_precision: 0.9231 - val_recall: 0.6667 - val_auc: 0.8689 - val_prc: 0.8490\n",
      "Epoch 8/50\n",
      "24/24 [==============================] - 0s 20ms/step - loss: 1.1929 - tp: 156.0000 - fp: 10.0000 - tn: 495.0000 - fn: 96.0000 - accuracy: 0.8600 - precision: 0.9398 - recall: 0.6190 - auc: 0.8966 - prc: 0.8803 - val_loss: 1.1959 - val_tp: 72.0000 - val_fp: 6.0000 - val_tn: 211.0000 - val_fn: 36.0000 - val_accuracy: 0.8708 - val_precision: 0.9231 - val_recall: 0.6667 - val_auc: 0.9070 - val_prc: 0.8831\n",
      "Epoch 9/50\n",
      "24/24 [==============================] - 0s 20ms/step - loss: 1.1911 - tp: 164.0000 - fp: 10.0000 - tn: 495.0000 - fn: 88.0000 - accuracy: 0.8705 - precision: 0.9425 - recall: 0.6508 - auc: 0.8958 - prc: 0.8872 - val_loss: 1.1854 - val_tp: 72.0000 - val_fp: 6.0000 - val_tn: 211.0000 - val_fn: 36.0000 - val_accuracy: 0.8708 - val_precision: 0.9231 - val_recall: 0.6667 - val_auc: 0.8741 - val_prc: 0.8598\n",
      "Epoch 10/50\n",
      "24/24 [==============================] - 1s 23ms/step - loss: 1.1819 - tp: 157.0000 - fp: 10.0000 - tn: 495.0000 - fn: 95.0000 - accuracy: 0.8613 - precision: 0.9401 - recall: 0.6230 - auc: 0.8653 - prc: 0.8557 - val_loss: 1.1993 - val_tp: 72.0000 - val_fp: 6.0000 - val_tn: 211.0000 - val_fn: 36.0000 - val_accuracy: 0.8708 - val_precision: 0.9231 - val_recall: 0.6667 - val_auc: 0.8514 - val_prc: 0.8391\n",
      "Epoch 11/50\n",
      "24/24 [==============================] - 1s 24ms/step - loss: 1.1891 - tp: 159.0000 - fp: 10.0000 - tn: 495.0000 - fn: 93.0000 - accuracy: 0.8639 - precision: 0.9408 - recall: 0.6310 - auc: 0.9008 - prc: 0.8871 - val_loss: 1.2030 - val_tp: 77.0000 - val_fp: 7.0000 - val_tn: 210.0000 - val_fn: 31.0000 - val_accuracy: 0.8831 - val_precision: 0.9167 - val_recall: 0.7130 - val_auc: 0.9111 - val_prc: 0.8843\n",
      "Epoch 12/50\n",
      "24/24 [==============================] - 0s 20ms/step - loss: 1.1906 - tp: 169.0000 - fp: 10.0000 - tn: 495.0000 - fn: 83.0000 - accuracy: 0.8771 - precision: 0.9441 - recall: 0.6706 - auc: 0.8871 - prc: 0.8742 - val_loss: 1.2112 - val_tp: 72.0000 - val_fp: 6.0000 - val_tn: 211.0000 - val_fn: 36.0000 - val_accuracy: 0.8708 - val_precision: 0.9231 - val_recall: 0.6667 - val_auc: 0.8308 - val_prc: 0.8216\n",
      "Epoch 13/50\n",
      "24/24 [==============================] - 1s 22ms/step - loss: 1.1977 - tp: 158.0000 - fp: 10.0000 - tn: 495.0000 - fn: 94.0000 - accuracy: 0.8626 - precision: 0.9405 - recall: 0.6270 - auc: 0.8909 - prc: 0.8765 - val_loss: 1.2015 - val_tp: 77.0000 - val_fp: 6.0000 - val_tn: 211.0000 - val_fn: 31.0000 - val_accuracy: 0.8862 - val_precision: 0.9277 - val_recall: 0.7130 - val_auc: 0.9378 - val_prc: 0.8573\n",
      "Epoch 14/50\n",
      "24/24 [==============================] - 1s 22ms/step - loss: 1.2014 - tp: 157.0000 - fp: 10.0000 - tn: 495.0000 - fn: 95.0000 - accuracy: 0.8613 - precision: 0.9401 - recall: 0.6230 - auc: 0.8832 - prc: 0.8733 - val_loss: 1.1989 - val_tp: 72.0000 - val_fp: 6.0000 - val_tn: 211.0000 - val_fn: 36.0000 - val_accuracy: 0.8708 - val_precision: 0.9231 - val_recall: 0.6667 - val_auc: 0.8314 - val_prc: 0.8236\n",
      "Epoch 15/50\n",
      "24/24 [==============================] - 1s 22ms/step - loss: 1.1958 - tp: 161.0000 - fp: 10.0000 - tn: 495.0000 - fn: 91.0000 - accuracy: 0.8666 - precision: 0.9415 - recall: 0.6389 - auc: 0.8914 - prc: 0.8684 - val_loss: 1.2195 - val_tp: 72.0000 - val_fp: 6.0000 - val_tn: 211.0000 - val_fn: 36.0000 - val_accuracy: 0.8708 - val_precision: 0.9231 - val_recall: 0.6667 - val_auc: 0.8828 - val_prc: 0.8642\n",
      "Epoch 16/50\n",
      "24/24 [==============================] - 1s 21ms/step - loss: 1.1935 - tp: 160.0000 - fp: 10.0000 - tn: 495.0000 - fn: 92.0000 - accuracy: 0.8653 - precision: 0.9412 - recall: 0.6349 - auc: 0.8896 - prc: 0.8816 - val_loss: 1.1894 - val_tp: 72.0000 - val_fp: 6.0000 - val_tn: 211.0000 - val_fn: 36.0000 - val_accuracy: 0.8708 - val_precision: 0.9231 - val_recall: 0.6667 - val_auc: 0.9291 - val_prc: 0.8789\n",
      "Epoch 17/50\n",
      "24/24 [==============================] - 1s 22ms/step - loss: 1.1997 - tp: 167.0000 - fp: 10.0000 - tn: 495.0000 - fn: 85.0000 - accuracy: 0.8745 - precision: 0.9435 - recall: 0.6627 - auc: 0.9046 - prc: 0.8910 - val_loss: 1.1895 - val_tp: 72.0000 - val_fp: 6.0000 - val_tn: 211.0000 - val_fn: 36.0000 - val_accuracy: 0.8708 - val_precision: 0.9231 - val_recall: 0.6667 - val_auc: 0.8680 - val_prc: 0.8197\n",
      "Epoch 18/50\n",
      "24/24 [==============================] - 0s 21ms/step - loss: 1.2022 - tp: 158.0000 - fp: 10.0000 - tn: 495.0000 - fn: 94.0000 - accuracy: 0.8626 - precision: 0.9405 - recall: 0.6270 - auc: 0.8926 - prc: 0.8859 - val_loss: 1.2140 - val_tp: 77.0000 - val_fp: 6.0000 - val_tn: 211.0000 - val_fn: 31.0000 - val_accuracy: 0.8862 - val_precision: 0.9277 - val_recall: 0.7130 - val_auc: 0.9211 - val_prc: 0.8858\n",
      "Epoch 19/50\n",
      "24/24 [==============================] - 0s 21ms/step - loss: 1.2056 - tp: 161.0000 - fp: 10.0000 - tn: 495.0000 - fn: 91.0000 - accuracy: 0.8666 - precision: 0.9415 - recall: 0.6389 - auc: 0.9222 - prc: 0.9122 - val_loss: 1.2169 - val_tp: 72.0000 - val_fp: 6.0000 - val_tn: 211.0000 - val_fn: 36.0000 - val_accuracy: 0.8708 - val_precision: 0.9231 - val_recall: 0.6667 - val_auc: 0.8628 - val_prc: 0.8415\n",
      "Epoch 20/50\n",
      "24/24 [==============================] - 1s 22ms/step - loss: 1.2041 - tp: 158.0000 - fp: 10.0000 - tn: 495.0000 - fn: 94.0000 - accuracy: 0.8626 - precision: 0.9405 - recall: 0.6270 - auc: 0.8964 - prc: 0.8848 - val_loss: 1.2095 - val_tp: 72.0000 - val_fp: 6.0000 - val_tn: 211.0000 - val_fn: 36.0000 - val_accuracy: 0.8708 - val_precision: 0.9231 - val_recall: 0.6667 - val_auc: 0.8527 - val_prc: 0.8329\n",
      "Epoch 21/50\n",
      "24/24 [==============================] - 1s 22ms/step - loss: 1.2048 - tp: 157.0000 - fp: 11.0000 - tn: 494.0000 - fn: 95.0000 - accuracy: 0.8600 - precision: 0.9345 - recall: 0.6230 - auc: 0.8975 - prc: 0.8853 - val_loss: 1.2259 - val_tp: 72.0000 - val_fp: 6.0000 - val_tn: 211.0000 - val_fn: 36.0000 - val_accuracy: 0.8708 - val_precision: 0.9231 - val_recall: 0.6667 - val_auc: 0.8175 - val_prc: 0.8150\n",
      "Epoch 22/50\n",
      "24/24 [==============================] - 1s 22ms/step - loss: 1.2189 - tp: 164.0000 - fp: 9.0000 - tn: 496.0000 - fn: 88.0000 - accuracy: 0.8719 - precision: 0.9480 - recall: 0.6508 - auc: 0.9047 - prc: 0.8879 - val_loss: 1.2038 - val_tp: 72.0000 - val_fp: 6.0000 - val_tn: 211.0000 - val_fn: 36.0000 - val_accuracy: 0.8708 - val_precision: 0.9231 - val_recall: 0.6667 - val_auc: 0.8698 - val_prc: 0.8537\n",
      "Epoch 23/50\n",
      "24/24 [==============================] - 1s 22ms/step - loss: 1.2056 - tp: 166.0000 - fp: 10.0000 - tn: 495.0000 - fn: 86.0000 - accuracy: 0.8732 - precision: 0.9432 - recall: 0.6587 - auc: 0.8993 - prc: 0.8864 - val_loss: 1.2208 - val_tp: 72.0000 - val_fp: 7.0000 - val_tn: 210.0000 - val_fn: 36.0000 - val_accuracy: 0.8677 - val_precision: 0.9114 - val_recall: 0.6667 - val_auc: 0.8807 - val_prc: 0.8489\n",
      "Epoch 24/50\n",
      "24/24 [==============================] - 1s 21ms/step - loss: 1.2077 - tp: 162.0000 - fp: 10.0000 - tn: 495.0000 - fn: 90.0000 - accuracy: 0.8679 - precision: 0.9419 - recall: 0.6429 - auc: 0.9003 - prc: 0.8913 - val_loss: 1.2039 - val_tp: 72.0000 - val_fp: 6.0000 - val_tn: 211.0000 - val_fn: 36.0000 - val_accuracy: 0.8708 - val_precision: 0.9231 - val_recall: 0.6667 - val_auc: 0.8612 - val_prc: 0.8546\n",
      "Epoch 25/50\n",
      "24/24 [==============================] - 0s 21ms/step - loss: 1.2055 - tp: 165.0000 - fp: 10.0000 - tn: 495.0000 - fn: 87.0000 - accuracy: 0.8719 - precision: 0.9429 - recall: 0.6548 - auc: 0.9111 - prc: 0.8949 - val_loss: 1.2267 - val_tp: 72.0000 - val_fp: 6.0000 - val_tn: 211.0000 - val_fn: 36.0000 - val_accuracy: 0.8708 - val_precision: 0.9231 - val_recall: 0.6667 - val_auc: 0.9043 - val_prc: 0.8780\n",
      "Epoch 26/50\n",
      "24/24 [==============================] - 0s 21ms/step - loss: 1.2161 - tp: 156.0000 - fp: 10.0000 - tn: 495.0000 - fn: 96.0000 - accuracy: 0.8600 - precision: 0.9398 - recall: 0.6190 - auc: 0.9013 - prc: 0.8871 - val_loss: 1.2257 - val_tp: 72.0000 - val_fp: 7.0000 - val_tn: 210.0000 - val_fn: 36.0000 - val_accuracy: 0.8677 - val_precision: 0.9114 - val_recall: 0.6667 - val_auc: 0.9236 - val_prc: 0.8914\n",
      "Epoch 27/50\n",
      "24/24 [==============================] - 1s 21ms/step - loss: 1.2149 - tp: 165.0000 - fp: 10.0000 - tn: 495.0000 - fn: 87.0000 - accuracy: 0.8719 - precision: 0.9429 - recall: 0.6548 - auc: 0.9095 - prc: 0.8964 - val_loss: 1.2207 - val_tp: 72.0000 - val_fp: 6.0000 - val_tn: 211.0000 - val_fn: 36.0000 - val_accuracy: 0.8708 - val_precision: 0.9231 - val_recall: 0.6667 - val_auc: 0.9342 - val_prc: 0.8799\n",
      "Epoch 28/50\n",
      "24/24 [==============================] - 0s 20ms/step - loss: 1.2122 - tp: 170.0000 - fp: 10.0000 - tn: 495.0000 - fn: 82.0000 - accuracy: 0.8785 - precision: 0.9444 - recall: 0.6746 - auc: 0.9015 - prc: 0.8946 - val_loss: 1.2123 - val_tp: 72.0000 - val_fp: 6.0000 - val_tn: 211.0000 - val_fn: 36.0000 - val_accuracy: 0.8708 - val_precision: 0.9231 - val_recall: 0.6667 - val_auc: 0.8703 - val_prc: 0.8592\n",
      "Epoch 29/50\n",
      "24/24 [==============================] - 0s 21ms/step - loss: 1.2085 - tp: 176.0000 - fp: 10.0000 - tn: 495.0000 - fn: 76.0000 - accuracy: 0.8864 - precision: 0.9462 - recall: 0.6984 - auc: 0.9318 - prc: 0.9124 - val_loss: 1.2337 - val_tp: 72.0000 - val_fp: 6.0000 - val_tn: 211.0000 - val_fn: 36.0000 - val_accuracy: 0.8708 - val_precision: 0.9231 - val_recall: 0.6667 - val_auc: 0.9104 - val_prc: 0.8828\n",
      "Epoch 30/50\n",
      "24/24 [==============================] - 0s 21ms/step - loss: 1.2148 - tp: 167.0000 - fp: 10.0000 - tn: 495.0000 - fn: 85.0000 - accuracy: 0.8745 - precision: 0.9435 - recall: 0.6627 - auc: 0.8923 - prc: 0.8871 - val_loss: 1.2002 - val_tp: 72.0000 - val_fp: 6.0000 - val_tn: 211.0000 - val_fn: 36.0000 - val_accuracy: 0.8708 - val_precision: 0.9231 - val_recall: 0.6667 - val_auc: 0.9264 - val_prc: 0.8799\n",
      "Epoch 31/50\n",
      "24/24 [==============================] - 0s 20ms/step - loss: 1.2184 - tp: 163.0000 - fp: 11.0000 - tn: 494.0000 - fn: 89.0000 - accuracy: 0.8679 - precision: 0.9368 - recall: 0.6468 - auc: 0.9023 - prc: 0.8909 - val_loss: 1.2097 - val_tp: 72.0000 - val_fp: 6.0000 - val_tn: 211.0000 - val_fn: 36.0000 - val_accuracy: 0.8708 - val_precision: 0.9231 - val_recall: 0.6667 - val_auc: 0.9147 - val_prc: 0.8753\n",
      "Epoch 32/50\n",
      "24/24 [==============================] - 0s 21ms/step - loss: 1.2119 - tp: 163.0000 - fp: 10.0000 - tn: 495.0000 - fn: 89.0000 - accuracy: 0.8692 - precision: 0.9422 - recall: 0.6468 - auc: 0.8858 - prc: 0.8769 - val_loss: 1.2115 - val_tp: 72.0000 - val_fp: 6.0000 - val_tn: 211.0000 - val_fn: 36.0000 - val_accuracy: 0.8708 - val_precision: 0.9231 - val_recall: 0.6667 - val_auc: 0.9480 - val_prc: 0.9082\n",
      "Epoch 33/50\n",
      "24/24 [==============================] - 0s 21ms/step - loss: 1.2151 - tp: 173.0000 - fp: 10.0000 - tn: 495.0000 - fn: 79.0000 - accuracy: 0.8824 - precision: 0.9454 - recall: 0.6865 - auc: 0.8885 - prc: 0.8737 - val_loss: 1.2271 - val_tp: 72.0000 - val_fp: 6.0000 - val_tn: 211.0000 - val_fn: 36.0000 - val_accuracy: 0.8708 - val_precision: 0.9231 - val_recall: 0.6667 - val_auc: 0.8721 - val_prc: 0.8617\n",
      "Epoch 34/50\n",
      "24/24 [==============================] - 1s 24ms/step - loss: 1.2282 - tp: 161.0000 - fp: 10.0000 - tn: 495.0000 - fn: 91.0000 - accuracy: 0.8666 - precision: 0.9415 - recall: 0.6389 - auc: 0.8999 - prc: 0.8805 - val_loss: 1.2233 - val_tp: 72.0000 - val_fp: 7.0000 - val_tn: 210.0000 - val_fn: 36.0000 - val_accuracy: 0.8677 - val_precision: 0.9114 - val_recall: 0.6667 - val_auc: 0.8543 - val_prc: 0.8439\n",
      "Epoch 35/50\n",
      "24/24 [==============================] - 0s 21ms/step - loss: 1.2196 - tp: 164.0000 - fp: 10.0000 - tn: 495.0000 - fn: 88.0000 - accuracy: 0.8705 - precision: 0.9425 - recall: 0.6508 - auc: 0.8966 - prc: 0.8911 - val_loss: 1.2255 - val_tp: 72.0000 - val_fp: 7.0000 - val_tn: 210.0000 - val_fn: 36.0000 - val_accuracy: 0.8677 - val_precision: 0.9114 - val_recall: 0.6667 - val_auc: 0.9114 - val_prc: 0.8536\n",
      "Epoch 36/50\n",
      "24/24 [==============================] - 0s 20ms/step - loss: 1.2046 - tp: 175.0000 - fp: 10.0000 - tn: 495.0000 - fn: 77.0000 - accuracy: 0.8851 - precision: 0.9459 - recall: 0.6944 - auc: 0.9210 - prc: 0.9088 - val_loss: 1.2238 - val_tp: 72.0000 - val_fp: 6.0000 - val_tn: 211.0000 - val_fn: 36.0000 - val_accuracy: 0.8708 - val_precision: 0.9231 - val_recall: 0.6667 - val_auc: 0.9008 - val_prc: 0.8743\n",
      "Epoch 37/50\n",
      "24/24 [==============================] - 0s 20ms/step - loss: 1.2137 - tp: 171.0000 - fp: 10.0000 - tn: 495.0000 - fn: 81.0000 - accuracy: 0.8798 - precision: 0.9448 - recall: 0.6786 - auc: 0.9255 - prc: 0.8908 - val_loss: 1.2231 - val_tp: 77.0000 - val_fp: 6.0000 - val_tn: 211.0000 - val_fn: 31.0000 - val_accuracy: 0.8862 - val_precision: 0.9277 - val_recall: 0.7130 - val_auc: 0.8798 - val_prc: 0.8221\n",
      "Epoch 38/50\n",
      "24/24 [==============================] - 0s 21ms/step - loss: 1.2153 - tp: 167.0000 - fp: 10.0000 - tn: 495.0000 - fn: 85.0000 - accuracy: 0.8745 - precision: 0.9435 - recall: 0.6627 - auc: 0.9031 - prc: 0.8899 - val_loss: 1.2400 - val_tp: 77.0000 - val_fp: 7.0000 - val_tn: 210.0000 - val_fn: 31.0000 - val_accuracy: 0.8831 - val_precision: 0.9167 - val_recall: 0.7130 - val_auc: 0.8900 - val_prc: 0.8671\n",
      "Epoch 39/50\n",
      "24/24 [==============================] - 0s 21ms/step - loss: 1.2188 - tp: 170.0000 - fp: 10.0000 - tn: 495.0000 - fn: 82.0000 - accuracy: 0.8785 - precision: 0.9444 - recall: 0.6746 - auc: 0.9155 - prc: 0.8978 - val_loss: 1.2127 - val_tp: 72.0000 - val_fp: 6.0000 - val_tn: 211.0000 - val_fn: 36.0000 - val_accuracy: 0.8708 - val_precision: 0.9231 - val_recall: 0.6667 - val_auc: 0.9423 - val_prc: 0.8913\n",
      "Epoch 40/50\n",
      "24/24 [==============================] - 0s 20ms/step - loss: 1.2228 - tp: 170.0000 - fp: 9.0000 - tn: 496.0000 - fn: 82.0000 - accuracy: 0.8798 - precision: 0.9497 - recall: 0.6746 - auc: 0.9125 - prc: 0.9001 - val_loss: 1.2090 - val_tp: 72.0000 - val_fp: 6.0000 - val_tn: 211.0000 - val_fn: 36.0000 - val_accuracy: 0.8708 - val_precision: 0.9231 - val_recall: 0.6667 - val_auc: 0.8943 - val_prc: 0.8622\n",
      "Epoch 41/50\n",
      "24/24 [==============================] - 0s 21ms/step - loss: 1.2219 - tp: 164.0000 - fp: 10.0000 - tn: 495.0000 - fn: 88.0000 - accuracy: 0.8705 - precision: 0.9425 - recall: 0.6508 - auc: 0.8958 - prc: 0.8725 - val_loss: 1.2438 - val_tp: 72.0000 - val_fp: 6.0000 - val_tn: 211.0000 - val_fn: 36.0000 - val_accuracy: 0.8708 - val_precision: 0.9231 - val_recall: 0.6667 - val_auc: 0.9107 - val_prc: 0.8672\n",
      "Epoch 42/50\n",
      "24/24 [==============================] - 0s 20ms/step - loss: 1.2272 - tp: 169.0000 - fp: 9.0000 - tn: 496.0000 - fn: 83.0000 - accuracy: 0.8785 - precision: 0.9494 - recall: 0.6706 - auc: 0.8965 - prc: 0.8921 - val_loss: 1.2340 - val_tp: 72.0000 - val_fp: 6.0000 - val_tn: 211.0000 - val_fn: 36.0000 - val_accuracy: 0.8708 - val_precision: 0.9231 - val_recall: 0.6667 - val_auc: 0.8755 - val_prc: 0.8237\n",
      "Epoch 43/50\n",
      "24/24 [==============================] - 0s 21ms/step - loss: 1.2213 - tp: 174.0000 - fp: 10.0000 - tn: 495.0000 - fn: 78.0000 - accuracy: 0.8838 - precision: 0.9457 - recall: 0.6905 - auc: 0.9152 - prc: 0.9019 - val_loss: 1.2571 - val_tp: 72.0000 - val_fp: 6.0000 - val_tn: 211.0000 - val_fn: 36.0000 - val_accuracy: 0.8708 - val_precision: 0.9231 - val_recall: 0.6667 - val_auc: 0.8751 - val_prc: 0.8598\n",
      "Epoch 44/50\n",
      "24/24 [==============================] - 0s 21ms/step - loss: 1.2392 - tp: 169.0000 - fp: 10.0000 - tn: 495.0000 - fn: 83.0000 - accuracy: 0.8771 - precision: 0.9441 - recall: 0.6706 - auc: 0.9071 - prc: 0.8935 - val_loss: 1.2160 - val_tp: 77.0000 - val_fp: 6.0000 - val_tn: 211.0000 - val_fn: 31.0000 - val_accuracy: 0.8862 - val_precision: 0.9277 - val_recall: 0.7130 - val_auc: 0.9047 - val_prc: 0.8807\n",
      "Epoch 45/50\n",
      "24/24 [==============================] - 0s 21ms/step - loss: 1.2174 - tp: 170.0000 - fp: 10.0000 - tn: 495.0000 - fn: 82.0000 - accuracy: 0.8785 - precision: 0.9444 - recall: 0.6746 - auc: 0.8771 - prc: 0.8715 - val_loss: 1.2259 - val_tp: 72.0000 - val_fp: 6.0000 - val_tn: 211.0000 - val_fn: 36.0000 - val_accuracy: 0.8708 - val_precision: 0.9231 - val_recall: 0.6667 - val_auc: 0.8828 - val_prc: 0.8115\n",
      "Epoch 46/50\n",
      "24/24 [==============================] - 0s 20ms/step - loss: 1.2311 - tp: 178.0000 - fp: 11.0000 - tn: 494.0000 - fn: 74.0000 - accuracy: 0.8877 - precision: 0.9418 - recall: 0.7063 - auc: 0.9231 - prc: 0.8954 - val_loss: 1.2415 - val_tp: 72.0000 - val_fp: 6.0000 - val_tn: 211.0000 - val_fn: 36.0000 - val_accuracy: 0.8708 - val_precision: 0.9231 - val_recall: 0.6667 - val_auc: 0.8952 - val_prc: 0.8510\n",
      "Epoch 47/50\n",
      "24/24 [==============================] - 0s 20ms/step - loss: 1.2273 - tp: 167.0000 - fp: 10.0000 - tn: 495.0000 - fn: 85.0000 - accuracy: 0.8745 - precision: 0.9435 - recall: 0.6627 - auc: 0.8972 - prc: 0.8838 - val_loss: 1.2244 - val_tp: 72.0000 - val_fp: 6.0000 - val_tn: 211.0000 - val_fn: 36.0000 - val_accuracy: 0.8708 - val_precision: 0.9231 - val_recall: 0.6667 - val_auc: 0.8625 - val_prc: 0.8494\n",
      "Epoch 48/50\n",
      "24/24 [==============================] - 0s 21ms/step - loss: 1.2265 - tp: 177.0000 - fp: 10.0000 - tn: 495.0000 - fn: 75.0000 - accuracy: 0.8877 - precision: 0.9465 - recall: 0.7024 - auc: 0.9015 - prc: 0.8852 - val_loss: 1.2498 - val_tp: 72.0000 - val_fp: 6.0000 - val_tn: 211.0000 - val_fn: 36.0000 - val_accuracy: 0.8708 - val_precision: 0.9231 - val_recall: 0.6667 - val_auc: 0.8317 - val_prc: 0.8090\n",
      "Epoch 49/50\n",
      "24/24 [==============================] - 0s 21ms/step - loss: 1.2301 - tp: 166.0000 - fp: 10.0000 - tn: 495.0000 - fn: 86.0000 - accuracy: 0.8732 - precision: 0.9432 - recall: 0.6587 - auc: 0.9060 - prc: 0.8974 - val_loss: 1.2601 - val_tp: 72.0000 - val_fp: 6.0000 - val_tn: 211.0000 - val_fn: 36.0000 - val_accuracy: 0.8708 - val_precision: 0.9231 - val_recall: 0.6667 - val_auc: 0.8586 - val_prc: 0.8282\n",
      "Epoch 50/50\n",
      "24/24 [==============================] - 0s 20ms/step - loss: 1.2212 - tp: 176.0000 - fp: 10.0000 - tn: 495.0000 - fn: 76.0000 - accuracy: 0.8864 - precision: 0.9462 - recall: 0.6984 - auc: 0.8922 - prc: 0.8820 - val_loss: 1.2245 - val_tp: 77.0000 - val_fp: 6.0000 - val_tn: 211.0000 - val_fn: 31.0000 - val_accuracy: 0.8862 - val_precision: 0.9277 - val_recall: 0.7130 - val_auc: 0.9462 - val_prc: 0.9085\n"
     ]
    }
   ],
   "source": [
    "num_epochs = 50\n",
    "history = model.fit(training_split, train_result, epochs=num_epochs, validation_data=(test_split, test_result))\n",
    "# ,callbacks=[tf.keras.callbacks.EarlyStopping()]"
   ],
   "metadata": {
    "collapsed": false,
    "pycharm": {
     "name": "#%%\n"
    }
   }
  },
  {
   "cell_type": "code",
   "execution_count": 507,
   "outputs": [
    {
     "data": {
      "text/plain": "[<matplotlib.lines.Line2D at 0x2bc759730>]"
     },
     "execution_count": 507,
     "metadata": {},
     "output_type": "execute_result"
    },
    {
     "data": {
      "text/plain": "<Figure size 640x480 with 2 Axes>",
      "image/png": "[encoded data removed]"
     },
     "metadata": {},
     "output_type": "display_data"
    }
   ],
   "source": [
    "fig, (ax1,ax2) = plt.subplots(2,1)\n",
    "testloss = np.array(history.history['val_loss']).reshape(len(history.history['val_loss']),1)\n",
    "trainloss = np.array(history.history['loss']).reshape(len(history.history['loss']),1)\n",
    "\n",
    "ax1.plot(history.epoch, testloss, '-')\n",
    "ax1.plot(history.epoch, trainloss, '--')\n",
    "# ax1.ylabel('loss')\n",
    "# ax1.xlabel('epoch')\n",
    "\n",
    "train_precision = np.array(history.history['precision']).reshape(len(history.history['loss']),1)\n",
    "train_recall= np.array(history.history['recall']).reshape(len(history.history['loss']),1)\n",
    "j =( 2 * train_precision * train_recall) / (train_precision+train_recall)\n",
    "\n",
    "test_precission = np.array(history.history['val_precision']).reshape(len(history.history['loss']),1)\n",
    "test_recall = np.array(history.history['val_recall']).reshape(len(history.history['loss']),1)\n",
    "k = (2 * test_precission * test_recall )/ (test_precission+test_recall)\n",
    "# plt.plot(history.epoch,j, '-')\n",
    "# plt.plot(k,'--')\n",
    "\n",
    "ax2.scatter(history.epoch, k)\n",
    "ax2.scatter(history.epoch, j)\n",
    "ax2.plot(history.epoch, k,'-')\n",
    "ax2.plot(history.epoch, j,'--')\n",
    "# ax3.plot(j+3)\n",
    "# ax3.plot(trainloss,'tab:blue')"
   ],
   "metadata": {
    "collapsed": false,
    "pycharm": {
     "name": "#%%\n"
    }
   }
  },
  {
   "cell_type": "code",
   "execution_count": 508,
   "outputs": [],
   "source": [
    "table_test = pd.read_table('../drug-discovery/1663769555_8653905_test.txt', names=['sequence'])"
   ],
   "metadata": {
    "collapsed": false,
    "pycharm": {
     "name": "#%%\n"
    }
   }
  },
  {
   "cell_type": "code",
   "execution_count": 508,
   "outputs": [],
   "source": [],
   "metadata": {
    "collapsed": false,
    "pycharm": {
     "name": "#%%\n"
    }
   }
  },
  {
   "cell_type": "code",
   "execution_count": 509,
   "outputs": [],
   "source": [
    "unlabeled_test_sequence = vectorizer_k_best.transform(table_test.sequence).toarray()\n",
    "# unlabeled_test_sequence = pca.transform(unlabeled_test_sequence)"
   ],
   "metadata": {
    "collapsed": false,
    "pycharm": {
     "name": "#%%\n"
    }
   }
  },
  {
   "cell_type": "code",
   "execution_count": 510,
   "outputs": [
    {
     "data": {
      "text/plain": "(350, 80933)"
     },
     "execution_count": 510,
     "metadata": {},
     "output_type": "execute_result"
    }
   ],
   "source": [
    "unlabeled_test_sequence.shape"
   ],
   "metadata": {
    "collapsed": false,
    "pycharm": {
     "name": "#%%\n"
    }
   }
  },
  {
   "cell_type": "code",
   "execution_count": 516,
   "outputs": [
    {
     "name": "stdout",
     "output_type": "stream",
     "text": [
      "11/11 [==============================] - 0s 5ms/step\n"
     ]
    }
   ],
   "source": [
    "y = model.predict(unlabeled_test_sequence)"
   ],
   "metadata": {
    "collapsed": false,
    "pycharm": {
     "name": "#%%\n"
    }
   }
  },
  {
   "cell_type": "code",
   "execution_count": 517,
   "outputs": [
    {
     "data": {
      "text/plain": "array([[0.35775533],\n       [0.34519896],\n       [0.35017788],\n       [0.34407687],\n       [0.34666523],\n       [0.34407687],\n       [0.34486705],\n       [0.35100532],\n       [0.3458154 ],\n       [0.540002  ],\n       [0.35489982],\n       [0.3553029 ],\n       [0.34460977],\n       [0.35777122],\n       [0.34407687],\n       [0.35511515],\n       [0.34407687],\n       [0.38512403],\n       [0.3473187 ],\n       [0.34875947],\n       [0.3488631 ],\n       [0.34650233],\n       [0.34407687],\n       [0.34407687],\n       [0.3770331 ],\n       [0.6750486 ],\n       [0.35340336],\n       [0.3474783 ],\n       [0.34642524],\n       [0.3572235 ],\n       [0.34910658],\n       [0.3551118 ],\n       [0.34407687],\n       [0.34513488],\n       [0.34407687],\n       [0.350372  ],\n       [0.35440132],\n       [0.34879386],\n       [0.3564077 ],\n       [0.35510084],\n       [0.35527146],\n       [0.34428728],\n       [0.35631803],\n       [0.3451753 ],\n       [0.34823427],\n       [0.34473327],\n       [0.34790844],\n       [0.34407687],\n       [0.34941363],\n       [0.34474143],\n       [0.36267632],\n       [0.35400647],\n       [0.35591412],\n       [0.5322694 ],\n       [0.34603807],\n       [0.37786832],\n       [0.34407687],\n       [0.34920108],\n       [0.34938627],\n       [0.34407687],\n       [0.34573755],\n       [0.6716625 ],\n       [0.34928817],\n       [0.3461316 ],\n       [0.35093352],\n       [0.34829816],\n       [0.55322737],\n       [0.34407687],\n       [0.35105845],\n       [0.34865162],\n       [0.34420672],\n       [0.35309246],\n       [0.34407687],\n       [0.35471472],\n       [0.34729335],\n       [0.345615  ],\n       [0.35330915],\n       [0.34407687],\n       [0.34956986],\n       [0.34407687],\n       [0.40165123],\n       [0.35815012],\n       [0.65857977],\n       [0.66200626],\n       [0.34850776],\n       [0.679668  ],\n       [0.3468205 ],\n       [0.3475438 ],\n       [0.3631381 ],\n       [0.3477478 ],\n       [0.34407687],\n       [0.34999236],\n       [0.34407687],\n       [0.34602854],\n       [0.34887874],\n       [0.35642096],\n       [0.35690975],\n       [0.34407687],\n       [0.67055905],\n       [0.69803846],\n       [0.35044825],\n       [0.35439897],\n       [0.34407687],\n       [0.34536585],\n       [0.34407687],\n       [0.3537018 ],\n       [0.34407687],\n       [0.35435796],\n       [0.34699544],\n       [0.34907618],\n       [0.3508613 ],\n       [0.35272044],\n       [0.34407687],\n       [0.34407687],\n       [0.70043117],\n       [0.3447    ],\n       [0.34407687],\n       [0.35089853],\n       [0.4328814 ],\n       [0.34588316],\n       [0.6294275 ],\n       [0.34407687],\n       [0.34996074],\n       [0.34471738],\n       [0.34407687],\n       [0.34917802],\n       [0.34754145],\n       [0.34407687],\n       [0.34407687],\n       [0.34510136],\n       [0.34407687],\n       [0.67703813],\n       [0.34407687],\n       [0.3452185 ],\n       [0.34870383],\n       [0.34407687],\n       [0.34897047],\n       [0.34447634],\n       [0.3497607 ],\n       [0.36680976],\n       [0.34623846],\n       [0.3526589 ],\n       [0.34482816],\n       [0.3470479 ],\n       [0.34407687],\n       [0.34769392],\n       [0.66393954],\n       [0.34407687],\n       [0.6296633 ],\n       [0.35409793],\n       [0.35411713],\n       [0.34407687],\n       [0.34407687],\n       [0.39140597],\n       [0.34706858],\n       [0.3512705 ],\n       [0.34407687],\n       [0.34407687],\n       [0.35269192],\n       [0.34645945],\n       [0.3472835 ],\n       [0.3460562 ],\n       [0.6684846 ],\n       [0.35240692],\n       [0.35542142],\n       [0.35041797],\n       [0.36860833],\n       [0.34407687],\n       [0.4359861 ],\n       [0.34407687],\n       [0.34857383],\n       [0.34407687],\n       [0.34952855],\n       [0.34462133],\n       [0.3460399 ],\n       [0.34407687],\n       [0.3502399 ],\n       [0.35057843],\n       [0.3457105 ],\n       [0.34510165],\n       [0.34407687],\n       [0.34407687],\n       [0.3481474 ],\n       [0.3461854 ],\n       [0.34983715],\n       [0.35618815],\n       [0.349866  ],\n       [0.34904674],\n       [0.34407687],\n       [0.35025188],\n       [0.34407687],\n       [0.34407687],\n       [0.3494236 ],\n       [0.35336947],\n       [0.34407687],\n       [0.35140884],\n       [0.34633216],\n       [0.34915078],\n       [0.3450471 ],\n       [0.3492365 ],\n       [0.3639495 ],\n       [0.34998605],\n       [0.34407687],\n       [0.34488815],\n       [0.34407687],\n       [0.35124692],\n       [0.34407687],\n       [0.34407687],\n       [0.35718054],\n       [0.3481724 ],\n       [0.34459448],\n       [0.34407687],\n       [0.35083675],\n       [0.3648252 ],\n       [0.35724106],\n       [0.35037163],\n       [0.35084093],\n       [0.36134544],\n       [0.34407687],\n       [0.35507643],\n       [0.3628986 ],\n       [0.35671464],\n       [0.67537355],\n       [0.34407687],\n       [0.3576646 ],\n       [0.6961131 ],\n       [0.35472172],\n       [0.34407687],\n       [0.3626433 ],\n       [0.34407687],\n       [0.39662683],\n       [0.35456184],\n       [0.34891707],\n       [0.34407687],\n       [0.34478363],\n       [0.3527858 ],\n       [0.34407687],\n       [0.3514483 ],\n       [0.34407687],\n       [0.34517395],\n       [0.35036206],\n       [0.3688717 ],\n       [0.34769422],\n       [0.35502943],\n       [0.34407687],\n       [0.35804692],\n       [0.34407687],\n       [0.6597571 ],\n       [0.34407687],\n       [0.34553182],\n       [0.3516961 ],\n       [0.35696417],\n       [0.35644174],\n       [0.34407687],\n       [0.59021467],\n       [0.35230204],\n       [0.34915355],\n       [0.3441868 ],\n       [0.3561628 ],\n       [0.34769514],\n       [0.36211994],\n       [0.348132  ],\n       [0.34723824],\n       [0.35001284],\n       [0.34652776],\n       [0.35623217],\n       [0.34591046],\n       [0.34522775],\n       [0.34858066],\n       [0.3540819 ],\n       [0.3463889 ],\n       [0.34735784],\n       [0.34696922],\n       [0.35187533],\n       [0.34407687],\n       [0.34407687],\n       [0.34525657],\n       [0.3542103 ],\n       [0.34407687],\n       [0.34407687],\n       [0.34407687],\n       [0.4807719 ],\n       [0.34407687],\n       [0.34407687],\n       [0.3552935 ],\n       [0.34529868],\n       [0.34422773],\n       [0.34676498],\n       [0.34842688],\n       [0.35565814],\n       [0.34407687],\n       [0.34407687],\n       [0.67343813],\n       [0.34407687],\n       [0.35361925],\n       [0.3482737 ],\n       [0.35452083],\n       [0.3452672 ],\n       [0.51164895],\n       [0.34635767],\n       [0.3517951 ],\n       [0.34860456],\n       [0.35152602],\n       [0.34888205],\n       [0.34474996],\n       [0.34407687],\n       [0.3486616 ],\n       [0.3552958 ],\n       [0.34407687],\n       [0.34407687],\n       [0.34407687],\n       [0.34407687],\n       [0.3567147 ],\n       [0.34407687],\n       [0.35413888],\n       [0.6766765 ],\n       [0.34766516],\n       [0.34407687],\n       [0.34523198],\n       [0.34407687],\n       [0.34975255],\n       [0.34710422],\n       [0.6621362 ],\n       [0.34737188],\n       [0.34407687],\n       [0.34790727],\n       [0.34407687],\n       [0.34815657],\n       [0.3517836 ],\n       [0.34826586],\n       [0.6695712 ],\n       [0.34407687],\n       [0.34490448],\n       [0.34407687],\n       [0.34407687],\n       [0.34550393],\n       [0.54118633],\n       [0.35328704],\n       [0.3590997 ],\n       [0.35563967],\n       [0.34407687],\n       [0.34407687],\n       [0.34434155],\n       [0.35155264],\n       [0.3512143 ],\n       [0.34407687],\n       [0.34407687],\n       [0.35064214],\n       [0.5437915 ],\n       [0.34670886]], dtype=float32)"
     },
     "execution_count": 517,
     "metadata": {},
     "output_type": "execute_result"
    }
   ],
   "source": [
    "y"
   ],
   "metadata": {
    "collapsed": false,
    "pycharm": {
     "name": "#%%\n"
    }
   }
  },
  {
   "cell_type": "code",
   "execution_count": 518,
   "outputs": [],
   "source": [
    "# for i in range(3):\n",
    "z = [1 if i>=.5 else 0 for i in y ]"
   ],
   "metadata": {
    "collapsed": false,
    "pycharm": {
     "name": "#%%\n"
    }
   }
  },
  {
   "cell_type": "code",
   "execution_count": 519,
   "outputs": [
    {
     "data": {
      "text/plain": "350"
     },
     "execution_count": 519,
     "metadata": {},
     "output_type": "execute_result"
    }
   ],
   "source": [
    "len(z)"
   ],
   "metadata": {
    "collapsed": false,
    "pycharm": {
     "name": "#%%\n"
    }
   }
  },
  {
   "cell_type": "code",
   "execution_count": 520,
   "outputs": [],
   "source": [
    "import csv\n",
    "outfile = open('./results.csv','w')\n",
    "out = csv.writer(outfile)\n",
    "out.writerows(map(lambda x: [x], z))\n",
    "outfile.close()"
   ],
   "metadata": {
    "collapsed": false,
    "pycharm": {
     "name": "#%%\n"
    }
   }
  },
  {
   "cell_type": "code",
   "execution_count": null,
   "outputs": [],
   "source": [],
   "metadata": {
    "collapsed": false,
    "pycharm": {
     "name": "#%%\n"
    }
   }
  }
 ],
 "metadata": {
  "kernelspec": {
   "display_name": "Python 3",
   "language": "python",
   "name": "python3"
  },
  "language_info": {
   "codemirror_mode": {
    "name": "ipython",
    "version": 2
   },
   "file_extension": ".py",
   "mimetype": "text/x-python",
   "name": "python",
   "nbconvert_exporter": "python",
   "pygments_lexer": "ipython2",
   "version": "2.7.6"
  }
 },
 "nbformat": 4,
 "nbformat_minor": 0
}