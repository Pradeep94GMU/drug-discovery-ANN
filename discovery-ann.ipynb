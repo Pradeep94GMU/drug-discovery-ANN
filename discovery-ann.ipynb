{
 "cells": [
  {
   "cell_type": "code",
   "execution_count": 1,
   "outputs": [],
   "source": [
    "import tensorflow as tf\n",
    "import pandas as pd\n",
    "import numpy as np\n",
    "import matplotlib.pyplot as plt\n",
    "import imblearn"
   ],
   "metadata": {
    "collapsed": false,
    "pycharm": {
     "name": "#%%\n"
    }
   }
  },
  {
   "cell_type": "code",
   "execution_count": 2,
   "outputs": [
    {
     "name": "stdout",
     "output_type": "stream",
     "text": [
      "2.10.0\n"
     ]
    }
   ],
   "source": [
    "print(tf.__version__)"
   ],
   "metadata": {
    "collapsed": false,
    "pycharm": {
     "name": "#%%\n"
    }
   }
  },
  {
   "cell_type": "code",
   "execution_count": 3,
   "outputs": [],
   "source": [
    "table = pd.read_table('../drug-discovery/1663769555_8559356_train.txt', names=['binding','sequence'])"
   ],
   "metadata": {
    "collapsed": false,
    "pycharm": {
     "name": "#%%\n"
    }
   }
  },
  {
   "cell_type": "markdown",
   "source": [
    "### Seprating Training and Testing Data"
   ],
   "metadata": {
    "collapsed": false,
    "pycharm": {
     "name": "#%% md\n"
    }
   }
  },
  {
   "cell_type": "code",
   "execution_count": 4,
   "outputs": [],
   "source": [
    "from sklearn.feature_extraction.text import CountVectorizer\n",
    "def return_binary_vectorized_form(data_frame):\n",
    "    count_vectorizer = CountVectorizer(binary=True)\n",
    "    fitted_and_transformed = count_vectorizer.fit_transform(data_frame).toarray()\n",
    "    return count_vectorizer,  fitted_and_transformed\n"
   ],
   "metadata": {
    "collapsed": false,
    "pycharm": {
     "name": "#%%\n"
    }
   }
  },
  {
   "cell_type": "code",
   "execution_count": 5,
   "outputs": [],
   "source": [
    "from sklearn.model_selection import train_test_split\n",
    "active_df = table.loc[table.binding == 1]\n",
    "not_active_df = table.loc[table.binding == 0]\n",
    "# Mainly spliting the data here for testing, that is the reason train size is set to .20\n",
    "active_train, active_test, active_binding_train, active_binding_test = train_test_split(active_df.sequence, active_df.binding, shuffle=True, train_size= .20)\n",
    "not_active_train, not_active_test, not_active_binding_train, not_active_binding_test = train_test_split(not_active_df.sequence, not_active_df.binding, shuffle=True, train_size=.70)"
   ],
   "metadata": {
    "collapsed": false,
    "pycharm": {
     "name": "#%%\n"
    }
   }
  },
  {
   "cell_type": "code",
   "execution_count": 6,
   "outputs": [],
   "source": [
    "active_test_df = pd.DataFrame(active_test)\n",
    "active_binding_test_df = pd.DataFrame(active_binding_test)\n",
    "active_test_df['binding'] = active_binding_test_df['binding']"
   ],
   "metadata": {
    "collapsed": false,
    "pycharm": {
     "name": "#%%\n"
    }
   }
  },
  {
   "cell_type": "code",
   "execution_count": 7,
   "outputs": [],
   "source": [
    "not_active_test_df = pd.DataFrame(not_active_test)\n",
    "not_active_binding_test_df = pd.DataFrame(not_active_binding_test)\n",
    "not_active_test_df['binding'] = not_active_binding_test_df['binding']"
   ],
   "metadata": {
    "collapsed": false,
    "pycharm": {
     "name": "#%%\n"
    }
   }
  },
  {
   "cell_type": "code",
   "execution_count": 8,
   "outputs": [
    {
     "name": "stdout",
     "output_type": "stream",
     "text": [
      "0    217\n",
      "1     63\n",
      "Name: binding, dtype: int64\n"
     ]
    }
   ],
   "source": [
    "test_df = pd.concat([active_test_df,not_active_test_df]).reset_index()\n",
    "test_df = test_df.drop('index',axis=1)\n",
    "print(test_df.binding.value_counts())"
   ],
   "metadata": {
    "collapsed": false,
    "pycharm": {
     "name": "#%%\n"
    }
   }
  },
  {
   "cell_type": "markdown",
   "source": [
    "### Over Sampling On the Main Data"
   ],
   "metadata": {
    "collapsed": false,
    "pycharm": {
     "name": "#%% md\n"
    }
   }
  },
  {
   "cell_type": "code",
   "execution_count": 9,
   "outputs": [],
   "source": [
    "from imblearn.over_sampling import RandomOverSampler\n",
    "sampler = RandomOverSampler()\n",
    "x_sampled, y_sampled = sampler.fit_resample(np.array(table.sequence).reshape(-1,1),table.binding)"
   ],
   "metadata": {
    "collapsed": false,
    "pycharm": {
     "name": "#%%\n"
    }
   }
  },
  {
   "cell_type": "code",
   "execution_count": 10,
   "outputs": [
    {
     "name": "stdout",
     "output_type": "stream",
     "text": [
      "0    722\n",
      "1    722\n",
      "Name: binding, dtype: int64\n",
      "0    217\n",
      "1     63\n",
      "Name: binding, dtype: int64\n"
     ]
    }
   ],
   "source": [
    "final_train_set = pd.DataFrame(x_sampled, columns  =[\"sequence\"])\n",
    "final_train_set['binding'] = y_sampled\n",
    "print(final_train_set.binding.value_counts())\n",
    "\n",
    "final_test_set = pd.DataFrame(test_df.sequence, columns  =[\"sequence\"])\n",
    "final_test_set['binding'] = test_df.binding\n",
    "print(final_test_set.binding.value_counts())"
   ],
   "metadata": {
    "collapsed": false,
    "pycharm": {
     "name": "#%%\n"
    }
   }
  },
  {
   "cell_type": "markdown",
   "source": [
    "Extracting Features in Binary vectorized format"
   ],
   "metadata": {
    "collapsed": false,
    "pycharm": {
     "name": "#%% md\n"
    }
   }
  },
  {
   "cell_type": "code",
   "execution_count": 11,
   "outputs": [],
   "source": [
    "vectorizer_best, training_split = return_binary_vectorized_form(final_train_set.sequence)\n",
    "test_split = vectorizer_best.transform(final_test_set.sequence).toarray()"
   ],
   "metadata": {
    "collapsed": false,
    "pycharm": {
     "name": "#%%\n"
    }
   }
  },
  {
   "cell_type": "code",
   "execution_count": 12,
   "outputs": [
    {
     "name": "stdout",
     "output_type": "stream",
     "text": [
      "(1444, 84482)\n",
      "(280, 84482)\n"
     ]
    }
   ],
   "source": [
    "print(training_split.shape)\n",
    "print(test_split.shape)"
   ],
   "metadata": {
    "collapsed": false,
    "pycharm": {
     "name": "#%%\n"
    }
   }
  },
  {
   "cell_type": "code",
   "execution_count": 13,
   "outputs": [],
   "source": [
    "train_result = np.array(final_train_set.binding)\n",
    "test_result = np.array(final_test_set.binding)\n",
    "# print(train_result.shape)\n",
    "# print(test_result.shape)\n"
   ],
   "metadata": {
    "collapsed": false,
    "pycharm": {
     "name": "#%%\n"
    }
   }
  },
  {
   "cell_type": "code",
   "execution_count": 14,
   "outputs": [
    {
     "data": {
      "text/plain": "array([[0, 0, 0, ..., 0, 0, 0],\n       [0, 0, 0, ..., 0, 0, 0],\n       [0, 0, 0, ..., 0, 0, 0],\n       ...,\n       [0, 0, 0, ..., 0, 0, 0],\n       [0, 0, 0, ..., 0, 0, 0],\n       [0, 0, 0, ..., 0, 0, 0]])"
     },
     "execution_count": 14,
     "metadata": {},
     "output_type": "execute_result"
    }
   ],
   "source": [
    "training_split"
   ],
   "metadata": {
    "collapsed": false,
    "pycharm": {
     "name": "#%%\n"
    }
   }
  },
  {
   "cell_type": "markdown",
   "source": [
    "## Modeling Neural Network"
   ],
   "metadata": {
    "collapsed": false,
    "pycharm": {
     "name": "#%% md\n"
    }
   }
  },
  {
   "cell_type": "markdown",
   "source": [
    "#### Early Stopping Criteria"
   ],
   "metadata": {
    "collapsed": false,
    "pycharm": {
     "name": "#%% md\n"
    }
   }
  },
  {
   "cell_type": "code",
   "execution_count": 15,
   "outputs": [],
   "source": [
    "class EarlyStoppingMonitor(tf.keras.callbacks.Callback):\n",
    "    def __init__(self):\n",
    "        super(EarlyStoppingMonitor, self).__init__()\n",
    "        self.f1_train = None\n",
    "        self.f1_test = None\n",
    "        self.count =0\n",
    "\n",
    "    def on_epoch_end(self, epoch, logs=None):\n",
    "        current_train_precision = logs.get('precision')\n",
    "        current_train_recall= logs.get('recall')\n",
    "        current_test_precision = logs.get('val_precision')\n",
    "        current_test_recall= logs.get('val_recall')\n",
    "        if current_train_precision==0 or current_train_recall==0 or current_test_precision==0 or current_test_recall==0:\n",
    "            print(\"**** Waring: precision recall zero avoid exception ****\")\n",
    "            return\n",
    "        self.f1_train = (2*current_train_precision*current_train_recall) / (current_train_precision+current_train_recall)\n",
    "        self.f1_test = (2*current_test_precision*current_test_recall) / (current_test_precision+current_test_recall)\n",
    "        if abs(self.f1_train-self.f1_test) < .02 and 1>self.f1_test>.979:\n",
    "            # self.count += 1\n",
    "            # if self.count >4:\n",
    "            self.model.stop_training = True\n",
    "            print('\\n\\n******* Stoping on Defined Thresold *******')\n",
    "            print('F1 TRAINING: ', self.f1_train)\n",
    "            print('F1 TESTING: ' , self.f1_test)\n",
    "\n",
    "    def on_train_end(self, logs=None):\n",
    "        if self.model.stop_training:\n",
    "            print(\"\\n\\n\\n****** Early Stopping *******\")\n"
   ],
   "metadata": {
    "collapsed": false,
    "pycharm": {
     "name": "#%%\n"
    }
   }
  },
  {
   "cell_type": "markdown",
   "source": [
    "#### Neural Network Size (hypermater selection explained in the report)"
   ],
   "metadata": {
    "collapsed": false,
    "pycharm": {
     "name": "#%% md\n"
    }
   }
  },
  {
   "cell_type": "code",
   "execution_count": 16,
   "outputs": [
    {
     "name": "stdout",
     "output_type": "stream",
     "text": [
      "Metal device set to: Apple M1\n"
     ]
    },
    {
     "name": "stderr",
     "output_type": "stream",
     "text": [
      "2022-10-10 21:58:38.336677: I tensorflow/core/common_runtime/pluggable_device/pluggable_device_factory.cc:306] Could not identify NUMA node of platform GPU ID 0, defaulting to 0. Your kernel may not have been built with NUMA support.\n",
      "2022-10-10 21:58:38.337445: I tensorflow/core/common_runtime/pluggable_device/pluggable_device_factory.cc:272] Created TensorFlow device (/job:localhost/replica:0/task:0/device:GPU:0 with 0 MB memory) -> physical PluggableDevice (device: 0, name: METAL, pci bus id: <undefined>)\n"
     ]
    }
   ],
   "source": [
    "model = tf.keras.Sequential([\n",
    "    tf.keras.Input(shape=(training_split.shape[-1],)),\n",
    "    tf.keras.layers.Dense(26,activation='relu',kernel_regularizer=tf.keras.regularizers.L1(.015)),\n",
    "    tf.keras.layers.Dense(26,activation='relu',kernel_regularizer=tf.keras.regularizers.L1(.015)),\n",
    "    tf.keras.layers.Dense(1, activation='sigmoid')\n",
    "])"
   ],
   "metadata": {
    "collapsed": false,
    "pycharm": {
     "name": "#%%\n"
    }
   }
  },
  {
   "cell_type": "markdown",
   "source": [
    "#### Metrics to moniter in every pass"
   ],
   "metadata": {
    "collapsed": false,
    "pycharm": {
     "name": "#%% md\n"
    }
   }
  },
  {
   "cell_type": "code",
   "execution_count": 17,
   "outputs": [],
   "source": [
    "METRICS = [\n",
    "      tf.keras.metrics.TruePositives(name='tp'),\n",
    "      tf.keras.metrics.FalsePositives(name='fp'),\n",
    "      tf.keras.metrics.TrueNegatives(name='tn'),\n",
    "      tf.keras.metrics.FalseNegatives(name='fn'),\n",
    "      tf.keras.metrics.Precision(name='precision'),\n",
    "      tf.keras.metrics.Recall(name='recall')\n",
    "]\n",
    "model.compile(loss=tf.keras.losses.BinaryFocalCrossentropy(), metrics=METRICS, optimizer='adam')"
   ],
   "metadata": {
    "collapsed": false,
    "pycharm": {
     "name": "#%%\n"
    }
   }
  },
  {
   "cell_type": "code",
   "execution_count": 18,
   "outputs": [
    {
     "name": "stdout",
     "output_type": "stream",
     "text": [
      "Epoch 1/350\n"
     ]
    },
    {
     "name": "stderr",
     "output_type": "stream",
     "text": [
      "2022-10-10 21:58:44.075697: W tensorflow/core/platform/profile_utils/cpu_utils.cc:128] Failed to get CPU frequency: 0 Hz\n",
      "2022-10-10 21:58:44.431582: I tensorflow/core/grappler/optimizers/custom_graph_optimizer_registry.cc:114] Plugin optimizer for device_type GPU is enabled.\n"
     ]
    },
    {
     "name": "stdout",
     "output_type": "stream",
     "text": [
      "21/21 [==============================] - 2s 65ms/step - loss: 40.8105 - tp: 704.0000 - fp: 308.0000 - tn: 414.0000 - fn: 18.0000 - precision: 0.6957 - recall: 0.9751 - val_loss: 15.4906 - val_tp: 60.0000 - val_fp: 23.0000 - val_tn: 194.0000 - val_fn: 3.0000 - val_precision: 0.7229 - val_recall: 0.9524\n",
      "Epoch 2/350\n"
     ]
    },
    {
     "name": "stderr",
     "output_type": "stream",
     "text": [
      "2022-10-10 21:58:45.926986: I tensorflow/core/grappler/optimizers/custom_graph_optimizer_registry.cc:114] Plugin optimizer for device_type GPU is enabled.\n"
     ]
    },
    {
     "name": "stdout",
     "output_type": "stream",
     "text": [
      "21/21 [==============================] - 1s 44ms/step - loss: 9.9740 - tp: 580.0000 - fp: 31.0000 - tn: 691.0000 - fn: 142.0000 - precision: 0.9493 - recall: 0.8033 - val_loss: 6.9641 - val_tp: 45.0000 - val_fp: 7.0000 - val_tn: 210.0000 - val_fn: 18.0000 - val_precision: 0.8654 - val_recall: 0.7143\n",
      "Epoch 3/350\n",
      "21/21 [==============================] - 1s 43ms/step - loss: 6.1692 - tp: 531.0000 - fp: 19.0000 - tn: 703.0000 - fn: 191.0000 - precision: 0.9655 - recall: 0.7355 - val_loss: 5.6502 - val_tp: 48.0000 - val_fp: 8.0000 - val_tn: 209.0000 - val_fn: 15.0000 - val_precision: 0.8571 - val_recall: 0.7619\n",
      "Epoch 4/350\n",
      "21/21 [==============================] - 1s 43ms/step - loss: 5.4343 - tp: 505.0000 - fp: 20.0000 - tn: 702.0000 - fn: 217.0000 - precision: 0.9619 - recall: 0.6994 - val_loss: 5.2860 - val_tp: 45.0000 - val_fp: 7.0000 - val_tn: 210.0000 - val_fn: 18.0000 - val_precision: 0.8654 - val_recall: 0.7143\n",
      "Epoch 5/350\n",
      "21/21 [==============================] - 1s 42ms/step - loss: 5.1593 - tp: 507.0000 - fp: 20.0000 - tn: 702.0000 - fn: 215.0000 - precision: 0.9620 - recall: 0.7022 - val_loss: 5.0366 - val_tp: 40.0000 - val_fp: 8.0000 - val_tn: 209.0000 - val_fn: 23.0000 - val_precision: 0.8333 - val_recall: 0.6349\n",
      "Epoch 6/350\n",
      "21/21 [==============================] - 1s 45ms/step - loss: 4.9637 - tp: 480.0000 - fp: 19.0000 - tn: 703.0000 - fn: 242.0000 - precision: 0.9619 - recall: 0.6648 - val_loss: 4.8988 - val_tp: 45.0000 - val_fp: 7.0000 - val_tn: 210.0000 - val_fn: 18.0000 - val_precision: 0.8654 - val_recall: 0.7143\n",
      "Epoch 7/350\n",
      "21/21 [==============================] - 1s 49ms/step - loss: 4.7889 - tp: 474.0000 - fp: 19.0000 - tn: 703.0000 - fn: 248.0000 - precision: 0.9615 - recall: 0.6565 - val_loss: 4.6956 - val_tp: 44.0000 - val_fp: 7.0000 - val_tn: 210.0000 - val_fn: 19.0000 - val_precision: 0.8627 - val_recall: 0.6984\n",
      "Epoch 8/350\n",
      "21/21 [==============================] - 1s 46ms/step - loss: 4.6495 - tp: 483.0000 - fp: 19.0000 - tn: 703.0000 - fn: 239.0000 - precision: 0.9622 - recall: 0.6690 - val_loss: 4.5741 - val_tp: 41.0000 - val_fp: 7.0000 - val_tn: 210.0000 - val_fn: 22.0000 - val_precision: 0.8542 - val_recall: 0.6508\n",
      "Epoch 9/350\n",
      "21/21 [==============================] - 1s 45ms/step - loss: 4.5041 - tp: 481.0000 - fp: 19.0000 - tn: 703.0000 - fn: 241.0000 - precision: 0.9620 - recall: 0.6662 - val_loss: 4.4171 - val_tp: 42.0000 - val_fp: 7.0000 - val_tn: 210.0000 - val_fn: 21.0000 - val_precision: 0.8571 - val_recall: 0.6667\n",
      "Epoch 10/350\n",
      "21/21 [==============================] - 1s 48ms/step - loss: 4.3777 - tp: 479.0000 - fp: 20.0000 - tn: 702.0000 - fn: 243.0000 - precision: 0.9599 - recall: 0.6634 - val_loss: 4.3500 - val_tp: 43.0000 - val_fp: 7.0000 - val_tn: 210.0000 - val_fn: 20.0000 - val_precision: 0.8600 - val_recall: 0.6825\n",
      "Epoch 11/350\n",
      "21/21 [==============================] - 1s 44ms/step - loss: 4.2603 - tp: 494.0000 - fp: 19.0000 - tn: 703.0000 - fn: 228.0000 - precision: 0.9630 - recall: 0.6842 - val_loss: 4.1917 - val_tp: 42.0000 - val_fp: 7.0000 - val_tn: 210.0000 - val_fn: 21.0000 - val_precision: 0.8571 - val_recall: 0.6667\n",
      "Epoch 12/350\n",
      "21/21 [==============================] - 1s 46ms/step - loss: 4.1440 - tp: 492.0000 - fp: 21.0000 - tn: 701.0000 - fn: 230.0000 - precision: 0.9591 - recall: 0.6814 - val_loss: 4.0964 - val_tp: 45.0000 - val_fp: 7.0000 - val_tn: 210.0000 - val_fn: 18.0000 - val_precision: 0.8654 - val_recall: 0.7143\n",
      "Epoch 13/350\n",
      "21/21 [==============================] - 1s 44ms/step - loss: 4.0442 - tp: 491.0000 - fp: 19.0000 - tn: 703.0000 - fn: 231.0000 - precision: 0.9627 - recall: 0.6801 - val_loss: 3.9793 - val_tp: 44.0000 - val_fp: 8.0000 - val_tn: 209.0000 - val_fn: 19.0000 - val_precision: 0.8462 - val_recall: 0.6984\n",
      "Epoch 14/350\n",
      "21/21 [==============================] - 1s 43ms/step - loss: 3.9554 - tp: 507.0000 - fp: 21.0000 - tn: 701.0000 - fn: 215.0000 - precision: 0.9602 - recall: 0.7022 - val_loss: 3.9305 - val_tp: 44.0000 - val_fp: 7.0000 - val_tn: 210.0000 - val_fn: 19.0000 - val_precision: 0.8627 - val_recall: 0.6984\n",
      "Epoch 15/350\n",
      "21/21 [==============================] - 1s 42ms/step - loss: 3.8682 - tp: 508.0000 - fp: 20.0000 - tn: 702.0000 - fn: 214.0000 - precision: 0.9621 - recall: 0.7036 - val_loss: 3.8413 - val_tp: 44.0000 - val_fp: 8.0000 - val_tn: 209.0000 - val_fn: 19.0000 - val_precision: 0.8462 - val_recall: 0.6984\n",
      "Epoch 16/350\n",
      "21/21 [==============================] - 1s 43ms/step - loss: 3.8031 - tp: 497.0000 - fp: 19.0000 - tn: 703.0000 - fn: 225.0000 - precision: 0.9632 - recall: 0.6884 - val_loss: 3.7875 - val_tp: 45.0000 - val_fp: 8.0000 - val_tn: 209.0000 - val_fn: 18.0000 - val_precision: 0.8491 - val_recall: 0.7143\n",
      "Epoch 17/350\n",
      "21/21 [==============================] - 1s 43ms/step - loss: 3.7752 - tp: 507.0000 - fp: 20.0000 - tn: 702.0000 - fn: 215.0000 - precision: 0.9620 - recall: 0.7022 - val_loss: 3.7328 - val_tp: 45.0000 - val_fp: 8.0000 - val_tn: 209.0000 - val_fn: 18.0000 - val_precision: 0.8491 - val_recall: 0.7143\n",
      "Epoch 18/350\n",
      "21/21 [==============================] - 1s 43ms/step - loss: 3.7664 - tp: 508.0000 - fp: 21.0000 - tn: 701.0000 - fn: 214.0000 - precision: 0.9603 - recall: 0.7036 - val_loss: 3.7723 - val_tp: 46.0000 - val_fp: 7.0000 - val_tn: 210.0000 - val_fn: 17.0000 - val_precision: 0.8679 - val_recall: 0.7302\n",
      "Epoch 19/350\n",
      "21/21 [==============================] - 1s 42ms/step - loss: 3.7650 - tp: 514.0000 - fp: 20.0000 - tn: 702.0000 - fn: 208.0000 - precision: 0.9625 - recall: 0.7119 - val_loss: 3.7639 - val_tp: 47.0000 - val_fp: 7.0000 - val_tn: 210.0000 - val_fn: 16.0000 - val_precision: 0.8704 - val_recall: 0.7460\n",
      "Epoch 20/350\n",
      "21/21 [==============================] - 1s 44ms/step - loss: 3.7624 - tp: 508.0000 - fp: 19.0000 - tn: 703.0000 - fn: 214.0000 - precision: 0.9639 - recall: 0.7036 - val_loss: 3.7856 - val_tp: 45.0000 - val_fp: 8.0000 - val_tn: 209.0000 - val_fn: 18.0000 - val_precision: 0.8491 - val_recall: 0.7143\n",
      "Epoch 21/350\n",
      "21/21 [==============================] - 1s 45ms/step - loss: 3.7718 - tp: 509.0000 - fp: 20.0000 - tn: 702.0000 - fn: 213.0000 - precision: 0.9622 - recall: 0.7050 - val_loss: 3.7523 - val_tp: 47.0000 - val_fp: 8.0000 - val_tn: 209.0000 - val_fn: 16.0000 - val_precision: 0.8545 - val_recall: 0.7460\n",
      "Epoch 22/350\n",
      "21/21 [==============================] - 1s 43ms/step - loss: 3.7680 - tp: 525.0000 - fp: 20.0000 - tn: 702.0000 - fn: 197.0000 - precision: 0.9633 - recall: 0.7271 - val_loss: 3.7682 - val_tp: 44.0000 - val_fp: 8.0000 - val_tn: 209.0000 - val_fn: 19.0000 - val_precision: 0.8462 - val_recall: 0.6984\n",
      "Epoch 23/350\n",
      "21/21 [==============================] - 1s 44ms/step - loss: 3.7629 - tp: 522.0000 - fp: 21.0000 - tn: 701.0000 - fn: 200.0000 - precision: 0.9613 - recall: 0.7230 - val_loss: 3.7626 - val_tp: 47.0000 - val_fp: 8.0000 - val_tn: 209.0000 - val_fn: 16.0000 - val_precision: 0.8545 - val_recall: 0.7460\n",
      "Epoch 24/350\n",
      "21/21 [==============================] - 1s 43ms/step - loss: 3.7620 - tp: 529.0000 - fp: 20.0000 - tn: 702.0000 - fn: 193.0000 - precision: 0.9636 - recall: 0.7327 - val_loss: 3.7831 - val_tp: 51.0000 - val_fp: 8.0000 - val_tn: 209.0000 - val_fn: 12.0000 - val_precision: 0.8644 - val_recall: 0.8095\n",
      "Epoch 25/350\n",
      "21/21 [==============================] - 1s 44ms/step - loss: 3.7639 - tp: 542.0000 - fp: 20.0000 - tn: 702.0000 - fn: 180.0000 - precision: 0.9644 - recall: 0.7507 - val_loss: 3.7652 - val_tp: 57.0000 - val_fp: 8.0000 - val_tn: 209.0000 - val_fn: 6.0000 - val_precision: 0.8769 - val_recall: 0.9048\n",
      "Epoch 26/350\n",
      "21/21 [==============================] - 1s 44ms/step - loss: 3.7637 - tp: 573.0000 - fp: 20.0000 - tn: 702.0000 - fn: 149.0000 - precision: 0.9663 - recall: 0.7936 - val_loss: 3.7784 - val_tp: 49.0000 - val_fp: 7.0000 - val_tn: 210.0000 - val_fn: 14.0000 - val_precision: 0.8750 - val_recall: 0.7778\n",
      "Epoch 27/350\n",
      "21/21 [==============================] - 1s 47ms/step - loss: 3.7674 - tp: 556.0000 - fp: 20.0000 - tn: 702.0000 - fn: 166.0000 - precision: 0.9653 - recall: 0.7701 - val_loss: 3.7437 - val_tp: 51.0000 - val_fp: 8.0000 - val_tn: 209.0000 - val_fn: 12.0000 - val_precision: 0.8644 - val_recall: 0.8095\n",
      "Epoch 28/350\n",
      "21/21 [==============================] - 1s 48ms/step - loss: 3.7608 - tp: 561.0000 - fp: 20.0000 - tn: 702.0000 - fn: 161.0000 - precision: 0.9656 - recall: 0.7770 - val_loss: 3.7843 - val_tp: 53.0000 - val_fp: 8.0000 - val_tn: 209.0000 - val_fn: 10.0000 - val_precision: 0.8689 - val_recall: 0.8413\n",
      "Epoch 29/350\n",
      "21/21 [==============================] - 1s 44ms/step - loss: 3.7762 - tp: 584.0000 - fp: 20.0000 - tn: 702.0000 - fn: 138.0000 - precision: 0.9669 - recall: 0.8089 - val_loss: 3.7585 - val_tp: 52.0000 - val_fp: 8.0000 - val_tn: 209.0000 - val_fn: 11.0000 - val_precision: 0.8667 - val_recall: 0.8254\n",
      "Epoch 30/350\n",
      "21/21 [==============================] - 1s 46ms/step - loss: 3.7643 - tp: 596.0000 - fp: 20.0000 - tn: 702.0000 - fn: 126.0000 - precision: 0.9675 - recall: 0.8255 - val_loss: 3.7918 - val_tp: 55.0000 - val_fp: 8.0000 - val_tn: 209.0000 - val_fn: 8.0000 - val_precision: 0.8730 - val_recall: 0.8730\n",
      "Epoch 31/350\n",
      "21/21 [==============================] - 1s 43ms/step - loss: 3.7642 - tp: 603.0000 - fp: 21.0000 - tn: 701.0000 - fn: 119.0000 - precision: 0.9663 - recall: 0.8352 - val_loss: 3.7755 - val_tp: 57.0000 - val_fp: 8.0000 - val_tn: 209.0000 - val_fn: 6.0000 - val_precision: 0.8769 - val_recall: 0.9048\n",
      "Epoch 32/350\n",
      "21/21 [==============================] - 1s 42ms/step - loss: 3.7656 - tp: 614.0000 - fp: 19.0000 - tn: 703.0000 - fn: 108.0000 - precision: 0.9700 - recall: 0.8504 - val_loss: 3.7737 - val_tp: 55.0000 - val_fp: 8.0000 - val_tn: 209.0000 - val_fn: 8.0000 - val_precision: 0.8730 - val_recall: 0.8730\n",
      "Epoch 33/350\n",
      "21/21 [==============================] - 1s 42ms/step - loss: 3.7677 - tp: 623.0000 - fp: 19.0000 - tn: 703.0000 - fn: 99.0000 - precision: 0.9704 - recall: 0.8629 - val_loss: 3.7476 - val_tp: 59.0000 - val_fp: 8.0000 - val_tn: 209.0000 - val_fn: 4.0000 - val_precision: 0.8806 - val_recall: 0.9365\n",
      "Epoch 34/350\n",
      "21/21 [==============================] - 1s 45ms/step - loss: 3.7640 - tp: 638.0000 - fp: 19.0000 - tn: 703.0000 - fn: 84.0000 - precision: 0.9711 - recall: 0.8837 - val_loss: 3.7806 - val_tp: 56.0000 - val_fp: 8.0000 - val_tn: 209.0000 - val_fn: 7.0000 - val_precision: 0.8750 - val_recall: 0.8889\n",
      "Epoch 35/350\n",
      "21/21 [==============================] - 1s 48ms/step - loss: 3.7616 - tp: 643.0000 - fp: 19.0000 - tn: 703.0000 - fn: 79.0000 - precision: 0.9713 - recall: 0.8906 - val_loss: 3.7780 - val_tp: 59.0000 - val_fp: 8.0000 - val_tn: 209.0000 - val_fn: 4.0000 - val_precision: 0.8806 - val_recall: 0.9365\n",
      "Epoch 36/350\n",
      "21/21 [==============================] - 1s 43ms/step - loss: 3.7657 - tp: 653.0000 - fp: 20.0000 - tn: 702.0000 - fn: 69.0000 - precision: 0.9703 - recall: 0.9044 - val_loss: 3.7791 - val_tp: 54.0000 - val_fp: 8.0000 - val_tn: 209.0000 - val_fn: 9.0000 - val_precision: 0.8710 - val_recall: 0.8571\n",
      "Epoch 37/350\n",
      "21/21 [==============================] - 1s 42ms/step - loss: 3.7714 - tp: 638.0000 - fp: 19.0000 - tn: 703.0000 - fn: 84.0000 - precision: 0.9711 - recall: 0.8837 - val_loss: 3.7390 - val_tp: 60.0000 - val_fp: 8.0000 - val_tn: 209.0000 - val_fn: 3.0000 - val_precision: 0.8824 - val_recall: 0.9524\n",
      "Epoch 38/350\n",
      "21/21 [==============================] - 1s 44ms/step - loss: 3.7672 - tp: 659.0000 - fp: 20.0000 - tn: 702.0000 - fn: 63.0000 - precision: 0.9705 - recall: 0.9127 - val_loss: 3.7863 - val_tp: 59.0000 - val_fp: 7.0000 - val_tn: 210.0000 - val_fn: 4.0000 - val_precision: 0.8939 - val_recall: 0.9365\n",
      "Epoch 39/350\n",
      "21/21 [==============================] - 1s 41ms/step - loss: 3.7661 - tp: 668.0000 - fp: 19.0000 - tn: 703.0000 - fn: 54.0000 - precision: 0.9723 - recall: 0.9252 - val_loss: 3.7574 - val_tp: 57.0000 - val_fp: 6.0000 - val_tn: 211.0000 - val_fn: 6.0000 - val_precision: 0.9048 - val_recall: 0.9048\n",
      "Epoch 40/350\n",
      "21/21 [==============================] - 1s 42ms/step - loss: 3.7625 - tp: 664.0000 - fp: 20.0000 - tn: 702.0000 - fn: 58.0000 - precision: 0.9708 - recall: 0.9197 - val_loss: 3.7755 - val_tp: 57.0000 - val_fp: 6.0000 - val_tn: 211.0000 - val_fn: 6.0000 - val_precision: 0.9048 - val_recall: 0.9048\n",
      "Epoch 41/350\n",
      "21/21 [==============================] - 1s 42ms/step - loss: 3.7667 - tp: 666.0000 - fp: 20.0000 - tn: 702.0000 - fn: 56.0000 - precision: 0.9708 - recall: 0.9224 - val_loss: 3.7494 - val_tp: 59.0000 - val_fp: 8.0000 - val_tn: 209.0000 - val_fn: 4.0000 - val_precision: 0.8806 - val_recall: 0.9365\n",
      "Epoch 42/350\n",
      "21/21 [==============================] - 1s 42ms/step - loss: 3.7672 - tp: 680.0000 - fp: 19.0000 - tn: 703.0000 - fn: 42.0000 - precision: 0.9728 - recall: 0.9418 - val_loss: 3.7778 - val_tp: 58.0000 - val_fp: 6.0000 - val_tn: 211.0000 - val_fn: 5.0000 - val_precision: 0.9062 - val_recall: 0.9206\n",
      "Epoch 43/350\n",
      "21/21 [==============================] - 1s 42ms/step - loss: 3.7700 - tp: 672.0000 - fp: 20.0000 - tn: 702.0000 - fn: 50.0000 - precision: 0.9711 - recall: 0.9307 - val_loss: 3.7664 - val_tp: 59.0000 - val_fp: 6.0000 - val_tn: 211.0000 - val_fn: 4.0000 - val_precision: 0.9077 - val_recall: 0.9365\n",
      "Epoch 44/350\n",
      "21/21 [==============================] - 1s 42ms/step - loss: 3.7698 - tp: 674.0000 - fp: 17.0000 - tn: 705.0000 - fn: 48.0000 - precision: 0.9754 - recall: 0.9335 - val_loss: 3.7887 - val_tp: 57.0000 - val_fp: 7.0000 - val_tn: 210.0000 - val_fn: 6.0000 - val_precision: 0.8906 - val_recall: 0.9048\n",
      "Epoch 45/350\n",
      "21/21 [==============================] - 1s 43ms/step - loss: 3.7756 - tp: 673.0000 - fp: 21.0000 - tn: 701.0000 - fn: 49.0000 - precision: 0.9697 - recall: 0.9321 - val_loss: 3.7557 - val_tp: 56.0000 - val_fp: 5.0000 - val_tn: 212.0000 - val_fn: 7.0000 - val_precision: 0.9180 - val_recall: 0.8889\n",
      "Epoch 46/350\n",
      "21/21 [==============================] - 1s 41ms/step - loss: 3.7735 - tp: 668.0000 - fp: 19.0000 - tn: 703.0000 - fn: 54.0000 - precision: 0.9723 - recall: 0.9252 - val_loss: 3.7918 - val_tp: 61.0000 - val_fp: 8.0000 - val_tn: 209.0000 - val_fn: 2.0000 - val_precision: 0.8841 - val_recall: 0.9683\n",
      "Epoch 47/350\n",
      "21/21 [==============================] - 1s 41ms/step - loss: 3.7763 - tp: 685.0000 - fp: 20.0000 - tn: 702.0000 - fn: 37.0000 - precision: 0.9716 - recall: 0.9488 - val_loss: 3.7363 - val_tp: 58.0000 - val_fp: 6.0000 - val_tn: 211.0000 - val_fn: 5.0000 - val_precision: 0.9062 - val_recall: 0.9206\n",
      "Epoch 48/350\n",
      "21/21 [==============================] - 1s 43ms/step - loss: 3.7616 - tp: 683.0000 - fp: 21.0000 - tn: 701.0000 - fn: 39.0000 - precision: 0.9702 - recall: 0.9460 - val_loss: 3.7965 - val_tp: 60.0000 - val_fp: 7.0000 - val_tn: 210.0000 - val_fn: 3.0000 - val_precision: 0.8955 - val_recall: 0.9524\n",
      "Epoch 49/350\n",
      "21/21 [==============================] - 1s 42ms/step - loss: 3.7773 - tp: 684.0000 - fp: 17.0000 - tn: 705.0000 - fn: 38.0000 - precision: 0.9757 - recall: 0.9474 - val_loss: 3.7607 - val_tp: 61.0000 - val_fp: 9.0000 - val_tn: 208.0000 - val_fn: 2.0000 - val_precision: 0.8714 - val_recall: 0.9683\n",
      "Epoch 50/350\n",
      "21/21 [==============================] - 1s 42ms/step - loss: 3.7724 - tp: 691.0000 - fp: 21.0000 - tn: 701.0000 - fn: 31.0000 - precision: 0.9705 - recall: 0.9571 - val_loss: 3.7872 - val_tp: 62.0000 - val_fp: 5.0000 - val_tn: 212.0000 - val_fn: 1.0000 - val_precision: 0.9254 - val_recall: 0.9841\n",
      "Epoch 51/350\n",
      "21/21 [==============================] - 1s 42ms/step - loss: 3.7775 - tp: 689.0000 - fp: 17.0000 - tn: 705.0000 - fn: 33.0000 - precision: 0.9759 - recall: 0.9543 - val_loss: 3.7728 - val_tp: 56.0000 - val_fp: 7.0000 - val_tn: 210.0000 - val_fn: 7.0000 - val_precision: 0.8889 - val_recall: 0.8889\n",
      "Epoch 52/350\n",
      "21/21 [==============================] - 1s 42ms/step - loss: 3.7827 - tp: 677.0000 - fp: 21.0000 - tn: 701.0000 - fn: 45.0000 - precision: 0.9699 - recall: 0.9377 - val_loss: 3.7957 - val_tp: 60.0000 - val_fp: 6.0000 - val_tn: 211.0000 - val_fn: 3.0000 - val_precision: 0.9091 - val_recall: 0.9524\n",
      "Epoch 53/350\n",
      "21/21 [==============================] - 1s 41ms/step - loss: 3.7809 - tp: 689.0000 - fp: 19.0000 - tn: 703.0000 - fn: 33.0000 - precision: 0.9732 - recall: 0.9543 - val_loss: 3.7530 - val_tp: 58.0000 - val_fp: 7.0000 - val_tn: 210.0000 - val_fn: 5.0000 - val_precision: 0.8923 - val_recall: 0.9206\n",
      "Epoch 54/350\n",
      "21/21 [==============================] - 1s 42ms/step - loss: 3.7759 - tp: 683.0000 - fp: 17.0000 - tn: 705.0000 - fn: 39.0000 - precision: 0.9757 - recall: 0.9460 - val_loss: 3.7949 - val_tp: 61.0000 - val_fp: 5.0000 - val_tn: 212.0000 - val_fn: 2.0000 - val_precision: 0.9242 - val_recall: 0.9683\n",
      "Epoch 55/350\n",
      "21/21 [==============================] - 1s 42ms/step - loss: 3.7682 - tp: 680.0000 - fp: 19.0000 - tn: 703.0000 - fn: 42.0000 - precision: 0.9728 - recall: 0.9418 - val_loss: 3.7767 - val_tp: 60.0000 - val_fp: 5.0000 - val_tn: 212.0000 - val_fn: 3.0000 - val_precision: 0.9231 - val_recall: 0.9524\n",
      "Epoch 56/350\n",
      "21/21 [==============================] - 1s 42ms/step - loss: 3.7853 - tp: 686.0000 - fp: 24.0000 - tn: 698.0000 - fn: 36.0000 - precision: 0.9662 - recall: 0.9501 - val_loss: 3.9089 - val_tp: 59.0000 - val_fp: 7.0000 - val_tn: 210.0000 - val_fn: 4.0000 - val_precision: 0.8939 - val_recall: 0.9365\n",
      "Epoch 57/350\n",
      "21/21 [==============================] - 1s 43ms/step - loss: 3.8312 - tp: 690.0000 - fp: 19.0000 - tn: 703.0000 - fn: 32.0000 - precision: 0.9732 - recall: 0.9557 - val_loss: 3.7902 - val_tp: 59.0000 - val_fp: 9.0000 - val_tn: 208.0000 - val_fn: 4.0000 - val_precision: 0.8676 - val_recall: 0.9365\n",
      "Epoch 58/350\n",
      "21/21 [==============================] - 1s 43ms/step - loss: 3.7981 - tp: 685.0000 - fp: 21.0000 - tn: 701.0000 - fn: 37.0000 - precision: 0.9703 - recall: 0.9488 - val_loss: 3.7812 - val_tp: 59.0000 - val_fp: 5.0000 - val_tn: 212.0000 - val_fn: 4.0000 - val_precision: 0.9219 - val_recall: 0.9365\n",
      "Epoch 59/350\n",
      "21/21 [==============================] - 1s 42ms/step - loss: 3.7748 - tp: 689.0000 - fp: 17.0000 - tn: 705.0000 - fn: 33.0000 - precision: 0.9759 - recall: 0.9543 - val_loss: 3.7570 - val_tp: 59.0000 - val_fp: 5.0000 - val_tn: 212.0000 - val_fn: 4.0000 - val_precision: 0.9219 - val_recall: 0.9365\n",
      "Epoch 60/350\n",
      "21/21 [==============================] - 1s 42ms/step - loss: 3.7663 - tp: 691.0000 - fp: 18.0000 - tn: 704.0000 - fn: 31.0000 - precision: 0.9746 - recall: 0.9571 - val_loss: 3.7829 - val_tp: 61.0000 - val_fp: 6.0000 - val_tn: 211.0000 - val_fn: 2.0000 - val_precision: 0.9104 - val_recall: 0.9683\n",
      "Epoch 61/350\n",
      "21/21 [==============================] - 1s 42ms/step - loss: 3.7604 - tp: 682.0000 - fp: 19.0000 - tn: 703.0000 - fn: 40.0000 - precision: 0.9729 - recall: 0.9446 - val_loss: 3.7869 - val_tp: 60.0000 - val_fp: 10.0000 - val_tn: 207.0000 - val_fn: 3.0000 - val_precision: 0.8571 - val_recall: 0.9524\n",
      "Epoch 62/350\n",
      "21/21 [==============================] - 1s 42ms/step - loss: 3.7848 - tp: 686.0000 - fp: 16.0000 - tn: 706.0000 - fn: 36.0000 - precision: 0.9772 - recall: 0.9501 - val_loss: 3.7867 - val_tp: 61.0000 - val_fp: 6.0000 - val_tn: 211.0000 - val_fn: 2.0000 - val_precision: 0.9104 - val_recall: 0.9683\n",
      "Epoch 63/350\n",
      "21/21 [==============================] - 1s 42ms/step - loss: 3.7720 - tp: 692.0000 - fp: 20.0000 - tn: 702.0000 - fn: 30.0000 - precision: 0.9719 - recall: 0.9584 - val_loss: 3.8623 - val_tp: 62.0000 - val_fp: 14.0000 - val_tn: 203.0000 - val_fn: 1.0000 - val_precision: 0.8158 - val_recall: 0.9841\n",
      "Epoch 64/350\n",
      "21/21 [==============================] - 1s 42ms/step - loss: 3.8159 - tp: 691.0000 - fp: 20.0000 - tn: 702.0000 - fn: 31.0000 - precision: 0.9719 - recall: 0.9571 - val_loss: 3.8095 - val_tp: 56.0000 - val_fp: 6.0000 - val_tn: 211.0000 - val_fn: 7.0000 - val_precision: 0.9032 - val_recall: 0.8889\n",
      "Epoch 65/350\n",
      "21/21 [==============================] - 1s 42ms/step - loss: 3.7837 - tp: 691.0000 - fp: 19.0000 - tn: 703.0000 - fn: 31.0000 - precision: 0.9732 - recall: 0.9571 - val_loss: 3.7752 - val_tp: 60.0000 - val_fp: 6.0000 - val_tn: 211.0000 - val_fn: 3.0000 - val_precision: 0.9091 - val_recall: 0.9524\n",
      "Epoch 66/350\n",
      "21/21 [==============================] - 1s 42ms/step - loss: 3.7763 - tp: 692.0000 - fp: 15.0000 - tn: 707.0000 - fn: 30.0000 - precision: 0.9788 - recall: 0.9584 - val_loss: 3.7816 - val_tp: 55.0000 - val_fp: 5.0000 - val_tn: 212.0000 - val_fn: 8.0000 - val_precision: 0.9167 - val_recall: 0.8730\n",
      "Epoch 67/350\n",
      "21/21 [==============================] - 1s 48ms/step - loss: 3.7731 - tp: 683.0000 - fp: 16.0000 - tn: 706.0000 - fn: 39.0000 - precision: 0.9771 - recall: 0.9460 - val_loss: 3.7518 - val_tp: 60.0000 - val_fp: 4.0000 - val_tn: 213.0000 - val_fn: 3.0000 - val_precision: 0.9375 - val_recall: 0.9524\n",
      "Epoch 68/350\n",
      "21/21 [==============================] - 1s 45ms/step - loss: 3.7770 - tp: 690.0000 - fp: 17.0000 - tn: 705.0000 - fn: 32.0000 - precision: 0.9760 - recall: 0.9557 - val_loss: 3.7912 - val_tp: 61.0000 - val_fp: 7.0000 - val_tn: 210.0000 - val_fn: 2.0000 - val_precision: 0.8971 - val_recall: 0.9683\n",
      "Epoch 69/350\n",
      "21/21 [==============================] - 1s 42ms/step - loss: 3.7862 - tp: 691.0000 - fp: 18.0000 - tn: 704.0000 - fn: 31.0000 - precision: 0.9746 - recall: 0.9571 - val_loss: 3.7513 - val_tp: 62.0000 - val_fp: 6.0000 - val_tn: 211.0000 - val_fn: 1.0000 - val_precision: 0.9118 - val_recall: 0.9841\n",
      "Epoch 70/350\n",
      "21/21 [==============================] - 1s 42ms/step - loss: 3.7615 - tp: 698.0000 - fp: 17.0000 - tn: 705.0000 - fn: 24.0000 - precision: 0.9762 - recall: 0.9668 - val_loss: 3.7867 - val_tp: 61.0000 - val_fp: 4.0000 - val_tn: 213.0000 - val_fn: 2.0000 - val_precision: 0.9385 - val_recall: 0.9683\n",
      "Epoch 71/350\n",
      "21/21 [==============================] - 1s 42ms/step - loss: 3.7635 - tp: 687.0000 - fp: 16.0000 - tn: 706.0000 - fn: 35.0000 - precision: 0.9772 - recall: 0.9515 - val_loss: 3.7950 - val_tp: 63.0000 - val_fp: 4.0000 - val_tn: 213.0000 - val_fn: 0.0000e+00 - val_precision: 0.9403 - val_recall: 1.0000\n",
      "Epoch 72/350\n",
      "21/21 [==============================] - 1s 41ms/step - loss: 3.7707 - tp: 696.0000 - fp: 17.0000 - tn: 705.0000 - fn: 26.0000 - precision: 0.9762 - recall: 0.9640 - val_loss: 3.7759 - val_tp: 60.0000 - val_fp: 4.0000 - val_tn: 213.0000 - val_fn: 3.0000 - val_precision: 0.9375 - val_recall: 0.9524\n",
      "Epoch 73/350\n",
      "21/21 [==============================] - 1s 41ms/step - loss: 3.7663 - tp: 697.0000 - fp: 16.0000 - tn: 706.0000 - fn: 25.0000 - precision: 0.9776 - recall: 0.9654 - val_loss: 3.7616 - val_tp: 63.0000 - val_fp: 3.0000 - val_tn: 214.0000 - val_fn: 0.0000e+00 - val_precision: 0.9545 - val_recall: 1.0000\n",
      "Epoch 74/350\n",
      "21/21 [==============================] - 1s 42ms/step - loss: 3.7809 - tp: 695.0000 - fp: 14.0000 - tn: 708.0000 - fn: 27.0000 - precision: 0.9803 - recall: 0.9626 - val_loss: 3.7994 - val_tp: 59.0000 - val_fp: 6.0000 - val_tn: 211.0000 - val_fn: 4.0000 - val_precision: 0.9077 - val_recall: 0.9365\n",
      "Epoch 75/350\n",
      "21/21 [==============================] - 1s 41ms/step - loss: 3.7821 - tp: 690.0000 - fp: 19.0000 - tn: 703.0000 - fn: 32.0000 - precision: 0.9732 - recall: 0.9557 - val_loss: 3.7776 - val_tp: 60.0000 - val_fp: 6.0000 - val_tn: 211.0000 - val_fn: 3.0000 - val_precision: 0.9091 - val_recall: 0.9524\n",
      "Epoch 76/350\n",
      "21/21 [==============================] - 1s 42ms/step - loss: 3.7577 - tp: 698.0000 - fp: 16.0000 - tn: 706.0000 - fn: 24.0000 - precision: 0.9776 - recall: 0.9668 - val_loss: 3.7748 - val_tp: 60.0000 - val_fp: 5.0000 - val_tn: 212.0000 - val_fn: 3.0000 - val_precision: 0.9231 - val_recall: 0.9524\n",
      "Epoch 77/350\n",
      "21/21 [==============================] - 1s 43ms/step - loss: 3.7829 - tp: 692.0000 - fp: 18.0000 - tn: 704.0000 - fn: 30.0000 - precision: 0.9746 - recall: 0.9584 - val_loss: 3.7528 - val_tp: 63.0000 - val_fp: 5.0000 - val_tn: 212.0000 - val_fn: 0.0000e+00 - val_precision: 0.9265 - val_recall: 1.0000\n",
      "Epoch 78/350\n",
      "21/21 [==============================] - 1s 42ms/step - loss: 3.7775 - tp: 690.0000 - fp: 15.0000 - tn: 707.0000 - fn: 32.0000 - precision: 0.9787 - recall: 0.9557 - val_loss: 3.7857 - val_tp: 60.0000 - val_fp: 7.0000 - val_tn: 210.0000 - val_fn: 3.0000 - val_precision: 0.8955 - val_recall: 0.9524\n",
      "Epoch 79/350\n",
      "21/21 [==============================] - 1s 42ms/step - loss: 3.7745 - tp: 694.0000 - fp: 15.0000 - tn: 707.0000 - fn: 28.0000 - precision: 0.9788 - recall: 0.9612 - val_loss: 3.7612 - val_tp: 62.0000 - val_fp: 4.0000 - val_tn: 213.0000 - val_fn: 1.0000 - val_precision: 0.9394 - val_recall: 0.9841\n",
      "Epoch 80/350\n",
      "21/21 [==============================] - 1s 41ms/step - loss: 3.7654 - tp: 691.0000 - fp: 17.0000 - tn: 705.0000 - fn: 31.0000 - precision: 0.9760 - recall: 0.9571 - val_loss: 3.8063 - val_tp: 61.0000 - val_fp: 5.0000 - val_tn: 212.0000 - val_fn: 2.0000 - val_precision: 0.9242 - val_recall: 0.9683\n",
      "Epoch 81/350\n",
      "21/21 [==============================] - 1s 41ms/step - loss: 3.7954 - tp: 696.0000 - fp: 18.0000 - tn: 704.0000 - fn: 26.0000 - precision: 0.9748 - recall: 0.9640 - val_loss: 3.7780 - val_tp: 61.0000 - val_fp: 6.0000 - val_tn: 211.0000 - val_fn: 2.0000 - val_precision: 0.9104 - val_recall: 0.9683\n",
      "Epoch 82/350\n",
      "21/21 [==============================] - 1s 42ms/step - loss: 3.8429 - tp: 699.0000 - fp: 24.0000 - tn: 698.0000 - fn: 23.0000 - precision: 0.9668 - recall: 0.9681 - val_loss: 3.8138 - val_tp: 61.0000 - val_fp: 2.0000 - val_tn: 215.0000 - val_fn: 2.0000 - val_precision: 0.9683 - val_recall: 0.9683\n",
      "Epoch 83/350\n",
      "21/21 [==============================] - 1s 42ms/step - loss: 3.7837 - tp: 699.0000 - fp: 16.0000 - tn: 706.0000 - fn: 23.0000 - precision: 0.9776 - recall: 0.9681 - val_loss: 3.7711 - val_tp: 63.0000 - val_fp: 6.0000 - val_tn: 211.0000 - val_fn: 0.0000e+00 - val_precision: 0.9130 - val_recall: 1.0000\n",
      "Epoch 84/350\n",
      "21/21 [==============================] - 1s 42ms/step - loss: 3.7835 - tp: 692.0000 - fp: 15.0000 - tn: 707.0000 - fn: 30.0000 - precision: 0.9788 - recall: 0.9584 - val_loss: 3.7949 - val_tp: 62.0000 - val_fp: 3.0000 - val_tn: 214.0000 - val_fn: 1.0000 - val_precision: 0.9538 - val_recall: 0.9841\n",
      "Epoch 85/350\n",
      "21/21 [==============================] - 1s 41ms/step - loss: 3.8614 - tp: 696.0000 - fp: 21.0000 - tn: 701.0000 - fn: 26.0000 - precision: 0.9707 - recall: 0.9640 - val_loss: 3.8021 - val_tp: 61.0000 - val_fp: 3.0000 - val_tn: 214.0000 - val_fn: 2.0000 - val_precision: 0.9531 - val_recall: 0.9683\n",
      "Epoch 86/350\n",
      "21/21 [==============================] - 1s 42ms/step - loss: 3.7864 - tp: 692.0000 - fp: 12.0000 - tn: 710.0000 - fn: 30.0000 - precision: 0.9830 - recall: 0.9584 - val_loss: 3.7818 - val_tp: 61.0000 - val_fp: 7.0000 - val_tn: 210.0000 - val_fn: 2.0000 - val_precision: 0.8971 - val_recall: 0.9683\n",
      "Epoch 87/350\n",
      "21/21 [==============================] - 1s 43ms/step - loss: 3.7683 - tp: 693.0000 - fp: 16.0000 - tn: 706.0000 - fn: 29.0000 - precision: 0.9774 - recall: 0.9598 - val_loss: 3.7668 - val_tp: 61.0000 - val_fp: 6.0000 - val_tn: 211.0000 - val_fn: 2.0000 - val_precision: 0.9104 - val_recall: 0.9683\n",
      "Epoch 88/350\n",
      "21/21 [==============================] - 1s 42ms/step - loss: 3.7835 - tp: 694.0000 - fp: 17.0000 - tn: 705.0000 - fn: 28.0000 - precision: 0.9761 - recall: 0.9612 - val_loss: 3.7891 - val_tp: 62.0000 - val_fp: 5.0000 - val_tn: 212.0000 - val_fn: 1.0000 - val_precision: 0.9254 - val_recall: 0.9841\n",
      "Epoch 89/350\n",
      "21/21 [==============================] - 1s 41ms/step - loss: 3.7800 - tp: 697.0000 - fp: 16.0000 - tn: 706.0000 - fn: 25.0000 - precision: 0.9776 - recall: 0.9654 - val_loss: 3.7488 - val_tp: 63.0000 - val_fp: 7.0000 - val_tn: 210.0000 - val_fn: 0.0000e+00 - val_precision: 0.9000 - val_recall: 1.0000\n",
      "Epoch 90/350\n",
      "21/21 [==============================] - 1s 41ms/step - loss: 3.7578 - tp: 700.0000 - fp: 15.0000 - tn: 707.0000 - fn: 22.0000 - precision: 0.9790 - recall: 0.9695 - val_loss: 3.8070 - val_tp: 61.0000 - val_fp: 3.0000 - val_tn: 214.0000 - val_fn: 2.0000 - val_precision: 0.9531 - val_recall: 0.9683\n",
      "Epoch 91/350\n",
      "21/21 [==============================] - 1s 41ms/step - loss: 3.7842 - tp: 699.0000 - fp: 15.0000 - tn: 707.0000 - fn: 23.0000 - precision: 0.9790 - recall: 0.9681 - val_loss: 3.8477 - val_tp: 62.0000 - val_fp: 12.0000 - val_tn: 205.0000 - val_fn: 1.0000 - val_precision: 0.8378 - val_recall: 0.9841\n",
      "Epoch 92/350\n",
      "21/21 [==============================] - 1s 41ms/step - loss: 3.7942 - tp: 692.0000 - fp: 20.0000 - tn: 702.0000 - fn: 30.0000 - precision: 0.9719 - recall: 0.9584 - val_loss: 3.8257 - val_tp: 60.0000 - val_fp: 12.0000 - val_tn: 205.0000 - val_fn: 3.0000 - val_precision: 0.8333 - val_recall: 0.9524\n",
      "Epoch 93/350\n",
      "21/21 [==============================] - 1s 42ms/step - loss: 3.7952 - tp: 691.0000 - fp: 19.0000 - tn: 703.0000 - fn: 31.0000 - precision: 0.9732 - recall: 0.9571 - val_loss: 3.7442 - val_tp: 58.0000 - val_fp: 4.0000 - val_tn: 213.0000 - val_fn: 5.0000 - val_precision: 0.9355 - val_recall: 0.9206\n",
      "Epoch 94/350\n",
      "21/21 [==============================] - 1s 41ms/step - loss: 3.7823 - tp: 691.0000 - fp: 16.0000 - tn: 706.0000 - fn: 31.0000 - precision: 0.9774 - recall: 0.9571 - val_loss: 3.8446 - val_tp: 62.0000 - val_fp: 14.0000 - val_tn: 203.0000 - val_fn: 1.0000 - val_precision: 0.8158 - val_recall: 0.9841\n",
      "Epoch 95/350\n",
      "21/21 [==============================] - 1s 41ms/step - loss: 3.7914 - tp: 696.0000 - fp: 20.0000 - tn: 702.0000 - fn: 26.0000 - precision: 0.9721 - recall: 0.9640 - val_loss: 3.7847 - val_tp: 62.0000 - val_fp: 6.0000 - val_tn: 211.0000 - val_fn: 1.0000 - val_precision: 0.9118 - val_recall: 0.9841\n",
      "Epoch 96/350\n",
      "21/21 [==============================] - 1s 42ms/step - loss: 3.7733 - tp: 691.0000 - fp: 14.0000 - tn: 708.0000 - fn: 31.0000 - precision: 0.9801 - recall: 0.9571 - val_loss: 3.8968 - val_tp: 59.0000 - val_fp: 12.0000 - val_tn: 205.0000 - val_fn: 4.0000 - val_precision: 0.8310 - val_recall: 0.9365\n",
      "Epoch 97/350\n",
      "21/21 [==============================] - 1s 42ms/step - loss: 3.8937 - tp: 685.0000 - fp: 23.0000 - tn: 699.0000 - fn: 37.0000 - precision: 0.9675 - recall: 0.9488 - val_loss: 3.7874 - val_tp: 61.0000 - val_fp: 6.0000 - val_tn: 211.0000 - val_fn: 2.0000 - val_precision: 0.9104 - val_recall: 0.9683\n",
      "Epoch 98/350\n",
      "21/21 [==============================] - 1s 43ms/step - loss: 3.8005 - tp: 678.0000 - fp: 15.0000 - tn: 707.0000 - fn: 44.0000 - precision: 0.9784 - recall: 0.9391 - val_loss: 3.8156 - val_tp: 62.0000 - val_fp: 3.0000 - val_tn: 214.0000 - val_fn: 1.0000 - val_precision: 0.9538 - val_recall: 0.9841\n",
      "Epoch 99/350\n",
      "21/21 [==============================] - 1s 43ms/step - loss: 3.7823 - tp: 691.0000 - fp: 16.0000 - tn: 706.0000 - fn: 31.0000 - precision: 0.9774 - recall: 0.9571 - val_loss: 3.7607 - val_tp: 62.0000 - val_fp: 7.0000 - val_tn: 210.0000 - val_fn: 1.0000 - val_precision: 0.8986 - val_recall: 0.9841\n",
      "Epoch 100/350\n",
      "21/21 [==============================] - 1s 43ms/step - loss: 3.7994 - tp: 695.0000 - fp: 21.0000 - tn: 701.0000 - fn: 27.0000 - precision: 0.9707 - recall: 0.9626 - val_loss: 3.7963 - val_tp: 59.0000 - val_fp: 4.0000 - val_tn: 213.0000 - val_fn: 4.0000 - val_precision: 0.9365 - val_recall: 0.9365\n",
      "Epoch 101/350\n",
      "21/21 [==============================] - 1s 41ms/step - loss: 3.7899 - tp: 689.0000 - fp: 17.0000 - tn: 705.0000 - fn: 33.0000 - precision: 0.9759 - recall: 0.9543 - val_loss: 3.7579 - val_tp: 61.0000 - val_fp: 6.0000 - val_tn: 211.0000 - val_fn: 2.0000 - val_precision: 0.9104 - val_recall: 0.9683\n",
      "Epoch 102/350\n",
      "21/21 [==============================] - 1s 42ms/step - loss: 3.7743 - tp: 702.0000 - fp: 15.0000 - tn: 707.0000 - fn: 20.0000 - precision: 0.9791 - recall: 0.9723 - val_loss: 3.7677 - val_tp: 60.0000 - val_fp: 7.0000 - val_tn: 210.0000 - val_fn: 3.0000 - val_precision: 0.8955 - val_recall: 0.9524\n",
      "Epoch 103/350\n",
      "21/21 [==============================] - 1s 41ms/step - loss: 3.7851 - tp: 700.0000 - fp: 20.0000 - tn: 702.0000 - fn: 22.0000 - precision: 0.9722 - recall: 0.9695 - val_loss: 3.7825 - val_tp: 62.0000 - val_fp: 4.0000 - val_tn: 213.0000 - val_fn: 1.0000 - val_precision: 0.9394 - val_recall: 0.9841\n",
      "Epoch 104/350\n",
      "21/21 [==============================] - 1s 42ms/step - loss: 3.7745 - tp: 688.0000 - fp: 16.0000 - tn: 706.0000 - fn: 34.0000 - precision: 0.9773 - recall: 0.9529 - val_loss: 3.7683 - val_tp: 62.0000 - val_fp: 6.0000 - val_tn: 211.0000 - val_fn: 1.0000 - val_precision: 0.9118 - val_recall: 0.9841\n",
      "Epoch 105/350\n",
      "21/21 [==============================] - 1s 42ms/step - loss: 3.7705 - tp: 692.0000 - fp: 15.0000 - tn: 707.0000 - fn: 30.0000 - precision: 0.9788 - recall: 0.9584 - val_loss: 3.7526 - val_tp: 61.0000 - val_fp: 4.0000 - val_tn: 213.0000 - val_fn: 2.0000 - val_precision: 0.9385 - val_recall: 0.9683\n",
      "Epoch 106/350\n",
      "21/21 [==============================] - 1s 42ms/step - loss: 3.7595 - tp: 697.0000 - fp: 15.0000 - tn: 707.0000 - fn: 25.0000 - precision: 0.9789 - recall: 0.9654 - val_loss: 3.7714 - val_tp: 62.0000 - val_fp: 4.0000 - val_tn: 213.0000 - val_fn: 1.0000 - val_precision: 0.9394 - val_recall: 0.9841\n",
      "Epoch 107/350\n",
      "21/21 [==============================] - 1s 41ms/step - loss: 3.7540 - tp: 698.0000 - fp: 15.0000 - tn: 707.0000 - fn: 24.0000 - precision: 0.9790 - recall: 0.9668 - val_loss: 3.7292 - val_tp: 61.0000 - val_fp: 5.0000 - val_tn: 212.0000 - val_fn: 2.0000 - val_precision: 0.9242 - val_recall: 0.9683\n",
      "Epoch 108/350\n",
      "21/21 [==============================] - 1s 42ms/step - loss: 3.7450 - tp: 700.0000 - fp: 15.0000 - tn: 707.0000 - fn: 22.0000 - precision: 0.9790 - recall: 0.9695 - val_loss: 3.7515 - val_tp: 58.0000 - val_fp: 4.0000 - val_tn: 213.0000 - val_fn: 5.0000 - val_precision: 0.9355 - val_recall: 0.9206\n",
      "Epoch 109/350\n",
      "21/21 [==============================] - 1s 41ms/step - loss: 3.7814 - tp: 689.0000 - fp: 19.0000 - tn: 703.0000 - fn: 33.0000 - precision: 0.9732 - recall: 0.9543 - val_loss: 3.8245 - val_tp: 61.0000 - val_fp: 5.0000 - val_tn: 212.0000 - val_fn: 2.0000 - val_precision: 0.9242 - val_recall: 0.9683\n",
      "Epoch 110/350\n",
      "21/21 [==============================] - 1s 42ms/step - loss: 3.8124 - tp: 686.0000 - fp: 16.0000 - tn: 706.0000 - fn: 36.0000 - precision: 0.9772 - recall: 0.9501 - val_loss: 3.8248 - val_tp: 62.0000 - val_fp: 6.0000 - val_tn: 211.0000 - val_fn: 1.0000 - val_precision: 0.9118 - val_recall: 0.9841\n",
      "Epoch 111/350\n",
      "21/21 [==============================] - 1s 42ms/step - loss: 3.7813 - tp: 704.0000 - fp: 16.0000 - tn: 706.0000 - fn: 18.0000 - precision: 0.9778 - recall: 0.9751 - val_loss: 3.7916 - val_tp: 61.0000 - val_fp: 6.0000 - val_tn: 211.0000 - val_fn: 2.0000 - val_precision: 0.9104 - val_recall: 0.9683\n",
      "Epoch 112/350\n",
      "21/21 [==============================] - 1s 46ms/step - loss: 3.7920 - tp: 691.0000 - fp: 15.0000 - tn: 707.0000 - fn: 31.0000 - precision: 0.9788 - recall: 0.9571 - val_loss: 3.7707 - val_tp: 60.0000 - val_fp: 4.0000 - val_tn: 213.0000 - val_fn: 3.0000 - val_precision: 0.9375 - val_recall: 0.9524\n",
      "Epoch 113/350\n",
      "21/21 [==============================] - 1s 43ms/step - loss: 3.7509 - tp: 699.0000 - fp: 16.0000 - tn: 706.0000 - fn: 23.0000 - precision: 0.9776 - recall: 0.9681 - val_loss: 3.7601 - val_tp: 60.0000 - val_fp: 4.0000 - val_tn: 213.0000 - val_fn: 3.0000 - val_precision: 0.9375 - val_recall: 0.9524\n",
      "Epoch 114/350\n",
      "21/21 [==============================] - 1s 42ms/step - loss: 3.7666 - tp: 698.0000 - fp: 14.0000 - tn: 708.0000 - fn: 24.0000 - precision: 0.9803 - recall: 0.9668 - val_loss: 3.7833 - val_tp: 61.0000 - val_fp: 3.0000 - val_tn: 214.0000 - val_fn: 2.0000 - val_precision: 0.9531 - val_recall: 0.9683\n",
      "Epoch 115/350\n",
      "21/21 [==============================] - 1s 41ms/step - loss: 3.7625 - tp: 706.0000 - fp: 17.0000 - tn: 705.0000 - fn: 16.0000 - precision: 0.9765 - recall: 0.9778 - val_loss: 3.7851 - val_tp: 59.0000 - val_fp: 3.0000 - val_tn: 214.0000 - val_fn: 4.0000 - val_precision: 0.9516 - val_recall: 0.9365\n",
      "Epoch 116/350\n",
      "21/21 [==============================] - 1s 42ms/step - loss: 3.7670 - tp: 696.0000 - fp: 16.0000 - tn: 706.0000 - fn: 26.0000 - precision: 0.9775 - recall: 0.9640 - val_loss: 3.7903 - val_tp: 57.0000 - val_fp: 3.0000 - val_tn: 214.0000 - val_fn: 6.0000 - val_precision: 0.9500 - val_recall: 0.9048\n",
      "Epoch 117/350\n",
      "21/21 [==============================] - 1s 42ms/step - loss: 3.7864 - tp: 698.0000 - fp: 16.0000 - tn: 706.0000 - fn: 24.0000 - precision: 0.9776 - recall: 0.9668 - val_loss: 3.7444 - val_tp: 61.0000 - val_fp: 4.0000 - val_tn: 213.0000 - val_fn: 2.0000 - val_precision: 0.9385 - val_recall: 0.9683\n",
      "Epoch 118/350\n",
      "21/21 [==============================] - 1s 41ms/step - loss: 3.7592 - tp: 701.0000 - fp: 14.0000 - tn: 708.0000 - fn: 21.0000 - precision: 0.9804 - recall: 0.9709 - val_loss: 3.7915 - val_tp: 62.0000 - val_fp: 6.0000 - val_tn: 211.0000 - val_fn: 1.0000 - val_precision: 0.9118 - val_recall: 0.9841\n",
      "Epoch 119/350\n",
      "21/21 [==============================] - 1s 42ms/step - loss: 3.7920 - tp: 692.0000 - fp: 19.0000 - tn: 703.0000 - fn: 30.0000 - precision: 0.9733 - recall: 0.9584 - val_loss: 3.7706 - val_tp: 59.0000 - val_fp: 2.0000 - val_tn: 215.0000 - val_fn: 4.0000 - val_precision: 0.9672 - val_recall: 0.9365\n",
      "Epoch 120/350\n",
      "21/21 [==============================] - 1s 42ms/step - loss: 3.7612 - tp: 696.0000 - fp: 12.0000 - tn: 710.0000 - fn: 26.0000 - precision: 0.9831 - recall: 0.9640 - val_loss: 3.7793 - val_tp: 62.0000 - val_fp: 4.0000 - val_tn: 213.0000 - val_fn: 1.0000 - val_precision: 0.9394 - val_recall: 0.9841\n",
      "Epoch 121/350\n",
      "21/21 [==============================] - 1s 41ms/step - loss: 3.7697 - tp: 698.0000 - fp: 17.0000 - tn: 705.0000 - fn: 24.0000 - precision: 0.9762 - recall: 0.9668 - val_loss: 3.7672 - val_tp: 61.0000 - val_fp: 9.0000 - val_tn: 208.0000 - val_fn: 2.0000 - val_precision: 0.8714 - val_recall: 0.9683\n",
      "Epoch 122/350\n",
      "21/21 [==============================] - 1s 42ms/step - loss: 3.8172 - tp: 698.0000 - fp: 18.0000 - tn: 704.0000 - fn: 24.0000 - precision: 0.9749 - recall: 0.9668 - val_loss: 3.7683 - val_tp: 62.0000 - val_fp: 5.0000 - val_tn: 212.0000 - val_fn: 1.0000 - val_precision: 0.9254 - val_recall: 0.9841\n",
      "Epoch 123/350\n",
      "21/21 [==============================] - 1s 42ms/step - loss: 3.7717 - tp: 698.0000 - fp: 18.0000 - tn: 704.0000 - fn: 24.0000 - precision: 0.9749 - recall: 0.9668 - val_loss: 3.7878 - val_tp: 63.0000 - val_fp: 4.0000 - val_tn: 213.0000 - val_fn: 0.0000e+00 - val_precision: 0.9403 - val_recall: 1.0000\n",
      "Epoch 124/350\n",
      "21/21 [==============================] - 1s 42ms/step - loss: 3.7580 - tp: 700.0000 - fp: 16.0000 - tn: 706.0000 - fn: 22.0000 - precision: 0.9777 - recall: 0.9695 - val_loss: 3.7761 - val_tp: 60.0000 - val_fp: 3.0000 - val_tn: 214.0000 - val_fn: 3.0000 - val_precision: 0.9524 - val_recall: 0.9524\n",
      "Epoch 125/350\n",
      "21/21 [==============================] - 1s 41ms/step - loss: 3.8211 - tp: 688.0000 - fp: 20.0000 - tn: 702.0000 - fn: 34.0000 - precision: 0.9718 - recall: 0.9529 - val_loss: 3.8704 - val_tp: 60.0000 - val_fp: 4.0000 - val_tn: 213.0000 - val_fn: 3.0000 - val_precision: 0.9375 - val_recall: 0.9524\n",
      "Epoch 126/350\n",
      "21/21 [==============================] - 1s 42ms/step - loss: 3.8405 - tp: 695.0000 - fp: 12.0000 - tn: 710.0000 - fn: 27.0000 - precision: 0.9830 - recall: 0.9626 - val_loss: 3.8005 - val_tp: 61.0000 - val_fp: 4.0000 - val_tn: 213.0000 - val_fn: 2.0000 - val_precision: 0.9385 - val_recall: 0.9683\n",
      "Epoch 127/350\n",
      "21/21 [==============================] - 1s 45ms/step - loss: 3.7744 - tp: 696.0000 - fp: 15.0000 - tn: 707.0000 - fn: 26.0000 - precision: 0.9789 - recall: 0.9640 - val_loss: 3.7561 - val_tp: 62.0000 - val_fp: 4.0000 - val_tn: 213.0000 - val_fn: 1.0000 - val_precision: 0.9394 - val_recall: 0.9841\n",
      "Epoch 128/350\n",
      "21/21 [==============================] - 1s 44ms/step - loss: 3.7825 - tp: 697.0000 - fp: 12.0000 - tn: 710.0000 - fn: 25.0000 - precision: 0.9831 - recall: 0.9654 - val_loss: 3.7961 - val_tp: 61.0000 - val_fp: 4.0000 - val_tn: 213.0000 - val_fn: 2.0000 - val_precision: 0.9385 - val_recall: 0.9683\n",
      "Epoch 129/350\n",
      "21/21 [==============================] - 1s 42ms/step - loss: 3.7849 - tp: 694.0000 - fp: 18.0000 - tn: 704.0000 - fn: 28.0000 - precision: 0.9747 - recall: 0.9612 - val_loss: 3.7549 - val_tp: 61.0000 - val_fp: 3.0000 - val_tn: 214.0000 - val_fn: 2.0000 - val_precision: 0.9531 - val_recall: 0.9683\n",
      "Epoch 130/350\n",
      "21/21 [==============================] - 1s 42ms/step - loss: 3.7732 - tp: 695.0000 - fp: 15.0000 - tn: 707.0000 - fn: 27.0000 - precision: 0.9789 - recall: 0.9626 - val_loss: 3.7887 - val_tp: 60.0000 - val_fp: 6.0000 - val_tn: 211.0000 - val_fn: 3.0000 - val_precision: 0.9091 - val_recall: 0.9524\n",
      "Epoch 131/350\n",
      "21/21 [==============================] - 1s 42ms/step - loss: 3.7776 - tp: 690.0000 - fp: 15.0000 - tn: 707.0000 - fn: 32.0000 - precision: 0.9787 - recall: 0.9557 - val_loss: 3.7501 - val_tp: 59.0000 - val_fp: 6.0000 - val_tn: 211.0000 - val_fn: 4.0000 - val_precision: 0.9077 - val_recall: 0.9365\n",
      "Epoch 132/350\n",
      "21/21 [==============================] - 1s 42ms/step - loss: 3.7923 - tp: 701.0000 - fp: 18.0000 - tn: 704.0000 - fn: 21.0000 - precision: 0.9750 - recall: 0.9709 - val_loss: 3.8042 - val_tp: 62.0000 - val_fp: 6.0000 - val_tn: 211.0000 - val_fn: 1.0000 - val_precision: 0.9118 - val_recall: 0.9841\n",
      "Epoch 133/350\n",
      "21/21 [==============================] - 1s 42ms/step - loss: 3.7881 - tp: 695.0000 - fp: 13.0000 - tn: 709.0000 - fn: 27.0000 - precision: 0.9816 - recall: 0.9626 - val_loss: 3.7716 - val_tp: 62.0000 - val_fp: 7.0000 - val_tn: 210.0000 - val_fn: 1.0000 - val_precision: 0.8986 - val_recall: 0.9841\n",
      "Epoch 134/350\n",
      "21/21 [==============================] - 1s 43ms/step - loss: 3.7761 - tp: 705.0000 - fp: 18.0000 - tn: 704.0000 - fn: 17.0000 - precision: 0.9751 - recall: 0.9765 - val_loss: 3.8285 - val_tp: 59.0000 - val_fp: 6.0000 - val_tn: 211.0000 - val_fn: 4.0000 - val_precision: 0.9077 - val_recall: 0.9365\n",
      "Epoch 135/350\n",
      "21/21 [==============================] - 1s 43ms/step - loss: 3.8022 - tp: 695.0000 - fp: 18.0000 - tn: 704.0000 - fn: 27.0000 - precision: 0.9748 - recall: 0.9626 - val_loss: 3.7873 - val_tp: 62.0000 - val_fp: 3.0000 - val_tn: 214.0000 - val_fn: 1.0000 - val_precision: 0.9538 - val_recall: 0.9841\n",
      "Epoch 136/350\n",
      "21/21 [==============================] - 1s 43ms/step - loss: 3.7947 - tp: 701.0000 - fp: 17.0000 - tn: 705.0000 - fn: 21.0000 - precision: 0.9763 - recall: 0.9709 - val_loss: 3.8280 - val_tp: 63.0000 - val_fp: 5.0000 - val_tn: 212.0000 - val_fn: 0.0000e+00 - val_precision: 0.9265 - val_recall: 1.0000\n",
      "Epoch 137/350\n",
      "21/21 [==============================] - 1s 43ms/step - loss: 3.8060 - tp: 695.0000 - fp: 19.0000 - tn: 703.0000 - fn: 27.0000 - precision: 0.9734 - recall: 0.9626 - val_loss: 3.7914 - val_tp: 62.0000 - val_fp: 5.0000 - val_tn: 212.0000 - val_fn: 1.0000 - val_precision: 0.9254 - val_recall: 0.9841\n",
      "Epoch 138/350\n",
      "21/21 [==============================] - 1s 42ms/step - loss: 3.8342 - tp: 704.0000 - fp: 22.0000 - tn: 700.0000 - fn: 18.0000 - precision: 0.9697 - recall: 0.9751 - val_loss: 3.8179 - val_tp: 63.0000 - val_fp: 4.0000 - val_tn: 213.0000 - val_fn: 0.0000e+00 - val_precision: 0.9403 - val_recall: 1.0000\n",
      "Epoch 139/350\n",
      "21/21 [==============================] - 1s 42ms/step - loss: 3.8224 - tp: 693.0000 - fp: 19.0000 - tn: 703.0000 - fn: 29.0000 - precision: 0.9733 - recall: 0.9598 - val_loss: 3.8094 - val_tp: 59.0000 - val_fp: 4.0000 - val_tn: 213.0000 - val_fn: 4.0000 - val_precision: 0.9365 - val_recall: 0.9365\n",
      "Epoch 140/350\n",
      "21/21 [==============================] - 1s 42ms/step - loss: 3.8035 - tp: 681.0000 - fp: 15.0000 - tn: 707.0000 - fn: 41.0000 - precision: 0.9784 - recall: 0.9432 - val_loss: 3.7976 - val_tp: 59.0000 - val_fp: 2.0000 - val_tn: 215.0000 - val_fn: 4.0000 - val_precision: 0.9672 - val_recall: 0.9365\n",
      "Epoch 141/350\n",
      "21/21 [==============================] - 1s 42ms/step - loss: 3.7848 - tp: 698.0000 - fp: 19.0000 - tn: 703.0000 - fn: 24.0000 - precision: 0.9735 - recall: 0.9668 - val_loss: 3.7593 - val_tp: 62.0000 - val_fp: 3.0000 - val_tn: 214.0000 - val_fn: 1.0000 - val_precision: 0.9538 - val_recall: 0.9841\n",
      "Epoch 142/350\n",
      "21/21 [==============================] - ETA: 0s - loss: 3.8696 - tp: 700.0000 - fp: 17.0000 - tn: 705.0000 - fn: 22.0000 - precision: 0.9763 - recall: 0.9695\n",
      "\n",
      "******* Stoping on Defined Thresold *******\n",
      "F1 TRAINING:  0.9728978835185043\n",
      "F1 TESTING:  0.9843750009458745\n",
      "21/21 [==============================] - 1s 42ms/step - loss: 3.8696 - tp: 700.0000 - fp: 17.0000 - tn: 705.0000 - fn: 22.0000 - precision: 0.9763 - recall: 0.9695 - val_loss: 3.9369 - val_tp: 63.0000 - val_fp: 2.0000 - val_tn: 215.0000 - val_fn: 0.0000e+00 - val_precision: 0.9692 - val_recall: 1.0000\n",
      "\n",
      "\n",
      "\n",
      "****** Early Stopping *******\n"
     ]
    }
   ],
   "source": [
    "num_epochs = 350 ## Training will stop much before 350 iteration if the Criteria is Met\n",
    "history = model.fit(training_split, train_result,\n",
    "                    epochs=num_epochs,\n",
    "                    batch_size=70,\n",
    "                    validation_data=(test_split, test_result),\n",
    "                    callbacks=[EarlyStoppingMonitor()])\n",
    "# ,callbacks=[tf.keras.callbacks.EarlyStopping()]"
   ],
   "metadata": {
    "collapsed": false,
    "pycharm": {
     "name": "#%%\n"
    }
   }
  },
  {
   "cell_type": "markdown",
   "source": [
    "## Loss and F1-score Visualization"
   ],
   "metadata": {
    "collapsed": false,
    "pycharm": {
     "name": "#%% md\n"
    }
   }
  },
  {
   "cell_type": "code",
   "execution_count": 26,
   "outputs": [
    {
     "data": {
      "text/plain": "Text(0.5, 1.0, 'F1-Score')"
     },
     "execution_count": 26,
     "metadata": {},
     "output_type": "execute_result"
    },
    {
     "data": {
      "text/plain": "<Figure size 640x480 with 2 Axes>",
      "image/png": "[encoded data removed]"
     },
     "metadata": {},
     "output_type": "display_data"
    }
   ],
   "source": [
    "fig, (ax1,ax2) = plt.subplots(2,1)\n",
    "testloss = np.array(history.history['val_loss']).reshape(len(history.history['val_loss']),1)\n",
    "trainloss = np.array(history.history['loss']).reshape(len(history.history['loss']),1)\n",
    "fig.tight_layout(pad=2.0)\n",
    "ax1.plot(history.epoch, testloss, '-')\n",
    "ax1.plot(history.epoch, trainloss, '--')\n",
    "ax1.set_title('Loss Function')\n",
    "# ax1.ylabel('loss')\n",
    "# ax1.xlabel('epoch')\n",
    "\n",
    "train_precision = np.array(history.history['precision']).reshape(len(history.history['loss']),1)\n",
    "train_recall= np.array(history.history['recall']).reshape(len(history.history['loss']),1)\n",
    "f1_train =( 2 * train_precision * train_recall) / (train_precision+train_recall)\n",
    "\n",
    "test_precission = np.array(history.history['val_precision']).reshape(len(history.history['loss']),1)\n",
    "test_recall = np.array(history.history['val_recall']).reshape(len(history.history['loss']),1)\n",
    "f1_test = (2 * test_precission * test_recall )/ (test_precission+test_recall)\n",
    "# plt.plot(history.epoch,j, '-')\n",
    "# plt.plot(k,'--')\n",
    "ax2.scatter(history.epoch, f1_test)\n",
    "ax2.scatter(history.epoch, f1_train)\n",
    "ax2.plot(history.epoch, f1_test,'-')\n",
    "ax2.plot(history.epoch, f1_train,'--')\n",
    "ax2.set_title('F1-Score')\n",
    "# ax3.plot(j+3)\n",
    "# ax3.plot(trainloss,'tab:blue')"
   ],
   "metadata": {
    "collapsed": false,
    "pycharm": {
     "name": "#%%\n"
    }
   }
  },
  {
   "cell_type": "markdown",
   "source": [
    "### Transformation and Prediction on unlabeled data"
   ],
   "metadata": {
    "collapsed": false,
    "pycharm": {
     "name": "#%% md\n"
    }
   }
  },
  {
   "cell_type": "code",
   "execution_count": 20,
   "outputs": [],
   "source": [
    "table_test = pd.read_table('../drug-discovery/1663769555_8653905_test.txt', names=['sequence'])"
   ],
   "metadata": {
    "collapsed": false,
    "pycharm": {
     "name": "#%%\n"
    }
   }
  },
  {
   "cell_type": "code",
   "execution_count": 21,
   "outputs": [],
   "source": [
    "unlabeled_test_sequence = vectorizer_best.transform(table_test.sequence).toarray()"
   ],
   "metadata": {
    "collapsed": false,
    "pycharm": {
     "name": "#%%\n"
    }
   }
  },
  {
   "cell_type": "code",
   "execution_count": 22,
   "outputs": [
    {
     "name": "stdout",
     "output_type": "stream",
     "text": [
      "(350, 84482)\n"
     ]
    }
   ],
   "source": [
    "print(unlabeled_test_sequence.shape)"
   ],
   "metadata": {
    "collapsed": false,
    "pycharm": {
     "name": "#%%\n"
    }
   }
  },
  {
   "cell_type": "code",
   "execution_count": 23,
   "outputs": [
    {
     "name": "stdout",
     "output_type": "stream",
     "text": [
      " 6/11 [===============>..............] - ETA: 0s"
     ]
    },
    {
     "name": "stderr",
     "output_type": "stream",
     "text": [
      "2022-10-10 22:00:52.670953: I tensorflow/core/grappler/optimizers/custom_graph_optimizer_registry.cc:114] Plugin optimizer for device_type GPU is enabled.\n"
     ]
    },
    {
     "name": "stdout",
     "output_type": "stream",
     "text": [
      "11/11 [==============================] - 0s 26ms/step\n"
     ]
    }
   ],
   "source": [
    "predicted = model.predict(unlabeled_test_sequence)"
   ],
   "metadata": {
    "collapsed": false,
    "pycharm": {
     "name": "#%%\n"
    }
   }
  },
  {
   "cell_type": "code",
   "execution_count": 24,
   "outputs": [],
   "source": [
    "final_result = [1 if i>=.5 else 0 for i in predicted ]"
   ],
   "metadata": {
    "collapsed": false,
    "pycharm": {
     "name": "#%%\n"
    }
   }
  },
  {
   "cell_type": "code",
   "execution_count": 25,
   "outputs": [
    {
     "name": "stdout",
     "output_type": "stream",
     "text": [
      "350\n"
     ]
    }
   ],
   "source": [
    "print(len(final_result))"
   ],
   "metadata": {
    "collapsed": false,
    "pycharm": {
     "name": "#%%\n"
    }
   }
  },
  {
   "cell_type": "code",
   "execution_count": null,
   "outputs": [],
   "source": [
    "import csv\n",
    "outfile = open('./results.csv','w')\n",
    "out = csv.writer(outfile)\n",
    "out.writerows(map(lambda x: [x], final_result))\n",
    "outfile.close()"
   ],
   "metadata": {
    "collapsed": false,
    "pycharm": {
     "name": "#%%\n"
    }
   }
  }
 ],
 "metadata": {
  "kernelspec": {
   "display_name": "Python 3",
   "language": "python",
   "name": "python3"
  },
  "language_info": {
   "codemirror_mode": {
    "name": "ipython",
    "version": 2
   },
   "file_extension": ".py",
   "mimetype": "text/x-python",
   "name": "python",
   "nbconvert_exporter": "python",
   "pygments_lexer": "ipython2",
   "version": "2.7.6"
  }
 },
 "nbformat": 4,
 "nbformat_minor": 0
}